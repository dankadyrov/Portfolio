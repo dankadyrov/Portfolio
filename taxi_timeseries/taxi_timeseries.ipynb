{
 "cells": [
  {
   "cell_type": "markdown",
   "metadata": {
    "toc": true
   },
   "source": [
    "<h1>Содержание<span class=\"tocSkip\"></span></h1>\n",
    "<div class=\"toc\"><ul class=\"toc-item\"><li><span><a href=\"#Подготовка\" data-toc-modified-id=\"Подготовка-1\"><span class=\"toc-item-num\">1&nbsp;&nbsp;</span>Подготовка</a></span></li><li><span><a href=\"#Анализ\" data-toc-modified-id=\"Анализ-2\"><span class=\"toc-item-num\">2&nbsp;&nbsp;</span>Анализ</a></span></li><li><span><a href=\"#Обработка-данных\" data-toc-modified-id=\"Обработка-данных-3\"><span class=\"toc-item-num\">3&nbsp;&nbsp;</span>Обработка данных</a></span></li><li><span><a href=\"#Обучение\" data-toc-modified-id=\"Обучение-4\"><span class=\"toc-item-num\">4&nbsp;&nbsp;</span>Обучение</a></span><ul class=\"toc-item\"><li><ul class=\"toc-item\"><li><span><a href=\"#Linear-Regression\" data-toc-modified-id=\"Linear-Regression-4.0.1\"><span class=\"toc-item-num\">4.0.1&nbsp;&nbsp;</span>Linear Regression</a></span></li><li><span><a href=\"#Forest-🌳🌲\" data-toc-modified-id=\"Forest-🌳🌲-4.0.2\"><span class=\"toc-item-num\">4.0.2&nbsp;&nbsp;</span>Forest 🌳🌲</a></span></li><li><span><a href=\"#CatBoost-🐈\" data-toc-modified-id=\"CatBoost-🐈-4.0.3\"><span class=\"toc-item-num\">4.0.3&nbsp;&nbsp;</span>CatBoost 🐈</a></span></li><li><span><a href=\"#LightGBM-c-сеткой-параметров\" data-toc-modified-id=\"LightGBM-c-сеткой-параметров-4.0.4\"><span class=\"toc-item-num\">4.0.4&nbsp;&nbsp;</span>LightGBM c сеткой параметров</a></span></li><li><span><a href=\"#Linear-Regression-+-CatBoost\" data-toc-modified-id=\"Linear-Regression-+-CatBoost-4.0.5\"><span class=\"toc-item-num\">4.0.5&nbsp;&nbsp;</span>Linear Regression + CatBoost</a></span></li></ul></li><li><span><a href=\"#https://www.youtube.com/watch?v=GzdWUVmkeuY&amp;t=983s\" data-toc-modified-id=\"https://www.youtube.com/watch?v=GzdWUVmkeuY&amp;t=983s-4.1\"><span class=\"toc-item-num\">4.1&nbsp;&nbsp;</span>https://www.youtube.com/watch?v=GzdWUVmkeuY&amp;t=983s</a></span><ul class=\"toc-item\"><li><span><a href=\"#ARIMA-с-сеткой-параметров-😶☠️\" data-toc-modified-id=\"ARIMA-с-сеткой-параметров-😶☠️-4.1.1\"><span class=\"toc-item-num\">4.1.1&nbsp;&nbsp;</span>ARIMA с сеткой параметров 😶☠️</a></span></li></ul></li></ul></li><li><span><a href=\"#Тестирование\" data-toc-modified-id=\"Тестирование-5\"><span class=\"toc-item-num\">5&nbsp;&nbsp;</span>Тестирование</a></span></li><li><span><a href=\"#Вывод\" data-toc-modified-id=\"Вывод-6\"><span class=\"toc-item-num\">6&nbsp;&nbsp;</span>Вывод</a></span></li><li><span><a href=\"#Чек-лист-проверки\" data-toc-modified-id=\"Чек-лист-проверки-7\"><span class=\"toc-item-num\">7&nbsp;&nbsp;</span>Чек-лист проверки</a></span></li></ul></div>"
   ]
  },
  {
   "cell_type": "markdown",
   "metadata": {},
   "source": [
    "#  Прогнозирование заказов такси"
   ]
  },
  {
   "cell_type": "markdown",
   "metadata": {},
   "source": [
    "Компания «Чётенькое такси» собрала исторические данные о заказах такси в аэропортах. Чтобы привлекать больше водителей в период пиковой нагрузки, нужно спрогнозировать количество заказов такси на следующий час. Постройте модель для такого предсказания.\n",
    "\n",
    "Значение метрики *RMSE* на тестовой выборке должно быть не больше 48.\n",
    "\n",
    "Вам нужно:\n",
    "\n",
    "1. Загрузить данные и выполнить их ресемплирование по одному часу.\n",
    "2. Проанализировать данные.\n",
    "3. Обучить разные модели с различными гиперпараметрами. Сделать тестовую выборку размером 10% от исходных данных.\n",
    "4. Проверить данные на тестовой выборке и сделать выводы.\n",
    "\n",
    "\n",
    "Данные лежат в файле `taxi.csv`. Количество заказов находится в столбце `num_orders` (от англ. *number of orders*, «число заказов»)."
   ]
  },
  {
   "cell_type": "markdown",
   "metadata": {},
   "source": [
    "## Подготовка"
   ]
  },
  {
   "cell_type": "code",
   "execution_count": 158,
   "metadata": {},
   "outputs": [],
   "source": [
    "import pandas as pd\n",
    "import matplotlib.pyplot as plt\n",
    "from tqdm import tqdm_notebook\n",
    "\n",
    "from sklearn.model_selection import train_test_split, TimeSeriesSplit\n",
    "from statsmodels.tsa.seasonal import seasonal_decompose\n",
    "from sklearn.linear_model import LinearRegression\n",
    "from catboost import CatBoostRegressor\n",
    "from lightgbm import LGBMRegressor\n",
    "from sklearn.ensemble import RandomForestRegressor\n",
    "from sklearn.model_selection import GridSearchCV\n",
    "from statsmodels.tsa.stattools import adfuller\n",
    "import statsmodels.api as sm\n",
    "\n",
    "from sklearn.metrics import mean_squared_error"
   ]
  },
  {
   "cell_type": "code",
   "execution_count": 159,
   "metadata": {},
   "outputs": [
    {
     "data": {
      "text/html": [
       "<div>\n",
       "<style scoped>\n",
       "    .dataframe tbody tr th:only-of-type {\n",
       "        vertical-align: middle;\n",
       "    }\n",
       "\n",
       "    .dataframe tbody tr th {\n",
       "        vertical-align: top;\n",
       "    }\n",
       "\n",
       "    .dataframe thead th {\n",
       "        text-align: right;\n",
       "    }\n",
       "</style>\n",
       "<table border=\"1\" class=\"dataframe\">\n",
       "  <thead>\n",
       "    <tr style=\"text-align: right;\">\n",
       "      <th></th>\n",
       "      <th>num_orders</th>\n",
       "    </tr>\n",
       "    <tr>\n",
       "      <th>datetime</th>\n",
       "      <th></th>\n",
       "    </tr>\n",
       "  </thead>\n",
       "  <tbody>\n",
       "    <tr>\n",
       "      <th>2018-03-01 00:00:00</th>\n",
       "      <td>9</td>\n",
       "    </tr>\n",
       "    <tr>\n",
       "      <th>2018-03-01 00:10:00</th>\n",
       "      <td>14</td>\n",
       "    </tr>\n",
       "    <tr>\n",
       "      <th>2018-03-01 00:20:00</th>\n",
       "      <td>28</td>\n",
       "    </tr>\n",
       "    <tr>\n",
       "      <th>2018-03-01 00:30:00</th>\n",
       "      <td>20</td>\n",
       "    </tr>\n",
       "    <tr>\n",
       "      <th>2018-03-01 00:40:00</th>\n",
       "      <td>32</td>\n",
       "    </tr>\n",
       "    <tr>\n",
       "      <th>...</th>\n",
       "      <td>...</td>\n",
       "    </tr>\n",
       "    <tr>\n",
       "      <th>2018-08-31 23:10:00</th>\n",
       "      <td>32</td>\n",
       "    </tr>\n",
       "    <tr>\n",
       "      <th>2018-08-31 23:20:00</th>\n",
       "      <td>24</td>\n",
       "    </tr>\n",
       "    <tr>\n",
       "      <th>2018-08-31 23:30:00</th>\n",
       "      <td>27</td>\n",
       "    </tr>\n",
       "    <tr>\n",
       "      <th>2018-08-31 23:40:00</th>\n",
       "      <td>39</td>\n",
       "    </tr>\n",
       "    <tr>\n",
       "      <th>2018-08-31 23:50:00</th>\n",
       "      <td>53</td>\n",
       "    </tr>\n",
       "  </tbody>\n",
       "</table>\n",
       "<p>26496 rows × 1 columns</p>\n",
       "</div>"
      ],
      "text/plain": [
       "                     num_orders\n",
       "datetime                       \n",
       "2018-03-01 00:00:00           9\n",
       "2018-03-01 00:10:00          14\n",
       "2018-03-01 00:20:00          28\n",
       "2018-03-01 00:30:00          20\n",
       "2018-03-01 00:40:00          32\n",
       "...                         ...\n",
       "2018-08-31 23:10:00          32\n",
       "2018-08-31 23:20:00          24\n",
       "2018-08-31 23:30:00          27\n",
       "2018-08-31 23:40:00          39\n",
       "2018-08-31 23:50:00          53\n",
       "\n",
       "[26496 rows x 1 columns]"
      ]
     },
     "execution_count": 159,
     "metadata": {},
     "output_type": "execute_result"
    }
   ],
   "source": [
    "data = pd.read_csv('/datasets/taxi.csv', parse_dates=['datetime'], index_col='datetime')\n",
    "data"
   ]
  },
  {
   "cell_type": "code",
   "execution_count": 160,
   "metadata": {},
   "outputs": [
    {
     "data": {
      "text/plain": [
       "num_orders    0\n",
       "dtype: int64"
      ]
     },
     "execution_count": 160,
     "metadata": {},
     "output_type": "execute_result"
    }
   ],
   "source": [
    "data.isna().sum()"
   ]
  },
  {
   "cell_type": "code",
   "execution_count": 161,
   "metadata": {},
   "outputs": [],
   "source": [
    "data = data.resample('1H').sum()"
   ]
  },
  {
   "cell_type": "markdown",
   "metadata": {},
   "source": [
    "## Анализ"
   ]
  },
  {
   "cell_type": "code",
   "execution_count": 162,
   "metadata": {},
   "outputs": [
    {
     "data": {
      "text/plain": [
       "<AxesSubplot:xlabel='datetime'>"
      ]
     },
     "execution_count": 162,
     "metadata": {},
     "output_type": "execute_result"
    },
    {
     "data": {
      "image/png": "[encoded data removed]",
      "text/plain": [
       "<Figure size 432x288 with 1 Axes>"
      ]
     },
     "metadata": {
      "needs_background": "light"
     },
     "output_type": "display_data"
    }
   ],
   "source": [
    "data.plot()"
   ]
  },
  {
   "cell_type": "code",
   "execution_count": 163,
   "metadata": {},
   "outputs": [
    {
     "data": {
      "text/plain": [
       "True"
      ]
     },
     "execution_count": 163,
     "metadata": {},
     "output_type": "execute_result"
    }
   ],
   "source": [
    "data.index.is_monotonic_increasing"
   ]
  },
  {
   "cell_type": "code",
   "execution_count": 164,
   "metadata": {},
   "outputs": [
    {
     "data": {
      "text/plain": [
       "<AxesSubplot:xlabel='datetime'>"
      ]
     },
     "execution_count": 164,
     "metadata": {},
     "output_type": "execute_result"
    },
    {
     "data": {
      "image/png": "[encoded data removed]",
      "text/plain": [
       "<Figure size 432x288 with 1 Axes>"
      ]
     },
     "metadata": {
      "needs_background": "light"
     },
     "output_type": "display_data"
    }
   ],
   "source": [
    "decomposed = seasonal_decompose(data)\n",
    "decomposed.trend.plot()"
   ]
  },
  {
   "cell_type": "code",
   "execution_count": 165,
   "metadata": {},
   "outputs": [
    {
     "data": {
      "text/plain": [
       "<AxesSubplot:xlabel='datetime'>"
      ]
     },
     "execution_count": 165,
     "metadata": {},
     "output_type": "execute_result"
    },
    {
     "data": {
      "image/png": "[encoded data removed]",
      "text/plain": [
       "<Figure size 432x288 with 1 Axes>"
      ]
     },
     "metadata": {
      "needs_background": "light"
     },
     "output_type": "display_data"
    }
   ],
   "source": [
    "decomposed.seasonal.plot()"
   ]
  },
  {
   "cell_type": "code",
   "execution_count": 166,
   "metadata": {},
   "outputs": [
    {
     "data": {
      "text/plain": [
       "<AxesSubplot:xlabel='datetime'>"
      ]
     },
     "execution_count": 166,
     "metadata": {},
     "output_type": "execute_result"
    },
    {
     "data": {
      "image/png": "[encoded data removed]",
      "text/plain": [
       "<Figure size 432x288 with 1 Axes>"
      ]
     },
     "metadata": {
      "needs_background": "light"
     },
     "output_type": "display_data"
    }
   ],
   "source": [
    "decomposed.seasonal['2018-03-01 00:00:00':'2018-03-03 00:00:00'].plot()"
   ]
  },
  {
   "cell_type": "code",
   "execution_count": 167,
   "metadata": {},
   "outputs": [
    {
     "data": {
      "text/plain": [
       "<AxesSubplot:xlabel='datetime'>"
      ]
     },
     "execution_count": 167,
     "metadata": {},
     "output_type": "execute_result"
    },
    {
     "data": {
      "image/png": "[encoded data removed]",
      "text/plain": [
       "<Figure size 432x288 with 1 Axes>"
      ]
     },
     "metadata": {
      "needs_background": "light"
     },
     "output_type": "display_data"
    }
   ],
   "source": [
    "decomposed.resid.plot()"
   ]
  },
  {
   "cell_type": "markdown",
   "metadata": {},
   "source": [
    "## Обработка данных"
   ]
  },
  {
   "cell_type": "code",
   "execution_count": 168,
   "metadata": {},
   "outputs": [],
   "source": [
    "def prepare_data(data):\n",
    "    df = data.copy()\n",
    "    df['day'] = df.index.day\n",
    "    df['dayofweek'] = df.index.dayofweek\n",
    "    df['hour'] = df.index.hour\n",
    "    df['lag1'] = df['num_orders'].shift(1, fill_value=0)\n",
    "    df['lag2'] = df['num_orders'].shift(2, fill_value=0)\n",
    "    df['lag3'] = df['num_orders'].shift(3, fill_value=0)\n",
    "    df['lag24'] = df['num_orders'].shift(24, fill_value=0) # Это значение поможет модели, так как в данных есть суточная сезонность\n",
    "    df['rolling_mean'] = df['num_orders'].rolling(10).mean().shift(1)\n",
    "    df.iloc[:10]['rolling_mean'] = df.iloc[10]['rolling_mean']\n",
    "    return df"
   ]
  },
  {
   "cell_type": "code",
   "execution_count": 169,
   "metadata": {},
   "outputs": [
    {
     "name": "stderr",
     "output_type": "stream",
     "text": [
      "/tmp/ipykernel_31/352213152.py:11: SettingWithCopyWarning: \n",
      "A value is trying to be set on a copy of a slice from a DataFrame.\n",
      "Try using .loc[row_indexer,col_indexer] = value instead\n",
      "\n",
      "See the caveats in the documentation: https://pandas.pydata.org/pandas-docs/stable/user_guide/indexing.html#returning-a-view-versus-a-copy\n",
      "  df.iloc[:10]['rolling_mean'] = df.iloc[10]['rolling_mean']\n"
     ]
    }
   ],
   "source": [
    "df = prepare_data(data)"
   ]
  },
  {
   "cell_type": "code",
   "execution_count": 170,
   "metadata": {},
   "outputs": [
    {
     "data": {
      "text/html": [
       "<div>\n",
       "<style scoped>\n",
       "    .dataframe tbody tr th:only-of-type {\n",
       "        vertical-align: middle;\n",
       "    }\n",
       "\n",
       "    .dataframe tbody tr th {\n",
       "        vertical-align: top;\n",
       "    }\n",
       "\n",
       "    .dataframe thead th {\n",
       "        text-align: right;\n",
       "    }\n",
       "</style>\n",
       "<table border=\"1\" class=\"dataframe\">\n",
       "  <thead>\n",
       "    <tr style=\"text-align: right;\">\n",
       "      <th></th>\n",
       "      <th>num_orders</th>\n",
       "      <th>day</th>\n",
       "      <th>dayofweek</th>\n",
       "      <th>hour</th>\n",
       "      <th>lag1</th>\n",
       "      <th>lag2</th>\n",
       "      <th>lag3</th>\n",
       "      <th>lag24</th>\n",
       "      <th>rolling_mean</th>\n",
       "    </tr>\n",
       "    <tr>\n",
       "      <th>datetime</th>\n",
       "      <th></th>\n",
       "      <th></th>\n",
       "      <th></th>\n",
       "      <th></th>\n",
       "      <th></th>\n",
       "      <th></th>\n",
       "      <th></th>\n",
       "      <th></th>\n",
       "      <th></th>\n",
       "    </tr>\n",
       "  </thead>\n",
       "  <tbody>\n",
       "    <tr>\n",
       "      <th>2018-03-01 00:00:00</th>\n",
       "      <td>124</td>\n",
       "      <td>1</td>\n",
       "      <td>3</td>\n",
       "      <td>0</td>\n",
       "      <td>0</td>\n",
       "      <td>0</td>\n",
       "      <td>0</td>\n",
       "      <td>0</td>\n",
       "      <td>52.5</td>\n",
       "    </tr>\n",
       "    <tr>\n",
       "      <th>2018-03-01 01:00:00</th>\n",
       "      <td>85</td>\n",
       "      <td>1</td>\n",
       "      <td>3</td>\n",
       "      <td>1</td>\n",
       "      <td>124</td>\n",
       "      <td>0</td>\n",
       "      <td>0</td>\n",
       "      <td>0</td>\n",
       "      <td>52.5</td>\n",
       "    </tr>\n",
       "    <tr>\n",
       "      <th>2018-03-01 02:00:00</th>\n",
       "      <td>71</td>\n",
       "      <td>1</td>\n",
       "      <td>3</td>\n",
       "      <td>2</td>\n",
       "      <td>85</td>\n",
       "      <td>124</td>\n",
       "      <td>0</td>\n",
       "      <td>0</td>\n",
       "      <td>52.5</td>\n",
       "    </tr>\n",
       "    <tr>\n",
       "      <th>2018-03-01 03:00:00</th>\n",
       "      <td>66</td>\n",
       "      <td>1</td>\n",
       "      <td>3</td>\n",
       "      <td>3</td>\n",
       "      <td>71</td>\n",
       "      <td>85</td>\n",
       "      <td>124</td>\n",
       "      <td>0</td>\n",
       "      <td>52.5</td>\n",
       "    </tr>\n",
       "    <tr>\n",
       "      <th>2018-03-01 04:00:00</th>\n",
       "      <td>43</td>\n",
       "      <td>1</td>\n",
       "      <td>3</td>\n",
       "      <td>4</td>\n",
       "      <td>66</td>\n",
       "      <td>71</td>\n",
       "      <td>85</td>\n",
       "      <td>0</td>\n",
       "      <td>52.5</td>\n",
       "    </tr>\n",
       "    <tr>\n",
       "      <th>...</th>\n",
       "      <td>...</td>\n",
       "      <td>...</td>\n",
       "      <td>...</td>\n",
       "      <td>...</td>\n",
       "      <td>...</td>\n",
       "      <td>...</td>\n",
       "      <td>...</td>\n",
       "      <td>...</td>\n",
       "      <td>...</td>\n",
       "    </tr>\n",
       "    <tr>\n",
       "      <th>2018-08-31 19:00:00</th>\n",
       "      <td>136</td>\n",
       "      <td>31</td>\n",
       "      <td>4</td>\n",
       "      <td>19</td>\n",
       "      <td>207</td>\n",
       "      <td>217</td>\n",
       "      <td>197</td>\n",
       "      <td>72</td>\n",
       "      <td>173.3</td>\n",
       "    </tr>\n",
       "    <tr>\n",
       "      <th>2018-08-31 20:00:00</th>\n",
       "      <td>154</td>\n",
       "      <td>31</td>\n",
       "      <td>4</td>\n",
       "      <td>20</td>\n",
       "      <td>136</td>\n",
       "      <td>207</td>\n",
       "      <td>217</td>\n",
       "      <td>142</td>\n",
       "      <td>166.6</td>\n",
       "    </tr>\n",
       "    <tr>\n",
       "      <th>2018-08-31 21:00:00</th>\n",
       "      <td>159</td>\n",
       "      <td>31</td>\n",
       "      <td>4</td>\n",
       "      <td>21</td>\n",
       "      <td>154</td>\n",
       "      <td>136</td>\n",
       "      <td>207</td>\n",
       "      <td>198</td>\n",
       "      <td>162.9</td>\n",
       "    </tr>\n",
       "    <tr>\n",
       "      <th>2018-08-31 22:00:00</th>\n",
       "      <td>223</td>\n",
       "      <td>31</td>\n",
       "      <td>4</td>\n",
       "      <td>22</td>\n",
       "      <td>159</td>\n",
       "      <td>154</td>\n",
       "      <td>136</td>\n",
       "      <td>158</td>\n",
       "      <td>162.1</td>\n",
       "    </tr>\n",
       "    <tr>\n",
       "      <th>2018-08-31 23:00:00</th>\n",
       "      <td>205</td>\n",
       "      <td>31</td>\n",
       "      <td>4</td>\n",
       "      <td>23</td>\n",
       "      <td>223</td>\n",
       "      <td>159</td>\n",
       "      <td>154</td>\n",
       "      <td>246</td>\n",
       "      <td>170.8</td>\n",
       "    </tr>\n",
       "  </tbody>\n",
       "</table>\n",
       "<p>4416 rows × 9 columns</p>\n",
       "</div>"
      ],
      "text/plain": [
       "                     num_orders  day  dayofweek  hour  lag1  lag2  lag3  \\\n",
       "datetime                                                                  \n",
       "2018-03-01 00:00:00         124    1          3     0     0     0     0   \n",
       "2018-03-01 01:00:00          85    1          3     1   124     0     0   \n",
       "2018-03-01 02:00:00          71    1          3     2    85   124     0   \n",
       "2018-03-01 03:00:00          66    1          3     3    71    85   124   \n",
       "2018-03-01 04:00:00          43    1          3     4    66    71    85   \n",
       "...                         ...  ...        ...   ...   ...   ...   ...   \n",
       "2018-08-31 19:00:00         136   31          4    19   207   217   197   \n",
       "2018-08-31 20:00:00         154   31          4    20   136   207   217   \n",
       "2018-08-31 21:00:00         159   31          4    21   154   136   207   \n",
       "2018-08-31 22:00:00         223   31          4    22   159   154   136   \n",
       "2018-08-31 23:00:00         205   31          4    23   223   159   154   \n",
       "\n",
       "                     lag24  rolling_mean  \n",
       "datetime                                  \n",
       "2018-03-01 00:00:00      0          52.5  \n",
       "2018-03-01 01:00:00      0          52.5  \n",
       "2018-03-01 02:00:00      0          52.5  \n",
       "2018-03-01 03:00:00      0          52.5  \n",
       "2018-03-01 04:00:00      0          52.5  \n",
       "...                    ...           ...  \n",
       "2018-08-31 19:00:00     72         173.3  \n",
       "2018-08-31 20:00:00    142         166.6  \n",
       "2018-08-31 21:00:00    198         162.9  \n",
       "2018-08-31 22:00:00    158         162.1  \n",
       "2018-08-31 23:00:00    246         170.8  \n",
       "\n",
       "[4416 rows x 9 columns]"
      ]
     },
     "execution_count": 170,
     "metadata": {},
     "output_type": "execute_result"
    }
   ],
   "source": [
    "df"
   ]
  },
  {
   "cell_type": "markdown",
   "metadata": {},
   "source": [
    "## Обучение"
   ]
  },
  {
   "cell_type": "markdown",
   "metadata": {},
   "source": [
    "Разделим данные в отношении 80/10/10, учитывая порядок данных"
   ]
  },
  {
   "cell_type": "markdown",
   "metadata": {},
   "source": [
    "#### Linear Regression"
   ]
  },
  {
   "cell_type": "code",
   "execution_count": 171,
   "metadata": {},
   "outputs": [],
   "source": [
    "X_train, X_valid, y_train, y_valid = \\\n",
    "train_test_split(df.drop('num_orders', axis=1), df['num_orders'], test_size=0.2, shuffle=False)\n",
    "X_valid, X_test, y_valid, y_test = \\\n",
    "train_test_split(X_valid, y_valid, test_size=0.5, shuffle=False)"
   ]
  },
  {
   "cell_type": "code",
   "execution_count": 172,
   "metadata": {},
   "outputs": [
    {
     "data": {
      "text/plain": [
       "((3532, 8), (442, 8), (442, 8))"
      ]
     },
     "execution_count": 172,
     "metadata": {},
     "output_type": "execute_result"
    }
   ],
   "source": [
    "X_train.shape, X_valid.shape, X_test.shape"
   ]
  },
  {
   "cell_type": "code",
   "execution_count": 173,
   "metadata": {},
   "outputs": [
    {
     "data": {
      "text/plain": [
       "LinearRegression()"
      ]
     },
     "execution_count": 173,
     "metadata": {},
     "output_type": "execute_result"
    }
   ],
   "source": [
    "lin_reg = LinearRegression()\n",
    "lin_reg.fit(X_train, y_train)"
   ]
  },
  {
   "cell_type": "code",
   "execution_count": 174,
   "metadata": {},
   "outputs": [
    {
     "data": {
      "text/plain": [
       "35.658903749173724"
      ]
     },
     "execution_count": 174,
     "metadata": {},
     "output_type": "execute_result"
    }
   ],
   "source": [
    "mean_squared_error(y_valid, lin_reg.predict(X_valid)) ** 0.5"
   ]
  },
  {
   "cell_type": "markdown",
   "metadata": {},
   "source": [
    "#### Forest 🌳🌲"
   ]
  },
  {
   "cell_type": "code",
   "execution_count": 175,
   "metadata": {
    "scrolled": true
   },
   "outputs": [
    {
     "name": "stdout",
     "output_type": "stream",
     "text": [
      "CPU times: user 1.41 s, sys: 18.7 ms, total: 1.43 s\n",
      "Wall time: 1.44 s\n"
     ]
    },
    {
     "data": {
      "text/plain": [
       "RandomForestRegressor(n_jobs=-1)"
      ]
     },
     "execution_count": 175,
     "metadata": {},
     "output_type": "execute_result"
    }
   ],
   "source": [
    "%%time\n",
    "rand_for = RandomForestRegressor(n_estimators=100, n_jobs=-1)\n",
    "rand_for.fit(X_train, y_train)"
   ]
  },
  {
   "cell_type": "code",
   "execution_count": 176,
   "metadata": {},
   "outputs": [
    {
     "data": {
      "text/plain": [
       "8.20496158038987"
      ]
     },
     "execution_count": 176,
     "metadata": {},
     "output_type": "execute_result"
    }
   ],
   "source": [
    "mean_squared_error(y_train, rand_for.predict(X_train)) ** 0.5"
   ]
  },
  {
   "cell_type": "code",
   "execution_count": 177,
   "metadata": {},
   "outputs": [
    {
     "data": {
      "text/plain": [
       "33.32923228090304"
      ]
     },
     "execution_count": 177,
     "metadata": {},
     "output_type": "execute_result"
    }
   ],
   "source": [
    "mean_squared_error(y_valid, rand_for.predict(X_valid)) ** 0.5"
   ]
  },
  {
   "cell_type": "markdown",
   "metadata": {},
   "source": [
    "#### CatBoost 🐈"
   ]
  },
  {
   "cell_type": "code",
   "execution_count": 189,
   "metadata": {},
   "outputs": [
    {
     "name": "stderr",
     "output_type": "stream",
     "text": [
      "/opt/conda/lib/python3.9/site-packages/sklearn/model_selection/_validation.py:610: FitFailedWarning: Estimator fit failed. The score on this train-test partition for these parameters will be set to nan. Details: \n",
      "Traceback (most recent call last):\n",
      "  File \"/opt/conda/lib/python3.9/site-packages/sklearn/model_selection/_validation.py\", line 593, in _fit_and_score\n",
      "    estimator.fit(X_train, y_train, **fit_params)\n",
      "  File \"/opt/conda/lib/python3.9/site-packages/catboost/core.py\", line 5299, in fit\n",
      "    return self._fit(X, y, cat_features, None, None, None, sample_weight, None, None, None, None, baseline,\n",
      "  File \"/opt/conda/lib/python3.9/site-packages/catboost/core.py\", line 2021, in _fit\n",
      "    train_params = self._prepare_train_params(\n",
      "  File \"/opt/conda/lib/python3.9/site-packages/catboost/core.py\", line 1953, in _prepare_train_params\n",
      "    _check_train_params(params)\n",
      "  File \"_catboost.pyx\", line 5839, in _catboost._check_train_params\n",
      "  File \"_catboost.pyx\", line 5858, in _catboost._check_train_params\n",
      "_catboost.CatBoostError: catboost/private/libs/options/json_helper.h:171: Can't parse parameter \"depth\" with value: -1\n",
      "\n",
      "  warnings.warn(\"Estimator fit failed. The score on this train-test\"\n",
      "/opt/conda/lib/python3.9/site-packages/sklearn/model_selection/_validation.py:610: FitFailedWarning: Estimator fit failed. The score on this train-test partition for these parameters will be set to nan. Details: \n",
      "Traceback (most recent call last):\n",
      "  File \"/opt/conda/lib/python3.9/site-packages/sklearn/model_selection/_validation.py\", line 593, in _fit_and_score\n",
      "    estimator.fit(X_train, y_train, **fit_params)\n",
      "  File \"/opt/conda/lib/python3.9/site-packages/catboost/core.py\", line 5299, in fit\n",
      "    return self._fit(X, y, cat_features, None, None, None, sample_weight, None, None, None, None, baseline,\n",
      "  File \"/opt/conda/lib/python3.9/site-packages/catboost/core.py\", line 2021, in _fit\n",
      "    train_params = self._prepare_train_params(\n",
      "  File \"/opt/conda/lib/python3.9/site-packages/catboost/core.py\", line 1953, in _prepare_train_params\n",
      "    _check_train_params(params)\n",
      "  File \"_catboost.pyx\", line 5839, in _catboost._check_train_params\n",
      "  File \"_catboost.pyx\", line 5858, in _catboost._check_train_params\n",
      "_catboost.CatBoostError: catboost/private/libs/options/json_helper.h:171: Can't parse parameter \"depth\" with value: -1\n",
      "\n",
      "  warnings.warn(\"Estimator fit failed. The score on this train-test\"\n",
      "/opt/conda/lib/python3.9/site-packages/sklearn/model_selection/_validation.py:610: FitFailedWarning: Estimator fit failed. The score on this train-test partition for these parameters will be set to nan. Details: \n",
      "Traceback (most recent call last):\n",
      "  File \"/opt/conda/lib/python3.9/site-packages/sklearn/model_selection/_validation.py\", line 593, in _fit_and_score\n",
      "    estimator.fit(X_train, y_train, **fit_params)\n",
      "  File \"/opt/conda/lib/python3.9/site-packages/catboost/core.py\", line 5299, in fit\n",
      "    return self._fit(X, y, cat_features, None, None, None, sample_weight, None, None, None, None, baseline,\n",
      "  File \"/opt/conda/lib/python3.9/site-packages/catboost/core.py\", line 2021, in _fit\n",
      "    train_params = self._prepare_train_params(\n",
      "  File \"/opt/conda/lib/python3.9/site-packages/catboost/core.py\", line 1953, in _prepare_train_params\n",
      "    _check_train_params(params)\n",
      "  File \"_catboost.pyx\", line 5839, in _catboost._check_train_params\n",
      "  File \"_catboost.pyx\", line 5858, in _catboost._check_train_params\n",
      "_catboost.CatBoostError: catboost/private/libs/options/json_helper.h:171: Can't parse parameter \"depth\" with value: -1\n",
      "\n",
      "  warnings.warn(\"Estimator fit failed. The score on this train-test\"\n",
      "Custom logger is already specified. Specify more than one logger at same time is not thread safe./opt/conda/lib/python3.9/site-packages/sklearn/model_selection/_validation.py:610: FitFailedWarning: Estimator fit failed. The score on this train-test partition for these parameters will be set to nan. Details: \n",
      "Traceback (most recent call last):\n",
      "  File \"/opt/conda/lib/python3.9/site-packages/sklearn/model_selection/_validation.py\", line 593, in _fit_and_score\n",
      "    estimator.fit(X_train, y_train, **fit_params)\n",
      "  File \"/opt/conda/lib/python3.9/site-packages/catboost/core.py\", line 5299, in fit\n",
      "    return self._fit(X, y, cat_features, None, None, None, sample_weight, None, None, None, None, baseline,\n",
      "  File \"/opt/conda/lib/python3.9/site-packages/catboost/core.py\", line 2021, in _fit\n",
      "    train_params = self._prepare_train_params(\n",
      "  File \"/opt/conda/lib/python3.9/site-packages/catboost/core.py\", line 1953, in _prepare_train_params\n",
      "    _check_train_params(params)\n",
      "  File \"_catboost.pyx\", line 5839, in _catboost._check_train_params\n",
      "  File \"_catboost.pyx\", line 5858, in _catboost._check_train_params\n",
      "_catboost.CatBoostError: catboost/private/libs/options/json_helper.h:171: Can't parse parameter \"depth\" with value: -1\n",
      "\n",
      "  warnings.warn(\"Estimator fit failed. The score on this train-test\"\n",
      "/opt/conda/lib/python3.9/site-packages/sklearn/model_selection/_validation.py:610: FitFailedWarning: Estimator fit failed. The score on this train-test partition for these parameters will be set to nan. Details: \n",
      "Traceback (most recent call last):\n",
      "  File \"/opt/conda/lib/python3.9/site-packages/sklearn/model_selection/_validation.py\", line 593, in _fit_and_score\n",
      "    estimator.fit(X_train, y_train, **fit_params)\n",
      "  File \"/opt/conda/lib/python3.9/site-packages/catboost/core.py\", line 5299, in fit\n",
      "    return self._fit(X, y, cat_features, None, None, None, sample_weight, None, None, None, None, baseline,\n",
      "  File \"/opt/conda/lib/python3.9/site-packages/catboost/core.py\", line 2021, in _fit\n",
      "    train_params = self._prepare_train_params(\n",
      "  File \"/opt/conda/lib/python3.9/site-packages/catboost/core.py\", line 1953, in _prepare_train_params\n",
      "    _check_train_params(params)\n",
      "  File \"_catboost.pyx\", line 5839, in _catboost._check_train_params\n",
      "  File \"_catboost.pyx\", line 5858, in _catboost._check_train_params\n",
      "_catboost.CatBoostError: catboost/private/libs/options/json_helper.h:171: Can't parse parameter \"depth\" with value: -1\n",
      "\n",
      "  warnings.warn(\"Estimator fit failed. The score on this train-test\"\n",
      "/opt/conda/lib/python3.9/site-packages/sklearn/model_selection/_validation.py:610: FitFailedWarning: Estimator fit failed. The score on this train-test partition for these parameters will be set to nan. Details: \n",
      "Traceback (most recent call last):\n",
      "  File \"/opt/conda/lib/python3.9/site-packages/sklearn/model_selection/_validation.py\", line 593, in _fit_and_score\n",
      "    estimator.fit(X_train, y_train, **fit_params)\n",
      "  File \"/opt/conda/lib/python3.9/site-packages/catboost/core.py\", line 5299, in fit\n",
      "    return self._fit(X, y, cat_features, None, None, None, sample_weight, None, None, None, None, baseline,\n",
      "  File \"/opt/conda/lib/python3.9/site-packages/catboost/core.py\", line 2021, in _fit\n",
      "    train_params = self._prepare_train_params(\n",
      "  File \"/opt/conda/lib/python3.9/site-packages/catboost/core.py\", line 1953, in _prepare_train_params\n",
      "    _check_train_params(params)\n",
      "  File \"_catboost.pyx\", line 5839, in _catboost._check_train_params\n",
      "  File \"_catboost.pyx\", line 5858, in _catboost._check_train_params\n",
      "_catboost.CatBoostError: catboost/private/libs/options/json_helper.h:171: Can't parse parameter \"depth\" with value: -1\n",
      "\n",
      "  warnings.warn(\"Estimator fit failed. The score on this train-test\"\n",
      "/opt/conda/lib/python3.9/site-packages/sklearn/model_selection/_validation.py:610: FitFailedWarning: Estimator fit failed. The score on this train-test partition for these parameters will be set to nan. Details: \n",
      "Traceback (most recent call last):\n",
      "  File \"/opt/conda/lib/python3.9/site-packages/sklearn/model_selection/_validation.py\", line 593, in _fit_and_score\n",
      "    estimator.fit(X_train, y_train, **fit_params)\n",
      "  File \"/opt/conda/lib/python3.9/site-packages/catboost/core.py\", line 5299, in fit\n",
      "    return self._fit(X, y, cat_features, None, None, None, sample_weight, None, None, None, None, baseline,\n",
      "  File \"/opt/conda/lib/python3.9/site-packages/catboost/core.py\", line 2021, in _fit\n",
      "    train_params = self._prepare_train_params(\n",
      "  File \"/opt/conda/lib/python3.9/site-packages/catboost/core.py\", line 1953, in _prepare_train_params\n",
      "    _check_train_params(params)\n",
      "  File \"_catboost.pyx\", line 5839, in _catboost._check_train_params\n",
      "  File \"_catboost.pyx\", line 5858, in _catboost._check_train_params\n",
      "_catboost.CatBoostError: catboost/private/libs/options/json_helper.h:171: Can't parse parameter \"depth\" with value: -1\n",
      "\n",
      "  warnings.warn(\"Estimator fit failed. The score on this train-test\"\n",
      "/opt/conda/lib/python3.9/site-packages/sklearn/model_selection/_validation.py:610: FitFailedWarning: Estimator fit failed. The score on this train-test partition for these parameters will be set to nan. Details: \n",
      "Traceback (most recent call last):\n",
      "  File \"/opt/conda/lib/python3.9/site-packages/sklearn/model_selection/_validation.py\", line 593, in _fit_and_score\n",
      "    estimator.fit(X_train, y_train, **fit_params)\n",
      "  File \"/opt/conda/lib/python3.9/site-packages/catboost/core.py\", line 5299, in fit\n",
      "    return self._fit(X, y, cat_features, None, None, None, sample_weight, None, None, None, None, baseline,\n",
      "  File \"/opt/conda/lib/python3.9/site-packages/catboost/core.py\", line 2021, in _fit\n",
      "    train_params = self._prepare_train_params(\n",
      "  File \"/opt/conda/lib/python3.9/site-packages/catboost/core.py\", line 1953, in _prepare_train_params\n",
      "    _check_train_params(params)\n",
      "  File \"_catboost.pyx\", line 5839, in _catboost._check_train_params\n",
      "  File \"_catboost.pyx\", line 5858, in _catboost._check_train_params\n",
      "_catboost.CatBoostError: catboost/private/libs/options/json_helper.h:171: Can't parse parameter \"depth\" with value: -1\n",
      "\n",
      "  warnings.warn(\"Estimator fit failed. The score on this train-test\"\n",
      "/opt/conda/lib/python3.9/site-packages/sklearn/model_selection/_validation.py:610: FitFailedWarning: Estimator fit failed. The score on this train-test partition for these parameters will be set to nan. Details: \n",
      "Traceback (most recent call last):\n",
      "  File \"/opt/conda/lib/python3.9/site-packages/sklearn/model_selection/_validation.py\", line 593, in _fit_and_score\n",
      "    estimator.fit(X_train, y_train, **fit_params)\n",
      "  File \"/opt/conda/lib/python3.9/site-packages/catboost/core.py\", line 5299, in fit\n",
      "    return self._fit(X, y, cat_features, None, None, None, sample_weight, None, None, None, None, baseline,\n",
      "  File \"/opt/conda/lib/python3.9/site-packages/catboost/core.py\", line 2021, in _fit\n",
      "    train_params = self._prepare_train_params(\n",
      "  File \"/opt/conda/lib/python3.9/site-packages/catboost/core.py\", line 1953, in _prepare_train_params\n",
      "    _check_train_params(params)\n",
      "  File \"_catboost.pyx\", line 5839, in _catboost._check_train_params\n",
      "  File \"_catboost.pyx\", line 5858, in _catboost._check_train_params\n",
      "_catboost.CatBoostError: catboost/private/libs/options/json_helper.h:171: Can't parse parameter \"depth\" with value: -1\n",
      "\n",
      "  warnings.warn(\"Estimator fit failed. The score on this train-test\"\n",
      "/opt/conda/lib/python3.9/site-packages/sklearn/model_selection/_search.py:918: UserWarning: One or more of the test scores are non-finite: [       nan 0.49598749 0.49264271        nan 0.49815745 0.49211864\n",
      "        nan 0.4968398  0.48773703]\n",
      "  warnings.warn(\n"
     ]
    },
    {
     "name": "stdout",
     "output_type": "stream",
     "text": [
      "CPU times: user 18.2 s, sys: 1.61 s, total: 19.8 s\n",
      "Wall time: 35.1 s\n"
     ]
    },
    {
     "data": {
      "text/plain": [
       "GridSearchCV(cv=TimeSeriesSplit(gap=0, max_train_size=None, n_splits=3, test_size=None),\n",
       "             estimator=<catboost.core.CatBoostRegressor object at 0x7f73fc928100>,\n",
       "             param_grid={'iterations': [500, 1000, 2000],\n",
       "                         'max_depth': [-1, 3, 5]})"
      ]
     },
     "execution_count": 189,
     "metadata": {},
     "output_type": "execute_result"
    }
   ],
   "source": [
    "%%time\n",
    "tscv = TimeSeriesSplit(n_splits=3)\n",
    "catboost_params = {'iterations': [500, 1000, 2000], 'max_depth': [-1, 3, 5]}\n",
    "grid_cat = GridSearchCV(CatBoostRegressor(verbose=False), catboost_params, cv=tscv)\n",
    "grid_cat.fit(X_train, y_train)"
   ]
  },
  {
   "cell_type": "code",
   "execution_count": 190,
   "metadata": {},
   "outputs": [
    {
     "data": {
      "text/plain": [
       "{'iterations': 1000, 'max_depth': 3}"
      ]
     },
     "execution_count": 190,
     "metadata": {},
     "output_type": "execute_result"
    }
   ],
   "source": [
    "grid_cat.best_params_"
   ]
  },
  {
   "cell_type": "code",
   "execution_count": 191,
   "metadata": {},
   "outputs": [],
   "source": [
    "cat = grid_cat.best_estimator_"
   ]
  },
  {
   "cell_type": "code",
   "execution_count": 192,
   "metadata": {},
   "outputs": [
    {
     "data": {
      "text/plain": [
       "18.13162306027037"
      ]
     },
     "execution_count": 192,
     "metadata": {},
     "output_type": "execute_result"
    }
   ],
   "source": [
    "mean_squared_error(y_train, cat.predict(X_train)) ** 0.5"
   ]
  },
  {
   "cell_type": "code",
   "execution_count": 193,
   "metadata": {},
   "outputs": [
    {
     "data": {
      "text/plain": [
       "31.957358062099942"
      ]
     },
     "execution_count": 193,
     "metadata": {},
     "output_type": "execute_result"
    }
   ],
   "source": [
    "mean_squared_error(y_valid, cat.predict(X_valid)) ** 0.5"
   ]
  },
  {
   "cell_type": "markdown",
   "metadata": {},
   "source": [
    "#### LightGBM c сеткой параметров"
   ]
  },
  {
   "cell_type": "code",
   "execution_count": 23,
   "metadata": {},
   "outputs": [
    {
     "name": "stdout",
     "output_type": "stream",
     "text": [
      "CPU times: user 6min 9s, sys: 3.32 s, total: 6min 13s\n",
      "Wall time: 6min 16s\n"
     ]
    },
    {
     "data": {
      "text/plain": [
       "{'learning_rate': 0.2, 'max_depth': 3}"
      ]
     },
     "execution_count": 23,
     "metadata": {},
     "output_type": "execute_result"
    }
   ],
   "source": [
    "%%time\n",
    "lgbm = LGBMRegressor()\n",
    "tscv = TimeSeriesSplit(n_splits=3)\n",
    "params = {'learning_rate': [0.05, 0.1, 0.2], 'max_depth': [-1, 3, 5]}\n",
    "grid = GridSearchCV(lgbm, params, cv=tscv)\n",
    "grid.fit(X_train, y_train)\n",
    "grid.best_params_"
   ]
  },
  {
   "cell_type": "code",
   "execution_count": 24,
   "metadata": {},
   "outputs": [],
   "source": [
    "lgbm = grid.best_estimator_"
   ]
  },
  {
   "cell_type": "code",
   "execution_count": 25,
   "metadata": {},
   "outputs": [
    {
     "data": {
      "text/plain": [
       "14.760962571496421"
      ]
     },
     "execution_count": 25,
     "metadata": {},
     "output_type": "execute_result"
    }
   ],
   "source": [
    "mean_squared_error(y_train, lgbm.predict(X_train)) ** 0.5"
   ]
  },
  {
   "cell_type": "code",
   "execution_count": 26,
   "metadata": {},
   "outputs": [
    {
     "data": {
      "text/plain": [
       "28.452858353312145"
      ]
     },
     "execution_count": 26,
     "metadata": {},
     "output_type": "execute_result"
    }
   ],
   "source": [
    "mean_squared_error(y_valid, lgbm.predict(X_valid)) ** 0.5"
   ]
  },
  {
   "cell_type": "markdown",
   "metadata": {},
   "source": [
    "#### Linear Regression + CatBoost"
   ]
  },
  {
   "cell_type": "code",
   "execution_count": 181,
   "metadata": {},
   "outputs": [],
   "source": [
    "class CatLinearRegression:\n",
    "    def __init__(self, iterations=500):\n",
    "        self.iterations = iterations\n",
    "    \n",
    "    def fit(self, X, y):\n",
    "        linear_reg = LinearRegression()\n",
    "        linear_reg.fit(X, y)\n",
    "        prediction_linear = linear_reg.predict(X)\n",
    "        difference = y.values - pd.Series(prediction_linear).values\n",
    "        cat = CatBoostRegressor(iterations=self.iterations, verbose=False)\n",
    "        cat.fit(X, difference)\n",
    "        self.cat = cat\n",
    "        self.linear_reg = linear_reg\n",
    "        \n",
    "    def predict(self, X):\n",
    "        prediction_linear = self.linear_reg.predict(X)\n",
    "        prediction_cat = self.cat.predict(X)\n",
    "        final_prediction = prediction_linear + prediction_cat\n",
    "        return final_prediction"
   ]
  },
  {
   "cell_type": "code",
   "execution_count": 182,
   "metadata": {},
   "outputs": [
    {
     "name": "stdout",
     "output_type": "stream",
     "text": [
      "CPU times: user 1.8 s, sys: 212 ms, total: 2.01 s\n",
      "Wall time: 2.59 s\n"
     ]
    }
   ],
   "source": [
    "%%time\n",
    "model = CatLinearRegression(iterations=1000)\n",
    "model.fit(X_train, y_train)"
   ]
  },
  {
   "cell_type": "code",
   "execution_count": 183,
   "metadata": {},
   "outputs": [
    {
     "data": {
      "text/plain": [
       "12.997125132746255"
      ]
     },
     "execution_count": 183,
     "metadata": {},
     "output_type": "execute_result"
    }
   ],
   "source": [
    "mean_squared_error(y_train, model.predict(X_train)) ** 0.5"
   ]
  },
  {
   "cell_type": "code",
   "execution_count": 184,
   "metadata": {},
   "outputs": [
    {
     "data": {
      "text/plain": [
       "30.929402377020683"
      ]
     },
     "execution_count": 184,
     "metadata": {},
     "output_type": "execute_result"
    }
   ],
   "source": [
    "mean_squared_error(y_valid, model.predict(X_valid)) ** 0.5"
   ]
  },
  {
   "cell_type": "markdown",
   "metadata": {},
   "source": [
    "#### ARIMA с сеткой параметров 😶☠️"
   ]
  },
  {
   "cell_type": "code",
   "execution_count": 31,
   "metadata": {},
   "outputs": [
    {
     "name": "stdout",
     "output_type": "stream",
     "text": [
      "P-value для утверждения \"Ряд не стационарен\": 0.028940051402612906\n"
     ]
    }
   ],
   "source": [
    "fuller = adfuller(data)\n",
    "print(f'P-value для утверждения \"Ряд не стационарен\":', fuller[1])"
   ]
  },
  {
   "cell_type": "markdown",
   "metadata": {},
   "source": [
    "Ряд стационарен по тесту Дики-Фуллера"
   ]
  },
  {
   "cell_type": "code",
   "execution_count": 32,
   "metadata": {},
   "outputs": [
    {
     "name": "stderr",
     "output_type": "stream",
     "text": [
      "/opt/conda/lib/python3.9/site-packages/statsmodels/graphics/tsaplots.py:348: FutureWarning: The default method 'yw' can produce PACF values outside of the [-1,1] interval. After 0.13, the default will change tounadjusted Yule-Walker ('ywm'). You can use this method now by setting method='ywm'.\n",
      "  warnings.warn(\n"
     ]
    },
    {
     "data": {
      "image/png": "[encoded data removed]",
      "text/plain": [
       "<Figure size 864x576 with 2 Axes>"
      ]
     },
     "metadata": {
      "needs_background": "light"
     },
     "output_type": "display_data"
    }
   ],
   "source": [
    "fig = plt.figure(figsize=(12,8))\n",
    "ax1 = fig.add_subplot(211)\n",
    "fig = sm.graphics.tsa.plot_acf(data, lags=48, ax=ax1)\n",
    "ax2 = fig.add_subplot(212)\n",
    "fig = sm.graphics.tsa.plot_pacf(data, lags=48, ax=ax2)"
   ]
  },
  {
   "cell_type": "code",
   "execution_count": 38,
   "metadata": {},
   "outputs": [],
   "source": [
    "def grid_arima(data):\n",
    "    best_model = None\n",
    "    best_params = None\n",
    "    best_score = 1000\n",
    "    d=0\n",
    "    for p in tqdm_notebook(range(1, 6)):\n",
    "        for q in tqdm_notebook(range(8, 12)):\n",
    "            model = sm.tsa.ARIMA(data, order=(p,d,q)).fit()\n",
    "            pred = model.predict('2018-03-01 00:00:00','2018-07-26 03:00:00', typ='levels')\n",
    "            if mean_squared_error(data, pred) ** 0.5 < best_score:\n",
    "                best_score = mean_squared_error(data, pred) ** 0.5\n",
    "                best_model = model\n",
    "                best_params = (p, d, q)\n",
    "    return best_model, best_params"
   ]
  },
  {
   "cell_type": "code",
   "execution_count": 39,
   "metadata": {},
   "outputs": [
    {
     "name": "stderr",
     "output_type": "stream",
     "text": [
      "/tmp/ipykernel_122/154382274.py:6: TqdmDeprecationWarning: This function will be removed in tqdm==5.0.0\n",
      "Please use `tqdm.notebook.tqdm` instead of `tqdm.tqdm_notebook`\n",
      "  for p in tqdm_notebook(range(1, 6)):\n"
     ]
    },
    {
     "data": {
      "application/vnd.jupyter.widget-view+json": {
       "model_id": "f9695def5e004b68944ec878bec7342c",
       "version_major": 2,
       "version_minor": 0
      },
      "text/plain": [
       "  0%|          | 0/5 [00:00<?, ?it/s]"
      ]
     },
     "metadata": {},
     "output_type": "display_data"
    },
    {
     "name": "stderr",
     "output_type": "stream",
     "text": [
      "/tmp/ipykernel_122/154382274.py:7: TqdmDeprecationWarning: This function will be removed in tqdm==5.0.0\n",
      "Please use `tqdm.notebook.tqdm` instead of `tqdm.tqdm_notebook`\n",
      "  for q in tqdm_notebook(range(8, 12)):\n"
     ]
    },
    {
     "data": {
      "application/vnd.jupyter.widget-view+json": {
       "model_id": "c6040012b92a4e0abf5a3b6390c0e83e",
       "version_major": 2,
       "version_minor": 0
      },
      "text/plain": [
       "  0%|          | 0/4 [00:00<?, ?it/s]"
      ]
     },
     "metadata": {},
     "output_type": "display_data"
    },
    {
     "name": "stderr",
     "output_type": "stream",
     "text": [
      "/opt/conda/lib/python3.9/site-packages/statsmodels/base/model.py:604: ConvergenceWarning: Maximum Likelihood optimization failed to converge. Check mle_retvals\n",
      "  warnings.warn(\"Maximum Likelihood optimization failed to \"\n",
      "/opt/conda/lib/python3.9/site-packages/statsmodels/tsa/statespace/sarimax.py:966: UserWarning: Non-stationary starting autoregressive parameters found. Using zeros as starting parameters.\n",
      "  warn('Non-stationary starting autoregressive parameters'\n",
      "/opt/conda/lib/python3.9/site-packages/statsmodels/tsa/statespace/sarimax.py:978: UserWarning: Non-invertible starting MA parameters found. Using zeros as starting parameters.\n",
      "  warn('Non-invertible starting MA parameters found.'\n",
      "/opt/conda/lib/python3.9/site-packages/statsmodels/base/model.py:604: ConvergenceWarning: Maximum Likelihood optimization failed to converge. Check mle_retvals\n",
      "  warnings.warn(\"Maximum Likelihood optimization failed to \"\n",
      "/tmp/ipykernel_122/154382274.py:7: TqdmDeprecationWarning: This function will be removed in tqdm==5.0.0\n",
      "Please use `tqdm.notebook.tqdm` instead of `tqdm.tqdm_notebook`\n",
      "  for q in tqdm_notebook(range(8, 12)):\n"
     ]
    },
    {
     "data": {
      "application/vnd.jupyter.widget-view+json": {
       "model_id": "13b8056bd67244b880fa58f75917cb13",
       "version_major": 2,
       "version_minor": 0
      },
      "text/plain": [
       "  0%|          | 0/4 [00:00<?, ?it/s]"
      ]
     },
     "metadata": {},
     "output_type": "display_data"
    },
    {
     "name": "stderr",
     "output_type": "stream",
     "text": [
      "/opt/conda/lib/python3.9/site-packages/statsmodels/base/model.py:604: ConvergenceWarning: Maximum Likelihood optimization failed to converge. Check mle_retvals\n",
      "  warnings.warn(\"Maximum Likelihood optimization failed to \"\n",
      "/opt/conda/lib/python3.9/site-packages/statsmodels/base/model.py:604: ConvergenceWarning: Maximum Likelihood optimization failed to converge. Check mle_retvals\n",
      "  warnings.warn(\"Maximum Likelihood optimization failed to \"\n",
      "/opt/conda/lib/python3.9/site-packages/statsmodels/tsa/statespace/sarimax.py:966: UserWarning: Non-stationary starting autoregressive parameters found. Using zeros as starting parameters.\n",
      "  warn('Non-stationary starting autoregressive parameters'\n",
      "/opt/conda/lib/python3.9/site-packages/statsmodels/tsa/statespace/sarimax.py:978: UserWarning: Non-invertible starting MA parameters found. Using zeros as starting parameters.\n",
      "  warn('Non-invertible starting MA parameters found.'\n",
      "/opt/conda/lib/python3.9/site-packages/statsmodels/base/model.py:604: ConvergenceWarning: Maximum Likelihood optimization failed to converge. Check mle_retvals\n",
      "  warnings.warn(\"Maximum Likelihood optimization failed to \"\n",
      "/tmp/ipykernel_122/154382274.py:7: TqdmDeprecationWarning: This function will be removed in tqdm==5.0.0\n",
      "Please use `tqdm.notebook.tqdm` instead of `tqdm.tqdm_notebook`\n",
      "  for q in tqdm_notebook(range(8, 12)):\n"
     ]
    },
    {
     "data": {
      "application/vnd.jupyter.widget-view+json": {
       "model_id": "e6c5d98f05b240c9a83d23518e2fbc56",
       "version_major": 2,
       "version_minor": 0
      },
      "text/plain": [
       "  0%|          | 0/4 [00:00<?, ?it/s]"
      ]
     },
     "metadata": {},
     "output_type": "display_data"
    },
    {
     "name": "stderr",
     "output_type": "stream",
     "text": [
      "/opt/conda/lib/python3.9/site-packages/statsmodels/base/model.py:604: ConvergenceWarning: Maximum Likelihood optimization failed to converge. Check mle_retvals\n",
      "  warnings.warn(\"Maximum Likelihood optimization failed to \"\n",
      "/opt/conda/lib/python3.9/site-packages/statsmodels/base/model.py:604: ConvergenceWarning: Maximum Likelihood optimization failed to converge. Check mle_retvals\n",
      "  warnings.warn(\"Maximum Likelihood optimization failed to \"\n",
      "/opt/conda/lib/python3.9/site-packages/statsmodels/base/model.py:604: ConvergenceWarning: Maximum Likelihood optimization failed to converge. Check mle_retvals\n",
      "  warnings.warn(\"Maximum Likelihood optimization failed to \"\n",
      "/opt/conda/lib/python3.9/site-packages/statsmodels/tsa/statespace/sarimax.py:966: UserWarning: Non-stationary starting autoregressive parameters found. Using zeros as starting parameters.\n",
      "  warn('Non-stationary starting autoregressive parameters'\n",
      "/opt/conda/lib/python3.9/site-packages/statsmodels/tsa/statespace/sarimax.py:978: UserWarning: Non-invertible starting MA parameters found. Using zeros as starting parameters.\n",
      "  warn('Non-invertible starting MA parameters found.'\n",
      "/opt/conda/lib/python3.9/site-packages/statsmodels/base/model.py:604: ConvergenceWarning: Maximum Likelihood optimization failed to converge. Check mle_retvals\n",
      "  warnings.warn(\"Maximum Likelihood optimization failed to \"\n",
      "/tmp/ipykernel_122/154382274.py:7: TqdmDeprecationWarning: This function will be removed in tqdm==5.0.0\n",
      "Please use `tqdm.notebook.tqdm` instead of `tqdm.tqdm_notebook`\n",
      "  for q in tqdm_notebook(range(8, 12)):\n"
     ]
    },
    {
     "data": {
      "application/vnd.jupyter.widget-view+json": {
       "model_id": "fa67cc49cd224ce5be83abb519a97269",
       "version_major": 2,
       "version_minor": 0
      },
      "text/plain": [
       "  0%|          | 0/4 [00:00<?, ?it/s]"
      ]
     },
     "metadata": {},
     "output_type": "display_data"
    },
    {
     "name": "stderr",
     "output_type": "stream",
     "text": [
      "/opt/conda/lib/python3.9/site-packages/statsmodels/base/model.py:604: ConvergenceWarning: Maximum Likelihood optimization failed to converge. Check mle_retvals\n",
      "  warnings.warn(\"Maximum Likelihood optimization failed to \"\n",
      "/opt/conda/lib/python3.9/site-packages/statsmodels/base/model.py:604: ConvergenceWarning: Maximum Likelihood optimization failed to converge. Check mle_retvals\n",
      "  warnings.warn(\"Maximum Likelihood optimization failed to \"\n",
      "/opt/conda/lib/python3.9/site-packages/statsmodels/base/model.py:604: ConvergenceWarning: Maximum Likelihood optimization failed to converge. Check mle_retvals\n",
      "  warnings.warn(\"Maximum Likelihood optimization failed to \"\n",
      "/opt/conda/lib/python3.9/site-packages/statsmodels/tsa/statespace/sarimax.py:978: UserWarning: Non-invertible starting MA parameters found. Using zeros as starting parameters.\n",
      "  warn('Non-invertible starting MA parameters found.'\n",
      "/opt/conda/lib/python3.9/site-packages/statsmodels/base/model.py:604: ConvergenceWarning: Maximum Likelihood optimization failed to converge. Check mle_retvals\n",
      "  warnings.warn(\"Maximum Likelihood optimization failed to \"\n",
      "/tmp/ipykernel_122/154382274.py:7: TqdmDeprecationWarning: This function will be removed in tqdm==5.0.0\n",
      "Please use `tqdm.notebook.tqdm` instead of `tqdm.tqdm_notebook`\n",
      "  for q in tqdm_notebook(range(8, 12)):\n"
     ]
    },
    {
     "data": {
      "application/vnd.jupyter.widget-view+json": {
       "model_id": "b387017f019f4b03b0862384b70e6eb4",
       "version_major": 2,
       "version_minor": 0
      },
      "text/plain": [
       "  0%|          | 0/4 [00:00<?, ?it/s]"
      ]
     },
     "metadata": {},
     "output_type": "display_data"
    },
    {
     "name": "stderr",
     "output_type": "stream",
     "text": [
      "/opt/conda/lib/python3.9/site-packages/statsmodels/tsa/statespace/sarimax.py:966: UserWarning: Non-stationary starting autoregressive parameters found. Using zeros as starting parameters.\n",
      "  warn('Non-stationary starting autoregressive parameters'\n",
      "/opt/conda/lib/python3.9/site-packages/statsmodels/tsa/statespace/sarimax.py:978: UserWarning: Non-invertible starting MA parameters found. Using zeros as starting parameters.\n",
      "  warn('Non-invertible starting MA parameters found.'\n",
      "/opt/conda/lib/python3.9/site-packages/statsmodels/base/model.py:604: ConvergenceWarning: Maximum Likelihood optimization failed to converge. Check mle_retvals\n",
      "  warnings.warn(\"Maximum Likelihood optimization failed to \"\n",
      "/opt/conda/lib/python3.9/site-packages/statsmodels/tsa/statespace/sarimax.py:966: UserWarning: Non-stationary starting autoregressive parameters found. Using zeros as starting parameters.\n",
      "  warn('Non-stationary starting autoregressive parameters'\n",
      "/opt/conda/lib/python3.9/site-packages/statsmodels/tsa/statespace/sarimax.py:978: UserWarning: Non-invertible starting MA parameters found. Using zeros as starting parameters.\n",
      "  warn('Non-invertible starting MA parameters found.'\n",
      "/opt/conda/lib/python3.9/site-packages/statsmodels/base/model.py:604: ConvergenceWarning: Maximum Likelihood optimization failed to converge. Check mle_retvals\n",
      "  warnings.warn(\"Maximum Likelihood optimization failed to \"\n",
      "/opt/conda/lib/python3.9/site-packages/statsmodels/base/model.py:604: ConvergenceWarning: Maximum Likelihood optimization failed to converge. Check mle_retvals\n",
      "  warnings.warn(\"Maximum Likelihood optimization failed to \"\n",
      "/opt/conda/lib/python3.9/site-packages/statsmodels/tsa/statespace/sarimax.py:966: UserWarning: Non-stationary starting autoregressive parameters found. Using zeros as starting parameters.\n",
      "  warn('Non-stationary starting autoregressive parameters'\n",
      "/opt/conda/lib/python3.9/site-packages/statsmodels/tsa/statespace/sarimax.py:978: UserWarning: Non-invertible starting MA parameters found. Using zeros as starting parameters.\n",
      "  warn('Non-invertible starting MA parameters found.'\n",
      "/opt/conda/lib/python3.9/site-packages/statsmodels/base/model.py:604: ConvergenceWarning: Maximum Likelihood optimization failed to converge. Check mle_retvals\n",
      "  warnings.warn(\"Maximum Likelihood optimization failed to \"\n"
     ]
    },
    {
     "name": "stdout",
     "output_type": "stream",
     "text": [
      "CPU times: user 14min 5s, sys: 18min 58s, total: 33min 3s\n",
      "Wall time: 33min 10s\n"
     ]
    }
   ],
   "source": [
    "%%time\n",
    "arima, params = grid_arima(y_train)"
   ]
  },
  {
   "cell_type": "code",
   "execution_count": 45,
   "metadata": {},
   "outputs": [
    {
     "data": {
      "text/plain": [
       "datetime\n",
       "2018-07-26 04:00:00    131\n",
       "2018-07-26 05:00:00     83\n",
       "2018-07-26 06:00:00     21\n",
       "2018-07-26 07:00:00     39\n",
       "2018-07-26 08:00:00     80\n",
       "                      ... \n",
       "2018-08-13 09:00:00    137\n",
       "2018-08-13 10:00:00    156\n",
       "2018-08-13 11:00:00    144\n",
       "2018-08-13 12:00:00     92\n",
       "2018-08-13 13:00:00    119\n",
       "Freq: H, Name: num_orders, Length: 442, dtype: int64"
      ]
     },
     "execution_count": 45,
     "metadata": {},
     "output_type": "execute_result"
    }
   ],
   "source": [
    "y_valid"
   ]
  },
  {
   "cell_type": "code",
   "execution_count": 43,
   "metadata": {},
   "outputs": [],
   "source": [
    "pred = arima.predict('2018-03-01 00:00:00', '2018-07-26 03:00:00', typ='levels')"
   ]
  },
  {
   "cell_type": "code",
   "execution_count": 44,
   "metadata": {},
   "outputs": [
    {
     "data": {
      "text/plain": [
       "27.676352150751985"
      ]
     },
     "execution_count": 44,
     "metadata": {},
     "output_type": "execute_result"
    }
   ],
   "source": [
    "mean_squared_error(y_train, pred) ** 0.5"
   ]
  },
  {
   "cell_type": "code",
   "execution_count": 46,
   "metadata": {},
   "outputs": [
    {
     "data": {
      "text/plain": [
       "56.03059180022258"
      ]
     },
     "execution_count": 46,
     "metadata": {},
     "output_type": "execute_result"
    }
   ],
   "source": [
    "mean_squared_error(y_valid, \\\n",
    "                   arima.predict('2018-07-26 04:00:00', '2018-08-13 13:00:00', typ='levels')) ** 0.5"
   ]
  },
  {
   "cell_type": "markdown",
   "metadata": {},
   "source": [
    "## Тестирование"
   ]
  },
  {
   "cell_type": "markdown",
   "metadata": {},
   "source": [
    "Оставлю для предсказания на тестовой выборке сочетание линейной регрессии и catboost, то есть CatLinearRegression"
   ]
  },
  {
   "cell_type": "code",
   "execution_count": 185,
   "metadata": {},
   "outputs": [],
   "source": [
    "predictions = model.predict(X_test)"
   ]
  },
  {
   "cell_type": "code",
   "execution_count": 186,
   "metadata": {},
   "outputs": [
    {
     "data": {
      "text/plain": [
       "47.81279911476949"
      ]
     },
     "execution_count": 186,
     "metadata": {},
     "output_type": "execute_result"
    }
   ],
   "source": [
    "mean_squared_error(y_test, predictions) ** 0.5"
   ]
  },
  {
   "cell_type": "markdown",
   "metadata": {},
   "source": [
    "## Вывод"
   ]
  },
  {
   "cell_type": "markdown",
   "metadata": {},
   "source": [
    "В данной работе была решена задача прогнозирования количества заказов такси от времени. Сначала временной ряд был проанализирован, и у него были выявлены возрастающий тренд и дневная сезонность.Были обучены ансамбли деревьев решений, градиентные бустинги, авторегрессионные модели и сочетание линейной модели и градиентного бустинга, именно эта модель дала наименьшую ошибку RMSE, поэтому именно эта модель была выбрана для оценки на тестовой выборке."
   ]
  },
  {
   "cell_type": "markdown",
   "metadata": {},
   "source": [
    "## Чек-лист проверки"
   ]
  },
  {
   "cell_type": "markdown",
   "metadata": {},
   "source": [
    "- [x]  Jupyter Notebook открыт\n",
    "- [x]  Весь код выполняется без ошибок\n",
    "- [x]  Ячейки с кодом расположены в порядке исполнения\n",
    "- [x]  Данные загружены и подготовлены\n",
    "- [x]  Данные проанализированы\n",
    "- [x]  Модель обучена, гиперпараметры подобраны\n",
    "- [x]  Качество моделей проверено, выводы сделаны\n",
    "- [x]  Значение *RMSE* на тестовой выборке не больше 48"
   ]
  },
  {
   "cell_type": "code",
   "execution_count": null,
   "metadata": {},
   "outputs": [],
   "source": []
  }
 ],
 "metadata": {
  "ExecuteTimeLog": [
   {
    "duration": 424,
    "start_time": "2022-10-31T15:31:13.298Z"
   },
   {
    "duration": 196,
    "start_time": "2022-10-31T15:31:31.010Z"
   },
   {
    "duration": 72,
    "start_time": "2022-10-31T15:31:43.360Z"
   },
   {
    "duration": 11,
    "start_time": "2022-10-31T15:33:04.594Z"
   },
   {
    "duration": 54,
    "start_time": "2022-10-31T15:33:31.346Z"
   },
   {
    "duration": 6,
    "start_time": "2022-10-31T15:33:49.121Z"
   },
   {
    "duration": 59,
    "start_time": "2022-10-31T15:34:30.105Z"
   },
   {
    "duration": 422,
    "start_time": "2022-10-31T18:13:59.762Z"
   },
   {
    "duration": 144,
    "start_time": "2022-10-31T18:14:00.186Z"
   },
   {
    "duration": 22,
    "start_time": "2022-10-31T18:14:01.933Z"
   },
   {
    "duration": 7,
    "start_time": "2022-10-31T18:14:09.843Z"
   },
   {
    "duration": 8,
    "start_time": "2022-10-31T18:14:51.251Z"
   },
   {
    "duration": 55,
    "start_time": "2022-10-31T18:14:55.073Z"
   },
   {
    "duration": 8,
    "start_time": "2022-10-31T18:14:55.723Z"
   },
   {
    "duration": 9,
    "start_time": "2022-10-31T18:14:59.311Z"
   },
   {
    "duration": 770,
    "start_time": "2022-10-31T18:15:03.097Z"
   },
   {
    "duration": 263,
    "start_time": "2022-10-31T18:15:13.383Z"
   },
   {
    "duration": 78,
    "start_time": "2022-10-31T18:16:44.326Z"
   },
   {
    "duration": 8,
    "start_time": "2022-10-31T18:16:46.166Z"
   },
   {
    "duration": 9,
    "start_time": "2022-10-31T18:16:59.941Z"
   },
   {
    "duration": 5,
    "start_time": "2022-10-31T18:17:04.968Z"
   },
   {
    "duration": 5,
    "start_time": "2022-10-31T18:20:19.892Z"
   },
   {
    "duration": 9,
    "start_time": "2022-10-31T18:20:34.535Z"
   },
   {
    "duration": 13,
    "start_time": "2022-10-31T18:20:38.810Z"
   },
   {
    "duration": 4,
    "start_time": "2022-10-31T18:21:00.688Z"
   },
   {
    "duration": 8,
    "start_time": "2022-10-31T18:21:01.077Z"
   },
   {
    "duration": 17,
    "start_time": "2022-10-31T18:21:01.541Z"
   },
   {
    "duration": 822,
    "start_time": "2022-10-31T18:22:28.504Z"
   },
   {
    "duration": 11,
    "start_time": "2022-10-31T18:25:12.523Z"
   },
   {
    "duration": 7,
    "start_time": "2022-10-31T18:26:20.126Z"
   },
   {
    "duration": 29,
    "start_time": "2022-10-31T18:26:50.070Z"
   },
   {
    "duration": 267,
    "start_time": "2022-10-31T18:27:22.113Z"
   },
   {
    "duration": 8,
    "start_time": "2022-10-31T18:27:52.139Z"
   },
   {
    "duration": 8,
    "start_time": "2022-10-31T18:28:01.777Z"
   },
   {
    "duration": 3,
    "start_time": "2022-10-31T18:28:36.620Z"
   },
   {
    "duration": 9,
    "start_time": "2022-10-31T18:28:58.070Z"
   },
   {
    "duration": 7,
    "start_time": "2022-10-31T18:29:03.568Z"
   },
   {
    "duration": 161,
    "start_time": "2022-10-31T18:29:33.815Z"
   },
   {
    "duration": 3,
    "start_time": "2022-10-31T18:29:44.413Z"
   },
   {
    "duration": 668,
    "start_time": "2022-10-31T18:30:24.109Z"
   },
   {
    "duration": 23,
    "start_time": "2022-10-31T18:30:45.292Z"
   },
   {
    "duration": 1683,
    "start_time": "2022-10-31T18:31:09.457Z"
   },
   {
    "duration": 1433,
    "start_time": "2022-10-31T18:31:52.406Z"
   },
   {
    "duration": 1564,
    "start_time": "2022-10-31T18:32:08.473Z"
   },
   {
    "duration": 68,
    "start_time": "2022-10-31T18:33:41.110Z"
   },
   {
    "duration": 1598,
    "start_time": "2022-10-31T18:33:49.542Z"
   },
   {
    "duration": 1646,
    "start_time": "2022-10-31T18:34:04.285Z"
   },
   {
    "duration": 92,
    "start_time": "2022-10-31T18:34:35.103Z"
   },
   {
    "duration": 348,
    "start_time": "2022-10-31T19:10:02.211Z"
   },
   {
    "duration": 29,
    "start_time": "2022-10-31T19:25:29.033Z"
   },
   {
    "duration": 4,
    "start_time": "2022-10-31T19:27:14.708Z"
   },
   {
    "duration": 23,
    "start_time": "2022-10-31T19:27:55.262Z"
   },
   {
    "duration": 23,
    "start_time": "2022-10-31T19:28:27.881Z"
   },
   {
    "duration": 607,
    "start_time": "2022-10-31T19:29:14.448Z"
   },
   {
    "duration": 2550,
    "start_time": "2022-10-31T19:30:01.695Z"
   },
   {
    "duration": 2568,
    "start_time": "2022-10-31T19:30:14.276Z"
   },
   {
    "duration": 5,
    "start_time": "2022-10-31T19:30:26.368Z"
   },
   {
    "duration": 4,
    "start_time": "2022-10-31T19:30:30.933Z"
   },
   {
    "duration": 1604,
    "start_time": "2022-10-31T19:33:10.929Z"
   },
   {
    "duration": 19,
    "start_time": "2022-10-31T19:36:36.897Z"
   },
   {
    "duration": 616,
    "start_time": "2022-10-31T19:37:25.755Z"
   },
   {
    "duration": 156,
    "start_time": "2022-10-31T19:37:37.532Z"
   },
   {
    "duration": 128,
    "start_time": "2022-10-31T19:37:49.049Z"
   },
   {
    "duration": 12,
    "start_time": "2022-10-31T19:42:55.815Z"
   },
   {
    "duration": 14,
    "start_time": "2022-10-31T19:43:03.323Z"
   },
   {
    "duration": 93,
    "start_time": "2022-10-31T19:43:07.320Z"
   },
   {
    "duration": 9,
    "start_time": "2022-10-31T19:43:15.321Z"
   },
   {
    "duration": 3177,
    "start_time": "2022-10-31T19:43:27.545Z"
   },
   {
    "duration": 1776,
    "start_time": "2022-10-31T19:44:25.357Z"
   },
   {
    "duration": 10,
    "start_time": "2022-10-31T19:44:37.261Z"
   },
   {
    "duration": 1578,
    "start_time": "2022-10-31T19:44:55.763Z"
   },
   {
    "duration": 21,
    "start_time": "2022-10-31T19:46:11.419Z"
   },
   {
    "duration": 3431,
    "start_time": "2022-10-31T19:46:18.811Z"
   },
   {
    "duration": 17,
    "start_time": "2022-10-31T19:49:07.520Z"
   },
   {
    "duration": 538,
    "start_time": "2022-10-31T19:49:18.285Z"
   },
   {
    "duration": 606,
    "start_time": "2022-10-31T19:49:26.425Z"
   },
   {
    "duration": 820,
    "start_time": "2022-10-31T19:49:29.643Z"
   },
   {
    "duration": 2027,
    "start_time": "2022-10-31T19:49:38.174Z"
   },
   {
    "duration": 4444,
    "start_time": "2022-10-31T19:50:00.132Z"
   },
   {
    "duration": 634,
    "start_time": "2022-10-31T19:52:19.219Z"
   },
   {
    "duration": 13,
    "start_time": "2022-10-31T19:56:07.750Z"
   },
   {
    "duration": 20,
    "start_time": "2022-10-31T19:56:18.021Z"
   },
   {
    "duration": 20,
    "start_time": "2022-10-31T19:56:28.796Z"
   },
   {
    "duration": 115167,
    "start_time": "2022-10-31T19:56:32.904Z"
   },
   {
    "duration": 25,
    "start_time": "2022-10-31T19:58:28.074Z"
   },
   {
    "duration": 14,
    "start_time": "2022-10-31T19:59:37.893Z"
   },
   {
    "duration": 11,
    "start_time": "2022-10-31T19:59:56.580Z"
   },
   {
    "duration": 6,
    "start_time": "2022-10-31T20:00:10.926Z"
   },
   {
    "duration": 16,
    "start_time": "2022-10-31T20:00:37.400Z"
   },
   {
    "duration": 5,
    "start_time": "2022-10-31T20:00:44.455Z"
   },
   {
    "duration": 6,
    "start_time": "2022-10-31T20:00:46.382Z"
   },
   {
    "duration": 6,
    "start_time": "2022-10-31T20:00:52.632Z"
   },
   {
    "duration": 74970,
    "start_time": "2022-10-31T20:01:04.079Z"
   },
   {
    "duration": 17,
    "start_time": "2022-10-31T20:02:19.051Z"
   },
   {
    "duration": 27,
    "start_time": "2022-10-31T20:02:19.070Z"
   },
   {
    "duration": 16,
    "start_time": "2022-10-31T20:02:19.099Z"
   },
   {
    "duration": 14,
    "start_time": "2022-10-31T20:02:19.117Z"
   },
   {
    "duration": 147499,
    "start_time": "2022-10-31T20:02:39.765Z"
   },
   {
    "duration": 21,
    "start_time": "2022-10-31T20:05:07.266Z"
   },
   {
    "duration": 22,
    "start_time": "2022-10-31T20:05:07.289Z"
   },
   {
    "duration": 19,
    "start_time": "2022-10-31T20:05:07.313Z"
   },
   {
    "duration": 27,
    "start_time": "2022-10-31T20:05:07.334Z"
   },
   {
    "duration": 117589,
    "start_time": "2022-10-31T20:07:16.567Z"
   },
   {
    "duration": 18,
    "start_time": "2022-10-31T20:09:14.159Z"
   },
   {
    "duration": 25,
    "start_time": "2022-10-31T20:09:14.179Z"
   },
   {
    "duration": 27,
    "start_time": "2022-10-31T20:09:14.207Z"
   },
   {
    "duration": 18,
    "start_time": "2022-10-31T20:09:14.236Z"
   },
   {
    "duration": 107529,
    "start_time": "2022-10-31T20:11:05.641Z"
   },
   {
    "duration": 23,
    "start_time": "2022-10-31T20:12:53.172Z"
   },
   {
    "duration": 14,
    "start_time": "2022-10-31T20:12:53.197Z"
   },
   {
    "duration": 6,
    "start_time": "2022-10-31T20:12:53.233Z"
   },
   {
    "duration": 12,
    "start_time": "2022-10-31T20:12:53.240Z"
   },
   {
    "duration": 897,
    "start_time": "2022-10-31T20:13:10.991Z"
   },
   {
    "duration": 113095,
    "start_time": "2022-10-31T20:15:51.761Z"
   },
   {
    "duration": 20,
    "start_time": "2022-10-31T20:17:44.858Z"
   },
   {
    "duration": 22,
    "start_time": "2022-10-31T20:17:44.880Z"
   },
   {
    "duration": 14,
    "start_time": "2022-10-31T20:17:44.904Z"
   },
   {
    "duration": 24,
    "start_time": "2022-10-31T20:17:44.931Z"
   },
   {
    "duration": 19,
    "start_time": "2022-10-31T20:21:42.150Z"
   },
   {
    "duration": 9,
    "start_time": "2022-10-31T20:24:09.208Z"
   },
   {
    "duration": 6,
    "start_time": "2022-10-31T20:24:15.824Z"
   },
   {
    "duration": 5,
    "start_time": "2022-10-31T20:24:50.324Z"
   },
   {
    "duration": 4,
    "start_time": "2022-10-31T20:25:58.097Z"
   },
   {
    "duration": 66751,
    "start_time": "2022-10-31T20:26:03.507Z"
   },
   {
    "duration": 5,
    "start_time": "2022-10-31T20:27:20.325Z"
   },
   {
    "duration": 4,
    "start_time": "2022-10-31T20:27:29.675Z"
   },
   {
    "duration": 2422070,
    "start_time": "2022-10-31T20:27:30.186Z"
   },
   {
    "duration": 7,
    "start_time": "2022-10-31T21:07:52.258Z"
   },
   {
    "duration": 23,
    "start_time": "2022-10-31T21:08:04.035Z"
   },
   {
    "duration": 5,
    "start_time": "2022-10-31T21:08:04.975Z"
   },
   {
    "duration": 5,
    "start_time": "2022-10-31T21:08:09.534Z"
   },
   {
    "duration": 11,
    "start_time": "2022-10-31T21:12:09.623Z"
   },
   {
    "duration": 56,
    "start_time": "2022-10-31T21:12:14.233Z"
   },
   {
    "duration": 13,
    "start_time": "2022-10-31T21:12:32.668Z"
   },
   {
    "duration": 4,
    "start_time": "2022-10-31T21:12:46.446Z"
   },
   {
    "duration": 1705,
    "start_time": "2022-10-31T21:12:56.315Z"
   },
   {
    "duration": 1520,
    "start_time": "2022-10-31T21:13:04.997Z"
   },
   {
    "duration": 14,
    "start_time": "2022-10-31T21:13:14.695Z"
   },
   {
    "duration": 2396,
    "start_time": "2022-10-31T21:13:26.142Z"
   },
   {
    "duration": 7,
    "start_time": "2022-10-31T21:13:28.540Z"
   },
   {
    "duration": 957,
    "start_time": "2022-10-31T21:13:33.900Z"
   },
   {
    "duration": 5,
    "start_time": "2022-10-31T21:13:34.859Z"
   },
   {
    "duration": 2178,
    "start_time": "2022-10-31T21:13:44.054Z"
   },
   {
    "duration": 7,
    "start_time": "2022-10-31T21:13:46.234Z"
   },
   {
    "duration": 1748,
    "start_time": "2022-11-01T05:47:46.384Z"
   },
   {
    "duration": 121,
    "start_time": "2022-11-01T05:47:48.134Z"
   },
   {
    "duration": 5,
    "start_time": "2022-11-01T05:47:48.256Z"
   },
   {
    "duration": 15,
    "start_time": "2022-11-01T05:47:48.262Z"
   },
   {
    "duration": 207,
    "start_time": "2022-11-01T05:47:48.279Z"
   },
   {
    "duration": 3,
    "start_time": "2022-11-01T05:47:48.488Z"
   },
   {
    "duration": 6,
    "start_time": "2022-11-01T05:47:48.493Z"
   },
   {
    "duration": 22,
    "start_time": "2022-11-01T05:47:48.500Z"
   },
   {
    "duration": 11,
    "start_time": "2022-11-01T05:47:52.994Z"
   },
   {
    "duration": 6,
    "start_time": "2022-11-01T05:47:54.246Z"
   },
   {
    "duration": 4,
    "start_time": "2022-11-01T05:47:54.427Z"
   },
   {
    "duration": 7,
    "start_time": "2022-11-01T05:47:56.574Z"
   },
   {
    "duration": 6,
    "start_time": "2022-11-01T05:47:56.814Z"
   },
   {
    "duration": 523,
    "start_time": "2022-11-01T05:47:57.099Z"
   },
   {
    "duration": 20,
    "start_time": "2022-11-01T05:47:57.871Z"
   },
   {
    "duration": 1912,
    "start_time": "2022-11-01T05:47:59.876Z"
   },
   {
    "duration": 6,
    "start_time": "2022-11-01T05:48:01.966Z"
   },
   {
    "duration": 546,
    "start_time": "2022-11-01T05:48:33.977Z"
   },
   {
    "duration": 9,
    "start_time": "2022-11-01T05:48:59.945Z"
   },
   {
    "duration": 2835,
    "start_time": "2022-11-01T05:49:40.598Z"
   },
   {
    "duration": 92,
    "start_time": "2022-11-01T05:49:43.435Z"
   },
   {
    "duration": 574,
    "start_time": "2022-11-01T05:49:48.555Z"
   },
   {
    "duration": 93,
    "start_time": "2022-11-01T05:49:49.131Z"
   },
   {
    "duration": 531,
    "start_time": "2022-11-01T05:49:56.397Z"
   },
   {
    "duration": 14,
    "start_time": "2022-11-01T05:49:56.929Z"
   },
   {
    "duration": 423,
    "start_time": "2022-11-01T05:50:02.805Z"
   },
   {
    "duration": 93,
    "start_time": "2022-11-01T05:50:03.230Z"
   },
   {
    "duration": 538,
    "start_time": "2022-11-01T05:50:07.391Z"
   },
   {
    "duration": 91,
    "start_time": "2022-11-01T05:50:07.931Z"
   },
   {
    "duration": 440,
    "start_time": "2022-11-01T05:50:11.590Z"
   },
   {
    "duration": 93,
    "start_time": "2022-11-01T05:50:12.031Z"
   },
   {
    "duration": 484,
    "start_time": "2022-11-01T05:50:14.547Z"
   },
   {
    "duration": 90,
    "start_time": "2022-11-01T05:50:15.033Z"
   },
   {
    "duration": 5783,
    "start_time": "2022-11-01T05:50:26.745Z"
   },
   {
    "duration": 20,
    "start_time": "2022-11-01T05:50:32.530Z"
   },
   {
    "duration": 17,
    "start_time": "2022-11-01T05:50:45.287Z"
   },
   {
    "duration": 7,
    "start_time": "2022-11-01T05:52:49.210Z"
   },
   {
    "duration": 5,
    "start_time": "2022-11-01T05:53:41.713Z"
   },
   {
    "duration": 19,
    "start_time": "2022-11-01T05:54:49.110Z"
   },
   {
    "duration": 8,
    "start_time": "2022-11-01T05:54:58.929Z"
   },
   {
    "duration": 580,
    "start_time": "2022-11-01T05:55:19.806Z"
   },
   {
    "duration": 90,
    "start_time": "2022-11-01T05:55:20.388Z"
   },
   {
    "duration": 20,
    "start_time": "2022-11-01T05:55:20.607Z"
   },
   {
    "duration": 5,
    "start_time": "2022-11-01T06:04:48.212Z"
   },
   {
    "duration": 5,
    "start_time": "2022-11-01T06:05:19.560Z"
   },
   {
    "duration": 132,
    "start_time": "2022-11-01T06:05:56.040Z"
   },
   {
    "duration": 5,
    "start_time": "2022-11-01T06:06:34.177Z"
   },
   {
    "duration": 10,
    "start_time": "2022-11-01T06:06:35.012Z"
   },
   {
    "duration": 5,
    "start_time": "2022-11-01T06:09:21.072Z"
   },
   {
    "duration": 206,
    "start_time": "2022-11-01T06:09:21.535Z"
   },
   {
    "duration": 4,
    "start_time": "2022-11-01T06:10:00.534Z"
   },
   {
    "duration": 162,
    "start_time": "2022-11-01T06:10:01.282Z"
   },
   {
    "duration": 4,
    "start_time": "2022-11-01T06:10:25.036Z"
   },
   {
    "duration": 1491,
    "start_time": "2022-11-01T06:10:27.332Z"
   },
   {
    "duration": 4,
    "start_time": "2022-11-01T06:10:39.458Z"
   },
   {
    "duration": 1377,
    "start_time": "2022-11-01T06:10:40.903Z"
   },
   {
    "duration": 4,
    "start_time": "2022-11-01T06:10:52.547Z"
   },
   {
    "duration": 1400,
    "start_time": "2022-11-01T06:10:52.980Z"
   },
   {
    "duration": 14,
    "start_time": "2022-11-01T06:17:38.368Z"
   },
   {
    "duration": 3,
    "start_time": "2022-11-01T06:17:46.115Z"
   },
   {
    "duration": 1643,
    "start_time": "2022-11-01T06:44:35.132Z"
   },
   {
    "duration": 55,
    "start_time": "2022-11-01T06:44:36.777Z"
   },
   {
    "duration": 7,
    "start_time": "2022-11-01T06:44:36.834Z"
   },
   {
    "duration": 10,
    "start_time": "2022-11-01T06:44:36.843Z"
   },
   {
    "duration": 246,
    "start_time": "2022-11-01T06:44:36.854Z"
   },
   {
    "duration": 5,
    "start_time": "2022-11-01T06:44:37.102Z"
   },
   {
    "duration": 6,
    "start_time": "2022-11-01T06:44:37.121Z"
   },
   {
    "duration": 10,
    "start_time": "2022-11-01T06:44:37.129Z"
   },
   {
    "duration": 12,
    "start_time": "2022-11-01T06:44:37.140Z"
   },
   {
    "duration": 8,
    "start_time": "2022-11-01T06:44:37.155Z"
   },
   {
    "duration": 5,
    "start_time": "2022-11-01T06:44:37.165Z"
   },
   {
    "duration": 10,
    "start_time": "2022-11-01T06:44:37.171Z"
   },
   {
    "duration": 7,
    "start_time": "2022-11-01T06:44:37.183Z"
   },
   {
    "duration": 572,
    "start_time": "2022-11-01T06:44:37.191Z"
   },
   {
    "duration": 79,
    "start_time": "2022-11-01T06:44:37.765Z"
   },
   {
    "duration": 19,
    "start_time": "2022-11-01T06:44:37.846Z"
   },
   {
    "duration": 2151,
    "start_time": "2022-11-01T06:44:37.867Z"
   },
   {
    "duration": 11,
    "start_time": "2022-11-01T06:44:40.020Z"
   },
   {
    "duration": 19,
    "start_time": "2022-11-01T06:44:40.033Z"
   },
   {
    "duration": 1645,
    "start_time": "2022-11-01T06:45:12.389Z"
   },
   {
    "duration": 57,
    "start_time": "2022-11-01T06:45:14.036Z"
   },
   {
    "duration": 6,
    "start_time": "2022-11-01T06:45:14.094Z"
   },
   {
    "duration": 26,
    "start_time": "2022-11-01T06:45:14.102Z"
   },
   {
    "duration": 238,
    "start_time": "2022-11-01T06:45:14.130Z"
   },
   {
    "duration": 4,
    "start_time": "2022-11-01T06:45:14.369Z"
   },
   {
    "duration": 20,
    "start_time": "2022-11-01T06:45:14.375Z"
   },
   {
    "duration": 19,
    "start_time": "2022-11-01T06:45:14.396Z"
   },
   {
    "duration": 20,
    "start_time": "2022-11-01T06:45:14.417Z"
   },
   {
    "duration": 19,
    "start_time": "2022-11-01T06:45:14.439Z"
   },
   {
    "duration": 13,
    "start_time": "2022-11-01T06:45:14.460Z"
   },
   {
    "duration": 27,
    "start_time": "2022-11-01T06:45:14.475Z"
   },
   {
    "duration": 10,
    "start_time": "2022-11-01T06:45:14.504Z"
   },
   {
    "duration": 546,
    "start_time": "2022-11-01T06:45:14.516Z"
   },
   {
    "duration": 80,
    "start_time": "2022-11-01T06:45:15.064Z"
   },
   {
    "duration": 21,
    "start_time": "2022-11-01T06:45:15.148Z"
   },
   {
    "duration": 2050,
    "start_time": "2022-11-01T06:45:15.171Z"
   },
   {
    "duration": 12,
    "start_time": "2022-11-01T06:45:17.223Z"
   },
   {
    "duration": 6,
    "start_time": "2022-11-01T06:45:17.237Z"
   },
   {
    "duration": 1894795,
    "start_time": "2022-11-01T06:45:17.244Z"
   },
   {
    "duration": 203,
    "start_time": "2022-11-01T07:16:52.040Z"
   },
   {
    "duration": 0,
    "start_time": "2022-11-01T07:16:52.244Z"
   },
   {
    "duration": 0,
    "start_time": "2022-11-01T07:16:52.245Z"
   },
   {
    "duration": 0,
    "start_time": "2022-11-01T07:16:52.246Z"
   },
   {
    "duration": 0,
    "start_time": "2022-11-01T07:16:52.247Z"
   },
   {
    "duration": 0,
    "start_time": "2022-11-01T07:16:52.248Z"
   },
   {
    "duration": 0,
    "start_time": "2022-11-01T07:16:52.248Z"
   },
   {
    "duration": 0,
    "start_time": "2022-11-01T07:16:52.249Z"
   },
   {
    "duration": 0,
    "start_time": "2022-11-01T07:16:52.249Z"
   },
   {
    "duration": 0,
    "start_time": "2022-11-01T07:16:52.250Z"
   },
   {
    "duration": 0,
    "start_time": "2022-11-01T07:16:52.251Z"
   },
   {
    "duration": 0,
    "start_time": "2022-11-01T07:16:52.251Z"
   },
   {
    "duration": 0,
    "start_time": "2022-11-01T07:16:52.252Z"
   },
   {
    "duration": 0,
    "start_time": "2022-11-01T07:16:52.253Z"
   },
   {
    "duration": 3,
    "start_time": "2022-11-01T09:30:33.130Z"
   },
   {
    "duration": 19,
    "start_time": "2022-11-01T09:30:35.528Z"
   },
   {
    "duration": 7,
    "start_time": "2022-11-01T09:30:38.463Z"
   },
   {
    "duration": 4,
    "start_time": "2022-11-01T09:30:40.675Z"
   },
   {
    "duration": 1763,
    "start_time": "2022-11-01T09:30:41.715Z"
   },
   {
    "duration": 61,
    "start_time": "2022-11-01T09:30:43.480Z"
   },
   {
    "duration": 7,
    "start_time": "2022-11-01T09:30:44.443Z"
   },
   {
    "duration": 2793,
    "start_time": "2022-11-01T09:31:00.934Z"
   },
   {
    "duration": 2914,
    "start_time": "2022-11-01T09:31:10.835Z"
   },
   {
    "duration": 4,
    "start_time": "2022-11-01T09:31:16.541Z"
   },
   {
    "duration": 2012155,
    "start_time": "2022-11-01T09:31:19.989Z"
   },
   {
    "duration": 5,
    "start_time": "2022-11-01T10:04:52.146Z"
   },
   {
    "duration": 10,
    "start_time": "2022-11-01T10:04:52.153Z"
   },
   {
    "duration": 5,
    "start_time": "2022-11-01T10:19:42.407Z"
   },
   {
    "duration": 5,
    "start_time": "2022-11-01T10:19:45.533Z"
   },
   {
    "duration": 29,
    "start_time": "2022-11-01T10:19:47.235Z"
   },
   {
    "duration": 21,
    "start_time": "2022-11-01T10:20:06.969Z"
   },
   {
    "duration": 1683,
    "start_time": "2022-11-02T18:58:53.457Z"
   },
   {
    "duration": 125,
    "start_time": "2022-11-02T18:59:31.030Z"
   },
   {
    "duration": 7,
    "start_time": "2022-11-02T18:59:33.847Z"
   },
   {
    "duration": 13,
    "start_time": "2022-11-02T18:59:34.695Z"
   },
   {
    "duration": 200,
    "start_time": "2022-11-02T18:59:37.228Z"
   },
   {
    "duration": 10,
    "start_time": "2022-11-02T19:00:51.975Z"
   },
   {
    "duration": 9,
    "start_time": "2022-11-02T19:01:40.657Z"
   },
   {
    "duration": 186,
    "start_time": "2022-11-02T19:01:54.217Z"
   },
   {
    "duration": 184,
    "start_time": "2022-11-02T19:02:01.344Z"
   },
   {
    "duration": 190,
    "start_time": "2022-11-02T19:02:23.322Z"
   },
   {
    "duration": 282,
    "start_time": "2022-11-02T19:03:25.685Z"
   },
   {
    "duration": 54,
    "start_time": "2022-11-02T19:32:44.788Z"
   },
   {
    "duration": 1630,
    "start_time": "2022-11-02T19:36:26.524Z"
   },
   {
    "duration": 56,
    "start_time": "2022-11-02T19:36:28.155Z"
   },
   {
    "duration": 7,
    "start_time": "2022-11-02T19:36:28.213Z"
   },
   {
    "duration": 9,
    "start_time": "2022-11-02T19:36:28.222Z"
   },
   {
    "duration": 249,
    "start_time": "2022-11-02T19:36:28.232Z"
   },
   {
    "duration": 4,
    "start_time": "2022-11-02T19:36:28.482Z"
   },
   {
    "duration": 209,
    "start_time": "2022-11-02T19:36:28.488Z"
   },
   {
    "duration": 233,
    "start_time": "2022-11-02T19:36:28.698Z"
   },
   {
    "duration": 257,
    "start_time": "2022-11-02T19:36:28.933Z"
   },
   {
    "duration": 4,
    "start_time": "2022-11-02T19:36:29.194Z"
   },
   {
    "duration": 22,
    "start_time": "2022-11-02T19:36:29.200Z"
   },
   {
    "duration": 26,
    "start_time": "2022-11-02T19:36:29.224Z"
   },
   {
    "duration": 28,
    "start_time": "2022-11-02T19:36:29.252Z"
   },
   {
    "duration": 17,
    "start_time": "2022-11-02T19:36:29.282Z"
   },
   {
    "duration": 163,
    "start_time": "2022-11-02T19:36:29.301Z"
   },
   {
    "duration": 0,
    "start_time": "2022-11-02T19:36:29.466Z"
   },
   {
    "duration": 0,
    "start_time": "2022-11-02T19:36:29.468Z"
   },
   {
    "duration": 0,
    "start_time": "2022-11-02T19:36:29.469Z"
   },
   {
    "duration": 0,
    "start_time": "2022-11-02T19:36:29.470Z"
   },
   {
    "duration": 0,
    "start_time": "2022-11-02T19:36:29.471Z"
   },
   {
    "duration": 0,
    "start_time": "2022-11-02T19:36:29.473Z"
   },
   {
    "duration": 0,
    "start_time": "2022-11-02T19:36:29.474Z"
   },
   {
    "duration": 0,
    "start_time": "2022-11-02T19:36:29.476Z"
   },
   {
    "duration": 0,
    "start_time": "2022-11-02T19:36:29.478Z"
   },
   {
    "duration": 0,
    "start_time": "2022-11-02T19:36:29.479Z"
   },
   {
    "duration": 0,
    "start_time": "2022-11-02T19:36:29.480Z"
   },
   {
    "duration": 0,
    "start_time": "2022-11-02T19:36:29.482Z"
   },
   {
    "duration": 0,
    "start_time": "2022-11-02T19:36:29.483Z"
   },
   {
    "duration": 0,
    "start_time": "2022-11-02T19:36:29.484Z"
   },
   {
    "duration": 0,
    "start_time": "2022-11-02T19:36:29.486Z"
   },
   {
    "duration": 0,
    "start_time": "2022-11-02T19:36:29.487Z"
   },
   {
    "duration": 0,
    "start_time": "2022-11-02T19:36:29.521Z"
   },
   {
    "duration": 0,
    "start_time": "2022-11-02T19:36:29.523Z"
   },
   {
    "duration": 0,
    "start_time": "2022-11-02T19:36:29.524Z"
   },
   {
    "duration": 0,
    "start_time": "2022-11-02T19:36:29.526Z"
   },
   {
    "duration": 0,
    "start_time": "2022-11-02T19:36:29.527Z"
   },
   {
    "duration": 0,
    "start_time": "2022-11-02T19:36:29.528Z"
   },
   {
    "duration": 0,
    "start_time": "2022-11-02T19:36:29.528Z"
   },
   {
    "duration": 0,
    "start_time": "2022-11-02T19:36:29.530Z"
   },
   {
    "duration": 0,
    "start_time": "2022-11-02T19:36:29.530Z"
   },
   {
    "duration": 4,
    "start_time": "2022-11-02T19:37:13.238Z"
   },
   {
    "duration": 20,
    "start_time": "2022-11-02T19:37:15.206Z"
   },
   {
    "duration": 18,
    "start_time": "2022-11-02T19:37:15.721Z"
   },
   {
    "duration": 4,
    "start_time": "2022-11-02T19:37:50.755Z"
   },
   {
    "duration": 10,
    "start_time": "2022-11-02T19:37:52.287Z"
   },
   {
    "duration": 18,
    "start_time": "2022-11-02T19:37:52.963Z"
   },
   {
    "duration": 4,
    "start_time": "2022-11-02T19:38:54.360Z"
   },
   {
    "duration": 27,
    "start_time": "2022-11-02T19:38:58.797Z"
   },
   {
    "duration": 6,
    "start_time": "2022-11-02T19:40:03.321Z"
   },
   {
    "duration": 11,
    "start_time": "2022-11-02T19:40:05.793Z"
   },
   {
    "duration": 13,
    "start_time": "2022-11-02T19:40:07.797Z"
   },
   {
    "duration": 6,
    "start_time": "2022-11-02T19:40:21.562Z"
   },
   {
    "duration": 54,
    "start_time": "2022-11-02T19:40:22.151Z"
   },
   {
    "duration": 6,
    "start_time": "2022-11-02T19:40:22.309Z"
   },
   {
    "duration": 8,
    "start_time": "2022-11-02T19:40:22.390Z"
   },
   {
    "duration": 280,
    "start_time": "2022-11-02T19:40:22.564Z"
   },
   {
    "duration": 4,
    "start_time": "2022-11-02T19:40:22.845Z"
   },
   {
    "duration": 212,
    "start_time": "2022-11-02T19:40:22.850Z"
   },
   {
    "duration": 242,
    "start_time": "2022-11-02T19:40:23.064Z"
   },
   {
    "duration": 209,
    "start_time": "2022-11-02T19:40:23.308Z"
   },
   {
    "duration": 7,
    "start_time": "2022-11-02T19:40:23.523Z"
   },
   {
    "duration": 11,
    "start_time": "2022-11-02T19:40:25.030Z"
   },
   {
    "duration": 18,
    "start_time": "2022-11-02T19:40:25.178Z"
   },
   {
    "duration": 1636,
    "start_time": "2022-11-02T19:40:32.993Z"
   },
   {
    "duration": 59,
    "start_time": "2022-11-02T19:40:34.631Z"
   },
   {
    "duration": 5,
    "start_time": "2022-11-02T19:40:34.692Z"
   },
   {
    "duration": 10,
    "start_time": "2022-11-02T19:40:34.699Z"
   },
   {
    "duration": 242,
    "start_time": "2022-11-02T19:40:34.710Z"
   },
   {
    "duration": 3,
    "start_time": "2022-11-02T19:40:34.954Z"
   },
   {
    "duration": 212,
    "start_time": "2022-11-02T19:40:34.959Z"
   },
   {
    "duration": 202,
    "start_time": "2022-11-02T19:40:35.172Z"
   },
   {
    "duration": 194,
    "start_time": "2022-11-02T19:40:35.375Z"
   },
   {
    "duration": 4,
    "start_time": "2022-11-02T19:40:35.572Z"
   },
   {
    "duration": 21,
    "start_time": "2022-11-02T19:40:35.577Z"
   },
   {
    "duration": 28,
    "start_time": "2022-11-02T19:40:35.599Z"
   },
   {
    "duration": 6,
    "start_time": "2022-11-02T19:40:35.629Z"
   },
   {
    "duration": 6,
    "start_time": "2022-11-02T19:40:35.636Z"
   },
   {
    "duration": 15,
    "start_time": "2022-11-02T19:40:35.644Z"
   },
   {
    "duration": 16,
    "start_time": "2022-11-02T19:40:35.661Z"
   },
   {
    "duration": 1054,
    "start_time": "2022-11-02T19:40:35.679Z"
   },
   {
    "duration": 70,
    "start_time": "2022-11-02T19:40:36.735Z"
   },
   {
    "duration": 33,
    "start_time": "2022-11-02T19:40:36.806Z"
   },
   {
    "duration": 2670,
    "start_time": "2022-11-02T19:40:36.841Z"
   },
   {
    "duration": 12,
    "start_time": "2022-11-02T19:40:39.513Z"
   },
   {
    "duration": 8,
    "start_time": "2022-11-02T19:40:39.526Z"
   },
   {
    "duration": 172,
    "start_time": "2022-11-02T19:40:39.535Z"
   },
   {
    "duration": 10,
    "start_time": "2022-11-02T19:40:39.709Z"
   },
   {
    "duration": 0,
    "start_time": "2022-11-02T19:40:39.721Z"
   },
   {
    "duration": 0,
    "start_time": "2022-11-02T19:40:39.722Z"
   },
   {
    "duration": 0,
    "start_time": "2022-11-02T19:40:39.723Z"
   },
   {
    "duration": 0,
    "start_time": "2022-11-02T19:40:39.723Z"
   },
   {
    "duration": 0,
    "start_time": "2022-11-02T19:40:39.724Z"
   },
   {
    "duration": 0,
    "start_time": "2022-11-02T19:40:39.725Z"
   },
   {
    "duration": 0,
    "start_time": "2022-11-02T19:40:39.726Z"
   },
   {
    "duration": 0,
    "start_time": "2022-11-02T19:40:39.727Z"
   },
   {
    "duration": 0,
    "start_time": "2022-11-02T19:40:39.728Z"
   },
   {
    "duration": 0,
    "start_time": "2022-11-02T19:40:39.729Z"
   },
   {
    "duration": 0,
    "start_time": "2022-11-02T19:40:39.730Z"
   },
   {
    "duration": 0,
    "start_time": "2022-11-02T19:40:39.730Z"
   },
   {
    "duration": 0,
    "start_time": "2022-11-02T19:40:39.731Z"
   },
   {
    "duration": 0,
    "start_time": "2022-11-02T19:40:39.732Z"
   },
   {
    "duration": 0,
    "start_time": "2022-11-02T19:40:39.733Z"
   },
   {
    "duration": 0,
    "start_time": "2022-11-02T19:40:39.734Z"
   },
   {
    "duration": 5,
    "start_time": "2022-11-02T19:40:57.863Z"
   },
   {
    "duration": 1601,
    "start_time": "2022-11-02T19:41:03.517Z"
   },
   {
    "duration": 69,
    "start_time": "2022-11-02T19:41:05.121Z"
   },
   {
    "duration": 6,
    "start_time": "2022-11-02T19:41:05.192Z"
   },
   {
    "duration": 24,
    "start_time": "2022-11-02T19:41:05.200Z"
   },
   {
    "duration": 252,
    "start_time": "2022-11-02T19:41:05.226Z"
   },
   {
    "duration": 4,
    "start_time": "2022-11-02T19:41:05.480Z"
   },
   {
    "duration": 227,
    "start_time": "2022-11-02T19:41:05.485Z"
   },
   {
    "duration": 213,
    "start_time": "2022-11-02T19:41:05.713Z"
   },
   {
    "duration": 203,
    "start_time": "2022-11-02T19:41:05.927Z"
   },
   {
    "duration": 4,
    "start_time": "2022-11-02T19:41:06.133Z"
   },
   {
    "duration": 46,
    "start_time": "2022-11-02T19:41:06.138Z"
   },
   {
    "duration": 31,
    "start_time": "2022-11-02T19:41:06.186Z"
   },
   {
    "duration": 10,
    "start_time": "2022-11-02T19:41:06.219Z"
   },
   {
    "duration": 17,
    "start_time": "2022-11-02T19:41:06.231Z"
   },
   {
    "duration": 49,
    "start_time": "2022-11-02T19:41:06.250Z"
   },
   {
    "duration": 15,
    "start_time": "2022-11-02T19:41:06.301Z"
   },
   {
    "duration": 1056,
    "start_time": "2022-11-02T19:41:06.318Z"
   },
   {
    "duration": 71,
    "start_time": "2022-11-02T19:41:07.376Z"
   },
   {
    "duration": 23,
    "start_time": "2022-11-02T19:41:07.448Z"
   },
   {
    "duration": 3624,
    "start_time": "2022-11-02T19:41:07.473Z"
   },
   {
    "duration": 12,
    "start_time": "2022-11-02T19:41:11.099Z"
   },
   {
    "duration": 6,
    "start_time": "2022-11-02T19:41:11.113Z"
   },
   {
    "duration": 376112,
    "start_time": "2022-11-02T19:41:11.120Z"
   },
   {
    "duration": 3,
    "start_time": "2022-11-02T19:47:27.234Z"
   },
   {
    "duration": 94,
    "start_time": "2022-11-02T19:47:27.238Z"
   },
   {
    "duration": 92,
    "start_time": "2022-11-02T19:47:27.333Z"
   },
   {
    "duration": 5,
    "start_time": "2022-11-02T19:47:27.427Z"
   },
   {
    "duration": 1974,
    "start_time": "2022-11-02T19:47:27.436Z"
   },
   {
    "duration": 16,
    "start_time": "2022-11-02T19:47:29.412Z"
   },
   {
    "duration": 95,
    "start_time": "2022-11-02T19:47:29.430Z"
   },
   {
    "duration": 1599,
    "start_time": "2022-11-02T19:47:29.528Z"
   },
   {
    "duration": 1885,
    "start_time": "2022-11-02T19:47:31.129Z"
   },
   {
    "duration": 6,
    "start_time": "2022-11-02T19:47:33.016Z"
   },
   {
    "duration": 45138,
    "start_time": "2022-11-02T19:47:33.023Z"
   },
   {
    "duration": 8,
    "start_time": "2022-11-02T19:48:18.163Z"
   },
   {
    "duration": 16,
    "start_time": "2022-11-02T19:48:18.172Z"
   },
   {
    "duration": 0,
    "start_time": "2022-11-02T19:48:18.189Z"
   },
   {
    "duration": 0,
    "start_time": "2022-11-02T19:48:18.190Z"
   },
   {
    "duration": 0,
    "start_time": "2022-11-02T19:48:18.191Z"
   },
   {
    "duration": 0,
    "start_time": "2022-11-02T19:48:18.193Z"
   },
   {
    "duration": 5,
    "start_time": "2022-11-02T19:54:13.750Z"
   },
   {
    "duration": 4,
    "start_time": "2022-11-02T19:54:23.588Z"
   },
   {
    "duration": 1990199,
    "start_time": "2022-11-02T19:54:24.147Z"
   },
   {
    "duration": 5,
    "start_time": "2022-11-02T20:27:34.348Z"
   },
   {
    "duration": 35,
    "start_time": "2022-11-02T20:27:34.354Z"
   },
   {
    "duration": 36,
    "start_time": "2022-11-02T20:27:34.391Z"
   },
   {
    "duration": 0,
    "start_time": "2022-11-02T20:27:34.428Z"
   },
   {
    "duration": 0,
    "start_time": "2022-11-02T20:27:34.430Z"
   },
   {
    "duration": 0,
    "start_time": "2022-11-02T20:27:34.431Z"
   },
   {
    "duration": 5,
    "start_time": "2022-11-02T20:35:26.872Z"
   },
   {
    "duration": 5,
    "start_time": "2022-11-02T20:35:27.686Z"
   },
   {
    "duration": 5,
    "start_time": "2022-11-02T20:35:40.848Z"
   },
   {
    "duration": 21,
    "start_time": "2022-11-02T20:35:56.461Z"
   },
   {
    "duration": 6,
    "start_time": "2022-11-02T20:35:59.870Z"
   },
   {
    "duration": 6,
    "start_time": "2022-11-02T20:36:00.236Z"
   },
   {
    "duration": 2752,
    "start_time": "2022-11-04T19:56:04.780Z"
   },
   {
    "duration": 344,
    "start_time": "2022-11-04T19:56:07.534Z"
   },
   {
    "duration": 9,
    "start_time": "2022-11-04T19:56:07.879Z"
   },
   {
    "duration": 21,
    "start_time": "2022-11-04T19:56:07.891Z"
   },
   {
    "duration": 330,
    "start_time": "2022-11-04T19:56:07.916Z"
   },
   {
    "duration": 5,
    "start_time": "2022-11-04T19:56:08.248Z"
   },
   {
    "duration": 231,
    "start_time": "2022-11-04T19:56:08.255Z"
   },
   {
    "duration": 228,
    "start_time": "2022-11-04T19:56:08.535Z"
   },
   {
    "duration": 11,
    "start_time": "2022-11-04T19:56:45.622Z"
   },
   {
    "duration": 171,
    "start_time": "2022-11-04T19:56:51.328Z"
   },
   {
    "duration": 211,
    "start_time": "2022-11-04T19:57:01.027Z"
   },
   {
    "duration": 7,
    "start_time": "2022-11-04T19:59:31.387Z"
   },
   {
    "duration": 4,
    "start_time": "2022-11-04T20:00:33.643Z"
   },
   {
    "duration": 23,
    "start_time": "2022-11-04T20:01:21.381Z"
   },
   {
    "duration": 18,
    "start_time": "2022-11-04T20:01:22.737Z"
   },
   {
    "duration": 90,
    "start_time": "2022-11-04T20:01:39.884Z"
   },
   {
    "duration": 9,
    "start_time": "2022-11-04T20:01:43.324Z"
   },
   {
    "duration": 17,
    "start_time": "2022-11-04T20:01:44.529Z"
   },
   {
    "duration": 10,
    "start_time": "2022-11-04T20:01:53.137Z"
   },
   {
    "duration": 5,
    "start_time": "2022-11-04T20:02:02.126Z"
   },
   {
    "duration": 9,
    "start_time": "2022-11-04T20:02:02.484Z"
   },
   {
    "duration": 7,
    "start_time": "2022-11-04T20:02:03.081Z"
   },
   {
    "duration": 1105,
    "start_time": "2022-11-04T20:02:05.407Z"
   },
   {
    "duration": 89,
    "start_time": "2022-11-04T20:02:09.866Z"
   },
   {
    "duration": 31,
    "start_time": "2022-11-04T20:02:15.472Z"
   },
   {
    "duration": 3398,
    "start_time": "2022-11-04T20:02:18.868Z"
   },
   {
    "duration": 118,
    "start_time": "2022-11-04T20:02:22.881Z"
   },
   {
    "duration": 7,
    "start_time": "2022-11-04T20:02:23.947Z"
   },
   {
    "duration": 6,
    "start_time": "2022-11-04T20:02:29.931Z"
   },
   {
    "duration": 2293,
    "start_time": "2022-11-04T20:02:33.635Z"
   },
   {
    "duration": 16,
    "start_time": "2022-11-04T20:02:44.621Z"
   },
   {
    "duration": 8,
    "start_time": "2022-11-04T20:02:45.354Z"
   },
   {
    "duration": 6,
    "start_time": "2022-11-04T20:10:14.637Z"
   },
   {
    "duration": 5,
    "start_time": "2022-11-04T20:10:15.059Z"
   },
   {
    "duration": 23,
    "start_time": "2022-11-04T20:11:38.858Z"
   },
   {
    "duration": 6,
    "start_time": "2022-11-04T20:11:39.220Z"
   },
   {
    "duration": 22,
    "start_time": "2022-11-04T20:11:40.831Z"
   },
   {
    "duration": 6,
    "start_time": "2022-11-04T20:11:41.047Z"
   },
   {
    "duration": 6,
    "start_time": "2022-11-04T20:11:57.803Z"
   },
   {
    "duration": 6,
    "start_time": "2022-11-04T20:11:58.406Z"
   },
   {
    "duration": 6,
    "start_time": "2022-11-04T20:12:18.381Z"
   },
   {
    "duration": 5,
    "start_time": "2022-11-04T20:12:18.541Z"
   },
   {
    "duration": 4,
    "start_time": "2022-11-04T20:12:38.524Z"
   },
   {
    "duration": 64,
    "start_time": "2022-11-04T20:12:39.421Z"
   },
   {
    "duration": 5,
    "start_time": "2022-11-04T20:12:40.549Z"
   },
   {
    "duration": 7,
    "start_time": "2022-11-04T20:12:41.174Z"
   },
   {
    "duration": 247,
    "start_time": "2022-11-04T20:12:42.029Z"
   },
   {
    "duration": 6,
    "start_time": "2022-11-04T20:12:44.533Z"
   },
   {
    "duration": 223,
    "start_time": "2022-11-04T20:12:44.822Z"
   },
   {
    "duration": 225,
    "start_time": "2022-11-04T20:12:45.624Z"
   },
   {
    "duration": 162,
    "start_time": "2022-11-04T20:12:46.630Z"
   },
   {
    "duration": 267,
    "start_time": "2022-11-04T20:12:47.830Z"
   },
   {
    "duration": 5,
    "start_time": "2022-11-04T20:12:52.147Z"
   },
   {
    "duration": 11,
    "start_time": "2022-11-04T20:13:14.620Z"
   },
   {
    "duration": 15,
    "start_time": "2022-11-04T20:13:16.554Z"
   },
   {
    "duration": 7,
    "start_time": "2022-11-04T20:13:21.607Z"
   },
   {
    "duration": 4,
    "start_time": "2022-11-04T20:13:28.398Z"
   },
   {
    "duration": 8,
    "start_time": "2022-11-04T20:13:29.164Z"
   },
   {
    "duration": 7,
    "start_time": "2022-11-04T20:13:30.338Z"
   },
   {
    "duration": 1074,
    "start_time": "2022-11-04T20:13:34.021Z"
   },
   {
    "duration": 80,
    "start_time": "2022-11-04T20:13:36.077Z"
   },
   {
    "duration": 27,
    "start_time": "2022-11-04T20:13:36.840Z"
   },
   {
    "duration": 3027,
    "start_time": "2022-11-04T20:13:40.970Z"
   },
   {
    "duration": 16,
    "start_time": "2022-11-04T20:13:44.020Z"
   },
   {
    "duration": 8,
    "start_time": "2022-11-04T20:13:44.584Z"
   },
   {
    "duration": 5,
    "start_time": "2022-11-04T20:14:25.342Z"
   },
   {
    "duration": 13,
    "start_time": "2022-11-04T20:14:28.175Z"
   },
   {
    "duration": 20,
    "start_time": "2022-11-04T20:14:28.252Z"
   },
   {
    "duration": 9,
    "start_time": "2022-11-04T20:14:28.854Z"
   },
   {
    "duration": 4,
    "start_time": "2022-11-04T20:14:29.608Z"
   },
   {
    "duration": 10,
    "start_time": "2022-11-04T20:14:29.680Z"
   },
   {
    "duration": 10,
    "start_time": "2022-11-04T20:14:29.775Z"
   },
   {
    "duration": 1376,
    "start_time": "2022-11-04T20:14:31.283Z"
   },
   {
    "duration": 91,
    "start_time": "2022-11-04T20:14:32.662Z"
   },
   {
    "duration": 29,
    "start_time": "2022-11-04T20:14:32.757Z"
   },
   {
    "duration": 3633,
    "start_time": "2022-11-04T20:14:35.280Z"
   },
   {
    "duration": 12,
    "start_time": "2022-11-04T20:14:38.915Z"
   },
   {
    "duration": 7,
    "start_time": "2022-11-04T20:14:38.928Z"
   },
   {
    "duration": 5,
    "start_time": "2022-11-04T20:14:55.878Z"
   },
   {
    "duration": 10,
    "start_time": "2022-11-04T20:14:57.105Z"
   },
   {
    "duration": 18,
    "start_time": "2022-11-04T20:14:57.182Z"
   },
   {
    "duration": 8,
    "start_time": "2022-11-04T20:14:57.527Z"
   },
   {
    "duration": 5,
    "start_time": "2022-11-04T20:14:58.452Z"
   },
   {
    "duration": 9,
    "start_time": "2022-11-04T20:14:58.902Z"
   },
   {
    "duration": 8,
    "start_time": "2022-11-04T20:14:59.230Z"
   },
   {
    "duration": 1397,
    "start_time": "2022-11-04T20:15:00.323Z"
   },
   {
    "duration": 84,
    "start_time": "2022-11-04T20:15:01.731Z"
   },
   {
    "duration": 37,
    "start_time": "2022-11-04T20:15:01.817Z"
   },
   {
    "duration": 3523,
    "start_time": "2022-11-04T20:15:04.327Z"
   },
   {
    "duration": 15,
    "start_time": "2022-11-04T20:15:07.851Z"
   },
   {
    "duration": 9,
    "start_time": "2022-11-04T20:15:07.869Z"
   },
   {
    "duration": 7,
    "start_time": "2022-11-04T20:15:24.361Z"
   },
   {
    "duration": 2991,
    "start_time": "2022-11-04T20:15:25.650Z"
   },
   {
    "duration": 15,
    "start_time": "2022-11-04T20:15:28.643Z"
   },
   {
    "duration": 100,
    "start_time": "2022-11-04T20:15:28.733Z"
   },
   {
    "duration": 6,
    "start_time": "2022-11-04T20:15:35.785Z"
   },
   {
    "duration": 5,
    "start_time": "2022-11-04T20:15:36.096Z"
   },
   {
    "duration": 5,
    "start_time": "2022-11-04T20:16:36.087Z"
   },
   {
    "duration": 11,
    "start_time": "2022-11-04T20:16:37.510Z"
   },
   {
    "duration": 20,
    "start_time": "2022-11-04T20:16:37.654Z"
   },
   {
    "duration": 9,
    "start_time": "2022-11-04T20:16:38.986Z"
   },
   {
    "duration": 5,
    "start_time": "2022-11-04T20:16:39.651Z"
   },
   {
    "duration": 7,
    "start_time": "2022-11-04T20:16:39.823Z"
   },
   {
    "duration": 9,
    "start_time": "2022-11-04T20:16:40.386Z"
   },
   {
    "duration": 1428,
    "start_time": "2022-11-04T20:16:41.684Z"
   },
   {
    "duration": 86,
    "start_time": "2022-11-04T20:16:43.114Z"
   },
   {
    "duration": 34,
    "start_time": "2022-11-04T20:16:43.202Z"
   },
   {
    "duration": 3749,
    "start_time": "2022-11-04T20:16:46.706Z"
   },
   {
    "duration": 18,
    "start_time": "2022-11-04T20:16:50.456Z"
   },
   {
    "duration": 8,
    "start_time": "2022-11-04T20:16:50.476Z"
   },
   {
    "duration": 5,
    "start_time": "2022-11-04T20:17:02.925Z"
   },
   {
    "duration": 2772,
    "start_time": "2022-11-04T20:17:03.896Z"
   },
   {
    "duration": 63,
    "start_time": "2022-11-04T20:17:06.670Z"
   },
   {
    "duration": 99,
    "start_time": "2022-11-04T20:17:06.735Z"
   },
   {
    "duration": 7,
    "start_time": "2022-11-04T20:17:13.090Z"
   },
   {
    "duration": 6,
    "start_time": "2022-11-04T20:17:13.571Z"
   },
   {
    "duration": 7,
    "start_time": "2022-11-04T20:17:34.567Z"
   },
   {
    "duration": 13,
    "start_time": "2022-11-04T20:17:36.535Z"
   },
   {
    "duration": 21,
    "start_time": "2022-11-04T20:17:36.627Z"
   },
   {
    "duration": 10,
    "start_time": "2022-11-04T20:17:36.953Z"
   },
   {
    "duration": 7,
    "start_time": "2022-11-04T20:17:38.040Z"
   },
   {
    "duration": 10,
    "start_time": "2022-11-04T20:17:38.103Z"
   },
   {
    "duration": 10,
    "start_time": "2022-11-04T20:17:38.192Z"
   },
   {
    "duration": 1386,
    "start_time": "2022-11-04T20:17:38.895Z"
   },
   {
    "duration": 87,
    "start_time": "2022-11-04T20:17:40.283Z"
   },
   {
    "duration": 29,
    "start_time": "2022-11-04T20:17:40.372Z"
   },
   {
    "duration": 3690,
    "start_time": "2022-11-04T20:17:41.125Z"
   },
   {
    "duration": 17,
    "start_time": "2022-11-04T20:17:44.818Z"
   },
   {
    "duration": 8,
    "start_time": "2022-11-04T20:17:44.837Z"
   },
   {
    "duration": 5,
    "start_time": "2022-11-04T20:17:55.953Z"
   },
   {
    "duration": 2636,
    "start_time": "2022-11-04T20:17:56.803Z"
   },
   {
    "duration": 97,
    "start_time": "2022-11-04T20:17:59.441Z"
   },
   {
    "duration": 100,
    "start_time": "2022-11-04T20:17:59.540Z"
   },
   {
    "duration": 6,
    "start_time": "2022-11-04T20:18:06.692Z"
   },
   {
    "duration": 5,
    "start_time": "2022-11-04T20:18:07.228Z"
   },
   {
    "duration": 5,
    "start_time": "2022-11-04T20:18:21.862Z"
   },
   {
    "duration": 7,
    "start_time": "2022-11-04T20:19:02.029Z"
   },
   {
    "duration": 5,
    "start_time": "2022-11-04T20:19:02.362Z"
   },
   {
    "duration": 36,
    "start_time": "2022-11-04T20:19:02.435Z"
   },
   {
    "duration": 10,
    "start_time": "2022-11-04T20:19:02.528Z"
   },
   {
    "duration": 1450,
    "start_time": "2022-11-04T20:19:03.930Z"
   },
   {
    "duration": 86,
    "start_time": "2022-11-04T20:19:06.132Z"
   },
   {
    "duration": 29,
    "start_time": "2022-11-04T20:19:06.231Z"
   },
   {
    "duration": 3539,
    "start_time": "2022-11-04T20:19:09.979Z"
   },
   {
    "duration": 17,
    "start_time": "2022-11-04T20:19:13.521Z"
   },
   {
    "duration": 8,
    "start_time": "2022-11-04T20:19:13.541Z"
   },
   {
    "duration": 5,
    "start_time": "2022-11-04T20:19:18.533Z"
   },
   {
    "duration": 330,
    "start_time": "2022-11-04T20:19:19.997Z"
   },
   {
    "duration": 18,
    "start_time": "2022-11-04T20:19:20.329Z"
   },
   {
    "duration": 0,
    "start_time": "2022-11-04T20:19:20.348Z"
   },
   {
    "duration": 6,
    "start_time": "2022-11-04T20:19:29.153Z"
   },
   {
    "duration": 213,
    "start_time": "2022-11-04T20:19:30.231Z"
   },
   {
    "duration": 5,
    "start_time": "2022-11-04T20:19:46.688Z"
   },
   {
    "duration": 2608,
    "start_time": "2022-11-04T20:19:47.741Z"
   },
   {
    "duration": 14,
    "start_time": "2022-11-04T20:19:50.352Z"
   },
   {
    "duration": 71,
    "start_time": "2022-11-04T20:19:50.367Z"
   },
   {
    "duration": 9,
    "start_time": "2022-11-04T20:19:59.395Z"
   },
   {
    "duration": 6,
    "start_time": "2022-11-04T20:19:59.786Z"
   },
   {
    "duration": 5,
    "start_time": "2022-11-04T20:20:06.231Z"
   },
   {
    "duration": 60,
    "start_time": "2022-11-04T20:20:06.844Z"
   },
   {
    "duration": 7,
    "start_time": "2022-11-04T20:20:06.978Z"
   },
   {
    "duration": 9,
    "start_time": "2022-11-04T20:20:07.061Z"
   },
   {
    "duration": 273,
    "start_time": "2022-11-04T20:20:07.248Z"
   },
   {
    "duration": 11,
    "start_time": "2022-11-04T20:20:07.523Z"
   },
   {
    "duration": 391,
    "start_time": "2022-11-04T20:20:07.536Z"
   },
   {
    "duration": 296,
    "start_time": "2022-11-04T20:20:07.929Z"
   },
   {
    "duration": 182,
    "start_time": "2022-11-04T20:20:08.544Z"
   },
   {
    "duration": 267,
    "start_time": "2022-11-04T20:20:09.726Z"
   },
   {
    "duration": 5,
    "start_time": "2022-11-04T20:20:13.285Z"
   },
   {
    "duration": 12,
    "start_time": "2022-11-04T20:20:16.752Z"
   },
   {
    "duration": 16,
    "start_time": "2022-11-04T20:20:16.951Z"
   },
   {
    "duration": 9,
    "start_time": "2022-11-04T20:20:17.804Z"
   },
   {
    "duration": 4,
    "start_time": "2022-11-04T20:20:18.134Z"
   },
   {
    "duration": 10,
    "start_time": "2022-11-04T20:20:18.951Z"
   },
   {
    "duration": 7,
    "start_time": "2022-11-04T20:20:19.454Z"
   },
   {
    "duration": 1448,
    "start_time": "2022-11-04T20:20:19.787Z"
   },
   {
    "duration": 82,
    "start_time": "2022-11-04T20:20:21.236Z"
   },
   {
    "duration": 44,
    "start_time": "2022-11-04T20:20:21.320Z"
   },
   {
    "duration": 3667,
    "start_time": "2022-11-04T20:20:21.366Z"
   },
   {
    "duration": 12,
    "start_time": "2022-11-04T20:20:25.035Z"
   },
   {
    "duration": 7,
    "start_time": "2022-11-04T20:20:25.049Z"
   },
   {
    "duration": 5,
    "start_time": "2022-11-04T20:20:27.191Z"
   },
   {
    "duration": 2591,
    "start_time": "2022-11-04T20:20:27.861Z"
   },
   {
    "duration": 76,
    "start_time": "2022-11-04T20:20:30.455Z"
   },
   {
    "duration": 96,
    "start_time": "2022-11-04T20:20:30.537Z"
   },
   {
    "duration": 8,
    "start_time": "2022-11-04T20:20:38.023Z"
   },
   {
    "duration": 5,
    "start_time": "2022-11-04T20:20:38.265Z"
   },
   {
    "duration": 1800,
    "start_time": "2022-11-04T20:24:36.383Z"
   },
   {
    "duration": 40293,
    "start_time": "2022-11-04T20:28:39.640Z"
   },
   {
    "duration": 35091,
    "start_time": "2022-11-04T20:29:23.605Z"
   },
   {
    "duration": 5,
    "start_time": "2022-11-04T20:30:13.486Z"
   },
   {
    "duration": 4,
    "start_time": "2022-11-04T20:30:30.798Z"
   },
   {
    "duration": 9,
    "start_time": "2022-11-04T20:30:32.026Z"
   },
   {
    "duration": 6,
    "start_time": "2022-11-04T20:30:32.822Z"
   },
   {
    "duration": 71,
    "start_time": "2022-11-04T20:31:39.200Z"
   }
  ],
  "kernelspec": {
   "display_name": "Python 3 (ipykernel)",
   "language": "python",
   "name": "python3"
  },
  "language_info": {
   "codemirror_mode": {
    "name": "ipython",
    "version": 3
   },
   "file_extension": ".py",
   "mimetype": "text/x-python",
   "name": "python",
   "nbconvert_exporter": "python",
   "pygments_lexer": "ipython3",
   "version": "3.9.12"
  },
  "toc": {
   "base_numbering": 1,
   "nav_menu": {},
   "number_sections": true,
   "sideBar": true,
   "skip_h1_title": true,
   "title_cell": "Содержание",
   "title_sidebar": "Contents",
   "toc_cell": true,
   "toc_position": {},
   "toc_section_display": true,
   "toc_window_display": true
  }
 },
 "nbformat": 4,
 "nbformat_minor": 2
}
