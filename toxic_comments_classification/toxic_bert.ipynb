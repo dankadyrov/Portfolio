{
 "cells": [
  {
   "cell_type": "markdown",
   "metadata": {},
   "source": [
    "# Проект для «Викишоп» BERT"
   ]
  },
  {
   "cell_type": "markdown",
   "metadata": {},
   "source": [
    "В данном проекте необходимо классифицировать комментарии на токсичные и нет. В распоряжении размеченный датасет, содержащий комментарий (необработанный текст) и таргет, говорящий о его токсичности."
   ]
  },
  {
   "cell_type": "markdown",
   "metadata": {},
   "source": [
    "## Импорт и установка библиотек"
   ]
  },
  {
   "cell_type": "code",
   "execution_count": 1,
   "metadata": {
    "execution": {
     "iopub.execute_input": "2022-11-19T18:58:53.234595Z",
     "iopub.status.busy": "2022-11-19T18:58:53.234155Z",
     "iopub.status.idle": "2022-11-19T18:59:07.559488Z",
     "shell.execute_reply": "2022-11-19T18:59:07.558170Z",
     "shell.execute_reply.started": "2022-11-19T18:58:53.234506Z"
    },
    "scrolled": true
   },
   "outputs": [
    {
     "name": "stdout",
     "output_type": "stream",
     "text": [
      "Requirement already satisfied: transformers in /opt/conda/lib/python3.7/site-packages (4.20.1)\n",
      "Requirement already satisfied: pyyaml>=5.1 in /opt/conda/lib/python3.7/site-packages (from transformers) (6.0)\n",
      "Requirement already satisfied: tokenizers!=0.11.3,<0.13,>=0.11.1 in /opt/conda/lib/python3.7/site-packages (from transformers) (0.12.1)\n",
      "Requirement already satisfied: huggingface-hub<1.0,>=0.1.0 in /opt/conda/lib/python3.7/site-packages (from transformers) (0.10.1)\n",
      "Requirement already satisfied: packaging>=20.0 in /opt/conda/lib/python3.7/site-packages (from transformers) (21.3)\n",
      "Requirement already satisfied: numpy>=1.17 in /opt/conda/lib/python3.7/site-packages (from transformers) (1.21.6)\n",
      "Requirement already satisfied: regex!=2019.12.17 in /opt/conda/lib/python3.7/site-packages (from transformers) (2021.11.10)\n",
      "Requirement already satisfied: requests in /opt/conda/lib/python3.7/site-packages (from transformers) (2.28.1)\n",
      "Requirement already satisfied: importlib-metadata in /opt/conda/lib/python3.7/site-packages (from transformers) (4.13.0)\n",
      "Requirement already satisfied: filelock in /opt/conda/lib/python3.7/site-packages (from transformers) (3.7.1)\n",
      "Requirement already satisfied: tqdm>=4.27 in /opt/conda/lib/python3.7/site-packages (from transformers) (4.64.0)\n",
      "Requirement already satisfied: typing-extensions>=3.7.4.3 in /opt/conda/lib/python3.7/site-packages (from huggingface-hub<1.0,>=0.1.0->transformers) (4.1.1)\n",
      "Requirement already satisfied: pyparsing!=3.0.5,>=2.0.2 in /opt/conda/lib/python3.7/site-packages (from packaging>=20.0->transformers) (3.0.9)\n",
      "Requirement already satisfied: zipp>=0.5 in /opt/conda/lib/python3.7/site-packages (from importlib-metadata->transformers) (3.8.0)\n",
      "Requirement already satisfied: certifi>=2017.4.17 in /opt/conda/lib/python3.7/site-packages (from requests->transformers) (2022.9.24)\n",
      "Requirement already satisfied: idna<4,>=2.5 in /opt/conda/lib/python3.7/site-packages (from requests->transformers) (3.3)\n",
      "Requirement already satisfied: charset-normalizer<3,>=2 in /opt/conda/lib/python3.7/site-packages (from requests->transformers) (2.1.0)\n",
      "Requirement already satisfied: urllib3<1.27,>=1.21.1 in /opt/conda/lib/python3.7/site-packages (from requests->transformers) (1.26.12)\n",
      "\u001b[33mWARNING: Running pip as the 'root' user can result in broken permissions and conflicting behaviour with the system package manager. It is recommended to use a virtual environment instead: https://pip.pypa.io/warnings/venv\u001b[0m\u001b[33m\n",
      "\u001b[0m"
     ]
    }
   ],
   "source": [
    "!pip install transformers"
   ]
  },
  {
   "cell_type": "code",
   "execution_count": 2,
   "metadata": {
    "execution": {
     "iopub.execute_input": "2022-11-19T18:59:07.564396Z",
     "iopub.status.busy": "2022-11-19T18:59:07.562320Z",
     "iopub.status.idle": "2022-11-19T18:59:17.848201Z",
     "shell.execute_reply": "2022-11-19T18:59:17.846956Z",
     "shell.execute_reply.started": "2022-11-19T18:59:07.564343Z"
    }
   },
   "outputs": [
    {
     "name": "stdout",
     "output_type": "stream",
     "text": [
      "\u001b[33mWARNING: Running pip as the 'root' user can result in broken permissions and conflicting behaviour with the system package manager. It is recommended to use a virtual environment instead: https://pip.pypa.io/warnings/venv\u001b[0m\u001b[33m\n",
      "\u001b[0m"
     ]
    }
   ],
   "source": [
    "!pip install -q pandarallel catboost nltk spacy"
   ]
  },
  {
   "cell_type": "code",
   "execution_count": 3,
   "metadata": {
    "execution": {
     "iopub.execute_input": "2022-11-19T18:59:17.850754Z",
     "iopub.status.busy": "2022-11-19T18:59:17.850361Z",
     "iopub.status.idle": "2022-11-19T18:59:21.862413Z",
     "shell.execute_reply": "2022-11-19T18:59:21.861321Z",
     "shell.execute_reply.started": "2022-11-19T18:59:17.850714Z"
    }
   },
   "outputs": [],
   "source": [
    "import re\n",
    "from tqdm import notebook\n",
    "\n",
    "import numpy as np\n",
    "import pandas as pd\n",
    "from pandarallel import pandarallel\n",
    "\n",
    "import nltk\n",
    "from nltk.corpus import stopwords\n",
    "from nltk.stem import WordNetLemmatizer\n",
    "import torch\n",
    "import transformers\n",
    "from sklearn.feature_extraction.text import TfidfVectorizer\n",
    "from sklearn.linear_model import LogisticRegression\n",
    "from sklearn.ensemble import RandomForestClassifier\n",
    "from catboost import CatBoostClassifier\n",
    "from sklearn.model_selection import cross_val_score\n",
    "from sklearn.model_selection import train_test_split\n",
    "from sklearn.metrics import accuracy_score, f1_score"
   ]
  },
  {
   "cell_type": "code",
   "execution_count": 4,
   "metadata": {
    "execution": {
     "iopub.execute_input": "2022-11-19T18:59:21.865895Z",
     "iopub.status.busy": "2022-11-19T18:59:21.865287Z",
     "iopub.status.idle": "2022-11-19T18:59:22.215795Z",
     "shell.execute_reply": "2022-11-19T18:59:22.213926Z",
     "shell.execute_reply.started": "2022-11-19T18:59:21.865857Z"
    }
   },
   "outputs": [
    {
     "name": "stderr",
     "output_type": "stream",
     "text": [
      "[nltk_data] Downloading package stopwords to /usr/share/nltk_data...\n",
      "[nltk_data]   Package stopwords is already up-to-date!\n",
      "[nltk_data] Downloading package omw-1.4 to /usr/share/nltk_data...\n"
     ]
    },
    {
     "name": "stdout",
     "output_type": "stream",
     "text": [
      "INFO: Pandarallel will run on 1 workers.\n",
      "INFO: Pandarallel will use Memory file system to transfer data between the main process and workers.\n"
     ]
    },
    {
     "data": {
      "text/plain": [
       "True"
      ]
     },
     "execution_count": 4,
     "metadata": {},
     "output_type": "execute_result"
    }
   ],
   "source": [
    "nltk.download('stopwords')\n",
    "pandarallel.initialize(progress_bar=True)\n",
    "device = torch.device(\"cuda\")\n",
    "nltk.download('omw-1.4')"
   ]
  },
  {
   "cell_type": "markdown",
   "metadata": {},
   "source": [
    "## Предобработка данных"
   ]
  },
  {
   "cell_type": "code",
   "execution_count": 5,
   "metadata": {
    "execution": {
     "iopub.execute_input": "2022-11-19T18:59:22.218833Z",
     "iopub.status.busy": "2022-11-19T18:59:22.218174Z",
     "iopub.status.idle": "2022-11-19T18:59:28.295311Z",
     "shell.execute_reply": "2022-11-19T18:59:28.293716Z",
     "shell.execute_reply.started": "2022-11-19T18:59:22.218792Z"
    }
   },
   "outputs": [],
   "source": [
    "df = pd.read_csv('https://code.s3.yandex.net/datasets/toxic_comments.csv')\n",
    "df = df[:(len(df) // 100) * 100]"
   ]
  },
  {
   "cell_type": "code",
   "execution_count": 6,
   "metadata": {
    "execution": {
     "iopub.execute_input": "2022-11-19T18:59:28.297494Z",
     "iopub.status.busy": "2022-11-19T18:59:28.296977Z",
     "iopub.status.idle": "2022-11-19T18:59:28.317823Z",
     "shell.execute_reply": "2022-11-19T18:59:28.316498Z",
     "shell.execute_reply.started": "2022-11-19T18:59:28.297450Z"
    }
   },
   "outputs": [
    {
     "data": {
      "text/plain": [
       "0    143020\n",
       "1     16180\n",
       "Name: toxic, dtype: int64"
      ]
     },
     "execution_count": 6,
     "metadata": {},
     "output_type": "execute_result"
    }
   ],
   "source": [
    "df['toxic'].value_counts()"
   ]
  },
  {
   "cell_type": "markdown",
   "metadata": {},
   "source": [
    "Чтобы все батчи эмбеддингов были целыми и не было лишних таргетов, сразу обрежу данные"
   ]
  },
  {
   "cell_type": "code",
   "execution_count": 7,
   "metadata": {
    "execution": {
     "iopub.execute_input": "2022-11-19T18:59:28.320853Z",
     "iopub.status.busy": "2022-11-19T18:59:28.319950Z",
     "iopub.status.idle": "2022-11-19T19:00:46.083714Z",
     "shell.execute_reply": "2022-11-19T19:00:46.082479Z",
     "shell.execute_reply.started": "2022-11-19T18:59:28.320813Z"
    }
   },
   "outputs": [
    {
     "data": {
      "application/vnd.jupyter.widget-view+json": {
       "model_id": "430a08391a7a4503ae42893013404554",
       "version_major": 2,
       "version_minor": 0
      },
      "text/plain": [
       "VBox(children=(HBox(children=(IntProgress(value=0, description='0.00%', max=159200), Label(value='0 / 159200')…"
      ]
     },
     "metadata": {},
     "output_type": "display_data"
    },
    {
     "data": {
      "application/vnd.jupyter.widget-view+json": {
       "model_id": "0af9fad97c2144eda37554c9e4ce4df1",
       "version_major": 2,
       "version_minor": 0
      },
      "text/plain": [
       "VBox(children=(HBox(children=(IntProgress(value=0, description='0.00%', max=159200), Label(value='0 / 159200')…"
      ]
     },
     "metadata": {},
     "output_type": "display_data"
    },
    {
     "data": {
      "application/vnd.jupyter.widget-view+json": {
       "model_id": "181716a73c9b403787eba4c5cc795140",
       "version_major": 2,
       "version_minor": 0
      },
      "text/plain": [
       "VBox(children=(HBox(children=(IntProgress(value=0, description='0.00%', max=159200), Label(value='0 / 159200')…"
      ]
     },
     "metadata": {},
     "output_type": "display_data"
    }
   ],
   "source": [
    "a = re.compile(r'[\\w]+')\n",
    "df['preprocessed_text'] = df['text'].parallel_apply(lambda x: re.findall(a, x.lower()))\n",
    "df['text'] = df['text'].parallel_apply(lambda x: ' '.join(re.findall(a, x))) # для bert\n",
    "lemmatizer = WordNetLemmatizer()\n",
    "df['preprocessed_text'] = df['preprocessed_text'].parallel_apply\\\n",
    "(lambda x: ' '.join([lemmatizer.lemmatize(s) for s in x]))"
   ]
  },
  {
   "cell_type": "code",
   "execution_count": 8,
   "metadata": {
    "execution": {
     "iopub.execute_input": "2022-11-19T19:00:46.086551Z",
     "iopub.status.busy": "2022-11-19T19:00:46.085839Z",
     "iopub.status.idle": "2022-11-19T19:00:46.902803Z",
     "shell.execute_reply": "2022-11-19T19:00:46.901413Z",
     "shell.execute_reply.started": "2022-11-19T19:00:46.086504Z"
    }
   },
   "outputs": [
    {
     "data": {
      "application/vnd.jupyter.widget-view+json": {
       "model_id": "af74ab54dd2848269b3fbfdde978bbe9",
       "version_major": 2,
       "version_minor": 0
      },
      "text/plain": [
       "VBox(children=(HBox(children=(IntProgress(value=0, description='0.00%', max=159200), Label(value='0 / 159200')…"
      ]
     },
     "metadata": {},
     "output_type": "display_data"
    },
    {
     "data": {
      "text/plain": [
       "count    159200.000000\n",
       "mean        371.725515\n",
       "std         558.875260\n",
       "min           0.000000\n",
       "25%          89.000000\n",
       "50%         193.000000\n",
       "75%         412.000000\n",
       "max        5000.000000\n",
       "Name: len, dtype: float64"
      ]
     },
     "execution_count": 8,
     "metadata": {},
     "output_type": "execute_result"
    }
   ],
   "source": [
    "df['len'] = df['preprocessed_text'].parallel_apply(lambda x: len(x))\n",
    "df['len'].describe()"
   ]
  },
  {
   "cell_type": "code",
   "execution_count": 9,
   "metadata": {
    "execution": {
     "iopub.execute_input": "2022-11-19T19:00:46.912201Z",
     "iopub.status.busy": "2022-11-19T19:00:46.909003Z",
     "iopub.status.idle": "2022-11-19T19:00:46.936142Z",
     "shell.execute_reply": "2022-11-19T19:00:46.935033Z",
     "shell.execute_reply.started": "2022-11-19T19:00:46.912146Z"
    }
   },
   "outputs": [
    {
     "data": {
      "text/html": [
       "<div>\n",
       "<style scoped>\n",
       "    .dataframe tbody tr th:only-of-type {\n",
       "        vertical-align: middle;\n",
       "    }\n",
       "\n",
       "    .dataframe tbody tr th {\n",
       "        vertical-align: top;\n",
       "    }\n",
       "\n",
       "    .dataframe thead th {\n",
       "        text-align: right;\n",
       "    }\n",
       "</style>\n",
       "<table border=\"1\" class=\"dataframe\">\n",
       "  <thead>\n",
       "    <tr style=\"text-align: right;\">\n",
       "      <th></th>\n",
       "      <th>Unnamed: 0</th>\n",
       "      <th>text</th>\n",
       "      <th>toxic</th>\n",
       "      <th>preprocessed_text</th>\n",
       "      <th>len</th>\n",
       "    </tr>\n",
       "  </thead>\n",
       "  <tbody>\n",
       "    <tr>\n",
       "      <th>0</th>\n",
       "      <td>0</td>\n",
       "      <td>Explanation Why the edits made under my userna...</td>\n",
       "      <td>0</td>\n",
       "      <td>explanation why the edits made under my userna...</td>\n",
       "      <td>259</td>\n",
       "    </tr>\n",
       "    <tr>\n",
       "      <th>1</th>\n",
       "      <td>1</td>\n",
       "      <td>D aww He matches this background colour I m se...</td>\n",
       "      <td>0</td>\n",
       "      <td>d aww he match this background colour i m seem...</td>\n",
       "      <td>100</td>\n",
       "    </tr>\n",
       "    <tr>\n",
       "      <th>2</th>\n",
       "      <td>2</td>\n",
       "      <td>Hey man I m really not trying to edit war It s...</td>\n",
       "      <td>0</td>\n",
       "      <td>hey man i m really not trying to edit war it s...</td>\n",
       "      <td>229</td>\n",
       "    </tr>\n",
       "    <tr>\n",
       "      <th>3</th>\n",
       "      <td>3</td>\n",
       "      <td>More I can t make any real suggestions on impr...</td>\n",
       "      <td>0</td>\n",
       "      <td>more i can t make any real suggestion on impro...</td>\n",
       "      <td>591</td>\n",
       "    </tr>\n",
       "    <tr>\n",
       "      <th>4</th>\n",
       "      <td>4</td>\n",
       "      <td>You sir are my hero Any chance you remember wh...</td>\n",
       "      <td>0</td>\n",
       "      <td>you sir are my hero any chance you remember wh...</td>\n",
       "      <td>63</td>\n",
       "    </tr>\n",
       "    <tr>\n",
       "      <th>...</th>\n",
       "      <td>...</td>\n",
       "      <td>...</td>\n",
       "      <td>...</td>\n",
       "      <td>...</td>\n",
       "      <td>...</td>\n",
       "    </tr>\n",
       "    <tr>\n",
       "      <th>159195</th>\n",
       "      <td>159354</td>\n",
       "      <td>LaserActive Hi SchuminWeb I am confused by you...</td>\n",
       "      <td>0</td>\n",
       "      <td>laseractive hi schuminweb i am confused by you...</td>\n",
       "      <td>210</td>\n",
       "    </tr>\n",
       "    <tr>\n",
       "      <th>159196</th>\n",
       "      <td>159355</td>\n",
       "      <td>Lists of Islamic Jihads</td>\n",
       "      <td>0</td>\n",
       "      <td>list of islamic jihad</td>\n",
       "      <td>21</td>\n",
       "    </tr>\n",
       "    <tr>\n",
       "      <th>159197</th>\n",
       "      <td>159356</td>\n",
       "      <td>URL Update update to my previous and only post...</td>\n",
       "      <td>0</td>\n",
       "      <td>url update update to my previous and only post...</td>\n",
       "      <td>197</td>\n",
       "    </tr>\n",
       "    <tr>\n",
       "      <th>159198</th>\n",
       "      <td>159357</td>\n",
       "      <td>A person living in Canada has just as much rig...</td>\n",
       "      <td>0</td>\n",
       "      <td>a person living in canada ha just a much right...</td>\n",
       "      <td>437</td>\n",
       "    </tr>\n",
       "    <tr>\n",
       "      <th>159199</th>\n",
       "      <td>159358</td>\n",
       "      <td>Thank you Given the misuse of tools here and t...</td>\n",
       "      <td>1</td>\n",
       "      <td>thank you given the misuse of tool here and th...</td>\n",
       "      <td>570</td>\n",
       "    </tr>\n",
       "  </tbody>\n",
       "</table>\n",
       "<p>159200 rows × 5 columns</p>\n",
       "</div>"
      ],
      "text/plain": [
       "        Unnamed: 0                                               text  toxic  \\\n",
       "0                0  Explanation Why the edits made under my userna...      0   \n",
       "1                1  D aww He matches this background colour I m se...      0   \n",
       "2                2  Hey man I m really not trying to edit war It s...      0   \n",
       "3                3  More I can t make any real suggestions on impr...      0   \n",
       "4                4  You sir are my hero Any chance you remember wh...      0   \n",
       "...            ...                                                ...    ...   \n",
       "159195      159354  LaserActive Hi SchuminWeb I am confused by you...      0   \n",
       "159196      159355                            Lists of Islamic Jihads      0   \n",
       "159197      159356  URL Update update to my previous and only post...      0   \n",
       "159198      159357  A person living in Canada has just as much rig...      0   \n",
       "159199      159358  Thank you Given the misuse of tools here and t...      1   \n",
       "\n",
       "                                        preprocessed_text  len  \n",
       "0       explanation why the edits made under my userna...  259  \n",
       "1       d aww he match this background colour i m seem...  100  \n",
       "2       hey man i m really not trying to edit war it s...  229  \n",
       "3       more i can t make any real suggestion on impro...  591  \n",
       "4       you sir are my hero any chance you remember wh...   63  \n",
       "...                                                   ...  ...  \n",
       "159195  laseractive hi schuminweb i am confused by you...  210  \n",
       "159196                              list of islamic jihad   21  \n",
       "159197  url update update to my previous and only post...  197  \n",
       "159198  a person living in canada ha just a much right...  437  \n",
       "159199  thank you given the misuse of tool here and th...  570  \n",
       "\n",
       "[159200 rows x 5 columns]"
      ]
     },
     "execution_count": 9,
     "metadata": {},
     "output_type": "execute_result"
    }
   ],
   "source": [
    "df"
   ]
  },
  {
   "cell_type": "markdown",
   "metadata": {},
   "source": [
    "## BERT и эмбеддинги"
   ]
  },
  {
   "cell_type": "code",
   "execution_count": 10,
   "metadata": {
    "execution": {
     "iopub.execute_input": "2022-11-19T19:00:46.938198Z",
     "iopub.status.busy": "2022-11-19T19:00:46.937806Z",
     "iopub.status.idle": "2022-11-19T19:06:39.391364Z",
     "shell.execute_reply": "2022-11-19T19:06:39.390184Z",
     "shell.execute_reply.started": "2022-11-19T19:00:46.938161Z"
    }
   },
   "outputs": [
    {
     "data": {
      "application/vnd.jupyter.widget-view+json": {
       "model_id": "7a6eb080d2d34b9a81ee93bc8854c675",
       "version_major": 2,
       "version_minor": 0
      },
      "text/plain": [
       "VBox(children=(HBox(children=(IntProgress(value=0, description='0.00%', max=159200), Label(value='0 / 159200')…"
      ]
     },
     "metadata": {},
     "output_type": "display_data"
    }
   ],
   "source": [
    "tokenizer = transformers.BertTokenizer(\n",
    "    vocab_file='../input/bertmodels/bert-base-uncased-vocab.txt')\n",
    "\n",
    "tokenized = df['preprocessed_text'].parallel_apply(\n",
    "    lambda x: tokenizer.encode(x, add_special_tokens=True, max_length=512, truncation=True))\n",
    "\n",
    "max_len = 0\n",
    "for i in tokenized.values:\n",
    "    if len(i) > max_len:\n",
    "        max_len = len(i)\n",
    "\n",
    "padded = np.array([i + [0]*(max_len - len(i)) for i in tokenized.values])\n",
    "\n",
    "attention_mask = np.where(padded != 0, 1, 0)"
   ]
  },
  {
   "cell_type": "code",
   "execution_count": 11,
   "metadata": {
    "execution": {
     "iopub.execute_input": "2022-11-19T19:06:39.396865Z",
     "iopub.status.busy": "2022-11-19T19:06:39.396512Z",
     "iopub.status.idle": "2022-11-19T19:07:01.415362Z",
     "shell.execute_reply": "2022-11-19T19:07:01.414272Z",
     "shell.execute_reply.started": "2022-11-19T19:06:39.396834Z"
    },
    "scrolled": true
   },
   "outputs": [
    {
     "data": {
      "application/vnd.jupyter.widget-view+json": {
       "model_id": "acff7c311f90471cbf881b2b075da2d1",
       "version_major": 2,
       "version_minor": 0
      },
      "text/plain": [
       "Downloading:   0%|          | 0.00/418M [00:00<?, ?B/s]"
      ]
     },
     "metadata": {},
     "output_type": "display_data"
    },
    {
     "name": "stderr",
     "output_type": "stream",
     "text": [
      "Some weights of the model checkpoint at unitary/toxic-bert were not used when initializing BertModel: ['classifier.bias', 'classifier.weight']\n",
      "- This IS expected if you are initializing BertModel from the checkpoint of a model trained on another task or with another architecture (e.g. initializing a BertForSequenceClassification model from a BertForPreTraining model).\n",
      "- This IS NOT expected if you are initializing BertModel from the checkpoint of a model that you expect to be exactly identical (initializing a BertForSequenceClassification model from a BertForSequenceClassification model).\n"
     ]
    }
   ],
   "source": [
    "config = transformers.BertConfig.from_json_file(\n",
    "    '../input/bertmodels/bert-base-uncased-config.json')\n",
    "model = transformers.BertModel.from_pretrained(\n",
    "    'unitary/toxic-bert', config=config, ignore_mismatched_sizes=True).to(\"cuda\")"
   ]
  },
  {
   "cell_type": "code",
   "execution_count": 12,
   "metadata": {
    "execution": {
     "iopub.execute_input": "2022-11-19T19:07:01.417801Z",
     "iopub.status.busy": "2022-11-19T19:07:01.417062Z",
     "iopub.status.idle": "2022-11-19T20:41:21.147796Z",
     "shell.execute_reply": "2022-11-19T20:41:21.146817Z",
     "shell.execute_reply.started": "2022-11-19T19:07:01.417757Z"
    }
   },
   "outputs": [
    {
     "data": {
      "application/vnd.jupyter.widget-view+json": {
       "model_id": "4a731880613b4149b6adf8fbfaa87331",
       "version_major": 2,
       "version_minor": 0
      },
      "text/plain": [
       "  0%|          | 0/1592 [00:00<?, ?it/s]"
      ]
     },
     "metadata": {},
     "output_type": "display_data"
    }
   ],
   "source": [
    "batch_size = 100\n",
    "embeddings = []\n",
    "for i in notebook.tqdm(range(padded.shape[0] // batch_size)):\n",
    "        batch = torch.LongTensor(padded[batch_size*i:batch_size*(i+1)]).to(device)\n",
    "        attention_mask_batch = torch.LongTensor(attention_mask[batch_size*i:batch_size*(i+1)]).to(device)\n",
    "        \n",
    "        with torch.no_grad():\n",
    "            batch_embeddings = model(batch, attention_mask=attention_mask_batch)\n",
    "        \n",
    "        embeddings.append(batch_embeddings[0][:,0,:].cpu().numpy())"
   ]
  },
  {
   "cell_type": "code",
   "execution_count": 13,
   "metadata": {
    "execution": {
     "iopub.execute_input": "2022-11-19T20:41:21.150102Z",
     "iopub.status.busy": "2022-11-19T20:41:21.149445Z",
     "iopub.status.idle": "2022-11-19T20:41:21.686230Z",
     "shell.execute_reply": "2022-11-19T20:41:21.685048Z",
     "shell.execute_reply.started": "2022-11-19T20:41:21.150062Z"
    }
   },
   "outputs": [],
   "source": [
    "features_train, features_valid, y_train, y_valid = train_test_split(np.concatenate(embeddings), \\\n",
    "                                                                    df['toxic'][:len(np.concatenate(embeddings))], \\\n",
    "                                                                    test_size=0.4)\n",
    "features_valid, features_test, y_valid, y_test = train_test_split(features_valid, y_valid, test_size=0.5)"
   ]
  },
  {
   "cell_type": "code",
   "execution_count": 14,
   "metadata": {
    "execution": {
     "iopub.execute_input": "2022-11-19T20:41:21.689301Z",
     "iopub.status.busy": "2022-11-19T20:41:21.687776Z",
     "iopub.status.idle": "2022-11-19T21:06:10.036267Z",
     "shell.execute_reply": "2022-11-19T21:06:10.035287Z",
     "shell.execute_reply.started": "2022-11-19T20:41:21.689256Z"
    }
   },
   "outputs": [
    {
     "name": "stdout",
     "output_type": "stream",
     "text": [
      "CPU times: user 833 ms, sys: 1.09 s, total: 1.93 s\n",
      "Wall time: 24min 48s\n"
     ]
    },
    {
     "data": {
      "text/plain": [
       "LogisticRegression(class_weight='balanced', max_iter=1000, n_jobs=-1,\n",
       "                   random_state=42)"
      ]
     },
     "execution_count": 14,
     "metadata": {},
     "output_type": "execute_result"
    }
   ],
   "source": [
    "%%time\n",
    "log_reg = LogisticRegression(random_state=42, max_iter=1000, class_weight='balanced',n_jobs=-1)\n",
    "log_reg.fit(features_train, y_train)"
   ]
  },
  {
   "cell_type": "code",
   "execution_count": 15,
   "metadata": {
    "execution": {
     "iopub.execute_input": "2022-11-19T21:06:10.039063Z",
     "iopub.status.busy": "2022-11-19T21:06:10.038649Z",
     "iopub.status.idle": "2022-11-19T21:06:10.158527Z",
     "shell.execute_reply": "2022-11-19T21:06:10.157273Z",
     "shell.execute_reply.started": "2022-11-19T21:06:10.039005Z"
    }
   },
   "outputs": [
    {
     "data": {
      "text/plain": [
       "0.8789685290447803"
      ]
     },
     "execution_count": 15,
     "metadata": {},
     "output_type": "execute_result"
    }
   ],
   "source": [
    "f1_score(y_valid, log_reg.predict(features_valid))"
   ]
  },
  {
   "cell_type": "code",
   "execution_count": 16,
   "metadata": {
    "execution": {
     "iopub.execute_input": "2022-11-19T21:06:10.165597Z",
     "iopub.status.busy": "2022-11-19T21:06:10.165117Z",
     "iopub.status.idle": "2022-11-19T21:07:05.700261Z",
     "shell.execute_reply": "2022-11-19T21:07:05.699160Z",
     "shell.execute_reply.started": "2022-11-19T21:06:10.165550Z"
    }
   },
   "outputs": [
    {
     "name": "stdout",
     "output_type": "stream",
     "text": [
      "CPU times: user 1min 41s, sys: 796 ms, total: 1min 42s\n",
      "Wall time: 55.5 s\n"
     ]
    },
    {
     "data": {
      "text/plain": [
       "<catboost.core.CatBoostClassifier at 0x7f0a6eb43950>"
      ]
     },
     "execution_count": 16,
     "metadata": {},
     "output_type": "execute_result"
    }
   ],
   "source": [
    "%%time\n",
    "cat = CatBoostClassifier(verbose=False, iterations=100)\n",
    "cat.fit(features_train, y_train)"
   ]
  },
  {
   "cell_type": "code",
   "execution_count": 17,
   "metadata": {
    "execution": {
     "iopub.execute_input": "2022-11-19T21:07:05.702502Z",
     "iopub.status.busy": "2022-11-19T21:07:05.701730Z",
     "iopub.status.idle": "2022-11-19T21:07:06.528998Z",
     "shell.execute_reply": "2022-11-19T21:07:06.528042Z",
     "shell.execute_reply.started": "2022-11-19T21:07:05.702464Z"
    }
   },
   "outputs": [
    {
     "data": {
      "text/plain": [
       "0.9047324466439839"
      ]
     },
     "execution_count": 17,
     "metadata": {},
     "output_type": "execute_result"
    }
   ],
   "source": [
    "f1_score(y_valid, cat.predict(features_valid))"
   ]
  },
  {
   "cell_type": "markdown",
   "metadata": {},
   "source": [
    "## TF-IDF"
   ]
  },
  {
   "cell_type": "code",
   "execution_count": 18,
   "metadata": {
    "execution": {
     "iopub.execute_input": "2022-11-19T21:07:06.531911Z",
     "iopub.status.busy": "2022-11-19T21:07:06.530887Z",
     "iopub.status.idle": "2022-11-19T21:07:06.625718Z",
     "shell.execute_reply": "2022-11-19T21:07:06.624797Z",
     "shell.execute_reply.started": "2022-11-19T21:07:06.531874Z"
    }
   },
   "outputs": [],
   "source": [
    "data_train, data_valid, target_train, target_valid = train_test_split(df['preprocessed_text'], \\\n",
    "                                                                      df['toxic'],  \\\n",
    "                                                                      test_size=0.2, stratify= df['toxic'], \\\n",
    "                                                                     random_state=42)\n",
    "data_valid, data_test, target_valid, target_test = train_test_split(data_valid, target_valid, \\\n",
    "                                                                    test_size=0.5, \\\n",
    "                                                                   random_state=42)"
   ]
  },
  {
   "cell_type": "markdown",
   "metadata": {},
   "source": [
    "Сначала разобьем данные, а потом уже векторизуем с помощью TfidfVectorizer, обученного на тренировочных данных"
   ]
  },
  {
   "cell_type": "code",
   "execution_count": 19,
   "metadata": {
    "execution": {
     "iopub.execute_input": "2022-11-19T21:07:06.627577Z",
     "iopub.status.busy": "2022-11-19T21:07:06.627109Z",
     "iopub.status.idle": "2022-11-19T21:07:14.066480Z",
     "shell.execute_reply": "2022-11-19T21:07:14.065327Z",
     "shell.execute_reply.started": "2022-11-19T21:07:06.627540Z"
    }
   },
   "outputs": [
    {
     "name": "stdout",
     "output_type": "stream",
     "text": [
      "CPU times: user 7.34 s, sys: 60 ms, total: 7.4 s\n",
      "Wall time: 7.43 s\n"
     ]
    }
   ],
   "source": [
    "%%time\n",
    "stop_words = stopwords.words('english')\n",
    "vectorizer = TfidfVectorizer(stop_words=stop_words)\n",
    "data_train = vectorizer.fit_transform(data_train)\n",
    "data_valid = vectorizer.transform(data_valid)\n",
    "data_test = vectorizer.transform(data_test)"
   ]
  },
  {
   "cell_type": "markdown",
   "metadata": {},
   "source": [
    "Чтобы модель не засорять популярными и бессмысленными словами, передадим стоп-слова из корпуса nltk"
   ]
  },
  {
   "cell_type": "code",
   "execution_count": 20,
   "metadata": {
    "execution": {
     "iopub.execute_input": "2022-11-19T21:07:14.068530Z",
     "iopub.status.busy": "2022-11-19T21:07:14.067994Z",
     "iopub.status.idle": "2022-11-19T21:07:22.381455Z",
     "shell.execute_reply": "2022-11-19T21:07:22.380280Z",
     "shell.execute_reply.started": "2022-11-19T21:07:14.068491Z"
    }
   },
   "outputs": [
    {
     "name": "stdout",
     "output_type": "stream",
     "text": [
      "CPU times: user 37.5 ms, sys: 101 ms, total: 138 ms\n",
      "Wall time: 8.3 s\n"
     ]
    },
    {
     "data": {
      "text/plain": [
       "LogisticRegression(class_weight='balanced', max_iter=1000, n_jobs=-1,\n",
       "                   random_state=42)"
      ]
     },
     "execution_count": 20,
     "metadata": {},
     "output_type": "execute_result"
    }
   ],
   "source": [
    "%%time\n",
    "tf_idf_log_reg = LogisticRegression(random_state=42, max_iter=1000, \\\n",
    "                                    class_weight = 'balanced',n_jobs=-1)\n",
    "tf_idf_log_reg.fit(data_train, target_train)"
   ]
  },
  {
   "cell_type": "code",
   "execution_count": 21,
   "metadata": {
    "execution": {
     "iopub.execute_input": "2022-11-19T21:07:22.384190Z",
     "iopub.status.busy": "2022-11-19T21:07:22.383140Z",
     "iopub.status.idle": "2022-11-19T21:07:22.401156Z",
     "shell.execute_reply": "2022-11-19T21:07:22.399835Z",
     "shell.execute_reply.started": "2022-11-19T21:07:22.384148Z"
    }
   },
   "outputs": [
    {
     "data": {
      "text/plain": [
       "0.7565824825362707"
      ]
     },
     "execution_count": 21,
     "metadata": {},
     "output_type": "execute_result"
    }
   ],
   "source": [
    "f1_score(target_valid, tf_idf_log_reg.predict(data_valid))"
   ]
  },
  {
   "cell_type": "code",
   "execution_count": 22,
   "metadata": {
    "execution": {
     "iopub.execute_input": "2022-11-19T21:07:22.403671Z",
     "iopub.status.busy": "2022-11-19T21:07:22.402925Z",
     "iopub.status.idle": "2022-11-19T21:08:48.428158Z",
     "shell.execute_reply": "2022-11-19T21:08:48.427102Z",
     "shell.execute_reply.started": "2022-11-19T21:07:22.403635Z"
    }
   },
   "outputs": [
    {
     "name": "stdout",
     "output_type": "stream",
     "text": [
      "CPU times: user 2min 35s, sys: 1.91 s, total: 2min 37s\n",
      "Wall time: 1min 26s\n"
     ]
    },
    {
     "data": {
      "text/plain": [
       "<catboost.core.CatBoostClassifier at 0x7f0a618563d0>"
      ]
     },
     "execution_count": 22,
     "metadata": {},
     "output_type": "execute_result"
    }
   ],
   "source": [
    "%%time\n",
    "cat = CatBoostClassifier(verbose=False, iterations=20)\n",
    "cat.fit(data_train, target_train)"
   ]
  },
  {
   "cell_type": "code",
   "execution_count": 23,
   "metadata": {
    "execution": {
     "iopub.execute_input": "2022-11-19T21:08:48.430795Z",
     "iopub.status.busy": "2022-11-19T21:08:48.430061Z",
     "iopub.status.idle": "2022-11-19T21:08:48.660329Z",
     "shell.execute_reply": "2022-11-19T21:08:48.659008Z",
     "shell.execute_reply.started": "2022-11-19T21:08:48.430754Z"
    }
   },
   "outputs": [
    {
     "data": {
      "text/plain": [
       "0.6742683390345876"
      ]
     },
     "execution_count": 23,
     "metadata": {},
     "output_type": "execute_result"
    }
   ],
   "source": [
    "f1_score(target_valid, cat.predict(data_valid))"
   ]
  },
  {
   "cell_type": "markdown",
   "metadata": {},
   "source": [
    "## Тестирование"
   ]
  },
  {
   "cell_type": "markdown",
   "metadata": {},
   "source": [
    "Catboost с признаками, созданными моделью BERT получил наибольшую метрику F1 на валидационной выборке, поэтому оставлю его для предсказания на тестовой выборке"
   ]
  },
  {
   "cell_type": "code",
   "execution_count": 25,
   "metadata": {
    "execution": {
     "iopub.execute_input": "2022-11-19T21:09:07.132118Z",
     "iopub.status.busy": "2022-11-19T21:09:07.131727Z",
     "iopub.status.idle": "2022-11-19T21:10:03.971935Z",
     "shell.execute_reply": "2022-11-19T21:10:03.970932Z",
     "shell.execute_reply.started": "2022-11-19T21:09:07.132083Z"
    }
   },
   "outputs": [
    {
     "name": "stdout",
     "output_type": "stream",
     "text": [
      "CPU times: user 1min 42s, sys: 521 ms, total: 1min 42s\n",
      "Wall time: 56.8 s\n"
     ]
    },
    {
     "data": {
      "text/plain": [
       "<catboost.core.CatBoostClassifier at 0x7f0a9a384590>"
      ]
     },
     "execution_count": 25,
     "metadata": {},
     "output_type": "execute_result"
    }
   ],
   "source": [
    "%%time\n",
    "cat = CatBoostClassifier(verbose=False, iterations=100)\n",
    "cat.fit(features_train, y_train)"
   ]
  },
  {
   "cell_type": "code",
   "execution_count": 26,
   "metadata": {
    "execution": {
     "iopub.execute_input": "2022-11-19T21:10:08.657416Z",
     "iopub.status.busy": "2022-11-19T21:10:08.657066Z",
     "iopub.status.idle": "2022-11-19T21:10:09.529814Z",
     "shell.execute_reply": "2022-11-19T21:10:09.528743Z",
     "shell.execute_reply.started": "2022-11-19T21:10:08.657387Z"
    }
   },
   "outputs": [
    {
     "data": {
      "text/plain": [
       "0.897133220910624"
      ]
     },
     "execution_count": 26,
     "metadata": {},
     "output_type": "execute_result"
    }
   ],
   "source": [
    "f1_score(y_test, cat.predict(features_test))"
   ]
  },
  {
   "cell_type": "markdown",
   "metadata": {},
   "source": [
    "## Вывод"
   ]
  },
  {
   "cell_type": "markdown",
   "metadata": {},
   "source": [
    "В данной раюоте были использованы TF-IDF и BERT, предобученный на классификации токсичности текста, с градиентым бустингом и логистической регрессией.\n",
    "Наилучший результат дала модель, использующая признаки от BERT и catboost. Значение метрики F1 на тестовой выборке 0.897."
   ]
  },
  {
   "cell_type": "code",
   "execution_count": null,
   "metadata": {},
   "outputs": [],
   "source": []
  },
  {
   "cell_type": "code",
   "execution_count": null,
   "metadata": {},
   "outputs": [],
   "source": []
  }
 ],
 "metadata": {
  "kernelspec": {
   "display_name": "Python 3 (ipykernel)",
   "language": "python",
   "name": "python3"
  },
  "language_info": {
   "codemirror_mode": {
    "name": "ipython",
    "version": 3
   },
   "file_extension": ".py",
   "mimetype": "text/x-python",
   "name": "python",
   "nbconvert_exporter": "python",
   "pygments_lexer": "ipython3",
   "version": "3.9.12"
  },
  "toc": {
   "base_numbering": 1,
   "nav_menu": {},
   "number_sections": true,
   "sideBar": true,
   "skip_h1_title": true,
   "title_cell": "Table of Contents",
   "title_sidebar": "Contents",
   "toc_cell": false,
   "toc_position": {},
   "toc_section_display": true,
   "toc_window_display": false
  }
 },
 "nbformat": 4,
 "nbformat_minor": 4
}
