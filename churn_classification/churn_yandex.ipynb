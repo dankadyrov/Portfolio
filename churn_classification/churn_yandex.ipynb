{
 "cells": [
  {
   "cell_type": "markdown",
   "id": "8810afb4",
   "metadata": {},
   "source": [
    "# Телеком 📞"
   ]
  },
  {
   "cell_type": "markdown",
   "id": "57438137",
   "metadata": {},
   "source": [
    "## Описание проекта\n",
    "\n",
    "Компания предоставляет разные телефонные услуги. В нашем распоряжении данные телеком компании: personal.csv - о клиентах, contact.csv - о договорах с клиентами, internet.csv - об интернет услугах, phone.csv - об услугах телефонии. Необходимо построоить модель, которая будет предсказывать, уйдет ли клиент от компании или нет.\n",
    "\n",
    "## План работы\n",
    "\n",
    "#### Предобработка данных\n",
    "Нужно объединить все таблицы вместе, избавиться от выбросов\n",
    "#### Исследоваиельский анализ данных\n",
    "Посмотреть на распредления признаков.\n",
    "#### Построение модели\n",
    "Посмотреть разные модеои с разными гиперпараметрами\n",
    "#### Построить метрики\n",
    "Посмотреть на метрики лучшей модели на тестовых данных, чтобы показать ее эффективность\n",
    "#### Вывод\n",
    "Написать краткий вывод, чтобы можно было понять, какие модели были использованы, и какая была использована на тестовых данных"
   ]
  },
  {
   "cell_type": "markdown",
   "id": "9ac16a72",
   "metadata": {},
   "source": [
    "## Предобработка данных"
   ]
  },
  {
   "cell_type": "code",
   "execution_count": 1,
   "id": "96bfc111",
   "metadata": {},
   "outputs": [],
   "source": [
    "from tqdm import notebook\n",
    "import matplotlib.pyplot as plt\n",
    "import seaborn as sns\n",
    "\n",
    "import pandas as pd\n",
    "import numpy as np\n",
    "from scipy.stats import boxcox\n",
    "\n",
    "from sklearn.utils.class_weight import compute_class_weight\n",
    "from sklearn.utils import class_weight\n",
    "from sklearn.model_selection import train_test_split, GridSearchCV, cross_val_score\n",
    "from sklearn.linear_model import LogisticRegression\n",
    "from sklearn.ensemble import RandomForestClassifier\n",
    "from catboost import CatBoostClassifier\n",
    "from xgboost import XGBClassifier\n",
    "\n",
    "from sklearn.metrics import roc_curve, roc_auc_score\n",
    "\n",
    "import warnings\n",
    "warnings.filterwarnings('ignore')"
   ]
  },
  {
   "cell_type": "code",
   "execution_count": 2,
   "id": "b9f18209",
   "metadata": {},
   "outputs": [],
   "source": [
    "contact_df = pd.read_csv('/datasets/final_provider/contract.csv')\n",
    "internet_df = pd.read_csv('/datasets/final_provider/internet.csv')\n",
    "personal_df = pd.read_csv('/datasets/final_provider/personal.csv')\n",
    "phone_df = pd.read_csv('/datasets/final_provider/phone.csv')"
   ]
  },
  {
   "cell_type": "code",
   "execution_count": 3,
   "id": "bc1ad7e2",
   "metadata": {},
   "outputs": [
    {
     "data": {
      "text/html": [
       "<div>\n",
       "<style scoped>\n",
       "    .dataframe tbody tr th:only-of-type {\n",
       "        vertical-align: middle;\n",
       "    }\n",
       "\n",
       "    .dataframe tbody tr th {\n",
       "        vertical-align: top;\n",
       "    }\n",
       "\n",
       "    .dataframe thead th {\n",
       "        text-align: right;\n",
       "    }\n",
       "</style>\n",
       "<table border=\"1\" class=\"dataframe\">\n",
       "  <thead>\n",
       "    <tr style=\"text-align: right;\">\n",
       "      <th></th>\n",
       "      <th>customerID</th>\n",
       "      <th>BeginDate</th>\n",
       "      <th>EndDate</th>\n",
       "      <th>Type</th>\n",
       "      <th>PaperlessBilling</th>\n",
       "      <th>PaymentMethod</th>\n",
       "      <th>MonthlyCharges</th>\n",
       "      <th>TotalCharges</th>\n",
       "    </tr>\n",
       "  </thead>\n",
       "  <tbody>\n",
       "    <tr>\n",
       "      <th>0</th>\n",
       "      <td>7590-VHVEG</td>\n",
       "      <td>2020-01-01</td>\n",
       "      <td>No</td>\n",
       "      <td>Month-to-month</td>\n",
       "      <td>Yes</td>\n",
       "      <td>Electronic check</td>\n",
       "      <td>29.85</td>\n",
       "      <td>29.85</td>\n",
       "    </tr>\n",
       "    <tr>\n",
       "      <th>1</th>\n",
       "      <td>5575-GNVDE</td>\n",
       "      <td>2017-04-01</td>\n",
       "      <td>No</td>\n",
       "      <td>One year</td>\n",
       "      <td>No</td>\n",
       "      <td>Mailed check</td>\n",
       "      <td>56.95</td>\n",
       "      <td>1889.5</td>\n",
       "    </tr>\n",
       "    <tr>\n",
       "      <th>2</th>\n",
       "      <td>3668-QPYBK</td>\n",
       "      <td>2019-10-01</td>\n",
       "      <td>2019-12-01 00:00:00</td>\n",
       "      <td>Month-to-month</td>\n",
       "      <td>Yes</td>\n",
       "      <td>Mailed check</td>\n",
       "      <td>53.85</td>\n",
       "      <td>108.15</td>\n",
       "    </tr>\n",
       "    <tr>\n",
       "      <th>3</th>\n",
       "      <td>7795-CFOCW</td>\n",
       "      <td>2016-05-01</td>\n",
       "      <td>No</td>\n",
       "      <td>One year</td>\n",
       "      <td>No</td>\n",
       "      <td>Bank transfer (automatic)</td>\n",
       "      <td>42.30</td>\n",
       "      <td>1840.75</td>\n",
       "    </tr>\n",
       "    <tr>\n",
       "      <th>4</th>\n",
       "      <td>9237-HQITU</td>\n",
       "      <td>2019-09-01</td>\n",
       "      <td>2019-11-01 00:00:00</td>\n",
       "      <td>Month-to-month</td>\n",
       "      <td>Yes</td>\n",
       "      <td>Electronic check</td>\n",
       "      <td>70.70</td>\n",
       "      <td>151.65</td>\n",
       "    </tr>\n",
       "    <tr>\n",
       "      <th>...</th>\n",
       "      <td>...</td>\n",
       "      <td>...</td>\n",
       "      <td>...</td>\n",
       "      <td>...</td>\n",
       "      <td>...</td>\n",
       "      <td>...</td>\n",
       "      <td>...</td>\n",
       "      <td>...</td>\n",
       "    </tr>\n",
       "    <tr>\n",
       "      <th>7038</th>\n",
       "      <td>6840-RESVB</td>\n",
       "      <td>2018-02-01</td>\n",
       "      <td>No</td>\n",
       "      <td>One year</td>\n",
       "      <td>Yes</td>\n",
       "      <td>Mailed check</td>\n",
       "      <td>84.80</td>\n",
       "      <td>1990.5</td>\n",
       "    </tr>\n",
       "    <tr>\n",
       "      <th>7039</th>\n",
       "      <td>2234-XADUH</td>\n",
       "      <td>2014-02-01</td>\n",
       "      <td>No</td>\n",
       "      <td>One year</td>\n",
       "      <td>Yes</td>\n",
       "      <td>Credit card (automatic)</td>\n",
       "      <td>103.20</td>\n",
       "      <td>7362.9</td>\n",
       "    </tr>\n",
       "    <tr>\n",
       "      <th>7040</th>\n",
       "      <td>4801-JZAZL</td>\n",
       "      <td>2019-03-01</td>\n",
       "      <td>No</td>\n",
       "      <td>Month-to-month</td>\n",
       "      <td>Yes</td>\n",
       "      <td>Electronic check</td>\n",
       "      <td>29.60</td>\n",
       "      <td>346.45</td>\n",
       "    </tr>\n",
       "    <tr>\n",
       "      <th>7041</th>\n",
       "      <td>8361-LTMKD</td>\n",
       "      <td>2019-07-01</td>\n",
       "      <td>2019-11-01 00:00:00</td>\n",
       "      <td>Month-to-month</td>\n",
       "      <td>Yes</td>\n",
       "      <td>Mailed check</td>\n",
       "      <td>74.40</td>\n",
       "      <td>306.6</td>\n",
       "    </tr>\n",
       "    <tr>\n",
       "      <th>7042</th>\n",
       "      <td>3186-AJIEK</td>\n",
       "      <td>2014-08-01</td>\n",
       "      <td>No</td>\n",
       "      <td>Two year</td>\n",
       "      <td>Yes</td>\n",
       "      <td>Bank transfer (automatic)</td>\n",
       "      <td>105.65</td>\n",
       "      <td>6844.5</td>\n",
       "    </tr>\n",
       "  </tbody>\n",
       "</table>\n",
       "<p>7043 rows × 8 columns</p>\n",
       "</div>"
      ],
      "text/plain": [
       "      customerID   BeginDate              EndDate            Type  \\\n",
       "0     7590-VHVEG  2020-01-01                   No  Month-to-month   \n",
       "1     5575-GNVDE  2017-04-01                   No        One year   \n",
       "2     3668-QPYBK  2019-10-01  2019-12-01 00:00:00  Month-to-month   \n",
       "3     7795-CFOCW  2016-05-01                   No        One year   \n",
       "4     9237-HQITU  2019-09-01  2019-11-01 00:00:00  Month-to-month   \n",
       "...          ...         ...                  ...             ...   \n",
       "7038  6840-RESVB  2018-02-01                   No        One year   \n",
       "7039  2234-XADUH  2014-02-01                   No        One year   \n",
       "7040  4801-JZAZL  2019-03-01                   No  Month-to-month   \n",
       "7041  8361-LTMKD  2019-07-01  2019-11-01 00:00:00  Month-to-month   \n",
       "7042  3186-AJIEK  2014-08-01                   No        Two year   \n",
       "\n",
       "     PaperlessBilling              PaymentMethod  MonthlyCharges TotalCharges  \n",
       "0                 Yes           Electronic check           29.85        29.85  \n",
       "1                  No               Mailed check           56.95       1889.5  \n",
       "2                 Yes               Mailed check           53.85       108.15  \n",
       "3                  No  Bank transfer (automatic)           42.30      1840.75  \n",
       "4                 Yes           Electronic check           70.70       151.65  \n",
       "...               ...                        ...             ...          ...  \n",
       "7038              Yes               Mailed check           84.80       1990.5  \n",
       "7039              Yes    Credit card (automatic)          103.20       7362.9  \n",
       "7040              Yes           Electronic check           29.60       346.45  \n",
       "7041              Yes               Mailed check           74.40        306.6  \n",
       "7042              Yes  Bank transfer (automatic)          105.65       6844.5  \n",
       "\n",
       "[7043 rows x 8 columns]"
      ]
     },
     "execution_count": 3,
     "metadata": {},
     "output_type": "execute_result"
    }
   ],
   "source": [
    "contact_df"
   ]
  },
  {
   "cell_type": "code",
   "execution_count": 4,
   "id": "d42da76e",
   "metadata": {},
   "outputs": [
    {
     "data": {
      "text/html": [
       "<div>\n",
       "<style scoped>\n",
       "    .dataframe tbody tr th:only-of-type {\n",
       "        vertical-align: middle;\n",
       "    }\n",
       "\n",
       "    .dataframe tbody tr th {\n",
       "        vertical-align: top;\n",
       "    }\n",
       "\n",
       "    .dataframe thead th {\n",
       "        text-align: right;\n",
       "    }\n",
       "</style>\n",
       "<table border=\"1\" class=\"dataframe\">\n",
       "  <thead>\n",
       "    <tr style=\"text-align: right;\">\n",
       "      <th></th>\n",
       "      <th>customerID</th>\n",
       "      <th>InternetService</th>\n",
       "      <th>OnlineSecurity</th>\n",
       "      <th>OnlineBackup</th>\n",
       "      <th>DeviceProtection</th>\n",
       "      <th>TechSupport</th>\n",
       "      <th>StreamingTV</th>\n",
       "      <th>StreamingMovies</th>\n",
       "    </tr>\n",
       "  </thead>\n",
       "  <tbody>\n",
       "    <tr>\n",
       "      <th>0</th>\n",
       "      <td>7590-VHVEG</td>\n",
       "      <td>DSL</td>\n",
       "      <td>No</td>\n",
       "      <td>Yes</td>\n",
       "      <td>No</td>\n",
       "      <td>No</td>\n",
       "      <td>No</td>\n",
       "      <td>No</td>\n",
       "    </tr>\n",
       "    <tr>\n",
       "      <th>1</th>\n",
       "      <td>5575-GNVDE</td>\n",
       "      <td>DSL</td>\n",
       "      <td>Yes</td>\n",
       "      <td>No</td>\n",
       "      <td>Yes</td>\n",
       "      <td>No</td>\n",
       "      <td>No</td>\n",
       "      <td>No</td>\n",
       "    </tr>\n",
       "    <tr>\n",
       "      <th>2</th>\n",
       "      <td>3668-QPYBK</td>\n",
       "      <td>DSL</td>\n",
       "      <td>Yes</td>\n",
       "      <td>Yes</td>\n",
       "      <td>No</td>\n",
       "      <td>No</td>\n",
       "      <td>No</td>\n",
       "      <td>No</td>\n",
       "    </tr>\n",
       "    <tr>\n",
       "      <th>3</th>\n",
       "      <td>7795-CFOCW</td>\n",
       "      <td>DSL</td>\n",
       "      <td>Yes</td>\n",
       "      <td>No</td>\n",
       "      <td>Yes</td>\n",
       "      <td>Yes</td>\n",
       "      <td>No</td>\n",
       "      <td>No</td>\n",
       "    </tr>\n",
       "    <tr>\n",
       "      <th>4</th>\n",
       "      <td>9237-HQITU</td>\n",
       "      <td>Fiber optic</td>\n",
       "      <td>No</td>\n",
       "      <td>No</td>\n",
       "      <td>No</td>\n",
       "      <td>No</td>\n",
       "      <td>No</td>\n",
       "      <td>No</td>\n",
       "    </tr>\n",
       "    <tr>\n",
       "      <th>...</th>\n",
       "      <td>...</td>\n",
       "      <td>...</td>\n",
       "      <td>...</td>\n",
       "      <td>...</td>\n",
       "      <td>...</td>\n",
       "      <td>...</td>\n",
       "      <td>...</td>\n",
       "      <td>...</td>\n",
       "    </tr>\n",
       "    <tr>\n",
       "      <th>5512</th>\n",
       "      <td>6840-RESVB</td>\n",
       "      <td>DSL</td>\n",
       "      <td>Yes</td>\n",
       "      <td>No</td>\n",
       "      <td>Yes</td>\n",
       "      <td>Yes</td>\n",
       "      <td>Yes</td>\n",
       "      <td>Yes</td>\n",
       "    </tr>\n",
       "    <tr>\n",
       "      <th>5513</th>\n",
       "      <td>2234-XADUH</td>\n",
       "      <td>Fiber optic</td>\n",
       "      <td>No</td>\n",
       "      <td>Yes</td>\n",
       "      <td>Yes</td>\n",
       "      <td>No</td>\n",
       "      <td>Yes</td>\n",
       "      <td>Yes</td>\n",
       "    </tr>\n",
       "    <tr>\n",
       "      <th>5514</th>\n",
       "      <td>4801-JZAZL</td>\n",
       "      <td>DSL</td>\n",
       "      <td>Yes</td>\n",
       "      <td>No</td>\n",
       "      <td>No</td>\n",
       "      <td>No</td>\n",
       "      <td>No</td>\n",
       "      <td>No</td>\n",
       "    </tr>\n",
       "    <tr>\n",
       "      <th>5515</th>\n",
       "      <td>8361-LTMKD</td>\n",
       "      <td>Fiber optic</td>\n",
       "      <td>No</td>\n",
       "      <td>No</td>\n",
       "      <td>No</td>\n",
       "      <td>No</td>\n",
       "      <td>No</td>\n",
       "      <td>No</td>\n",
       "    </tr>\n",
       "    <tr>\n",
       "      <th>5516</th>\n",
       "      <td>3186-AJIEK</td>\n",
       "      <td>Fiber optic</td>\n",
       "      <td>Yes</td>\n",
       "      <td>No</td>\n",
       "      <td>Yes</td>\n",
       "      <td>Yes</td>\n",
       "      <td>Yes</td>\n",
       "      <td>Yes</td>\n",
       "    </tr>\n",
       "  </tbody>\n",
       "</table>\n",
       "<p>5517 rows × 8 columns</p>\n",
       "</div>"
      ],
      "text/plain": [
       "      customerID InternetService OnlineSecurity OnlineBackup DeviceProtection  \\\n",
       "0     7590-VHVEG             DSL             No          Yes               No   \n",
       "1     5575-GNVDE             DSL            Yes           No              Yes   \n",
       "2     3668-QPYBK             DSL            Yes          Yes               No   \n",
       "3     7795-CFOCW             DSL            Yes           No              Yes   \n",
       "4     9237-HQITU     Fiber optic             No           No               No   \n",
       "...          ...             ...            ...          ...              ...   \n",
       "5512  6840-RESVB             DSL            Yes           No              Yes   \n",
       "5513  2234-XADUH     Fiber optic             No          Yes              Yes   \n",
       "5514  4801-JZAZL             DSL            Yes           No               No   \n",
       "5515  8361-LTMKD     Fiber optic             No           No               No   \n",
       "5516  3186-AJIEK     Fiber optic            Yes           No              Yes   \n",
       "\n",
       "     TechSupport StreamingTV StreamingMovies  \n",
       "0             No          No              No  \n",
       "1             No          No              No  \n",
       "2             No          No              No  \n",
       "3            Yes          No              No  \n",
       "4             No          No              No  \n",
       "...          ...         ...             ...  \n",
       "5512         Yes         Yes             Yes  \n",
       "5513          No         Yes             Yes  \n",
       "5514          No          No              No  \n",
       "5515          No          No              No  \n",
       "5516         Yes         Yes             Yes  \n",
       "\n",
       "[5517 rows x 8 columns]"
      ]
     },
     "execution_count": 4,
     "metadata": {},
     "output_type": "execute_result"
    }
   ],
   "source": [
    "internet_df"
   ]
  },
  {
   "cell_type": "code",
   "execution_count": 5,
   "id": "af6ca034",
   "metadata": {},
   "outputs": [
    {
     "data": {
      "text/html": [
       "<div>\n",
       "<style scoped>\n",
       "    .dataframe tbody tr th:only-of-type {\n",
       "        vertical-align: middle;\n",
       "    }\n",
       "\n",
       "    .dataframe tbody tr th {\n",
       "        vertical-align: top;\n",
       "    }\n",
       "\n",
       "    .dataframe thead th {\n",
       "        text-align: right;\n",
       "    }\n",
       "</style>\n",
       "<table border=\"1\" class=\"dataframe\">\n",
       "  <thead>\n",
       "    <tr style=\"text-align: right;\">\n",
       "      <th></th>\n",
       "      <th>customerID</th>\n",
       "      <th>gender</th>\n",
       "      <th>SeniorCitizen</th>\n",
       "      <th>Partner</th>\n",
       "      <th>Dependents</th>\n",
       "    </tr>\n",
       "  </thead>\n",
       "  <tbody>\n",
       "    <tr>\n",
       "      <th>0</th>\n",
       "      <td>7590-VHVEG</td>\n",
       "      <td>Female</td>\n",
       "      <td>0</td>\n",
       "      <td>Yes</td>\n",
       "      <td>No</td>\n",
       "    </tr>\n",
       "    <tr>\n",
       "      <th>1</th>\n",
       "      <td>5575-GNVDE</td>\n",
       "      <td>Male</td>\n",
       "      <td>0</td>\n",
       "      <td>No</td>\n",
       "      <td>No</td>\n",
       "    </tr>\n",
       "    <tr>\n",
       "      <th>2</th>\n",
       "      <td>3668-QPYBK</td>\n",
       "      <td>Male</td>\n",
       "      <td>0</td>\n",
       "      <td>No</td>\n",
       "      <td>No</td>\n",
       "    </tr>\n",
       "    <tr>\n",
       "      <th>3</th>\n",
       "      <td>7795-CFOCW</td>\n",
       "      <td>Male</td>\n",
       "      <td>0</td>\n",
       "      <td>No</td>\n",
       "      <td>No</td>\n",
       "    </tr>\n",
       "    <tr>\n",
       "      <th>4</th>\n",
       "      <td>9237-HQITU</td>\n",
       "      <td>Female</td>\n",
       "      <td>0</td>\n",
       "      <td>No</td>\n",
       "      <td>No</td>\n",
       "    </tr>\n",
       "    <tr>\n",
       "      <th>...</th>\n",
       "      <td>...</td>\n",
       "      <td>...</td>\n",
       "      <td>...</td>\n",
       "      <td>...</td>\n",
       "      <td>...</td>\n",
       "    </tr>\n",
       "    <tr>\n",
       "      <th>7038</th>\n",
       "      <td>6840-RESVB</td>\n",
       "      <td>Male</td>\n",
       "      <td>0</td>\n",
       "      <td>Yes</td>\n",
       "      <td>Yes</td>\n",
       "    </tr>\n",
       "    <tr>\n",
       "      <th>7039</th>\n",
       "      <td>2234-XADUH</td>\n",
       "      <td>Female</td>\n",
       "      <td>0</td>\n",
       "      <td>Yes</td>\n",
       "      <td>Yes</td>\n",
       "    </tr>\n",
       "    <tr>\n",
       "      <th>7040</th>\n",
       "      <td>4801-JZAZL</td>\n",
       "      <td>Female</td>\n",
       "      <td>0</td>\n",
       "      <td>Yes</td>\n",
       "      <td>Yes</td>\n",
       "    </tr>\n",
       "    <tr>\n",
       "      <th>7041</th>\n",
       "      <td>8361-LTMKD</td>\n",
       "      <td>Male</td>\n",
       "      <td>1</td>\n",
       "      <td>Yes</td>\n",
       "      <td>No</td>\n",
       "    </tr>\n",
       "    <tr>\n",
       "      <th>7042</th>\n",
       "      <td>3186-AJIEK</td>\n",
       "      <td>Male</td>\n",
       "      <td>0</td>\n",
       "      <td>No</td>\n",
       "      <td>No</td>\n",
       "    </tr>\n",
       "  </tbody>\n",
       "</table>\n",
       "<p>7043 rows × 5 columns</p>\n",
       "</div>"
      ],
      "text/plain": [
       "      customerID  gender  SeniorCitizen Partner Dependents\n",
       "0     7590-VHVEG  Female              0     Yes         No\n",
       "1     5575-GNVDE    Male              0      No         No\n",
       "2     3668-QPYBK    Male              0      No         No\n",
       "3     7795-CFOCW    Male              0      No         No\n",
       "4     9237-HQITU  Female              0      No         No\n",
       "...          ...     ...            ...     ...        ...\n",
       "7038  6840-RESVB    Male              0     Yes        Yes\n",
       "7039  2234-XADUH  Female              0     Yes        Yes\n",
       "7040  4801-JZAZL  Female              0     Yes        Yes\n",
       "7041  8361-LTMKD    Male              1     Yes         No\n",
       "7042  3186-AJIEK    Male              0      No         No\n",
       "\n",
       "[7043 rows x 5 columns]"
      ]
     },
     "execution_count": 5,
     "metadata": {},
     "output_type": "execute_result"
    }
   ],
   "source": [
    "personal_df"
   ]
  },
  {
   "cell_type": "code",
   "execution_count": 6,
   "id": "e8a2e9e4",
   "metadata": {},
   "outputs": [
    {
     "data": {
      "text/html": [
       "<div>\n",
       "<style scoped>\n",
       "    .dataframe tbody tr th:only-of-type {\n",
       "        vertical-align: middle;\n",
       "    }\n",
       "\n",
       "    .dataframe tbody tr th {\n",
       "        vertical-align: top;\n",
       "    }\n",
       "\n",
       "    .dataframe thead th {\n",
       "        text-align: right;\n",
       "    }\n",
       "</style>\n",
       "<table border=\"1\" class=\"dataframe\">\n",
       "  <thead>\n",
       "    <tr style=\"text-align: right;\">\n",
       "      <th></th>\n",
       "      <th>customerID</th>\n",
       "      <th>MultipleLines</th>\n",
       "    </tr>\n",
       "  </thead>\n",
       "  <tbody>\n",
       "    <tr>\n",
       "      <th>0</th>\n",
       "      <td>5575-GNVDE</td>\n",
       "      <td>No</td>\n",
       "    </tr>\n",
       "    <tr>\n",
       "      <th>1</th>\n",
       "      <td>3668-QPYBK</td>\n",
       "      <td>No</td>\n",
       "    </tr>\n",
       "    <tr>\n",
       "      <th>2</th>\n",
       "      <td>9237-HQITU</td>\n",
       "      <td>No</td>\n",
       "    </tr>\n",
       "    <tr>\n",
       "      <th>3</th>\n",
       "      <td>9305-CDSKC</td>\n",
       "      <td>Yes</td>\n",
       "    </tr>\n",
       "    <tr>\n",
       "      <th>4</th>\n",
       "      <td>1452-KIOVK</td>\n",
       "      <td>Yes</td>\n",
       "    </tr>\n",
       "    <tr>\n",
       "      <th>...</th>\n",
       "      <td>...</td>\n",
       "      <td>...</td>\n",
       "    </tr>\n",
       "    <tr>\n",
       "      <th>6356</th>\n",
       "      <td>2569-WGERO</td>\n",
       "      <td>No</td>\n",
       "    </tr>\n",
       "    <tr>\n",
       "      <th>6357</th>\n",
       "      <td>6840-RESVB</td>\n",
       "      <td>Yes</td>\n",
       "    </tr>\n",
       "    <tr>\n",
       "      <th>6358</th>\n",
       "      <td>2234-XADUH</td>\n",
       "      <td>Yes</td>\n",
       "    </tr>\n",
       "    <tr>\n",
       "      <th>6359</th>\n",
       "      <td>8361-LTMKD</td>\n",
       "      <td>Yes</td>\n",
       "    </tr>\n",
       "    <tr>\n",
       "      <th>6360</th>\n",
       "      <td>3186-AJIEK</td>\n",
       "      <td>No</td>\n",
       "    </tr>\n",
       "  </tbody>\n",
       "</table>\n",
       "<p>6361 rows × 2 columns</p>\n",
       "</div>"
      ],
      "text/plain": [
       "      customerID MultipleLines\n",
       "0     5575-GNVDE            No\n",
       "1     3668-QPYBK            No\n",
       "2     9237-HQITU            No\n",
       "3     9305-CDSKC           Yes\n",
       "4     1452-KIOVK           Yes\n",
       "...          ...           ...\n",
       "6356  2569-WGERO            No\n",
       "6357  6840-RESVB           Yes\n",
       "6358  2234-XADUH           Yes\n",
       "6359  8361-LTMKD           Yes\n",
       "6360  3186-AJIEK            No\n",
       "\n",
       "[6361 rows x 2 columns]"
      ]
     },
     "execution_count": 6,
     "metadata": {},
     "output_type": "execute_result"
    }
   ],
   "source": [
    "phone_df"
   ]
  },
  {
   "cell_type": "code",
   "execution_count": 7,
   "id": "be4ee0ff",
   "metadata": {},
   "outputs": [
    {
     "data": {
      "text/plain": [
       "(7043, 5517, 7043, 6361)"
      ]
     },
     "execution_count": 7,
     "metadata": {},
     "output_type": "execute_result"
    }
   ],
   "source": [
    "contact_df['customerID'].nunique(), internet_df['customerID'].nunique(), \\\n",
    "personal_df['customerID'].nunique(), phone_df['customerID'].nunique()"
   ]
  },
  {
   "cell_type": "code",
   "execution_count": 8,
   "id": "56d83472",
   "metadata": {},
   "outputs": [
    {
     "data": {
      "text/plain": [
       "No                     5174\n",
       "2019-11-01 00:00:00     485\n",
       "2019-12-01 00:00:00     466\n",
       "2020-01-01 00:00:00     460\n",
       "2019-10-01 00:00:00     458\n",
       "Name: EndDate, dtype: int64"
      ]
     },
     "execution_count": 8,
     "metadata": {},
     "output_type": "execute_result"
    }
   ],
   "source": [
    "contact_df['EndDate'].value_counts()"
   ]
  },
  {
   "cell_type": "code",
   "execution_count": 9,
   "id": "579ce8dc",
   "metadata": {},
   "outputs": [],
   "source": [
    "contact_df['churn'] = contact_df['EndDate'].apply(lambda x: 0 if x == 'No' else 1)"
   ]
  },
  {
   "cell_type": "code",
   "execution_count": 10,
   "id": "bfa71e33",
   "metadata": {},
   "outputs": [
    {
     "data": {
      "text/html": [
       "<div>\n",
       "<style scoped>\n",
       "    .dataframe tbody tr th:only-of-type {\n",
       "        vertical-align: middle;\n",
       "    }\n",
       "\n",
       "    .dataframe tbody tr th {\n",
       "        vertical-align: top;\n",
       "    }\n",
       "\n",
       "    .dataframe thead th {\n",
       "        text-align: right;\n",
       "    }\n",
       "</style>\n",
       "<table border=\"1\" class=\"dataframe\">\n",
       "  <thead>\n",
       "    <tr style=\"text-align: right;\">\n",
       "      <th></th>\n",
       "      <th>customerID</th>\n",
       "      <th>BeginDate</th>\n",
       "      <th>EndDate</th>\n",
       "      <th>Type</th>\n",
       "      <th>PaperlessBilling</th>\n",
       "      <th>PaymentMethod</th>\n",
       "      <th>MonthlyCharges</th>\n",
       "      <th>TotalCharges</th>\n",
       "      <th>churn</th>\n",
       "      <th>gender</th>\n",
       "      <th>...</th>\n",
       "      <th>Partner</th>\n",
       "      <th>Dependents</th>\n",
       "      <th>InternetService</th>\n",
       "      <th>OnlineSecurity</th>\n",
       "      <th>OnlineBackup</th>\n",
       "      <th>DeviceProtection</th>\n",
       "      <th>TechSupport</th>\n",
       "      <th>StreamingTV</th>\n",
       "      <th>StreamingMovies</th>\n",
       "      <th>MultipleLines</th>\n",
       "    </tr>\n",
       "  </thead>\n",
       "  <tbody>\n",
       "    <tr>\n",
       "      <th>0</th>\n",
       "      <td>7590-VHVEG</td>\n",
       "      <td>2020-01-01</td>\n",
       "      <td>No</td>\n",
       "      <td>Month-to-month</td>\n",
       "      <td>Yes</td>\n",
       "      <td>Electronic check</td>\n",
       "      <td>29.85</td>\n",
       "      <td>29.85</td>\n",
       "      <td>0</td>\n",
       "      <td>Female</td>\n",
       "      <td>...</td>\n",
       "      <td>Yes</td>\n",
       "      <td>No</td>\n",
       "      <td>DSL</td>\n",
       "      <td>No</td>\n",
       "      <td>Yes</td>\n",
       "      <td>No</td>\n",
       "      <td>No</td>\n",
       "      <td>No</td>\n",
       "      <td>No</td>\n",
       "      <td>NaN</td>\n",
       "    </tr>\n",
       "    <tr>\n",
       "      <th>1</th>\n",
       "      <td>5575-GNVDE</td>\n",
       "      <td>2017-04-01</td>\n",
       "      <td>No</td>\n",
       "      <td>One year</td>\n",
       "      <td>No</td>\n",
       "      <td>Mailed check</td>\n",
       "      <td>56.95</td>\n",
       "      <td>1889.5</td>\n",
       "      <td>0</td>\n",
       "      <td>Male</td>\n",
       "      <td>...</td>\n",
       "      <td>No</td>\n",
       "      <td>No</td>\n",
       "      <td>DSL</td>\n",
       "      <td>Yes</td>\n",
       "      <td>No</td>\n",
       "      <td>Yes</td>\n",
       "      <td>No</td>\n",
       "      <td>No</td>\n",
       "      <td>No</td>\n",
       "      <td>No</td>\n",
       "    </tr>\n",
       "    <tr>\n",
       "      <th>2</th>\n",
       "      <td>3668-QPYBK</td>\n",
       "      <td>2019-10-01</td>\n",
       "      <td>2019-12-01 00:00:00</td>\n",
       "      <td>Month-to-month</td>\n",
       "      <td>Yes</td>\n",
       "      <td>Mailed check</td>\n",
       "      <td>53.85</td>\n",
       "      <td>108.15</td>\n",
       "      <td>1</td>\n",
       "      <td>Male</td>\n",
       "      <td>...</td>\n",
       "      <td>No</td>\n",
       "      <td>No</td>\n",
       "      <td>DSL</td>\n",
       "      <td>Yes</td>\n",
       "      <td>Yes</td>\n",
       "      <td>No</td>\n",
       "      <td>No</td>\n",
       "      <td>No</td>\n",
       "      <td>No</td>\n",
       "      <td>No</td>\n",
       "    </tr>\n",
       "    <tr>\n",
       "      <th>3</th>\n",
       "      <td>7795-CFOCW</td>\n",
       "      <td>2016-05-01</td>\n",
       "      <td>No</td>\n",
       "      <td>One year</td>\n",
       "      <td>No</td>\n",
       "      <td>Bank transfer (automatic)</td>\n",
       "      <td>42.30</td>\n",
       "      <td>1840.75</td>\n",
       "      <td>0</td>\n",
       "      <td>Male</td>\n",
       "      <td>...</td>\n",
       "      <td>No</td>\n",
       "      <td>No</td>\n",
       "      <td>DSL</td>\n",
       "      <td>Yes</td>\n",
       "      <td>No</td>\n",
       "      <td>Yes</td>\n",
       "      <td>Yes</td>\n",
       "      <td>No</td>\n",
       "      <td>No</td>\n",
       "      <td>NaN</td>\n",
       "    </tr>\n",
       "    <tr>\n",
       "      <th>4</th>\n",
       "      <td>9237-HQITU</td>\n",
       "      <td>2019-09-01</td>\n",
       "      <td>2019-11-01 00:00:00</td>\n",
       "      <td>Month-to-month</td>\n",
       "      <td>Yes</td>\n",
       "      <td>Electronic check</td>\n",
       "      <td>70.70</td>\n",
       "      <td>151.65</td>\n",
       "      <td>1</td>\n",
       "      <td>Female</td>\n",
       "      <td>...</td>\n",
       "      <td>No</td>\n",
       "      <td>No</td>\n",
       "      <td>Fiber optic</td>\n",
       "      <td>No</td>\n",
       "      <td>No</td>\n",
       "      <td>No</td>\n",
       "      <td>No</td>\n",
       "      <td>No</td>\n",
       "      <td>No</td>\n",
       "      <td>No</td>\n",
       "    </tr>\n",
       "    <tr>\n",
       "      <th>...</th>\n",
       "      <td>...</td>\n",
       "      <td>...</td>\n",
       "      <td>...</td>\n",
       "      <td>...</td>\n",
       "      <td>...</td>\n",
       "      <td>...</td>\n",
       "      <td>...</td>\n",
       "      <td>...</td>\n",
       "      <td>...</td>\n",
       "      <td>...</td>\n",
       "      <td>...</td>\n",
       "      <td>...</td>\n",
       "      <td>...</td>\n",
       "      <td>...</td>\n",
       "      <td>...</td>\n",
       "      <td>...</td>\n",
       "      <td>...</td>\n",
       "      <td>...</td>\n",
       "      <td>...</td>\n",
       "      <td>...</td>\n",
       "      <td>...</td>\n",
       "    </tr>\n",
       "    <tr>\n",
       "      <th>7038</th>\n",
       "      <td>6840-RESVB</td>\n",
       "      <td>2018-02-01</td>\n",
       "      <td>No</td>\n",
       "      <td>One year</td>\n",
       "      <td>Yes</td>\n",
       "      <td>Mailed check</td>\n",
       "      <td>84.80</td>\n",
       "      <td>1990.5</td>\n",
       "      <td>0</td>\n",
       "      <td>Male</td>\n",
       "      <td>...</td>\n",
       "      <td>Yes</td>\n",
       "      <td>Yes</td>\n",
       "      <td>DSL</td>\n",
       "      <td>Yes</td>\n",
       "      <td>No</td>\n",
       "      <td>Yes</td>\n",
       "      <td>Yes</td>\n",
       "      <td>Yes</td>\n",
       "      <td>Yes</td>\n",
       "      <td>Yes</td>\n",
       "    </tr>\n",
       "    <tr>\n",
       "      <th>7039</th>\n",
       "      <td>2234-XADUH</td>\n",
       "      <td>2014-02-01</td>\n",
       "      <td>No</td>\n",
       "      <td>One year</td>\n",
       "      <td>Yes</td>\n",
       "      <td>Credit card (automatic)</td>\n",
       "      <td>103.20</td>\n",
       "      <td>7362.9</td>\n",
       "      <td>0</td>\n",
       "      <td>Female</td>\n",
       "      <td>...</td>\n",
       "      <td>Yes</td>\n",
       "      <td>Yes</td>\n",
       "      <td>Fiber optic</td>\n",
       "      <td>No</td>\n",
       "      <td>Yes</td>\n",
       "      <td>Yes</td>\n",
       "      <td>No</td>\n",
       "      <td>Yes</td>\n",
       "      <td>Yes</td>\n",
       "      <td>Yes</td>\n",
       "    </tr>\n",
       "    <tr>\n",
       "      <th>7040</th>\n",
       "      <td>4801-JZAZL</td>\n",
       "      <td>2019-03-01</td>\n",
       "      <td>No</td>\n",
       "      <td>Month-to-month</td>\n",
       "      <td>Yes</td>\n",
       "      <td>Electronic check</td>\n",
       "      <td>29.60</td>\n",
       "      <td>346.45</td>\n",
       "      <td>0</td>\n",
       "      <td>Female</td>\n",
       "      <td>...</td>\n",
       "      <td>Yes</td>\n",
       "      <td>Yes</td>\n",
       "      <td>DSL</td>\n",
       "      <td>Yes</td>\n",
       "      <td>No</td>\n",
       "      <td>No</td>\n",
       "      <td>No</td>\n",
       "      <td>No</td>\n",
       "      <td>No</td>\n",
       "      <td>NaN</td>\n",
       "    </tr>\n",
       "    <tr>\n",
       "      <th>7041</th>\n",
       "      <td>8361-LTMKD</td>\n",
       "      <td>2019-07-01</td>\n",
       "      <td>2019-11-01 00:00:00</td>\n",
       "      <td>Month-to-month</td>\n",
       "      <td>Yes</td>\n",
       "      <td>Mailed check</td>\n",
       "      <td>74.40</td>\n",
       "      <td>306.6</td>\n",
       "      <td>1</td>\n",
       "      <td>Male</td>\n",
       "      <td>...</td>\n",
       "      <td>Yes</td>\n",
       "      <td>No</td>\n",
       "      <td>Fiber optic</td>\n",
       "      <td>No</td>\n",
       "      <td>No</td>\n",
       "      <td>No</td>\n",
       "      <td>No</td>\n",
       "      <td>No</td>\n",
       "      <td>No</td>\n",
       "      <td>Yes</td>\n",
       "    </tr>\n",
       "    <tr>\n",
       "      <th>7042</th>\n",
       "      <td>3186-AJIEK</td>\n",
       "      <td>2014-08-01</td>\n",
       "      <td>No</td>\n",
       "      <td>Two year</td>\n",
       "      <td>Yes</td>\n",
       "      <td>Bank transfer (automatic)</td>\n",
       "      <td>105.65</td>\n",
       "      <td>6844.5</td>\n",
       "      <td>0</td>\n",
       "      <td>Male</td>\n",
       "      <td>...</td>\n",
       "      <td>No</td>\n",
       "      <td>No</td>\n",
       "      <td>Fiber optic</td>\n",
       "      <td>Yes</td>\n",
       "      <td>No</td>\n",
       "      <td>Yes</td>\n",
       "      <td>Yes</td>\n",
       "      <td>Yes</td>\n",
       "      <td>Yes</td>\n",
       "      <td>No</td>\n",
       "    </tr>\n",
       "  </tbody>\n",
       "</table>\n",
       "<p>7043 rows × 21 columns</p>\n",
       "</div>"
      ],
      "text/plain": [
       "      customerID   BeginDate              EndDate            Type  \\\n",
       "0     7590-VHVEG  2020-01-01                   No  Month-to-month   \n",
       "1     5575-GNVDE  2017-04-01                   No        One year   \n",
       "2     3668-QPYBK  2019-10-01  2019-12-01 00:00:00  Month-to-month   \n",
       "3     7795-CFOCW  2016-05-01                   No        One year   \n",
       "4     9237-HQITU  2019-09-01  2019-11-01 00:00:00  Month-to-month   \n",
       "...          ...         ...                  ...             ...   \n",
       "7038  6840-RESVB  2018-02-01                   No        One year   \n",
       "7039  2234-XADUH  2014-02-01                   No        One year   \n",
       "7040  4801-JZAZL  2019-03-01                   No  Month-to-month   \n",
       "7041  8361-LTMKD  2019-07-01  2019-11-01 00:00:00  Month-to-month   \n",
       "7042  3186-AJIEK  2014-08-01                   No        Two year   \n",
       "\n",
       "     PaperlessBilling              PaymentMethod  MonthlyCharges TotalCharges  \\\n",
       "0                 Yes           Electronic check           29.85        29.85   \n",
       "1                  No               Mailed check           56.95       1889.5   \n",
       "2                 Yes               Mailed check           53.85       108.15   \n",
       "3                  No  Bank transfer (automatic)           42.30      1840.75   \n",
       "4                 Yes           Electronic check           70.70       151.65   \n",
       "...               ...                        ...             ...          ...   \n",
       "7038              Yes               Mailed check           84.80       1990.5   \n",
       "7039              Yes    Credit card (automatic)          103.20       7362.9   \n",
       "7040              Yes           Electronic check           29.60       346.45   \n",
       "7041              Yes               Mailed check           74.40        306.6   \n",
       "7042              Yes  Bank transfer (automatic)          105.65       6844.5   \n",
       "\n",
       "      churn  gender  ...  Partner Dependents InternetService OnlineSecurity  \\\n",
       "0         0  Female  ...      Yes         No             DSL             No   \n",
       "1         0    Male  ...       No         No             DSL            Yes   \n",
       "2         1    Male  ...       No         No             DSL            Yes   \n",
       "3         0    Male  ...       No         No             DSL            Yes   \n",
       "4         1  Female  ...       No         No     Fiber optic             No   \n",
       "...     ...     ...  ...      ...        ...             ...            ...   \n",
       "7038      0    Male  ...      Yes        Yes             DSL            Yes   \n",
       "7039      0  Female  ...      Yes        Yes     Fiber optic             No   \n",
       "7040      0  Female  ...      Yes        Yes             DSL            Yes   \n",
       "7041      1    Male  ...      Yes         No     Fiber optic             No   \n",
       "7042      0    Male  ...       No         No     Fiber optic            Yes   \n",
       "\n",
       "     OnlineBackup DeviceProtection TechSupport StreamingTV StreamingMovies  \\\n",
       "0             Yes               No          No          No              No   \n",
       "1              No              Yes          No          No              No   \n",
       "2             Yes               No          No          No              No   \n",
       "3              No              Yes         Yes          No              No   \n",
       "4              No               No          No          No              No   \n",
       "...           ...              ...         ...         ...             ...   \n",
       "7038           No              Yes         Yes         Yes             Yes   \n",
       "7039          Yes              Yes          No         Yes             Yes   \n",
       "7040           No               No          No          No              No   \n",
       "7041           No               No          No          No              No   \n",
       "7042           No              Yes         Yes         Yes             Yes   \n",
       "\n",
       "     MultipleLines  \n",
       "0              NaN  \n",
       "1               No  \n",
       "2               No  \n",
       "3              NaN  \n",
       "4               No  \n",
       "...            ...  \n",
       "7038           Yes  \n",
       "7039           Yes  \n",
       "7040           NaN  \n",
       "7041           Yes  \n",
       "7042            No  \n",
       "\n",
       "[7043 rows x 21 columns]"
      ]
     },
     "execution_count": 10,
     "metadata": {},
     "output_type": "execute_result"
    }
   ],
   "source": [
    "df = contact_df.merge(personal_df, on='customerID', how='left')\n",
    "df = df.merge(internet_df, on='customerID', how='left')\n",
    "df = df.merge(phone_df, on='customerID', how='left')\n",
    "df"
   ]
  },
  {
   "cell_type": "code",
   "execution_count": 11,
   "id": "2277894a",
   "metadata": {},
   "outputs": [
    {
     "data": {
      "text/html": [
       "<div>\n",
       "<style scoped>\n",
       "    .dataframe tbody tr th:only-of-type {\n",
       "        vertical-align: middle;\n",
       "    }\n",
       "\n",
       "    .dataframe tbody tr th {\n",
       "        vertical-align: top;\n",
       "    }\n",
       "\n",
       "    .dataframe thead th {\n",
       "        text-align: right;\n",
       "    }\n",
       "</style>\n",
       "<table border=\"1\" class=\"dataframe\">\n",
       "  <thead>\n",
       "    <tr style=\"text-align: right;\">\n",
       "      <th></th>\n",
       "      <th>customerID</th>\n",
       "      <th>BeginDate</th>\n",
       "      <th>EndDate</th>\n",
       "      <th>Type</th>\n",
       "      <th>PaperlessBilling</th>\n",
       "      <th>PaymentMethod</th>\n",
       "      <th>MonthlyCharges</th>\n",
       "      <th>TotalCharges</th>\n",
       "      <th>churn</th>\n",
       "      <th>gender</th>\n",
       "      <th>...</th>\n",
       "      <th>Partner</th>\n",
       "      <th>Dependents</th>\n",
       "      <th>InternetService</th>\n",
       "      <th>OnlineSecurity</th>\n",
       "      <th>OnlineBackup</th>\n",
       "      <th>DeviceProtection</th>\n",
       "      <th>TechSupport</th>\n",
       "      <th>StreamingTV</th>\n",
       "      <th>StreamingMovies</th>\n",
       "      <th>MultipleLines</th>\n",
       "    </tr>\n",
       "  </thead>\n",
       "  <tbody>\n",
       "    <tr>\n",
       "      <th>count</th>\n",
       "      <td>7043</td>\n",
       "      <td>7043</td>\n",
       "      <td>7043</td>\n",
       "      <td>7043</td>\n",
       "      <td>7043</td>\n",
       "      <td>7043</td>\n",
       "      <td>7043.000000</td>\n",
       "      <td>7043</td>\n",
       "      <td>7043.000000</td>\n",
       "      <td>7043</td>\n",
       "      <td>...</td>\n",
       "      <td>7043</td>\n",
       "      <td>7043</td>\n",
       "      <td>5517</td>\n",
       "      <td>5517</td>\n",
       "      <td>5517</td>\n",
       "      <td>5517</td>\n",
       "      <td>5517</td>\n",
       "      <td>5517</td>\n",
       "      <td>5517</td>\n",
       "      <td>6361</td>\n",
       "    </tr>\n",
       "    <tr>\n",
       "      <th>unique</th>\n",
       "      <td>7043</td>\n",
       "      <td>77</td>\n",
       "      <td>5</td>\n",
       "      <td>3</td>\n",
       "      <td>2</td>\n",
       "      <td>4</td>\n",
       "      <td>NaN</td>\n",
       "      <td>6531</td>\n",
       "      <td>NaN</td>\n",
       "      <td>2</td>\n",
       "      <td>...</td>\n",
       "      <td>2</td>\n",
       "      <td>2</td>\n",
       "      <td>2</td>\n",
       "      <td>2</td>\n",
       "      <td>2</td>\n",
       "      <td>2</td>\n",
       "      <td>2</td>\n",
       "      <td>2</td>\n",
       "      <td>2</td>\n",
       "      <td>2</td>\n",
       "    </tr>\n",
       "    <tr>\n",
       "      <th>top</th>\n",
       "      <td>7733-UDMTP</td>\n",
       "      <td>2014-02-01</td>\n",
       "      <td>No</td>\n",
       "      <td>Month-to-month</td>\n",
       "      <td>Yes</td>\n",
       "      <td>Electronic check</td>\n",
       "      <td>NaN</td>\n",
       "      <td>20.2</td>\n",
       "      <td>NaN</td>\n",
       "      <td>Male</td>\n",
       "      <td>...</td>\n",
       "      <td>No</td>\n",
       "      <td>No</td>\n",
       "      <td>Fiber optic</td>\n",
       "      <td>No</td>\n",
       "      <td>No</td>\n",
       "      <td>No</td>\n",
       "      <td>No</td>\n",
       "      <td>No</td>\n",
       "      <td>No</td>\n",
       "      <td>No</td>\n",
       "    </tr>\n",
       "    <tr>\n",
       "      <th>freq</th>\n",
       "      <td>1</td>\n",
       "      <td>366</td>\n",
       "      <td>5174</td>\n",
       "      <td>3875</td>\n",
       "      <td>4171</td>\n",
       "      <td>2365</td>\n",
       "      <td>NaN</td>\n",
       "      <td>11</td>\n",
       "      <td>NaN</td>\n",
       "      <td>3555</td>\n",
       "      <td>...</td>\n",
       "      <td>3641</td>\n",
       "      <td>4933</td>\n",
       "      <td>3096</td>\n",
       "      <td>3498</td>\n",
       "      <td>3088</td>\n",
       "      <td>3095</td>\n",
       "      <td>3473</td>\n",
       "      <td>2810</td>\n",
       "      <td>2785</td>\n",
       "      <td>3390</td>\n",
       "    </tr>\n",
       "    <tr>\n",
       "      <th>mean</th>\n",
       "      <td>NaN</td>\n",
       "      <td>NaN</td>\n",
       "      <td>NaN</td>\n",
       "      <td>NaN</td>\n",
       "      <td>NaN</td>\n",
       "      <td>NaN</td>\n",
       "      <td>64.761692</td>\n",
       "      <td>NaN</td>\n",
       "      <td>0.265370</td>\n",
       "      <td>NaN</td>\n",
       "      <td>...</td>\n",
       "      <td>NaN</td>\n",
       "      <td>NaN</td>\n",
       "      <td>NaN</td>\n",
       "      <td>NaN</td>\n",
       "      <td>NaN</td>\n",
       "      <td>NaN</td>\n",
       "      <td>NaN</td>\n",
       "      <td>NaN</td>\n",
       "      <td>NaN</td>\n",
       "      <td>NaN</td>\n",
       "    </tr>\n",
       "    <tr>\n",
       "      <th>std</th>\n",
       "      <td>NaN</td>\n",
       "      <td>NaN</td>\n",
       "      <td>NaN</td>\n",
       "      <td>NaN</td>\n",
       "      <td>NaN</td>\n",
       "      <td>NaN</td>\n",
       "      <td>30.090047</td>\n",
       "      <td>NaN</td>\n",
       "      <td>0.441561</td>\n",
       "      <td>NaN</td>\n",
       "      <td>...</td>\n",
       "      <td>NaN</td>\n",
       "      <td>NaN</td>\n",
       "      <td>NaN</td>\n",
       "      <td>NaN</td>\n",
       "      <td>NaN</td>\n",
       "      <td>NaN</td>\n",
       "      <td>NaN</td>\n",
       "      <td>NaN</td>\n",
       "      <td>NaN</td>\n",
       "      <td>NaN</td>\n",
       "    </tr>\n",
       "    <tr>\n",
       "      <th>min</th>\n",
       "      <td>NaN</td>\n",
       "      <td>NaN</td>\n",
       "      <td>NaN</td>\n",
       "      <td>NaN</td>\n",
       "      <td>NaN</td>\n",
       "      <td>NaN</td>\n",
       "      <td>18.250000</td>\n",
       "      <td>NaN</td>\n",
       "      <td>0.000000</td>\n",
       "      <td>NaN</td>\n",
       "      <td>...</td>\n",
       "      <td>NaN</td>\n",
       "      <td>NaN</td>\n",
       "      <td>NaN</td>\n",
       "      <td>NaN</td>\n",
       "      <td>NaN</td>\n",
       "      <td>NaN</td>\n",
       "      <td>NaN</td>\n",
       "      <td>NaN</td>\n",
       "      <td>NaN</td>\n",
       "      <td>NaN</td>\n",
       "    </tr>\n",
       "    <tr>\n",
       "      <th>25%</th>\n",
       "      <td>NaN</td>\n",
       "      <td>NaN</td>\n",
       "      <td>NaN</td>\n",
       "      <td>NaN</td>\n",
       "      <td>NaN</td>\n",
       "      <td>NaN</td>\n",
       "      <td>35.500000</td>\n",
       "      <td>NaN</td>\n",
       "      <td>0.000000</td>\n",
       "      <td>NaN</td>\n",
       "      <td>...</td>\n",
       "      <td>NaN</td>\n",
       "      <td>NaN</td>\n",
       "      <td>NaN</td>\n",
       "      <td>NaN</td>\n",
       "      <td>NaN</td>\n",
       "      <td>NaN</td>\n",
       "      <td>NaN</td>\n",
       "      <td>NaN</td>\n",
       "      <td>NaN</td>\n",
       "      <td>NaN</td>\n",
       "    </tr>\n",
       "    <tr>\n",
       "      <th>50%</th>\n",
       "      <td>NaN</td>\n",
       "      <td>NaN</td>\n",
       "      <td>NaN</td>\n",
       "      <td>NaN</td>\n",
       "      <td>NaN</td>\n",
       "      <td>NaN</td>\n",
       "      <td>70.350000</td>\n",
       "      <td>NaN</td>\n",
       "      <td>0.000000</td>\n",
       "      <td>NaN</td>\n",
       "      <td>...</td>\n",
       "      <td>NaN</td>\n",
       "      <td>NaN</td>\n",
       "      <td>NaN</td>\n",
       "      <td>NaN</td>\n",
       "      <td>NaN</td>\n",
       "      <td>NaN</td>\n",
       "      <td>NaN</td>\n",
       "      <td>NaN</td>\n",
       "      <td>NaN</td>\n",
       "      <td>NaN</td>\n",
       "    </tr>\n",
       "    <tr>\n",
       "      <th>75%</th>\n",
       "      <td>NaN</td>\n",
       "      <td>NaN</td>\n",
       "      <td>NaN</td>\n",
       "      <td>NaN</td>\n",
       "      <td>NaN</td>\n",
       "      <td>NaN</td>\n",
       "      <td>89.850000</td>\n",
       "      <td>NaN</td>\n",
       "      <td>1.000000</td>\n",
       "      <td>NaN</td>\n",
       "      <td>...</td>\n",
       "      <td>NaN</td>\n",
       "      <td>NaN</td>\n",
       "      <td>NaN</td>\n",
       "      <td>NaN</td>\n",
       "      <td>NaN</td>\n",
       "      <td>NaN</td>\n",
       "      <td>NaN</td>\n",
       "      <td>NaN</td>\n",
       "      <td>NaN</td>\n",
       "      <td>NaN</td>\n",
       "    </tr>\n",
       "    <tr>\n",
       "      <th>max</th>\n",
       "      <td>NaN</td>\n",
       "      <td>NaN</td>\n",
       "      <td>NaN</td>\n",
       "      <td>NaN</td>\n",
       "      <td>NaN</td>\n",
       "      <td>NaN</td>\n",
       "      <td>118.750000</td>\n",
       "      <td>NaN</td>\n",
       "      <td>1.000000</td>\n",
       "      <td>NaN</td>\n",
       "      <td>...</td>\n",
       "      <td>NaN</td>\n",
       "      <td>NaN</td>\n",
       "      <td>NaN</td>\n",
       "      <td>NaN</td>\n",
       "      <td>NaN</td>\n",
       "      <td>NaN</td>\n",
       "      <td>NaN</td>\n",
       "      <td>NaN</td>\n",
       "      <td>NaN</td>\n",
       "      <td>NaN</td>\n",
       "    </tr>\n",
       "  </tbody>\n",
       "</table>\n",
       "<p>11 rows × 21 columns</p>\n",
       "</div>"
      ],
      "text/plain": [
       "        customerID   BeginDate EndDate            Type PaperlessBilling  \\\n",
       "count         7043        7043    7043            7043             7043   \n",
       "unique        7043          77       5               3                2   \n",
       "top     7733-UDMTP  2014-02-01      No  Month-to-month              Yes   \n",
       "freq             1         366    5174            3875             4171   \n",
       "mean           NaN         NaN     NaN             NaN              NaN   \n",
       "std            NaN         NaN     NaN             NaN              NaN   \n",
       "min            NaN         NaN     NaN             NaN              NaN   \n",
       "25%            NaN         NaN     NaN             NaN              NaN   \n",
       "50%            NaN         NaN     NaN             NaN              NaN   \n",
       "75%            NaN         NaN     NaN             NaN              NaN   \n",
       "max            NaN         NaN     NaN             NaN              NaN   \n",
       "\n",
       "           PaymentMethod  MonthlyCharges TotalCharges        churn gender  \\\n",
       "count               7043     7043.000000         7043  7043.000000   7043   \n",
       "unique                 4             NaN         6531          NaN      2   \n",
       "top     Electronic check             NaN         20.2          NaN   Male   \n",
       "freq                2365             NaN           11          NaN   3555   \n",
       "mean                 NaN       64.761692          NaN     0.265370    NaN   \n",
       "std                  NaN       30.090047          NaN     0.441561    NaN   \n",
       "min                  NaN       18.250000          NaN     0.000000    NaN   \n",
       "25%                  NaN       35.500000          NaN     0.000000    NaN   \n",
       "50%                  NaN       70.350000          NaN     0.000000    NaN   \n",
       "75%                  NaN       89.850000          NaN     1.000000    NaN   \n",
       "max                  NaN      118.750000          NaN     1.000000    NaN   \n",
       "\n",
       "        ...  Partner Dependents InternetService OnlineSecurity OnlineBackup  \\\n",
       "count   ...     7043       7043            5517           5517         5517   \n",
       "unique  ...        2          2               2              2            2   \n",
       "top     ...       No         No     Fiber optic             No           No   \n",
       "freq    ...     3641       4933            3096           3498         3088   \n",
       "mean    ...      NaN        NaN             NaN            NaN          NaN   \n",
       "std     ...      NaN        NaN             NaN            NaN          NaN   \n",
       "min     ...      NaN        NaN             NaN            NaN          NaN   \n",
       "25%     ...      NaN        NaN             NaN            NaN          NaN   \n",
       "50%     ...      NaN        NaN             NaN            NaN          NaN   \n",
       "75%     ...      NaN        NaN             NaN            NaN          NaN   \n",
       "max     ...      NaN        NaN             NaN            NaN          NaN   \n",
       "\n",
       "       DeviceProtection TechSupport StreamingTV StreamingMovies MultipleLines  \n",
       "count              5517        5517        5517            5517          6361  \n",
       "unique                2           2           2               2             2  \n",
       "top                  No          No          No              No            No  \n",
       "freq               3095        3473        2810            2785          3390  \n",
       "mean                NaN         NaN         NaN             NaN           NaN  \n",
       "std                 NaN         NaN         NaN             NaN           NaN  \n",
       "min                 NaN         NaN         NaN             NaN           NaN  \n",
       "25%                 NaN         NaN         NaN             NaN           NaN  \n",
       "50%                 NaN         NaN         NaN             NaN           NaN  \n",
       "75%                 NaN         NaN         NaN             NaN           NaN  \n",
       "max                 NaN         NaN         NaN             NaN           NaN  \n",
       "\n",
       "[11 rows x 21 columns]"
      ]
     },
     "execution_count": 11,
     "metadata": {},
     "output_type": "execute_result"
    }
   ],
   "source": [
    "df.describe(include='all')"
   ]
  },
  {
   "cell_type": "code",
   "execution_count": 12,
   "id": "e0913184",
   "metadata": {},
   "outputs": [],
   "source": [
    "df.loc[df['EndDate'] == 'No', 'EndDate'] = '2020-02-01 00:00:00'"
   ]
  },
  {
   "cell_type": "code",
   "execution_count": 13,
   "id": "692a44c3",
   "metadata": {},
   "outputs": [],
   "source": [
    "df['BeginDate'] = pd.to_datetime(df['BeginDate'])\n",
    "df['EndDate'] = pd.to_datetime(df['EndDate'])\n",
    "life_time = df['EndDate'] - df['BeginDate']\n",
    "life_time = life_time.apply(lambda y: int(str(y)[-15::-1][::-1]))\n",
    "df['life_time'] = life_time"
   ]
  },
  {
   "cell_type": "code",
   "execution_count": 14,
   "id": "61fda29d",
   "metadata": {},
   "outputs": [
    {
     "data": {
      "application/vnd.jupyter.widget-view+json": {
       "model_id": "98aaf069c3ad47ddb2f15a31e618bcfd",
       "version_major": 2,
       "version_minor": 0
      },
      "text/plain": [
       "  0%|          | 0/22 [00:00<?, ?it/s]"
      ]
     },
     "metadata": {},
     "output_type": "display_data"
    }
   ],
   "source": [
    "for col in notebook.tqdm(df.columns):\n",
    "    if df[col].nunique() == 2 and col != 'churn':\n",
    "        less_popular = df[col].value_counts().sort_values(ascending=False).index[1]\n",
    "        df[col] = df[col].apply(lambda x: 1 if x == less_popular else 0) #заменяем NaN более популярными значениями"
   ]
  },
  {
   "cell_type": "code",
   "execution_count": 15,
   "id": "7b813cb8",
   "metadata": {},
   "outputs": [
    {
     "data": {
      "text/html": [
       "<div>\n",
       "<style scoped>\n",
       "    .dataframe tbody tr th:only-of-type {\n",
       "        vertical-align: middle;\n",
       "    }\n",
       "\n",
       "    .dataframe tbody tr th {\n",
       "        vertical-align: top;\n",
       "    }\n",
       "\n",
       "    .dataframe thead th {\n",
       "        text-align: right;\n",
       "    }\n",
       "</style>\n",
       "<table border=\"1\" class=\"dataframe\">\n",
       "  <thead>\n",
       "    <tr style=\"text-align: right;\">\n",
       "      <th></th>\n",
       "      <th>customerID</th>\n",
       "      <th>BeginDate</th>\n",
       "      <th>EndDate</th>\n",
       "      <th>Type</th>\n",
       "      <th>PaperlessBilling</th>\n",
       "      <th>PaymentMethod</th>\n",
       "      <th>MonthlyCharges</th>\n",
       "      <th>TotalCharges</th>\n",
       "      <th>churn</th>\n",
       "      <th>gender</th>\n",
       "      <th>...</th>\n",
       "      <th>Dependents</th>\n",
       "      <th>InternetService</th>\n",
       "      <th>OnlineSecurity</th>\n",
       "      <th>OnlineBackup</th>\n",
       "      <th>DeviceProtection</th>\n",
       "      <th>TechSupport</th>\n",
       "      <th>StreamingTV</th>\n",
       "      <th>StreamingMovies</th>\n",
       "      <th>MultipleLines</th>\n",
       "      <th>life_time</th>\n",
       "    </tr>\n",
       "  </thead>\n",
       "  <tbody>\n",
       "  </tbody>\n",
       "</table>\n",
       "<p>0 rows × 22 columns</p>\n",
       "</div>"
      ],
      "text/plain": [
       "Empty DataFrame\n",
       "Columns: [customerID, BeginDate, EndDate, Type, PaperlessBilling, PaymentMethod, MonthlyCharges, TotalCharges, churn, gender, SeniorCitizen, Partner, Dependents, InternetService, OnlineSecurity, OnlineBackup, DeviceProtection, TechSupport, StreamingTV, StreamingMovies, MultipleLines, life_time]\n",
       "Index: []\n",
       "\n",
       "[0 rows x 22 columns]"
      ]
     },
     "execution_count": 15,
     "metadata": {},
     "output_type": "execute_result"
    }
   ],
   "source": [
    "df[df['TotalCharges'] == 0]"
   ]
  },
  {
   "cell_type": "markdown",
   "id": "4002c4bb",
   "metadata": {},
   "source": [
    "Просто так перевести TotalCharges в float не получается, поэтому заметим, что в данных нет нулевых значение из этого столбца. Напишем функцию для обработки данного столбца"
   ]
  },
  {
   "cell_type": "code",
   "execution_count": 16,
   "id": "87a223f5",
   "metadata": {},
   "outputs": [],
   "source": [
    "def column_to_float(x):\n",
    "    try:\n",
    "        return float(x)\n",
    "    except:\n",
    "        return None"
   ]
  },
  {
   "cell_type": "code",
   "execution_count": 17,
   "id": "b79a9ce5",
   "metadata": {},
   "outputs": [],
   "source": [
    "df['TotalCharges'] = df['TotalCharges'].apply(column_to_float)"
   ]
  },
  {
   "cell_type": "code",
   "execution_count": 18,
   "id": "a2477980",
   "metadata": {},
   "outputs": [
    {
     "data": {
      "text/html": [
       "<div>\n",
       "<style scoped>\n",
       "    .dataframe tbody tr th:only-of-type {\n",
       "        vertical-align: middle;\n",
       "    }\n",
       "\n",
       "    .dataframe tbody tr th {\n",
       "        vertical-align: top;\n",
       "    }\n",
       "\n",
       "    .dataframe thead th {\n",
       "        text-align: right;\n",
       "    }\n",
       "</style>\n",
       "<table border=\"1\" class=\"dataframe\">\n",
       "  <thead>\n",
       "    <tr style=\"text-align: right;\">\n",
       "      <th></th>\n",
       "      <th>customerID</th>\n",
       "      <th>BeginDate</th>\n",
       "      <th>EndDate</th>\n",
       "      <th>Type</th>\n",
       "      <th>PaperlessBilling</th>\n",
       "      <th>PaymentMethod</th>\n",
       "      <th>MonthlyCharges</th>\n",
       "      <th>TotalCharges</th>\n",
       "      <th>churn</th>\n",
       "      <th>gender</th>\n",
       "      <th>...</th>\n",
       "      <th>Dependents</th>\n",
       "      <th>InternetService</th>\n",
       "      <th>OnlineSecurity</th>\n",
       "      <th>OnlineBackup</th>\n",
       "      <th>DeviceProtection</th>\n",
       "      <th>TechSupport</th>\n",
       "      <th>StreamingTV</th>\n",
       "      <th>StreamingMovies</th>\n",
       "      <th>MultipleLines</th>\n",
       "      <th>life_time</th>\n",
       "    </tr>\n",
       "  </thead>\n",
       "  <tbody>\n",
       "    <tr>\n",
       "      <th>488</th>\n",
       "      <td>4472-LVYGI</td>\n",
       "      <td>2020-02-01</td>\n",
       "      <td>2020-02-01</td>\n",
       "      <td>Two year</td>\n",
       "      <td>0</td>\n",
       "      <td>Bank transfer (automatic)</td>\n",
       "      <td>52.55</td>\n",
       "      <td>NaN</td>\n",
       "      <td>0</td>\n",
       "      <td>1</td>\n",
       "      <td>...</td>\n",
       "      <td>1</td>\n",
       "      <td>1</td>\n",
       "      <td>1</td>\n",
       "      <td>0</td>\n",
       "      <td>1</td>\n",
       "      <td>1</td>\n",
       "      <td>1</td>\n",
       "      <td>0</td>\n",
       "      <td>0</td>\n",
       "      <td>0</td>\n",
       "    </tr>\n",
       "    <tr>\n",
       "      <th>753</th>\n",
       "      <td>3115-CZMZD</td>\n",
       "      <td>2020-02-01</td>\n",
       "      <td>2020-02-01</td>\n",
       "      <td>Two year</td>\n",
       "      <td>1</td>\n",
       "      <td>Mailed check</td>\n",
       "      <td>20.25</td>\n",
       "      <td>NaN</td>\n",
       "      <td>0</td>\n",
       "      <td>0</td>\n",
       "      <td>...</td>\n",
       "      <td>1</td>\n",
       "      <td>0</td>\n",
       "      <td>0</td>\n",
       "      <td>0</td>\n",
       "      <td>0</td>\n",
       "      <td>0</td>\n",
       "      <td>0</td>\n",
       "      <td>0</td>\n",
       "      <td>0</td>\n",
       "      <td>0</td>\n",
       "    </tr>\n",
       "    <tr>\n",
       "      <th>936</th>\n",
       "      <td>5709-LVOEQ</td>\n",
       "      <td>2020-02-01</td>\n",
       "      <td>2020-02-01</td>\n",
       "      <td>Two year</td>\n",
       "      <td>1</td>\n",
       "      <td>Mailed check</td>\n",
       "      <td>80.85</td>\n",
       "      <td>NaN</td>\n",
       "      <td>0</td>\n",
       "      <td>1</td>\n",
       "      <td>...</td>\n",
       "      <td>1</td>\n",
       "      <td>1</td>\n",
       "      <td>1</td>\n",
       "      <td>1</td>\n",
       "      <td>1</td>\n",
       "      <td>0</td>\n",
       "      <td>1</td>\n",
       "      <td>1</td>\n",
       "      <td>0</td>\n",
       "      <td>0</td>\n",
       "    </tr>\n",
       "    <tr>\n",
       "      <th>1082</th>\n",
       "      <td>4367-NUYAO</td>\n",
       "      <td>2020-02-01</td>\n",
       "      <td>2020-02-01</td>\n",
       "      <td>Two year</td>\n",
       "      <td>1</td>\n",
       "      <td>Mailed check</td>\n",
       "      <td>25.75</td>\n",
       "      <td>NaN</td>\n",
       "      <td>0</td>\n",
       "      <td>0</td>\n",
       "      <td>...</td>\n",
       "      <td>1</td>\n",
       "      <td>0</td>\n",
       "      <td>0</td>\n",
       "      <td>0</td>\n",
       "      <td>0</td>\n",
       "      <td>0</td>\n",
       "      <td>0</td>\n",
       "      <td>0</td>\n",
       "      <td>1</td>\n",
       "      <td>0</td>\n",
       "    </tr>\n",
       "    <tr>\n",
       "      <th>1340</th>\n",
       "      <td>1371-DWPAZ</td>\n",
       "      <td>2020-02-01</td>\n",
       "      <td>2020-02-01</td>\n",
       "      <td>Two year</td>\n",
       "      <td>1</td>\n",
       "      <td>Credit card (automatic)</td>\n",
       "      <td>56.05</td>\n",
       "      <td>NaN</td>\n",
       "      <td>0</td>\n",
       "      <td>1</td>\n",
       "      <td>...</td>\n",
       "      <td>1</td>\n",
       "      <td>1</td>\n",
       "      <td>1</td>\n",
       "      <td>1</td>\n",
       "      <td>1</td>\n",
       "      <td>1</td>\n",
       "      <td>1</td>\n",
       "      <td>0</td>\n",
       "      <td>0</td>\n",
       "      <td>0</td>\n",
       "    </tr>\n",
       "    <tr>\n",
       "      <th>3331</th>\n",
       "      <td>7644-OMVMY</td>\n",
       "      <td>2020-02-01</td>\n",
       "      <td>2020-02-01</td>\n",
       "      <td>Two year</td>\n",
       "      <td>1</td>\n",
       "      <td>Mailed check</td>\n",
       "      <td>19.85</td>\n",
       "      <td>NaN</td>\n",
       "      <td>0</td>\n",
       "      <td>0</td>\n",
       "      <td>...</td>\n",
       "      <td>1</td>\n",
       "      <td>0</td>\n",
       "      <td>0</td>\n",
       "      <td>0</td>\n",
       "      <td>0</td>\n",
       "      <td>0</td>\n",
       "      <td>0</td>\n",
       "      <td>0</td>\n",
       "      <td>0</td>\n",
       "      <td>0</td>\n",
       "    </tr>\n",
       "    <tr>\n",
       "      <th>3826</th>\n",
       "      <td>3213-VVOLG</td>\n",
       "      <td>2020-02-01</td>\n",
       "      <td>2020-02-01</td>\n",
       "      <td>Two year</td>\n",
       "      <td>1</td>\n",
       "      <td>Mailed check</td>\n",
       "      <td>25.35</td>\n",
       "      <td>NaN</td>\n",
       "      <td>0</td>\n",
       "      <td>0</td>\n",
       "      <td>...</td>\n",
       "      <td>1</td>\n",
       "      <td>0</td>\n",
       "      <td>0</td>\n",
       "      <td>0</td>\n",
       "      <td>0</td>\n",
       "      <td>0</td>\n",
       "      <td>0</td>\n",
       "      <td>0</td>\n",
       "      <td>1</td>\n",
       "      <td>0</td>\n",
       "    </tr>\n",
       "    <tr>\n",
       "      <th>4380</th>\n",
       "      <td>2520-SGTTA</td>\n",
       "      <td>2020-02-01</td>\n",
       "      <td>2020-02-01</td>\n",
       "      <td>Two year</td>\n",
       "      <td>1</td>\n",
       "      <td>Mailed check</td>\n",
       "      <td>20.00</td>\n",
       "      <td>NaN</td>\n",
       "      <td>0</td>\n",
       "      <td>1</td>\n",
       "      <td>...</td>\n",
       "      <td>1</td>\n",
       "      <td>0</td>\n",
       "      <td>0</td>\n",
       "      <td>0</td>\n",
       "      <td>0</td>\n",
       "      <td>0</td>\n",
       "      <td>0</td>\n",
       "      <td>0</td>\n",
       "      <td>0</td>\n",
       "      <td>0</td>\n",
       "    </tr>\n",
       "    <tr>\n",
       "      <th>5218</th>\n",
       "      <td>2923-ARZLG</td>\n",
       "      <td>2020-02-01</td>\n",
       "      <td>2020-02-01</td>\n",
       "      <td>One year</td>\n",
       "      <td>0</td>\n",
       "      <td>Mailed check</td>\n",
       "      <td>19.70</td>\n",
       "      <td>NaN</td>\n",
       "      <td>0</td>\n",
       "      <td>0</td>\n",
       "      <td>...</td>\n",
       "      <td>1</td>\n",
       "      <td>0</td>\n",
       "      <td>0</td>\n",
       "      <td>0</td>\n",
       "      <td>0</td>\n",
       "      <td>0</td>\n",
       "      <td>0</td>\n",
       "      <td>0</td>\n",
       "      <td>0</td>\n",
       "      <td>0</td>\n",
       "    </tr>\n",
       "    <tr>\n",
       "      <th>6670</th>\n",
       "      <td>4075-WKNIU</td>\n",
       "      <td>2020-02-01</td>\n",
       "      <td>2020-02-01</td>\n",
       "      <td>Two year</td>\n",
       "      <td>1</td>\n",
       "      <td>Mailed check</td>\n",
       "      <td>73.35</td>\n",
       "      <td>NaN</td>\n",
       "      <td>0</td>\n",
       "      <td>1</td>\n",
       "      <td>...</td>\n",
       "      <td>1</td>\n",
       "      <td>1</td>\n",
       "      <td>0</td>\n",
       "      <td>1</td>\n",
       "      <td>1</td>\n",
       "      <td>1</td>\n",
       "      <td>1</td>\n",
       "      <td>0</td>\n",
       "      <td>1</td>\n",
       "      <td>0</td>\n",
       "    </tr>\n",
       "    <tr>\n",
       "      <th>6754</th>\n",
       "      <td>2775-SEFEE</td>\n",
       "      <td>2020-02-01</td>\n",
       "      <td>2020-02-01</td>\n",
       "      <td>Two year</td>\n",
       "      <td>0</td>\n",
       "      <td>Bank transfer (automatic)</td>\n",
       "      <td>61.90</td>\n",
       "      <td>NaN</td>\n",
       "      <td>0</td>\n",
       "      <td>0</td>\n",
       "      <td>...</td>\n",
       "      <td>1</td>\n",
       "      <td>1</td>\n",
       "      <td>1</td>\n",
       "      <td>1</td>\n",
       "      <td>0</td>\n",
       "      <td>1</td>\n",
       "      <td>0</td>\n",
       "      <td>0</td>\n",
       "      <td>1</td>\n",
       "      <td>0</td>\n",
       "    </tr>\n",
       "  </tbody>\n",
       "</table>\n",
       "<p>11 rows × 22 columns</p>\n",
       "</div>"
      ],
      "text/plain": [
       "      customerID  BeginDate    EndDate      Type  PaperlessBilling  \\\n",
       "488   4472-LVYGI 2020-02-01 2020-02-01  Two year                 0   \n",
       "753   3115-CZMZD 2020-02-01 2020-02-01  Two year                 1   \n",
       "936   5709-LVOEQ 2020-02-01 2020-02-01  Two year                 1   \n",
       "1082  4367-NUYAO 2020-02-01 2020-02-01  Two year                 1   \n",
       "1340  1371-DWPAZ 2020-02-01 2020-02-01  Two year                 1   \n",
       "3331  7644-OMVMY 2020-02-01 2020-02-01  Two year                 1   \n",
       "3826  3213-VVOLG 2020-02-01 2020-02-01  Two year                 1   \n",
       "4380  2520-SGTTA 2020-02-01 2020-02-01  Two year                 1   \n",
       "5218  2923-ARZLG 2020-02-01 2020-02-01  One year                 0   \n",
       "6670  4075-WKNIU 2020-02-01 2020-02-01  Two year                 1   \n",
       "6754  2775-SEFEE 2020-02-01 2020-02-01  Two year                 0   \n",
       "\n",
       "                  PaymentMethod  MonthlyCharges  TotalCharges  churn  gender  \\\n",
       "488   Bank transfer (automatic)           52.55           NaN      0       1   \n",
       "753                Mailed check           20.25           NaN      0       0   \n",
       "936                Mailed check           80.85           NaN      0       1   \n",
       "1082               Mailed check           25.75           NaN      0       0   \n",
       "1340    Credit card (automatic)           56.05           NaN      0       1   \n",
       "3331               Mailed check           19.85           NaN      0       0   \n",
       "3826               Mailed check           25.35           NaN      0       0   \n",
       "4380               Mailed check           20.00           NaN      0       1   \n",
       "5218               Mailed check           19.70           NaN      0       0   \n",
       "6670               Mailed check           73.35           NaN      0       1   \n",
       "6754  Bank transfer (automatic)           61.90           NaN      0       0   \n",
       "\n",
       "      ...  Dependents  InternetService  OnlineSecurity  OnlineBackup  \\\n",
       "488   ...           1                1               1             0   \n",
       "753   ...           1                0               0             0   \n",
       "936   ...           1                1               1             1   \n",
       "1082  ...           1                0               0             0   \n",
       "1340  ...           1                1               1             1   \n",
       "3331  ...           1                0               0             0   \n",
       "3826  ...           1                0               0             0   \n",
       "4380  ...           1                0               0             0   \n",
       "5218  ...           1                0               0             0   \n",
       "6670  ...           1                1               0             1   \n",
       "6754  ...           1                1               1             1   \n",
       "\n",
       "      DeviceProtection  TechSupport  StreamingTV  StreamingMovies  \\\n",
       "488                  1            1            1                0   \n",
       "753                  0            0            0                0   \n",
       "936                  1            0            1                1   \n",
       "1082                 0            0            0                0   \n",
       "1340                 1            1            1                0   \n",
       "3331                 0            0            0                0   \n",
       "3826                 0            0            0                0   \n",
       "4380                 0            0            0                0   \n",
       "5218                 0            0            0                0   \n",
       "6670                 1            1            1                0   \n",
       "6754                 0            1            0                0   \n",
       "\n",
       "      MultipleLines  life_time  \n",
       "488               0          0  \n",
       "753               0          0  \n",
       "936               0          0  \n",
       "1082              1          0  \n",
       "1340              0          0  \n",
       "3331              0          0  \n",
       "3826              1          0  \n",
       "4380              0          0  \n",
       "5218              0          0  \n",
       "6670              1          0  \n",
       "6754              1          0  \n",
       "\n",
       "[11 rows x 22 columns]"
      ]
     },
     "execution_count": 18,
     "metadata": {},
     "output_type": "execute_result"
    }
   ],
   "source": [
    "df[df['TotalCharges'].isna()]"
   ]
  },
  {
   "cell_type": "markdown",
   "id": "1027d4a8",
   "metadata": {},
   "source": [
    "Заметим, что все пропуски только там, где клиент присоединился в 1 февраля 2020 года, то есть у него нет трат. Заполним их нулями "
   ]
  },
  {
   "cell_type": "code",
   "execution_count": 19,
   "id": "5c91f713",
   "metadata": {},
   "outputs": [],
   "source": [
    "df.loc[df['TotalCharges'].isna(), 'TotalCharges'] = 0"
   ]
  },
  {
   "cell_type": "markdown",
   "id": "373d3c43",
   "metadata": {},
   "source": [
    "Перенесено ниже. Корреляция не проверялась, так как была убрана регрессионаая модель"
   ]
  },
  {
   "cell_type": "code",
   "execution_count": 20,
   "id": "26e404fd",
   "metadata": {},
   "outputs": [],
   "source": [
    "df = df.drop(['EndDate', 'BeginDate'], axis=1)"
   ]
  },
  {
   "cell_type": "code",
   "execution_count": 21,
   "id": "1ba9eca1",
   "metadata": {},
   "outputs": [],
   "source": [
    "df = df.drop('customerID', axis=1)"
   ]
  },
  {
   "cell_type": "code",
   "execution_count": 22,
   "id": "0be8342a",
   "metadata": {},
   "outputs": [
    {
     "name": "stdout",
     "output_type": "stream",
     "text": [
      "<class 'pandas.core.frame.DataFrame'>\n",
      "Int64Index: 7043 entries, 0 to 7042\n",
      "Data columns (total 19 columns):\n",
      " #   Column            Non-Null Count  Dtype  \n",
      "---  ------            --------------  -----  \n",
      " 0   Type              7043 non-null   object \n",
      " 1   PaperlessBilling  7043 non-null   int64  \n",
      " 2   PaymentMethod     7043 non-null   object \n",
      " 3   MonthlyCharges    7043 non-null   float64\n",
      " 4   TotalCharges      7043 non-null   float64\n",
      " 5   churn             7043 non-null   int64  \n",
      " 6   gender            7043 non-null   int64  \n",
      " 7   SeniorCitizen     7043 non-null   int64  \n",
      " 8   Partner           7043 non-null   int64  \n",
      " 9   Dependents        7043 non-null   int64  \n",
      " 10  InternetService   7043 non-null   int64  \n",
      " 11  OnlineSecurity    7043 non-null   int64  \n",
      " 12  OnlineBackup      7043 non-null   int64  \n",
      " 13  DeviceProtection  7043 non-null   int64  \n",
      " 14  TechSupport       7043 non-null   int64  \n",
      " 15  StreamingTV       7043 non-null   int64  \n",
      " 16  StreamingMovies   7043 non-null   int64  \n",
      " 17  MultipleLines     7043 non-null   int64  \n",
      " 18  life_time         7043 non-null   int64  \n",
      "dtypes: float64(2), int64(15), object(2)\n",
      "memory usage: 1.1+ MB\n"
     ]
    }
   ],
   "source": [
    "df.info()"
   ]
  },
  {
   "cell_type": "markdown",
   "id": "c8559336",
   "metadata": {},
   "source": [
    "## Исследовательский анализ данных"
   ]
  },
  {
   "cell_type": "code",
   "execution_count": 23,
   "id": "39772e3b",
   "metadata": {
    "scrolled": true
   },
   "outputs": [
    {
     "data": {
      "image/png": "[encoded data removed]",
      "text/plain": [
       "<Figure size 1440x864 with 16 Axes>"
      ]
     },
     "metadata": {
      "needs_background": "light"
     },
     "output_type": "display_data"
    }
   ],
   "source": [
    "numeric_columns = ['PaperlessBilling', 'PaymentMethod', 'MonthlyCharges', 'TotalCharges', \\\n",
    "                   'churn', 'gender', 'SeniorCitizen', 'Partner', 'Dependents', 'OnlineSecurity', \\\n",
    "                   'OnlineBackup', 'DeviceProtection', 'TechSupport', 'StreamingTV', 'StreamingMovies', \\\n",
    "                   'MultipleLines']\n",
    "fig, ax = plt.subplots(4, 4, figsize=(20, 12))\n",
    "fig.tight_layout(pad=3.0)\n",
    "for row in range(4):\n",
    "    for col in range(4):\n",
    "        ax[row, col].hist(df[numeric_columns[row * 4 + col]], bins=20)\n",
    "        ax[row, col].set_title(numeric_columns[row * 4 + col])"
   ]
  },
  {
   "cell_type": "code",
   "execution_count": 24,
   "id": "bee6888f",
   "metadata": {
    "scrolled": true
   },
   "outputs": [
    {
     "data": {
      "image/png": "[encoded data removed]",
      "text/plain": [
       "<Figure size 432x288 with 1 Axes>"
      ]
     },
     "metadata": {
      "needs_background": "light"
     },
     "output_type": "display_data"
    }
   ],
   "source": [
    "plt.boxplot(df['MonthlyCharges'])\n",
    "plt.show()"
   ]
  },
  {
   "cell_type": "code",
   "execution_count": 25,
   "id": "eda47179",
   "metadata": {},
   "outputs": [],
   "source": [
    "transformed_data, best_lambda = boxcox(df['TotalCharges'] + 1)"
   ]
  },
  {
   "cell_type": "code",
   "execution_count": 26,
   "id": "b2445a85",
   "metadata": {
    "scrolled": true
   },
   "outputs": [
    {
     "data": {
      "image/png": "[encoded data removed]",
      "text/plain": [
       "<Figure size 432x288 with 1 Axes>"
      ]
     },
     "metadata": {
      "needs_background": "light"
     },
     "output_type": "display_data"
    }
   ],
   "source": [
    "plt.hist(transformed_data, bins=50)\n",
    "plt.show()"
   ]
  },
  {
   "cell_type": "code",
   "execution_count": 27,
   "id": "060ce12f",
   "metadata": {},
   "outputs": [],
   "source": [
    "df['totalChargeLog'] = transformed_data"
   ]
  },
  {
   "cell_type": "code",
   "execution_count": 28,
   "id": "7445a2bf",
   "metadata": {},
   "outputs": [
    {
     "data": {
      "text/plain": [
       "0    5174\n",
       "1    1869\n",
       "Name: churn, dtype: int64"
      ]
     },
     "execution_count": 28,
     "metadata": {},
     "output_type": "execute_result"
    }
   ],
   "source": [
    "df['churn'].value_counts()"
   ]
  },
  {
   "cell_type": "markdown",
   "id": "e7829477",
   "metadata": {},
   "source": [
    "Наблюдается явный дисбаланс, с которым придется бороться. Буду использовать сбалансированность классов"
   ]
  },
  {
   "cell_type": "markdown",
   "id": "92155502",
   "metadata": {},
   "source": [
    "## Построение модели"
   ]
  },
  {
   "cell_type": "code",
   "execution_count": 29,
   "id": "006eb743",
   "metadata": {},
   "outputs": [
    {
     "data": {
      "text/html": [
       "<div>\n",
       "<style scoped>\n",
       "    .dataframe tbody tr th:only-of-type {\n",
       "        vertical-align: middle;\n",
       "    }\n",
       "\n",
       "    .dataframe tbody tr th {\n",
       "        vertical-align: top;\n",
       "    }\n",
       "\n",
       "    .dataframe thead th {\n",
       "        text-align: right;\n",
       "    }\n",
       "</style>\n",
       "<table border=\"1\" class=\"dataframe\">\n",
       "  <thead>\n",
       "    <tr style=\"text-align: right;\">\n",
       "      <th></th>\n",
       "      <th>PaperlessBilling</th>\n",
       "      <th>MonthlyCharges</th>\n",
       "      <th>TotalCharges</th>\n",
       "      <th>churn</th>\n",
       "      <th>gender</th>\n",
       "      <th>SeniorCitizen</th>\n",
       "      <th>Partner</th>\n",
       "      <th>Dependents</th>\n",
       "      <th>InternetService</th>\n",
       "      <th>OnlineSecurity</th>\n",
       "      <th>...</th>\n",
       "      <th>StreamingTV</th>\n",
       "      <th>StreamingMovies</th>\n",
       "      <th>MultipleLines</th>\n",
       "      <th>life_time</th>\n",
       "      <th>totalChargeLog</th>\n",
       "      <th>Type_One year</th>\n",
       "      <th>Type_Two year</th>\n",
       "      <th>PaymentMethod_Credit card (automatic)</th>\n",
       "      <th>PaymentMethod_Electronic check</th>\n",
       "      <th>PaymentMethod_Mailed check</th>\n",
       "    </tr>\n",
       "  </thead>\n",
       "  <tbody>\n",
       "    <tr>\n",
       "      <th>0</th>\n",
       "      <td>0</td>\n",
       "      <td>29.85</td>\n",
       "      <td>29.85</td>\n",
       "      <td>0</td>\n",
       "      <td>1</td>\n",
       "      <td>0</td>\n",
       "      <td>1</td>\n",
       "      <td>0</td>\n",
       "      <td>1</td>\n",
       "      <td>0</td>\n",
       "      <td>...</td>\n",
       "      <td>0</td>\n",
       "      <td>0</td>\n",
       "      <td>0</td>\n",
       "      <td>31</td>\n",
       "      <td>5.504499</td>\n",
       "      <td>0</td>\n",
       "      <td>0</td>\n",
       "      <td>0</td>\n",
       "      <td>1</td>\n",
       "      <td>0</td>\n",
       "    </tr>\n",
       "    <tr>\n",
       "      <th>1</th>\n",
       "      <td>1</td>\n",
       "      <td>56.95</td>\n",
       "      <td>1889.50</td>\n",
       "      <td>0</td>\n",
       "      <td>0</td>\n",
       "      <td>0</td>\n",
       "      <td>0</td>\n",
       "      <td>0</td>\n",
       "      <td>1</td>\n",
       "      <td>1</td>\n",
       "      <td>...</td>\n",
       "      <td>0</td>\n",
       "      <td>0</td>\n",
       "      <td>0</td>\n",
       "      <td>1036</td>\n",
       "      <td>23.184343</td>\n",
       "      <td>1</td>\n",
       "      <td>0</td>\n",
       "      <td>0</td>\n",
       "      <td>0</td>\n",
       "      <td>1</td>\n",
       "    </tr>\n",
       "    <tr>\n",
       "      <th>2</th>\n",
       "      <td>0</td>\n",
       "      <td>53.85</td>\n",
       "      <td>108.15</td>\n",
       "      <td>1</td>\n",
       "      <td>0</td>\n",
       "      <td>0</td>\n",
       "      <td>0</td>\n",
       "      <td>0</td>\n",
       "      <td>1</td>\n",
       "      <td>1</td>\n",
       "      <td>...</td>\n",
       "      <td>0</td>\n",
       "      <td>0</td>\n",
       "      <td>0</td>\n",
       "      <td>61</td>\n",
       "      <td>9.111801</td>\n",
       "      <td>0</td>\n",
       "      <td>0</td>\n",
       "      <td>0</td>\n",
       "      <td>0</td>\n",
       "      <td>1</td>\n",
       "    </tr>\n",
       "    <tr>\n",
       "      <th>3</th>\n",
       "      <td>1</td>\n",
       "      <td>42.30</td>\n",
       "      <td>1840.75</td>\n",
       "      <td>0</td>\n",
       "      <td>0</td>\n",
       "      <td>0</td>\n",
       "      <td>0</td>\n",
       "      <td>0</td>\n",
       "      <td>1</td>\n",
       "      <td>1</td>\n",
       "      <td>...</td>\n",
       "      <td>0</td>\n",
       "      <td>0</td>\n",
       "      <td>0</td>\n",
       "      <td>1371</td>\n",
       "      <td>23.003022</td>\n",
       "      <td>1</td>\n",
       "      <td>0</td>\n",
       "      <td>0</td>\n",
       "      <td>0</td>\n",
       "      <td>0</td>\n",
       "    </tr>\n",
       "    <tr>\n",
       "      <th>4</th>\n",
       "      <td>0</td>\n",
       "      <td>70.70</td>\n",
       "      <td>151.65</td>\n",
       "      <td>1</td>\n",
       "      <td>1</td>\n",
       "      <td>0</td>\n",
       "      <td>0</td>\n",
       "      <td>0</td>\n",
       "      <td>0</td>\n",
       "      <td>0</td>\n",
       "      <td>...</td>\n",
       "      <td>0</td>\n",
       "      <td>0</td>\n",
       "      <td>0</td>\n",
       "      <td>61</td>\n",
       "      <td>10.283225</td>\n",
       "      <td>0</td>\n",
       "      <td>0</td>\n",
       "      <td>0</td>\n",
       "      <td>1</td>\n",
       "      <td>0</td>\n",
       "    </tr>\n",
       "    <tr>\n",
       "      <th>...</th>\n",
       "      <td>...</td>\n",
       "      <td>...</td>\n",
       "      <td>...</td>\n",
       "      <td>...</td>\n",
       "      <td>...</td>\n",
       "      <td>...</td>\n",
       "      <td>...</td>\n",
       "      <td>...</td>\n",
       "      <td>...</td>\n",
       "      <td>...</td>\n",
       "      <td>...</td>\n",
       "      <td>...</td>\n",
       "      <td>...</td>\n",
       "      <td>...</td>\n",
       "      <td>...</td>\n",
       "      <td>...</td>\n",
       "      <td>...</td>\n",
       "      <td>...</td>\n",
       "      <td>...</td>\n",
       "      <td>...</td>\n",
       "      <td>...</td>\n",
       "    </tr>\n",
       "    <tr>\n",
       "      <th>7038</th>\n",
       "      <td>0</td>\n",
       "      <td>84.80</td>\n",
       "      <td>1990.50</td>\n",
       "      <td>0</td>\n",
       "      <td>0</td>\n",
       "      <td>0</td>\n",
       "      <td>1</td>\n",
       "      <td>1</td>\n",
       "      <td>1</td>\n",
       "      <td>1</td>\n",
       "      <td>...</td>\n",
       "      <td>1</td>\n",
       "      <td>1</td>\n",
       "      <td>1</td>\n",
       "      <td>730</td>\n",
       "      <td>23.549223</td>\n",
       "      <td>1</td>\n",
       "      <td>0</td>\n",
       "      <td>0</td>\n",
       "      <td>0</td>\n",
       "      <td>1</td>\n",
       "    </tr>\n",
       "    <tr>\n",
       "      <th>7039</th>\n",
       "      <td>0</td>\n",
       "      <td>103.20</td>\n",
       "      <td>7362.90</td>\n",
       "      <td>0</td>\n",
       "      <td>1</td>\n",
       "      <td>0</td>\n",
       "      <td>1</td>\n",
       "      <td>1</td>\n",
       "      <td>0</td>\n",
       "      <td>0</td>\n",
       "      <td>...</td>\n",
       "      <td>1</td>\n",
       "      <td>1</td>\n",
       "      <td>1</td>\n",
       "      <td>2191</td>\n",
       "      <td>34.520564</td>\n",
       "      <td>1</td>\n",
       "      <td>0</td>\n",
       "      <td>1</td>\n",
       "      <td>0</td>\n",
       "      <td>0</td>\n",
       "    </tr>\n",
       "    <tr>\n",
       "      <th>7040</th>\n",
       "      <td>0</td>\n",
       "      <td>29.60</td>\n",
       "      <td>346.45</td>\n",
       "      <td>0</td>\n",
       "      <td>1</td>\n",
       "      <td>0</td>\n",
       "      <td>1</td>\n",
       "      <td>1</td>\n",
       "      <td>1</td>\n",
       "      <td>1</td>\n",
       "      <td>...</td>\n",
       "      <td>0</td>\n",
       "      <td>0</td>\n",
       "      <td>0</td>\n",
       "      <td>337</td>\n",
       "      <td>13.622046</td>\n",
       "      <td>0</td>\n",
       "      <td>0</td>\n",
       "      <td>0</td>\n",
       "      <td>1</td>\n",
       "      <td>0</td>\n",
       "    </tr>\n",
       "    <tr>\n",
       "      <th>7041</th>\n",
       "      <td>0</td>\n",
       "      <td>74.40</td>\n",
       "      <td>306.60</td>\n",
       "      <td>1</td>\n",
       "      <td>0</td>\n",
       "      <td>1</td>\n",
       "      <td>1</td>\n",
       "      <td>0</td>\n",
       "      <td>0</td>\n",
       "      <td>0</td>\n",
       "      <td>...</td>\n",
       "      <td>0</td>\n",
       "      <td>0</td>\n",
       "      <td>1</td>\n",
       "      <td>123</td>\n",
       "      <td>13.081868</td>\n",
       "      <td>0</td>\n",
       "      <td>0</td>\n",
       "      <td>0</td>\n",
       "      <td>0</td>\n",
       "      <td>1</td>\n",
       "    </tr>\n",
       "    <tr>\n",
       "      <th>7042</th>\n",
       "      <td>0</td>\n",
       "      <td>105.65</td>\n",
       "      <td>6844.50</td>\n",
       "      <td>0</td>\n",
       "      <td>0</td>\n",
       "      <td>0</td>\n",
       "      <td>0</td>\n",
       "      <td>0</td>\n",
       "      <td>0</td>\n",
       "      <td>1</td>\n",
       "      <td>...</td>\n",
       "      <td>1</td>\n",
       "      <td>1</td>\n",
       "      <td>0</td>\n",
       "      <td>2010</td>\n",
       "      <td>33.806081</td>\n",
       "      <td>0</td>\n",
       "      <td>1</td>\n",
       "      <td>0</td>\n",
       "      <td>0</td>\n",
       "      <td>0</td>\n",
       "    </tr>\n",
       "  </tbody>\n",
       "</table>\n",
       "<p>7043 rows × 23 columns</p>\n",
       "</div>"
      ],
      "text/plain": [
       "      PaperlessBilling  MonthlyCharges  TotalCharges  churn  gender  \\\n",
       "0                    0           29.85         29.85      0       1   \n",
       "1                    1           56.95       1889.50      0       0   \n",
       "2                    0           53.85        108.15      1       0   \n",
       "3                    1           42.30       1840.75      0       0   \n",
       "4                    0           70.70        151.65      1       1   \n",
       "...                ...             ...           ...    ...     ...   \n",
       "7038                 0           84.80       1990.50      0       0   \n",
       "7039                 0          103.20       7362.90      0       1   \n",
       "7040                 0           29.60        346.45      0       1   \n",
       "7041                 0           74.40        306.60      1       0   \n",
       "7042                 0          105.65       6844.50      0       0   \n",
       "\n",
       "      SeniorCitizen  Partner  Dependents  InternetService  OnlineSecurity  \\\n",
       "0                 0        1           0                1               0   \n",
       "1                 0        0           0                1               1   \n",
       "2                 0        0           0                1               1   \n",
       "3                 0        0           0                1               1   \n",
       "4                 0        0           0                0               0   \n",
       "...             ...      ...         ...              ...             ...   \n",
       "7038              0        1           1                1               1   \n",
       "7039              0        1           1                0               0   \n",
       "7040              0        1           1                1               1   \n",
       "7041              1        1           0                0               0   \n",
       "7042              0        0           0                0               1   \n",
       "\n",
       "      ...  StreamingTV  StreamingMovies  MultipleLines  life_time  \\\n",
       "0     ...            0                0              0         31   \n",
       "1     ...            0                0              0       1036   \n",
       "2     ...            0                0              0         61   \n",
       "3     ...            0                0              0       1371   \n",
       "4     ...            0                0              0         61   \n",
       "...   ...          ...              ...            ...        ...   \n",
       "7038  ...            1                1              1        730   \n",
       "7039  ...            1                1              1       2191   \n",
       "7040  ...            0                0              0        337   \n",
       "7041  ...            0                0              1        123   \n",
       "7042  ...            1                1              0       2010   \n",
       "\n",
       "      totalChargeLog  Type_One year  Type_Two year  \\\n",
       "0           5.504499              0              0   \n",
       "1          23.184343              1              0   \n",
       "2           9.111801              0              0   \n",
       "3          23.003022              1              0   \n",
       "4          10.283225              0              0   \n",
       "...              ...            ...            ...   \n",
       "7038       23.549223              1              0   \n",
       "7039       34.520564              1              0   \n",
       "7040       13.622046              0              0   \n",
       "7041       13.081868              0              0   \n",
       "7042       33.806081              0              1   \n",
       "\n",
       "      PaymentMethod_Credit card (automatic)  PaymentMethod_Electronic check  \\\n",
       "0                                         0                               1   \n",
       "1                                         0                               0   \n",
       "2                                         0                               0   \n",
       "3                                         0                               0   \n",
       "4                                         0                               1   \n",
       "...                                     ...                             ...   \n",
       "7038                                      0                               0   \n",
       "7039                                      1                               0   \n",
       "7040                                      0                               1   \n",
       "7041                                      0                               0   \n",
       "7042                                      0                               0   \n",
       "\n",
       "      PaymentMethod_Mailed check  \n",
       "0                              0  \n",
       "1                              1  \n",
       "2                              1  \n",
       "3                              0  \n",
       "4                              0  \n",
       "...                          ...  \n",
       "7038                           1  \n",
       "7039                           0  \n",
       "7040                           0  \n",
       "7041                           1  \n",
       "7042                           0  \n",
       "\n",
       "[7043 rows x 23 columns]"
      ]
     },
     "execution_count": 29,
     "metadata": {},
     "output_type": "execute_result"
    }
   ],
   "source": [
    "df = pd.get_dummies(df, drop_first=True)\n",
    "df"
   ]
  },
  {
   "cell_type": "markdown",
   "id": "25d0811a",
   "metadata": {},
   "source": [
    "Разделим данные в отношении 50:25:25"
   ]
  },
  {
   "cell_type": "code",
   "execution_count": 30,
   "id": "341c1a11",
   "metadata": {},
   "outputs": [],
   "source": [
    "RANDOM_STATE=180123"
   ]
  },
  {
   "cell_type": "code",
   "execution_count": 31,
   "id": "21cd51a4",
   "metadata": {},
   "outputs": [],
   "source": [
    "X_train, X_test, y_train, y_test = train_test_split(df.drop('churn', axis=1), \\\n",
    "                                                      df['churn'], test_size=0.25, random_state=RANDOM_STATE)"
   ]
  },
  {
   "cell_type": "markdown",
   "id": "9a0f5873",
   "metadata": {},
   "source": [
    "Пропущенных значений нет, все данные численные, поэтому они готовы к построению модели"
   ]
  },
  {
   "cell_type": "code",
   "execution_count": 32,
   "id": "12510044",
   "metadata": {},
   "outputs": [],
   "source": [
    "classes = np.unique(y_train)\n",
    "weights = compute_class_weight(class_weight='balanced', classes=classes, y=y_train)\n",
    "class_weights = dict(zip(classes, weights))"
   ]
  },
  {
   "cell_type": "markdown",
   "id": "b7ee7f1f",
   "metadata": {},
   "source": [
    "### CatBoost 🐈😺"
   ]
  },
  {
   "cell_type": "markdown",
   "id": "b9883183",
   "metadata": {},
   "source": [
    "standart catboost"
   ]
  },
  {
   "cell_type": "code",
   "execution_count": 33,
   "id": "7b94fc11",
   "metadata": {},
   "outputs": [],
   "source": [
    "cat = CatBoostClassifier(verbose=False, random_state=RANDOM_STATE, class_weights=class_weights)"
   ]
  },
  {
   "cell_type": "code",
   "execution_count": 34,
   "id": "c9aeed83",
   "metadata": {},
   "outputs": [
    {
     "data": {
      "text/plain": [
       "<catboost.core.CatBoostClassifier at 0x7f8ec796fe50>"
      ]
     },
     "execution_count": 34,
     "metadata": {},
     "output_type": "execute_result"
    }
   ],
   "source": [
    "cat.fit(X_train, y_train)"
   ]
  },
  {
   "cell_type": "code",
   "execution_count": 35,
   "id": "4b3d2612",
   "metadata": {},
   "outputs": [
    {
     "data": {
      "text/plain": [
       "0.8818873911671554"
      ]
     },
     "execution_count": 35,
     "metadata": {},
     "output_type": "execute_result"
    }
   ],
   "source": [
    "cross_val_score(cat, X_train, y_train, scoring='roc_auc', cv=3).mean()"
   ]
  },
  {
   "cell_type": "markdown",
   "id": "a4c199b1",
   "metadata": {},
   "source": [
    "catboost with grid search"
   ]
  },
  {
   "cell_type": "code",
   "execution_count": 36,
   "id": "aae84301",
   "metadata": {},
   "outputs": [],
   "source": [
    "cat = CatBoostClassifier(verbose=False, random_state=RANDOM_STATE, learning_rate=0.03, class_weights=class_weights)\n",
    "params = {'iterations': [300, 1000], 'max_depth': [4, 6, 12]}\n",
    "#grid_cat = GridSearchCV(cat, params, cv=5)"
   ]
  },
  {
   "cell_type": "code",
   "execution_count": 37,
   "id": "d59902cb",
   "metadata": {},
   "outputs": [
    {
     "name": "stdout",
     "output_type": "stream",
     "text": [
      "CPU times: user 3 µs, sys: 0 ns, total: 3 µs\n",
      "Wall time: 5.96 µs\n"
     ]
    }
   ],
   "source": [
    "%%time\n",
    "#grid_cat.fit(X_train, y_train)"
   ]
  },
  {
   "cell_type": "markdown",
   "id": "1988af1d",
   "metadata": {},
   "source": [
    "Поиск лучших гиперпараметров занял больше пяти минут, поэтому я закомментировал эту ячейку с кодом, но оставил найденные гиперпараметры в итоговой модели"
   ]
  },
  {
   "cell_type": "code",
   "execution_count": 38,
   "id": "b7a20721",
   "metadata": {},
   "outputs": [],
   "source": [
    "#best_cat = grid_cat.best_estimator_\n",
    "#cross_val_score(best_cat, X_train, y_train, scoring='roc_auc', cv=3).mean()"
   ]
  },
  {
   "cell_type": "code",
   "execution_count": 39,
   "id": "f270123c",
   "metadata": {},
   "outputs": [],
   "source": [
    "#grid_cat.best_params_"
   ]
  },
  {
   "cell_type": "code",
   "execution_count": 40,
   "id": "d206cfb5",
   "metadata": {},
   "outputs": [
    {
     "data": {
      "text/plain": [
       "0.8866142709900305"
      ]
     },
     "execution_count": 40,
     "metadata": {},
     "output_type": "execute_result"
    }
   ],
   "source": [
    "best_cat = CatBoostClassifier(verbose=False, random_state=RANDOM_STATE, learning_rate=0.03, max_depth=6, \\\n",
    "                              iterations=1000, class_weights=class_weights)\n",
    "cross_val_score(best_cat, X_train, y_train, scoring='roc_auc', cv=3).mean()"
   ]
  },
  {
   "cell_type": "markdown",
   "id": "dc82466b",
   "metadata": {},
   "source": [
    "### Random Forest 🌳🌲"
   ]
  },
  {
   "cell_type": "code",
   "execution_count": 41,
   "id": "15a9af61",
   "metadata": {},
   "outputs": [],
   "source": [
    "forest = RandomForestClassifier(n_jobs=-1, random_state=RANDOM_STATE, class_weight='balanced')"
   ]
  },
  {
   "cell_type": "code",
   "execution_count": 42,
   "id": "c5c18ced",
   "metadata": {},
   "outputs": [
    {
     "data": {
      "text/plain": [
       "RandomForestClassifier(class_weight='balanced', n_jobs=-1, random_state=180123)"
      ]
     },
     "execution_count": 42,
     "metadata": {},
     "output_type": "execute_result"
    }
   ],
   "source": [
    "forest.fit(X_train, y_train)"
   ]
  },
  {
   "cell_type": "code",
   "execution_count": 43,
   "id": "067a8937",
   "metadata": {},
   "outputs": [
    {
     "data": {
      "text/plain": [
       "0.8401276864544315"
      ]
     },
     "execution_count": 43,
     "metadata": {},
     "output_type": "execute_result"
    }
   ],
   "source": [
    "cross_val_score(forest, X_train, y_train, scoring='roc_auc', cv=3).mean()"
   ]
  },
  {
   "cell_type": "code",
   "execution_count": 44,
   "id": "d5118982",
   "metadata": {},
   "outputs": [],
   "source": [
    "params_forest = {'max_depth': range(3, 25, 3), 'n_estimators': range(100, 600, 200)}\n",
    "forest = RandomForestClassifier(n_jobs=-1, class_weight='balanced', random_state=RANDOM_STATE)\n",
    "grid_forest = GridSearchCV(forest, params_forest, cv=3)"
   ]
  },
  {
   "cell_type": "code",
   "execution_count": 45,
   "id": "89625712",
   "metadata": {},
   "outputs": [
    {
     "name": "stdout",
     "output_type": "stream",
     "text": [
      "CPU times: user 1min 38s, sys: 1.18 s, total: 1min 40s\n",
      "Wall time: 2min 33s\n"
     ]
    },
    {
     "data": {
      "text/plain": [
       "GridSearchCV(cv=3,\n",
       "             estimator=RandomForestClassifier(class_weight='balanced',\n",
       "                                              n_jobs=-1, random_state=180123),\n",
       "             param_grid={'max_depth': range(3, 25, 3),\n",
       "                         'n_estimators': range(100, 600, 200)})"
      ]
     },
     "execution_count": 45,
     "metadata": {},
     "output_type": "execute_result"
    }
   ],
   "source": [
    "%%time\n",
    "grid_forest.fit(X_train, y_train)"
   ]
  },
  {
   "cell_type": "code",
   "execution_count": 46,
   "id": "43ecdd2d",
   "metadata": {},
   "outputs": [
    {
     "data": {
      "text/plain": [
       "0.8445156955408084"
      ]
     },
     "execution_count": 46,
     "metadata": {},
     "output_type": "execute_result"
    }
   ],
   "source": [
    "best_forest = grid_forest.best_estimator_\n",
    "cross_val_score(best_forest, X_train, y_train, scoring='roc_auc', cv=3).mean()"
   ]
  },
  {
   "cell_type": "code",
   "execution_count": 47,
   "id": "31599409",
   "metadata": {},
   "outputs": [
    {
     "data": {
      "text/plain": [
       "{'max_depth': 18, 'n_estimators': 500}"
      ]
     },
     "execution_count": 47,
     "metadata": {},
     "output_type": "execute_result"
    }
   ],
   "source": [
    "grid_forest.best_params_"
   ]
  },
  {
   "cell_type": "markdown",
   "id": "a6ef9ca2",
   "metadata": {},
   "source": [
    "### XGBoost"
   ]
  },
  {
   "cell_type": "code",
   "execution_count": 48,
   "id": "d660e85f",
   "metadata": {},
   "outputs": [],
   "source": [
    "classes_weights = class_weight.compute_sample_weight(\n",
    "    class_weight='balanced',\n",
    "    y=y_train\n",
    ")"
   ]
  },
  {
   "cell_type": "code",
   "execution_count": 49,
   "id": "d9c33136",
   "metadata": {},
   "outputs": [],
   "source": [
    "xgb = XGBClassifier(random_state=RANDOM_STATE, verbosity=0, alpha=5, learning_rate=0.03)"
   ]
  },
  {
   "cell_type": "code",
   "execution_count": 50,
   "id": "c8e57270",
   "metadata": {},
   "outputs": [
    {
     "data": {
      "text/plain": [
       "XGBClassifier(alpha=5, base_score=0.5, booster='gbtree', colsample_bylevel=1,\n",
       "              colsample_bynode=1, colsample_bytree=1, enable_categorical=False,\n",
       "              gamma=0, gpu_id=-1, importance_type=None,\n",
       "              interaction_constraints='', learning_rate=0.03, max_delta_step=0,\n",
       "              max_depth=6, min_child_weight=1, missing=nan,\n",
       "              monotone_constraints='()', n_estimators=100, n_jobs=8,\n",
       "              num_parallel_tree=1, predictor='auto', random_state=180123,\n",
       "              reg_alpha=5, reg_lambda=1, scale_pos_weight=1, subsample=1,\n",
       "              tree_method='exact', validate_parameters=1, verbosity=0)"
      ]
     },
     "execution_count": 50,
     "metadata": {},
     "output_type": "execute_result"
    }
   ],
   "source": [
    "xgb.fit(X_train, y_train, sample_weight=classes_weights)"
   ]
  },
  {
   "cell_type": "code",
   "execution_count": 51,
   "id": "aac32323",
   "metadata": {},
   "outputs": [
    {
     "data": {
      "text/plain": [
       "0.8602442139412475"
      ]
     },
     "execution_count": 51,
     "metadata": {},
     "output_type": "execute_result"
    }
   ],
   "source": [
    "cross_val_score(xgb, X_train, y_train, scoring='roc_auc', cv=3).mean()"
   ]
  },
  {
   "cell_type": "code",
   "execution_count": 52,
   "id": "e40c961c",
   "metadata": {},
   "outputs": [],
   "source": [
    "params_xgb = {'max_depth': range(3, 25, 3), 'n_estimators': range(100, 600, 200)}\n",
    "xgb = XGBClassifier(random_state=RANDOM_STATE, verbosity=0, alpha=5, learning_rate=0.05)\n",
    "#grid_xgb = GridSearchCV(xgb, params_xgb, cv=3)"
   ]
  },
  {
   "cell_type": "code",
   "execution_count": 53,
   "id": "e5770d6d",
   "metadata": {},
   "outputs": [
    {
     "name": "stdout",
     "output_type": "stream",
     "text": [
      "CPU times: user 2 µs, sys: 0 ns, total: 2 µs\n",
      "Wall time: 5.72 µs\n"
     ]
    }
   ],
   "source": [
    "%%time\n",
    "#grid_xgb.fit(X_train, y_train)"
   ]
  },
  {
   "cell_type": "code",
   "execution_count": 54,
   "id": "f53aba68",
   "metadata": {},
   "outputs": [],
   "source": [
    "#best_xgb = grid_xgb.best_estimator_\n",
    "#cross_val_score(best_xgb, X_train, y_train, scoring='roc_auc', cv=3).mean()"
   ]
  },
  {
   "cell_type": "code",
   "execution_count": 55,
   "id": "94de9b22",
   "metadata": {},
   "outputs": [],
   "source": [
    "#grid_xgb.best_params_"
   ]
  },
  {
   "cell_type": "code",
   "execution_count": 56,
   "id": "8441870f",
   "metadata": {},
   "outputs": [
    {
     "data": {
      "text/plain": [
       "0.8735633658033936"
      ]
     },
     "execution_count": 56,
     "metadata": {},
     "output_type": "execute_result"
    }
   ],
   "source": [
    "best_xgb = XGBClassifier(random_state=RANDOM_STATE, n_estimators=500, max_depth=3, verbosity=0, alpha=5, learning_rate=0.05)\n",
    "cross_val_score(best_xgb, X_train, y_train, scoring='roc_auc', cv=3).mean()"
   ]
  },
  {
   "cell_type": "markdown",
   "id": "a6b4e795",
   "metadata": {},
   "source": [
    "##  Метрики"
   ]
  },
  {
   "cell_type": "code",
   "execution_count": 57,
   "id": "bafb6fbc",
   "metadata": {},
   "outputs": [
    {
     "data": {
      "text/plain": [
       "<catboost.core.CatBoostClassifier at 0x7f8ec5d25490>"
      ]
     },
     "execution_count": 57,
     "metadata": {},
     "output_type": "execute_result"
    }
   ],
   "source": [
    "model = CatBoostClassifier(verbose=False, random_state=RANDOM_STATE, max_depth=6, iterations=1000, \\\n",
    "                           learning_rate=0.03, class_weights=class_weights)\n",
    "model.fit(X_train, y_train)"
   ]
  },
  {
   "cell_type": "code",
   "execution_count": 58,
   "id": "3014734c",
   "metadata": {},
   "outputs": [
    {
     "data": {
      "text/plain": [
       "0.907771249302103"
      ]
     },
     "execution_count": 58,
     "metadata": {},
     "output_type": "execute_result"
    }
   ],
   "source": [
    "predictions = model.predict_proba(X_test)[:, 1]\n",
    "roc_auc_score(y_test, predictions)"
   ]
  },
  {
   "cell_type": "code",
   "execution_count": 59,
   "id": "da0d5fcb",
   "metadata": {},
   "outputs": [
    {
     "data": {
      "image/png": "[encoded data removed]",
      "text/plain": [
       "<Figure size 864x432 with 1 Axes>"
      ]
     },
     "metadata": {
      "needs_background": "light"
     },
     "output_type": "display_data"
    }
   ],
   "source": [
    "importance = model.feature_importances_\n",
    "sorted_idx = np.argsort(importance)\n",
    "fig = plt.figure(figsize=(12, 6))\n",
    "plt.barh(range(len(sorted_idx)), importance[sorted_idx], align='center')\n",
    "plt.yticks(range(len(sorted_idx)), np.array(X_test.columns)[sorted_idx])\n",
    "plt.title('Feature Importance')\n",
    "plt.show()"
   ]
  },
  {
   "cell_type": "code",
   "execution_count": 60,
   "id": "ac39fcde",
   "metadata": {},
   "outputs": [
    {
     "data": {
      "image/png": "[encoded data removed]",
      "text/plain": [
       "<Figure size 432x288 with 1 Axes>"
      ]
     },
     "metadata": {
      "needs_background": "light"
     },
     "output_type": "display_data"
    }
   ],
   "source": [
    "fpr, tpr, _ = roc_curve(y_test,  predictions)\n",
    "plt.title('ROC-curve')\n",
    "plt.xlabel('fpr')\n",
    "plt.ylabel('tpr')\n",
    "plt.plot(fpr,tpr)\n",
    "plt.show()"
   ]
  },
  {
   "cell_type": "markdown",
   "id": "ea051332",
   "metadata": {},
   "source": [
    "## Вывод"
   ]
  },
  {
   "cell_type": "markdown",
   "id": "26a536a6",
   "metadata": {},
   "source": [
    "Все пункты плана были выполнены.\n",
    "Трудностей почти не было, если и были, то были только в том, что невнимательно прочитал памятку по проекту.\n",
    "Ключевым шагом было создание фичи life_time, после которой очень возросло качество предсказаний.\n",
    "В данной работе были предобработаны данные, удалены пропуски, все признаки переведены в int или float. Проблема дисбаланса классов решена с помощью весов классов. Были построены catboost, xgboost и случайный лес. В моделях исполоьзовались следующие признаки: \n",
    "\n",
    "['PaperlessBilling', 'MonthlyCharges', 'TotalCharges', 'gender',\n",
    "       'SeniorCitizen', 'Partner', 'Dependents', 'InternetService',\n",
    "       'OnlineSecurity', 'OnlineBackup', 'DeviceProtection', 'TechSupport',\n",
    "       'StreamingTV', 'StreamingMovies', 'MultipleLines', 'life_time',\n",
    "       'totalChargeLog', 'Type_One year', 'Type_Two year',\n",
    "       'PaymentMethod_Credit card (automatic)',\n",
    "       'PaymentMethod_Electronic check', 'PaymentMethod_Mailed check'],\n",
    "       \n",
    "где lifetime - время жизни клиента до настоящего момента, totalChargeLog - преобразованный методом Бокса-Кокса признак TotalCharges, а остальные признаки - признаки с исходных таблиц, некоторые из них были преобразованы с помощью one hot encoding. Так же для этих признаков были посчитаны feature importances.\n",
    "\n",
    "Лучшей моделью оказался catboost с 1000 интерациями и максимальной глубиной 6. Данная модель показала <b>roc_auc_score = 0.90</b>."
   ]
  },
  {
   "cell_type": "code",
   "execution_count": null,
   "id": "f804140f",
   "metadata": {},
   "outputs": [],
   "source": []
  }
 ],
 "metadata": {
  "ExecuteTimeLog": [
   {
    "duration": 4240,
    "start_time": "2023-01-19T15:32:42.313Z"
   },
   {
    "duration": 135,
    "start_time": "2023-01-19T15:32:46.555Z"
   },
   {
    "duration": 513,
    "start_time": "2023-01-19T15:32:56.460Z"
   },
   {
    "duration": 24,
    "start_time": "2023-01-19T15:32:57.034Z"
   },
   {
    "duration": 12,
    "start_time": "2023-01-19T15:32:57.434Z"
   },
   {
    "duration": 15,
    "start_time": "2023-01-19T15:32:57.886Z"
   },
   {
    "duration": 8,
    "start_time": "2023-01-19T15:32:58.087Z"
   },
   {
    "duration": 10,
    "start_time": "2023-01-19T15:32:58.258Z"
   },
   {
    "duration": 5,
    "start_time": "2023-01-19T15:32:58.429Z"
   },
   {
    "duration": 6,
    "start_time": "2023-01-19T15:32:58.604Z"
   },
   {
    "duration": 51,
    "start_time": "2023-01-19T15:32:58.799Z"
   },
   {
    "duration": 78,
    "start_time": "2023-01-19T15:32:58.976Z"
   },
   {
    "duration": 14,
    "start_time": "2023-01-19T15:32:59.150Z"
   },
   {
    "duration": 3,
    "start_time": "2023-01-19T15:32:59.527Z"
   },
   {
    "duration": 11,
    "start_time": "2023-01-19T15:32:59.703Z"
   },
   {
    "duration": 2294,
    "start_time": "2023-01-19T15:32:59.886Z"
   },
   {
    "duration": 91,
    "start_time": "2023-01-19T15:33:02.182Z"
   },
   {
    "duration": 500,
    "start_time": "2023-01-19T15:33:02.275Z"
   },
   {
    "duration": 23,
    "start_time": "2023-01-19T15:33:02.778Z"
   },
   {
    "duration": 5,
    "start_time": "2023-01-19T15:33:02.803Z"
   },
   {
    "duration": 51,
    "start_time": "2023-01-19T15:33:02.810Z"
   },
   {
    "duration": 13,
    "start_time": "2023-01-19T15:33:02.863Z"
   },
   {
    "duration": 10,
    "start_time": "2023-01-19T15:33:02.877Z"
   },
   {
    "duration": 5,
    "start_time": "2023-01-19T15:33:02.889Z"
   },
   {
    "duration": 23,
    "start_time": "2023-01-19T15:33:02.896Z"
   },
   {
    "duration": 7,
    "start_time": "2023-01-19T15:33:02.920Z"
   },
   {
    "duration": 4,
    "start_time": "2023-01-19T15:33:03.904Z"
   },
   {
    "duration": 1210,
    "start_time": "2023-01-19T15:33:04.345Z"
   },
   {
    "duration": 100,
    "start_time": "2023-01-19T15:33:05.558Z"
   },
   {
    "duration": 9,
    "start_time": "2023-01-19T15:33:05.750Z"
   },
   {
    "duration": 3276,
    "start_time": "2023-01-19T15:33:05.762Z"
   },
   {
    "duration": 7,
    "start_time": "2023-01-19T15:33:09.039Z"
   },
   {
    "duration": 3,
    "start_time": "2023-01-19T15:33:09.048Z"
   },
   {
    "duration": 61039,
    "start_time": "2023-01-19T15:33:09.053Z"
   },
   {
    "duration": 7,
    "start_time": "2023-01-19T15:34:10.094Z"
   },
   {
    "duration": 6,
    "start_time": "2023-01-19T15:34:10.102Z"
   },
   {
    "duration": 5,
    "start_time": "2023-01-19T15:34:10.109Z"
   },
   {
    "duration": 486,
    "start_time": "2023-01-19T15:34:10.116Z"
   },
   {
    "duration": 50,
    "start_time": "2023-01-19T15:34:10.604Z"
   },
   {
    "duration": 3,
    "start_time": "2023-01-19T15:34:10.655Z"
   },
   {
    "duration": 76057,
    "start_time": "2023-01-19T15:34:10.659Z"
   },
   {
    "duration": 53,
    "start_time": "2023-01-19T15:35:26.718Z"
   },
   {
    "duration": 4,
    "start_time": "2023-01-19T15:35:26.773Z"
   },
   {
    "duration": 6,
    "start_time": "2023-01-19T15:35:26.779Z"
   },
   {
    "duration": 152824,
    "start_time": "2023-01-19T15:35:26.787Z"
   },
   {
    "duration": 4,
    "start_time": "2023-01-19T15:37:59.613Z"
   },
   {
    "duration": 2827,
    "start_time": "2023-01-19T15:37:59.618Z"
   },
   {
    "duration": 5,
    "start_time": "2023-01-19T15:38:02.447Z"
   },
   {
    "duration": 39,
    "start_time": "2023-01-19T15:38:02.454Z"
   },
   {
    "duration": 14,
    "start_time": "2023-01-19T15:38:02.494Z"
   },
   {
    "duration": 49,
    "start_time": "2023-01-19T15:38:02.509Z"
   },
   {
    "duration": 0,
    "start_time": "2023-01-19T15:38:02.559Z"
   },
   {
    "duration": 0,
    "start_time": "2023-01-19T15:38:02.561Z"
   },
   {
    "duration": 0,
    "start_time": "2023-01-19T15:38:02.562Z"
   },
   {
    "duration": 54,
    "start_time": "2023-01-19T15:40:13.019Z"
   },
   {
    "duration": 52,
    "start_time": "2023-01-19T15:41:19.435Z"
   },
   {
    "duration": 1677,
    "start_time": "2023-01-21T06:33:17.098Z"
   },
   {
    "duration": 264,
    "start_time": "2023-01-21T06:33:18.778Z"
   },
   {
    "duration": 20,
    "start_time": "2023-01-21T06:33:19.044Z"
   },
   {
    "duration": 13,
    "start_time": "2023-01-21T06:33:19.065Z"
   },
   {
    "duration": 17,
    "start_time": "2023-01-21T06:33:19.080Z"
   },
   {
    "duration": 16,
    "start_time": "2023-01-21T06:33:19.099Z"
   },
   {
    "duration": 25,
    "start_time": "2023-01-21T06:33:19.117Z"
   },
   {
    "duration": 7,
    "start_time": "2023-01-21T06:33:19.150Z"
   },
   {
    "duration": 6,
    "start_time": "2023-01-21T06:33:20.875Z"
   },
   {
    "duration": 55,
    "start_time": "2023-01-21T06:33:21.448Z"
   },
   {
    "duration": 69,
    "start_time": "2023-01-21T06:33:22.338Z"
   },
   {
    "duration": 90,
    "start_time": "2023-01-21T06:34:02.782Z"
   },
   {
    "duration": 17,
    "start_time": "2023-01-21T06:34:18.986Z"
   },
   {
    "duration": 3,
    "start_time": "2023-01-21T06:34:20.850Z"
   },
   {
    "duration": 11,
    "start_time": "2023-01-21T06:35:10.482Z"
   },
   {
    "duration": 28,
    "start_time": "2023-01-21T06:35:29.763Z"
   },
   {
    "duration": 4,
    "start_time": "2023-01-21T06:42:11.451Z"
   },
   {
    "duration": 92,
    "start_time": "2023-01-21T06:42:11.603Z"
   },
   {
    "duration": 17,
    "start_time": "2023-01-21T06:42:11.698Z"
   },
   {
    "duration": 13,
    "start_time": "2023-01-21T06:42:11.767Z"
   },
   {
    "duration": 13,
    "start_time": "2023-01-21T06:42:12.086Z"
   },
   {
    "duration": 9,
    "start_time": "2023-01-21T06:42:12.338Z"
   },
   {
    "duration": 12,
    "start_time": "2023-01-21T06:42:12.640Z"
   },
   {
    "duration": 5,
    "start_time": "2023-01-21T06:42:12.891Z"
   },
   {
    "duration": 7,
    "start_time": "2023-01-21T06:42:13.378Z"
   },
   {
    "duration": 56,
    "start_time": "2023-01-21T06:42:13.604Z"
   },
   {
    "duration": 73,
    "start_time": "2023-01-21T06:42:14.030Z"
   },
   {
    "duration": 90,
    "start_time": "2023-01-21T06:42:22.072Z"
   },
   {
    "duration": 13,
    "start_time": "2023-01-21T06:42:22.323Z"
   },
   {
    "duration": 3,
    "start_time": "2023-01-21T06:42:24.629Z"
   },
   {
    "duration": 7,
    "start_time": "2023-01-21T06:42:25.721Z"
   },
   {
    "duration": 737,
    "start_time": "2023-01-21T06:42:27.375Z"
   },
   {
    "duration": 20,
    "start_time": "2023-01-21T06:43:02.203Z"
   },
   {
    "duration": 4,
    "start_time": "2023-01-21T06:43:07.545Z"
   },
   {
    "duration": 2625,
    "start_time": "2023-01-21T06:43:16.975Z"
   },
   {
    "duration": 5,
    "start_time": "2023-01-21T06:43:44.281Z"
   },
   {
    "duration": 30,
    "start_time": "2023-01-21T06:47:45.507Z"
   },
   {
    "duration": 1016,
    "start_time": "2023-01-21T06:48:03.058Z"
   },
   {
    "duration": 1121,
    "start_time": "2023-01-21T06:48:11.203Z"
   },
   {
    "duration": 1052,
    "start_time": "2023-01-21T06:48:19.804Z"
   },
   {
    "duration": 1626,
    "start_time": "2023-01-21T06:48:57.821Z"
   },
   {
    "duration": 1662,
    "start_time": "2023-01-21T06:49:38.330Z"
   },
   {
    "duration": 1961,
    "start_time": "2023-01-21T06:50:32.010Z"
   },
   {
    "duration": 1830,
    "start_time": "2023-01-21T06:50:39.128Z"
   },
   {
    "duration": 1575,
    "start_time": "2023-01-21T06:51:11.783Z"
   },
   {
    "duration": 1949,
    "start_time": "2023-01-21T06:51:17.453Z"
   },
   {
    "duration": 2083,
    "start_time": "2023-01-21T06:51:31.123Z"
   },
   {
    "duration": 13,
    "start_time": "2023-01-21T07:00:11.658Z"
   },
   {
    "duration": 1392,
    "start_time": "2023-01-21T07:00:42.463Z"
   },
   {
    "duration": 17,
    "start_time": "2023-01-21T07:00:44.775Z"
   },
   {
    "duration": 2893,
    "start_time": "2023-01-21T07:04:18.781Z"
   },
   {
    "duration": 16,
    "start_time": "2023-01-21T07:04:26.163Z"
   },
   {
    "duration": 6707,
    "start_time": "2023-01-21T07:08:09.171Z"
   },
   {
    "duration": 3463,
    "start_time": "2023-01-21T07:08:19.412Z"
   },
   {
    "duration": 13760,
    "start_time": "2023-01-21T07:11:33.766Z"
   },
   {
    "duration": 2194,
    "start_time": "2023-01-21T07:17:28.136Z"
   },
   {
    "duration": 35,
    "start_time": "2023-01-21T07:17:30.333Z"
   },
   {
    "duration": 88,
    "start_time": "2023-01-21T07:17:30.370Z"
   },
   {
    "duration": 17,
    "start_time": "2023-01-21T07:17:30.460Z"
   },
   {
    "duration": 39,
    "start_time": "2023-01-21T07:17:30.479Z"
   },
   {
    "duration": 36,
    "start_time": "2023-01-21T07:17:30.520Z"
   },
   {
    "duration": 32,
    "start_time": "2023-01-21T07:17:30.558Z"
   },
   {
    "duration": 35,
    "start_time": "2023-01-21T07:17:30.592Z"
   },
   {
    "duration": 35,
    "start_time": "2023-01-21T07:17:30.629Z"
   },
   {
    "duration": 36,
    "start_time": "2023-01-21T07:17:30.666Z"
   },
   {
    "duration": 79,
    "start_time": "2023-01-21T07:17:30.703Z"
   },
   {
    "duration": 66,
    "start_time": "2023-01-21T07:17:30.867Z"
   },
   {
    "duration": 102,
    "start_time": "2023-01-21T07:17:31.651Z"
   },
   {
    "duration": 15,
    "start_time": "2023-01-21T07:17:31.972Z"
   },
   {
    "duration": 2,
    "start_time": "2023-01-21T07:17:32.976Z"
   },
   {
    "duration": 6,
    "start_time": "2023-01-21T07:17:33.824Z"
   },
   {
    "duration": 21,
    "start_time": "2023-01-21T07:17:34.276Z"
   },
   {
    "duration": 5,
    "start_time": "2023-01-21T07:17:36.798Z"
   },
   {
    "duration": 23,
    "start_time": "2023-01-21T07:17:44.580Z"
   },
   {
    "duration": 4,
    "start_time": "2023-01-21T07:17:47.231Z"
   },
   {
    "duration": 27,
    "start_time": "2023-01-21T07:17:48.055Z"
   },
   {
    "duration": 13,
    "start_time": "2023-01-21T07:17:49.660Z"
   },
   {
    "duration": 2569,
    "start_time": "2023-01-21T07:17:51.388Z"
   },
   {
    "duration": 0,
    "start_time": "2023-01-21T07:17:53.959Z"
   },
   {
    "duration": 2214,
    "start_time": "2023-01-21T07:18:25.393Z"
   },
   {
    "duration": 5,
    "start_time": "2023-01-21T07:18:27.610Z"
   },
   {
    "duration": 90,
    "start_time": "2023-01-21T07:18:27.617Z"
   },
   {
    "duration": 17,
    "start_time": "2023-01-21T07:18:27.709Z"
   },
   {
    "duration": 16,
    "start_time": "2023-01-21T07:18:27.727Z"
   },
   {
    "duration": 14,
    "start_time": "2023-01-21T07:18:27.745Z"
   },
   {
    "duration": 10,
    "start_time": "2023-01-21T07:18:27.761Z"
   },
   {
    "duration": 12,
    "start_time": "2023-01-21T07:18:27.772Z"
   },
   {
    "duration": 6,
    "start_time": "2023-01-21T07:18:27.785Z"
   },
   {
    "duration": 7,
    "start_time": "2023-01-21T07:18:27.793Z"
   },
   {
    "duration": 78,
    "start_time": "2023-01-21T07:18:27.801Z"
   },
   {
    "duration": 82,
    "start_time": "2023-01-21T07:18:27.880Z"
   },
   {
    "duration": 105,
    "start_time": "2023-01-21T07:18:27.963Z"
   },
   {
    "duration": 15,
    "start_time": "2023-01-21T07:18:28.069Z"
   },
   {
    "duration": 3,
    "start_time": "2023-01-21T07:18:28.085Z"
   },
   {
    "duration": 8,
    "start_time": "2023-01-21T07:18:28.090Z"
   },
   {
    "duration": 21,
    "start_time": "2023-01-21T07:18:28.101Z"
   },
   {
    "duration": 4,
    "start_time": "2023-01-21T07:18:28.430Z"
   },
   {
    "duration": 24,
    "start_time": "2023-01-21T07:18:30.309Z"
   },
   {
    "duration": 4,
    "start_time": "2023-01-21T07:18:32.023Z"
   },
   {
    "duration": 15,
    "start_time": "2023-01-21T07:18:33.518Z"
   },
   {
    "duration": 2531,
    "start_time": "2023-01-21T07:18:35.589Z"
   },
   {
    "duration": 865,
    "start_time": "2023-01-21T07:18:38.122Z"
   },
   {
    "duration": 3873,
    "start_time": "2023-01-21T07:19:58.381Z"
   },
   {
    "duration": 3719,
    "start_time": "2023-01-21T07:20:41.469Z"
   },
   {
    "duration": 2185,
    "start_time": "2023-01-21T07:23:54.823Z"
   },
   {
    "duration": 5,
    "start_time": "2023-01-21T07:23:57.010Z"
   },
   {
    "duration": 93,
    "start_time": "2023-01-21T07:23:57.017Z"
   },
   {
    "duration": 18,
    "start_time": "2023-01-21T07:23:57.112Z"
   },
   {
    "duration": 20,
    "start_time": "2023-01-21T07:23:57.132Z"
   },
   {
    "duration": 14,
    "start_time": "2023-01-21T07:23:57.154Z"
   },
   {
    "duration": 11,
    "start_time": "2023-01-21T07:23:57.170Z"
   },
   {
    "duration": 13,
    "start_time": "2023-01-21T07:23:57.183Z"
   },
   {
    "duration": 6,
    "start_time": "2023-01-21T07:23:57.198Z"
   },
   {
    "duration": 11,
    "start_time": "2023-01-21T07:23:57.206Z"
   },
   {
    "duration": 87,
    "start_time": "2023-01-21T07:23:57.219Z"
   },
   {
    "duration": 103,
    "start_time": "2023-01-21T07:23:57.308Z"
   },
   {
    "duration": 162,
    "start_time": "2023-01-21T07:23:57.413Z"
   },
   {
    "duration": 20,
    "start_time": "2023-01-21T07:23:57.576Z"
   },
   {
    "duration": 9,
    "start_time": "2023-01-21T07:23:57.598Z"
   },
   {
    "duration": 7,
    "start_time": "2023-01-21T07:23:57.609Z"
   },
   {
    "duration": 38,
    "start_time": "2023-01-21T07:23:57.618Z"
   },
   {
    "duration": 4,
    "start_time": "2023-01-21T07:23:58.854Z"
   },
   {
    "duration": 23,
    "start_time": "2023-01-21T07:24:00.824Z"
   },
   {
    "duration": 4,
    "start_time": "2023-01-21T07:24:00.992Z"
   },
   {
    "duration": 12,
    "start_time": "2023-01-21T07:24:01.256Z"
   },
   {
    "duration": 2190,
    "start_time": "2023-01-21T07:24:01.414Z"
   },
   {
    "duration": 3665,
    "start_time": "2023-01-21T07:24:03.605Z"
   },
   {
    "duration": 33,
    "start_time": "2023-01-21T07:24:07.272Z"
   },
   {
    "duration": 19,
    "start_time": "2023-01-21T07:24:07.308Z"
   },
   {
    "duration": 38,
    "start_time": "2023-01-21T07:24:07.329Z"
   },
   {
    "duration": 63,
    "start_time": "2023-01-21T07:24:07.370Z"
   },
   {
    "duration": 41,
    "start_time": "2023-01-21T07:24:07.436Z"
   },
   {
    "duration": 31,
    "start_time": "2023-01-21T07:24:07.479Z"
   },
   {
    "duration": 1232,
    "start_time": "2023-01-21T07:24:07.823Z"
   },
   {
    "duration": 100,
    "start_time": "2023-01-21T07:24:09.062Z"
   },
   {
    "duration": 3,
    "start_time": "2023-01-21T07:24:19.557Z"
   },
   {
    "duration": 3530,
    "start_time": "2023-01-21T07:24:19.702Z"
   },
   {
    "duration": 9,
    "start_time": "2023-01-21T07:24:23.234Z"
   },
   {
    "duration": 18,
    "start_time": "2023-01-21T07:25:00.003Z"
   },
   {
    "duration": 4,
    "start_time": "2023-01-21T07:25:09.732Z"
   },
   {
    "duration": 25,
    "start_time": "2023-01-21T07:25:11.067Z"
   },
   {
    "duration": 7,
    "start_time": "2023-01-21T07:25:11.201Z"
   },
   {
    "duration": 6,
    "start_time": "2023-01-21T07:25:11.354Z"
   },
   {
    "duration": 13,
    "start_time": "2023-01-21T07:25:11.531Z"
   },
   {
    "duration": 8,
    "start_time": "2023-01-21T07:25:11.985Z"
   },
   {
    "duration": 3,
    "start_time": "2023-01-21T07:25:12.923Z"
   },
   {
    "duration": 1229,
    "start_time": "2023-01-21T07:25:13.132Z"
   },
   {
    "duration": 190,
    "start_time": "2023-01-21T07:25:14.363Z"
   },
   {
    "duration": 3,
    "start_time": "2023-01-21T07:25:14.656Z"
   },
   {
    "duration": 3550,
    "start_time": "2023-01-21T07:25:15.580Z"
   },
   {
    "duration": 8,
    "start_time": "2023-01-21T07:25:19.132Z"
   },
   {
    "duration": 2231,
    "start_time": "2023-01-21T07:25:53.182Z"
   },
   {
    "duration": 5,
    "start_time": "2023-01-21T07:25:55.415Z"
   },
   {
    "duration": 101,
    "start_time": "2023-01-21T07:25:55.421Z"
   },
   {
    "duration": 15,
    "start_time": "2023-01-21T07:25:55.523Z"
   },
   {
    "duration": 21,
    "start_time": "2023-01-21T07:25:55.540Z"
   },
   {
    "duration": 21,
    "start_time": "2023-01-21T07:25:55.562Z"
   },
   {
    "duration": 13,
    "start_time": "2023-01-21T07:25:55.585Z"
   },
   {
    "duration": 13,
    "start_time": "2023-01-21T07:25:55.599Z"
   },
   {
    "duration": 10,
    "start_time": "2023-01-21T07:25:55.613Z"
   },
   {
    "duration": 9,
    "start_time": "2023-01-21T07:25:55.626Z"
   },
   {
    "duration": 64,
    "start_time": "2023-01-21T07:25:55.637Z"
   },
   {
    "duration": 77,
    "start_time": "2023-01-21T07:25:55.703Z"
   },
   {
    "duration": 116,
    "start_time": "2023-01-21T07:25:55.782Z"
   },
   {
    "duration": 14,
    "start_time": "2023-01-21T07:25:55.899Z"
   },
   {
    "duration": 3,
    "start_time": "2023-01-21T07:25:55.915Z"
   },
   {
    "duration": 8,
    "start_time": "2023-01-21T07:25:56.450Z"
   },
   {
    "duration": 22,
    "start_time": "2023-01-21T07:25:56.579Z"
   },
   {
    "duration": 5,
    "start_time": "2023-01-21T07:25:56.885Z"
   },
   {
    "duration": 25,
    "start_time": "2023-01-21T07:25:58.382Z"
   },
   {
    "duration": 4,
    "start_time": "2023-01-21T07:25:58.690Z"
   },
   {
    "duration": 4,
    "start_time": "2023-01-21T07:30:11.756Z"
   },
   {
    "duration": 3,
    "start_time": "2023-01-21T07:30:33.491Z"
   },
   {
    "duration": 1428,
    "start_time": "2023-01-21T07:30:33.536Z"
   },
   {
    "duration": 17,
    "start_time": "2023-01-21T07:30:35.054Z"
   },
   {
    "duration": 4,
    "start_time": "2023-01-21T07:30:36.685Z"
   },
   {
    "duration": 3377,
    "start_time": "2023-01-21T07:30:36.900Z"
   },
   {
    "duration": 7,
    "start_time": "2023-01-21T07:30:40.278Z"
   },
   {
    "duration": 4,
    "start_time": "2023-01-21T07:39:02.867Z"
   },
   {
    "duration": 83,
    "start_time": "2023-01-21T07:39:03.028Z"
   },
   {
    "duration": 13,
    "start_time": "2023-01-21T07:39:03.113Z"
   },
   {
    "duration": 13,
    "start_time": "2023-01-21T07:39:03.190Z"
   },
   {
    "duration": 12,
    "start_time": "2023-01-21T07:39:03.278Z"
   },
   {
    "duration": 10,
    "start_time": "2023-01-21T07:39:03.365Z"
   },
   {
    "duration": 11,
    "start_time": "2023-01-21T07:39:03.448Z"
   },
   {
    "duration": 7,
    "start_time": "2023-01-21T07:39:03.527Z"
   },
   {
    "duration": 6,
    "start_time": "2023-01-21T07:39:03.700Z"
   },
   {
    "duration": 51,
    "start_time": "2023-01-21T07:39:03.785Z"
   },
   {
    "duration": 65,
    "start_time": "2023-01-21T07:39:03.871Z"
   },
   {
    "duration": 120,
    "start_time": "2023-01-21T07:39:04.054Z"
   },
   {
    "duration": 14,
    "start_time": "2023-01-21T07:39:04.176Z"
   },
   {
    "duration": 2,
    "start_time": "2023-01-21T07:39:04.280Z"
   },
   {
    "duration": 6,
    "start_time": "2023-01-21T07:39:04.449Z"
   },
   {
    "duration": 21,
    "start_time": "2023-01-21T07:39:04.845Z"
   },
   {
    "duration": 4,
    "start_time": "2023-01-21T07:39:05.426Z"
   },
   {
    "duration": 5,
    "start_time": "2023-01-21T07:39:05.852Z"
   },
   {
    "duration": 5,
    "start_time": "2023-01-21T07:39:06.352Z"
   },
   {
    "duration": 14,
    "start_time": "2023-01-21T07:39:07.010Z"
   },
   {
    "duration": 2087,
    "start_time": "2023-01-21T07:39:07.173Z"
   },
   {
    "duration": 27,
    "start_time": "2023-01-21T07:39:09.263Z"
   },
   {
    "duration": 7,
    "start_time": "2023-01-21T07:39:09.292Z"
   },
   {
    "duration": 9,
    "start_time": "2023-01-21T07:39:09.301Z"
   },
   {
    "duration": 13,
    "start_time": "2023-01-21T07:39:09.311Z"
   },
   {
    "duration": 6,
    "start_time": "2023-01-21T07:39:09.353Z"
   },
   {
    "duration": 3,
    "start_time": "2023-01-21T07:39:11.011Z"
   },
   {
    "duration": 3326,
    "start_time": "2023-01-21T07:39:11.165Z"
   },
   {
    "duration": 8,
    "start_time": "2023-01-21T07:39:14.493Z"
   },
   {
    "duration": 88,
    "start_time": "2023-01-21T08:00:34.383Z"
   },
   {
    "duration": 5,
    "start_time": "2023-01-21T08:01:11.959Z"
   },
   {
    "duration": 4,
    "start_time": "2023-01-21T08:10:49.830Z"
   },
   {
    "duration": 88,
    "start_time": "2023-01-21T08:10:49.990Z"
   },
   {
    "duration": 17,
    "start_time": "2023-01-21T08:10:50.080Z"
   },
   {
    "duration": 13,
    "start_time": "2023-01-21T08:10:50.154Z"
   },
   {
    "duration": 11,
    "start_time": "2023-01-21T08:10:50.239Z"
   },
   {
    "duration": 9,
    "start_time": "2023-01-21T08:10:50.322Z"
   },
   {
    "duration": 12,
    "start_time": "2023-01-21T08:10:50.407Z"
   },
   {
    "duration": 6,
    "start_time": "2023-01-21T08:10:50.491Z"
   },
   {
    "duration": 8,
    "start_time": "2023-01-21T08:10:50.661Z"
   },
   {
    "duration": 55,
    "start_time": "2023-01-21T08:10:51.040Z"
   },
   {
    "duration": 67,
    "start_time": "2023-01-21T08:10:51.538Z"
   },
   {
    "duration": 87,
    "start_time": "2023-01-21T08:10:51.707Z"
   },
   {
    "duration": 12,
    "start_time": "2023-01-21T08:10:51.796Z"
   },
   {
    "duration": 2,
    "start_time": "2023-01-21T08:10:51.953Z"
   },
   {
    "duration": 6,
    "start_time": "2023-01-21T08:10:52.587Z"
   },
   {
    "duration": 18,
    "start_time": "2023-01-21T08:10:52.795Z"
   },
   {
    "duration": 4,
    "start_time": "2023-01-21T08:10:53.343Z"
   },
   {
    "duration": 4,
    "start_time": "2023-01-21T08:10:54.939Z"
   },
   {
    "duration": 4,
    "start_time": "2023-01-21T08:10:55.365Z"
   },
   {
    "duration": 12,
    "start_time": "2023-01-21T08:10:56.103Z"
   },
   {
    "duration": 2154,
    "start_time": "2023-01-21T08:10:56.729Z"
   },
   {
    "duration": 98,
    "start_time": "2023-01-21T08:10:58.885Z"
   },
   {
    "duration": 6,
    "start_time": "2023-01-21T08:10:58.985Z"
   },
   {
    "duration": 28,
    "start_time": "2023-01-21T08:11:15.297Z"
   },
   {
    "duration": 8,
    "start_time": "2023-01-21T08:11:15.445Z"
   },
   {
    "duration": 6,
    "start_time": "2023-01-21T08:11:15.613Z"
   },
   {
    "duration": 7,
    "start_time": "2023-01-21T08:11:15.745Z"
   },
   {
    "duration": 3,
    "start_time": "2023-01-21T08:11:16.463Z"
   },
   {
    "duration": 596,
    "start_time": "2023-01-21T08:11:16.931Z"
   },
   {
    "duration": 0,
    "start_time": "2023-01-21T08:11:17.529Z"
   },
   {
    "duration": 2,
    "start_time": "2023-01-21T08:11:32.687Z"
   },
   {
    "duration": 2368,
    "start_time": "2023-01-21T08:11:34.305Z"
   },
   {
    "duration": 0,
    "start_time": "2023-01-21T08:11:36.674Z"
   },
   {
    "duration": 4,
    "start_time": "2023-01-21T08:15:02.060Z"
   },
   {
    "duration": 85,
    "start_time": "2023-01-21T08:15:02.222Z"
   },
   {
    "duration": 17,
    "start_time": "2023-01-21T08:15:02.309Z"
   },
   {
    "duration": 12,
    "start_time": "2023-01-21T08:15:02.392Z"
   },
   {
    "duration": 13,
    "start_time": "2023-01-21T08:15:02.473Z"
   },
   {
    "duration": 8,
    "start_time": "2023-01-21T08:15:02.554Z"
   },
   {
    "duration": 11,
    "start_time": "2023-01-21T08:15:02.637Z"
   },
   {
    "duration": 6,
    "start_time": "2023-01-21T08:15:02.726Z"
   },
   {
    "duration": 6,
    "start_time": "2023-01-21T08:15:02.891Z"
   },
   {
    "duration": 51,
    "start_time": "2023-01-21T08:15:02.974Z"
   },
   {
    "duration": 68,
    "start_time": "2023-01-21T08:15:03.055Z"
   },
   {
    "duration": 82,
    "start_time": "2023-01-21T08:15:03.227Z"
   },
   {
    "duration": 12,
    "start_time": "2023-01-21T08:15:03.311Z"
   },
   {
    "duration": 4,
    "start_time": "2023-01-21T08:15:03.475Z"
   },
   {
    "duration": 7,
    "start_time": "2023-01-21T08:15:03.642Z"
   },
   {
    "duration": 18,
    "start_time": "2023-01-21T08:15:03.727Z"
   },
   {
    "duration": 4,
    "start_time": "2023-01-21T08:15:03.894Z"
   },
   {
    "duration": 4,
    "start_time": "2023-01-21T08:15:05.003Z"
   },
   {
    "duration": 4,
    "start_time": "2023-01-21T08:15:05.170Z"
   },
   {
    "duration": 11,
    "start_time": "2023-01-21T08:15:05.424Z"
   },
   {
    "duration": 2104,
    "start_time": "2023-01-21T08:15:05.590Z"
   },
   {
    "duration": 85,
    "start_time": "2023-01-21T08:15:07.696Z"
   },
   {
    "duration": 5,
    "start_time": "2023-01-21T08:15:07.783Z"
   },
   {
    "duration": 26,
    "start_time": "2023-01-21T08:15:07.790Z"
   },
   {
    "duration": 6,
    "start_time": "2023-01-21T08:15:07.818Z"
   },
   {
    "duration": 30,
    "start_time": "2023-01-21T08:15:07.825Z"
   },
   {
    "duration": 8,
    "start_time": "2023-01-21T08:15:07.857Z"
   },
   {
    "duration": 6,
    "start_time": "2023-01-21T08:15:07.867Z"
   },
   {
    "duration": 3,
    "start_time": "2023-01-21T08:15:08.484Z"
   },
   {
    "duration": 3003,
    "start_time": "2023-01-21T08:15:08.560Z"
   },
   {
    "duration": 12,
    "start_time": "2023-01-21T08:15:14.501Z"
   },
   {
    "duration": 4,
    "start_time": "2023-01-21T08:15:24.686Z"
   },
   {
    "duration": 58629,
    "start_time": "2023-01-21T08:15:30.118Z"
   },
   {
    "duration": 7,
    "start_time": "2023-01-21T08:16:28.749Z"
   },
   {
    "duration": 5,
    "start_time": "2023-01-21T08:16:28.757Z"
   },
   {
    "duration": 3,
    "start_time": "2023-01-21T08:17:12.596Z"
   },
   {
    "duration": 336,
    "start_time": "2023-01-21T08:17:12.927Z"
   },
   {
    "duration": 50,
    "start_time": "2023-01-21T08:17:13.759Z"
   },
   {
    "duration": 3,
    "start_time": "2023-01-21T08:17:15.996Z"
   },
   {
    "duration": 57323,
    "start_time": "2023-01-21T08:17:16.325Z"
   },
   {
    "duration": 140,
    "start_time": "2023-01-21T08:18:13.652Z"
   },
   {
    "duration": 6,
    "start_time": "2023-01-21T08:18:19.544Z"
   },
   {
    "duration": 71543,
    "start_time": "2023-01-21T08:18:19.706Z"
   },
   {
    "duration": 5,
    "start_time": "2023-01-21T08:19:48.648Z"
   },
   {
    "duration": 71801,
    "start_time": "2023-01-21T08:19:49.511Z"
   },
   {
    "duration": 4,
    "start_time": "2023-01-21T08:21:01.314Z"
   },
   {
    "duration": 3513,
    "start_time": "2023-01-21T08:30:40.546Z"
   },
   {
    "duration": 4,
    "start_time": "2023-01-21T08:30:44.900Z"
   },
   {
    "duration": 10,
    "start_time": "2023-01-21T08:30:47.085Z"
   },
   {
    "duration": 8,
    "start_time": "2023-01-21T08:30:54.122Z"
   },
   {
    "duration": 3,
    "start_time": "2023-01-21T08:31:42.763Z"
   },
   {
    "duration": 2984,
    "start_time": "2023-01-21T08:31:43.071Z"
   },
   {
    "duration": 18,
    "start_time": "2023-01-21T08:31:46.057Z"
   },
   {
    "duration": 20,
    "start_time": "2023-01-21T08:32:02.300Z"
   },
   {
    "duration": 76,
    "start_time": "2023-01-21T08:32:11.479Z"
   },
   {
    "duration": 9,
    "start_time": "2023-01-21T08:32:15.514Z"
   },
   {
    "duration": 28,
    "start_time": "2023-01-21T08:32:31.305Z"
   },
   {
    "duration": 12,
    "start_time": "2023-01-21T08:32:41.420Z"
   },
   {
    "duration": 29,
    "start_time": "2023-01-21T08:32:50.267Z"
   },
   {
    "duration": 35,
    "start_time": "2023-01-21T08:33:02.201Z"
   },
   {
    "duration": 6,
    "start_time": "2023-01-21T08:33:12.894Z"
   },
   {
    "duration": 28,
    "start_time": "2023-01-21T08:33:19.324Z"
   },
   {
    "duration": 6,
    "start_time": "2023-01-21T08:33:29.652Z"
   },
   {
    "duration": 9,
    "start_time": "2023-01-21T08:33:36.285Z"
   },
   {
    "duration": 9,
    "start_time": "2023-01-21T08:33:41.223Z"
   },
   {
    "duration": 7,
    "start_time": "2023-01-21T08:33:46.163Z"
   },
   {
    "duration": 9,
    "start_time": "2023-01-21T08:33:55.970Z"
   },
   {
    "duration": 4,
    "start_time": "2023-01-21T08:35:42.940Z"
   },
   {
    "duration": 97,
    "start_time": "2023-01-21T08:35:43.103Z"
   },
   {
    "duration": 19,
    "start_time": "2023-01-21T08:35:43.202Z"
   },
   {
    "duration": 13,
    "start_time": "2023-01-21T08:35:43.265Z"
   },
   {
    "duration": 13,
    "start_time": "2023-01-21T08:35:43.349Z"
   },
   {
    "duration": 9,
    "start_time": "2023-01-21T08:35:43.433Z"
   },
   {
    "duration": 15,
    "start_time": "2023-01-21T08:35:43.515Z"
   },
   {
    "duration": 6,
    "start_time": "2023-01-21T08:35:43.598Z"
   },
   {
    "duration": 6,
    "start_time": "2023-01-21T08:35:43.772Z"
   },
   {
    "duration": 58,
    "start_time": "2023-01-21T08:35:43.858Z"
   },
   {
    "duration": 77,
    "start_time": "2023-01-21T08:35:43.940Z"
   },
   {
    "duration": 83,
    "start_time": "2023-01-21T08:35:44.619Z"
   },
   {
    "duration": 14,
    "start_time": "2023-01-21T08:35:44.704Z"
   },
   {
    "duration": 3,
    "start_time": "2023-01-21T08:35:44.855Z"
   },
   {
    "duration": 9,
    "start_time": "2023-01-21T08:35:45.023Z"
   },
   {
    "duration": 27,
    "start_time": "2023-01-21T08:35:45.284Z"
   },
   {
    "duration": 4,
    "start_time": "2023-01-21T08:35:45.863Z"
   },
   {
    "duration": 10,
    "start_time": "2023-01-21T08:35:46.283Z"
   },
   {
    "duration": 4,
    "start_time": "2023-01-21T08:35:46.656Z"
   },
   {
    "duration": 16,
    "start_time": "2023-01-21T08:35:47.332Z"
   },
   {
    "duration": 1990,
    "start_time": "2023-01-21T08:35:47.491Z"
   },
   {
    "duration": 297,
    "start_time": "2023-01-21T08:35:49.483Z"
   },
   {
    "duration": 6,
    "start_time": "2023-01-21T08:35:49.782Z"
   },
   {
    "duration": 36,
    "start_time": "2023-01-21T08:35:49.791Z"
   },
   {
    "duration": 25,
    "start_time": "2023-01-21T08:35:49.829Z"
   },
   {
    "duration": 7,
    "start_time": "2023-01-21T08:35:49.856Z"
   },
   {
    "duration": 8,
    "start_time": "2023-01-21T08:35:49.865Z"
   },
   {
    "duration": 7,
    "start_time": "2023-01-21T08:35:49.874Z"
   },
   {
    "duration": 9,
    "start_time": "2023-01-21T08:35:49.882Z"
   },
   {
    "duration": 3322,
    "start_time": "2023-01-21T08:35:49.893Z"
   },
   {
    "duration": 11,
    "start_time": "2023-01-21T08:35:53.217Z"
   },
   {
    "duration": 4,
    "start_time": "2023-01-21T08:35:53.230Z"
   },
   {
    "duration": 60118,
    "start_time": "2023-01-21T08:35:53.235Z"
   },
   {
    "duration": 7,
    "start_time": "2023-01-21T08:36:53.356Z"
   },
   {
    "duration": 10,
    "start_time": "2023-01-21T08:36:53.365Z"
   },
   {
    "duration": 3,
    "start_time": "2023-01-21T08:36:53.378Z"
   },
   {
    "duration": 432,
    "start_time": "2023-01-21T08:36:53.383Z"
   },
   {
    "duration": 56,
    "start_time": "2023-01-21T08:36:53.817Z"
   },
   {
    "duration": 3,
    "start_time": "2023-01-21T08:36:53.875Z"
   },
   {
    "duration": 58701,
    "start_time": "2023-01-21T08:36:53.880Z"
   },
   {
    "duration": 138,
    "start_time": "2023-01-21T08:37:52.582Z"
   },
   {
    "duration": 5,
    "start_time": "2023-01-21T08:37:52.722Z"
   },
   {
    "duration": 14,
    "start_time": "2023-01-21T08:37:52.728Z"
   },
   {
    "duration": 158648,
    "start_time": "2023-01-21T08:37:52.743Z"
   },
   {
    "duration": 4,
    "start_time": "2023-01-21T08:40:31.393Z"
   },
   {
    "duration": 1998,
    "start_time": "2023-01-21T08:40:31.399Z"
   },
   {
    "duration": 4,
    "start_time": "2023-01-21T08:40:33.398Z"
   },
   {
    "duration": 15,
    "start_time": "2023-01-21T08:40:33.404Z"
   },
   {
    "duration": 20,
    "start_time": "2023-01-21T08:40:33.421Z"
   },
   {
    "duration": 0,
    "start_time": "2023-01-21T08:40:33.443Z"
   },
   {
    "duration": 0,
    "start_time": "2023-01-21T08:40:33.444Z"
   },
   {
    "duration": 0,
    "start_time": "2023-01-21T08:40:33.445Z"
   },
   {
    "duration": 0,
    "start_time": "2023-01-21T08:40:33.446Z"
   },
   {
    "duration": 5,
    "start_time": "2023-01-21T08:43:43.148Z"
   },
   {
    "duration": 82,
    "start_time": "2023-01-21T08:43:43.313Z"
   },
   {
    "duration": 14,
    "start_time": "2023-01-21T08:43:43.397Z"
   },
   {
    "duration": 14,
    "start_time": "2023-01-21T08:43:43.475Z"
   },
   {
    "duration": 16,
    "start_time": "2023-01-21T08:43:43.559Z"
   },
   {
    "duration": 11,
    "start_time": "2023-01-21T08:43:43.645Z"
   },
   {
    "duration": 12,
    "start_time": "2023-01-21T08:43:43.725Z"
   },
   {
    "duration": 6,
    "start_time": "2023-01-21T08:43:43.810Z"
   },
   {
    "duration": 6,
    "start_time": "2023-01-21T08:43:43.981Z"
   },
   {
    "duration": 52,
    "start_time": "2023-01-21T08:43:44.066Z"
   },
   {
    "duration": 67,
    "start_time": "2023-01-21T08:43:44.149Z"
   },
   {
    "duration": 123,
    "start_time": "2023-01-21T08:43:44.318Z"
   },
   {
    "duration": 18,
    "start_time": "2023-01-21T08:43:44.701Z"
   },
   {
    "duration": 3,
    "start_time": "2023-01-21T08:43:45.420Z"
   },
   {
    "duration": 8,
    "start_time": "2023-01-21T08:43:46.007Z"
   },
   {
    "duration": 21,
    "start_time": "2023-01-21T08:43:46.089Z"
   },
   {
    "duration": 4,
    "start_time": "2023-01-21T08:43:46.252Z"
   },
   {
    "duration": 5,
    "start_time": "2023-01-21T08:43:47.279Z"
   },
   {
    "duration": 5,
    "start_time": "2023-01-21T08:43:47.441Z"
   },
   {
    "duration": 14,
    "start_time": "2023-01-21T08:43:48.485Z"
   },
   {
    "duration": 2196,
    "start_time": "2023-01-21T08:43:49.073Z"
   },
   {
    "duration": 92,
    "start_time": "2023-01-21T08:43:51.272Z"
   },
   {
    "duration": 6,
    "start_time": "2023-01-21T08:43:51.366Z"
   },
   {
    "duration": 46,
    "start_time": "2023-01-21T08:43:51.374Z"
   },
   {
    "duration": 9,
    "start_time": "2023-01-21T08:43:51.422Z"
   },
   {
    "duration": 13,
    "start_time": "2023-01-21T08:43:51.445Z"
   },
   {
    "duration": 8,
    "start_time": "2023-01-21T08:43:51.522Z"
   },
   {
    "duration": 5,
    "start_time": "2023-01-21T08:43:51.692Z"
   },
   {
    "duration": 3,
    "start_time": "2023-01-21T08:43:52.631Z"
   },
   {
    "duration": 3032,
    "start_time": "2023-01-21T08:43:52.710Z"
   },
   {
    "duration": 10,
    "start_time": "2023-01-21T08:43:55.744Z"
   },
   {
    "duration": 3,
    "start_time": "2023-01-21T08:43:55.755Z"
   },
   {
    "duration": 59031,
    "start_time": "2023-01-21T08:43:55.760Z"
   },
   {
    "duration": 7,
    "start_time": "2023-01-21T08:44:54.792Z"
   },
   {
    "duration": 49,
    "start_time": "2023-01-21T08:44:54.801Z"
   },
   {
    "duration": 31,
    "start_time": "2023-01-21T08:44:54.852Z"
   },
   {
    "duration": 377,
    "start_time": "2023-01-21T08:44:54.885Z"
   },
   {
    "duration": 58,
    "start_time": "2023-01-21T08:44:55.264Z"
   },
   {
    "duration": 3,
    "start_time": "2023-01-21T08:44:55.325Z"
   },
   {
    "duration": 57815,
    "start_time": "2023-01-21T08:44:55.330Z"
   },
   {
    "duration": 149,
    "start_time": "2023-01-21T08:45:53.154Z"
   },
   {
    "duration": 4,
    "start_time": "2023-01-21T08:45:53.305Z"
   },
   {
    "duration": 9,
    "start_time": "2023-01-21T08:45:53.310Z"
   },
   {
    "duration": 151115,
    "start_time": "2023-01-21T08:45:53.320Z"
   },
   {
    "duration": 4,
    "start_time": "2023-01-21T08:48:24.437Z"
   },
   {
    "duration": 2010,
    "start_time": "2023-01-21T08:48:24.443Z"
   },
   {
    "duration": 5,
    "start_time": "2023-01-21T08:48:26.454Z"
   },
   {
    "duration": 20,
    "start_time": "2023-01-21T08:48:26.460Z"
   },
   {
    "duration": 14,
    "start_time": "2023-01-21T08:48:26.482Z"
   },
   {
    "duration": 7,
    "start_time": "2023-01-21T08:49:07.794Z"
   },
   {
    "duration": 149215,
    "start_time": "2023-01-21T08:49:08.897Z"
   },
   {
    "duration": 3,
    "start_time": "2023-01-21T08:51:38.114Z"
   },
   {
    "duration": 1634,
    "start_time": "2023-01-21T16:23:15.805Z"
   },
   {
    "duration": 359,
    "start_time": "2023-01-21T16:23:17.442Z"
   },
   {
    "duration": 19,
    "start_time": "2023-01-21T16:23:17.803Z"
   },
   {
    "duration": 12,
    "start_time": "2023-01-21T16:23:17.824Z"
   },
   {
    "duration": 14,
    "start_time": "2023-01-21T16:23:17.838Z"
   },
   {
    "duration": 15,
    "start_time": "2023-01-21T16:23:17.853Z"
   },
   {
    "duration": 17,
    "start_time": "2023-01-21T16:23:17.869Z"
   },
   {
    "duration": 8,
    "start_time": "2023-01-21T16:23:17.888Z"
   },
   {
    "duration": 11,
    "start_time": "2023-01-21T16:23:17.897Z"
   },
   {
    "duration": 58,
    "start_time": "2023-01-21T16:23:17.910Z"
   },
   {
    "duration": 95,
    "start_time": "2023-01-21T16:23:17.970Z"
   },
   {
    "duration": 121,
    "start_time": "2023-01-21T16:23:18.070Z"
   },
   {
    "duration": 15,
    "start_time": "2023-01-21T16:23:18.192Z"
   },
   {
    "duration": 3,
    "start_time": "2023-01-21T16:23:18.408Z"
   },
   {
    "duration": 6,
    "start_time": "2023-01-21T16:23:18.729Z"
   },
   {
    "duration": 21,
    "start_time": "2023-01-21T16:23:18.881Z"
   },
   {
    "duration": 4,
    "start_time": "2023-01-21T16:23:19.219Z"
   },
   {
    "duration": 4,
    "start_time": "2023-01-21T16:23:20.363Z"
   },
   {
    "duration": 5,
    "start_time": "2023-01-21T16:23:20.531Z"
   },
   {
    "duration": 11,
    "start_time": "2023-01-21T16:23:20.781Z"
   },
   {
    "duration": 2212,
    "start_time": "2023-01-21T16:23:20.946Z"
   },
   {
    "duration": 104,
    "start_time": "2023-01-21T16:23:23.160Z"
   },
   {
    "duration": 7,
    "start_time": "2023-01-21T16:23:23.266Z"
   },
   {
    "duration": 33,
    "start_time": "2023-01-21T16:23:23.276Z"
   },
   {
    "duration": 7,
    "start_time": "2023-01-21T16:23:23.310Z"
   },
   {
    "duration": 22,
    "start_time": "2023-01-21T16:23:23.318Z"
   },
   {
    "duration": 7,
    "start_time": "2023-01-21T16:23:23.342Z"
   },
   {
    "duration": 10,
    "start_time": "2023-01-21T16:23:23.350Z"
   },
   {
    "duration": 12,
    "start_time": "2023-01-21T16:23:23.361Z"
   },
   {
    "duration": 2861,
    "start_time": "2023-01-21T16:23:23.375Z"
   },
   {
    "duration": 13,
    "start_time": "2023-01-21T16:23:26.238Z"
   },
   {
    "duration": 3,
    "start_time": "2023-01-21T16:23:26.253Z"
   },
   {
    "duration": 53249,
    "start_time": "2023-01-21T16:23:26.258Z"
   },
   {
    "duration": 8,
    "start_time": "2023-01-21T16:24:19.509Z"
   },
   {
    "duration": 10,
    "start_time": "2023-01-21T16:24:19.519Z"
   },
   {
    "duration": 7,
    "start_time": "2023-01-21T16:24:19.531Z"
   },
   {
    "duration": 386,
    "start_time": "2023-01-21T16:24:19.540Z"
   },
   {
    "duration": 62,
    "start_time": "2023-01-21T16:24:19.928Z"
   },
   {
    "duration": 6,
    "start_time": "2023-01-21T16:24:19.993Z"
   },
   {
    "duration": 59405,
    "start_time": "2023-01-21T16:24:20.001Z"
   },
   {
    "duration": 271,
    "start_time": "2023-01-21T16:25:19.408Z"
   },
   {
    "duration": 0,
    "start_time": "2023-01-21T16:25:19.681Z"
   },
   {
    "duration": 0,
    "start_time": "2023-01-21T16:25:19.682Z"
   },
   {
    "duration": 0,
    "start_time": "2023-01-21T16:25:19.683Z"
   },
   {
    "duration": 0,
    "start_time": "2023-01-21T16:25:19.684Z"
   },
   {
    "duration": 0,
    "start_time": "2023-01-21T16:25:19.685Z"
   },
   {
    "duration": 0,
    "start_time": "2023-01-21T16:25:19.686Z"
   },
   {
    "duration": 0,
    "start_time": "2023-01-21T16:25:19.687Z"
   },
   {
    "duration": 0,
    "start_time": "2023-01-21T16:25:19.688Z"
   },
   {
    "duration": 141,
    "start_time": "2023-01-21T16:25:37.811Z"
   },
   {
    "duration": 4,
    "start_time": "2023-01-21T16:25:39.953Z"
   },
   {
    "duration": 5,
    "start_time": "2023-01-21T16:25:59.277Z"
   },
   {
    "duration": 26038,
    "start_time": "2023-01-21T16:26:00.713Z"
   },
   {
    "duration": 3,
    "start_time": "2023-01-21T16:26:26.753Z"
   },
   {
    "duration": 690,
    "start_time": "2023-01-21T16:26:26.758Z"
   },
   {
    "duration": 4,
    "start_time": "2023-01-21T16:26:27.450Z"
   },
   {
    "duration": 12,
    "start_time": "2023-01-21T16:26:27.456Z"
   },
   {
    "duration": 6,
    "start_time": "2023-01-21T16:30:54.717Z"
   },
   {
    "duration": 56410,
    "start_time": "2023-01-21T16:30:55.697Z"
   },
   {
    "duration": 4,
    "start_time": "2023-01-21T16:31:52.109Z"
   },
   {
    "duration": 7,
    "start_time": "2023-01-21T16:32:40.340Z"
   },
   {
    "duration": 54722,
    "start_time": "2023-01-21T16:32:40.502Z"
   },
   {
    "duration": 3,
    "start_time": "2023-01-21T16:33:35.226Z"
   },
   {
    "duration": 1143,
    "start_time": "2023-01-21T16:33:48.563Z"
   },
   {
    "duration": 3,
    "start_time": "2023-01-21T16:33:49.709Z"
   },
   {
    "duration": 8,
    "start_time": "2023-01-21T16:33:50.015Z"
   },
   {
    "duration": 301,
    "start_time": "2023-01-21T16:35:16.303Z"
   },
   {
    "duration": 3,
    "start_time": "2023-01-21T16:37:15.472Z"
   },
   {
    "duration": 118,
    "start_time": "2023-01-21T16:37:17.056Z"
   },
   {
    "duration": 55,
    "start_time": "2023-01-21T16:37:29.075Z"
   },
   {
    "duration": 10,
    "start_time": "2023-01-21T16:39:11.254Z"
   },
   {
    "duration": 4,
    "start_time": "2023-01-21T16:39:33.960Z"
   },
   {
    "duration": 9,
    "start_time": "2023-01-21T16:39:48.619Z"
   },
   {
    "duration": 5,
    "start_time": "2023-01-21T16:39:55.964Z"
   },
   {
    "duration": 2,
    "start_time": "2023-01-21T16:39:56.914Z"
   },
   {
    "duration": 4294,
    "start_time": "2023-01-21T16:39:57.685Z"
   },
   {
    "duration": 11,
    "start_time": "2023-01-21T16:40:42.792Z"
   },
   {
    "duration": 14,
    "start_time": "2023-01-21T16:41:08.421Z"
   },
   {
    "duration": 2,
    "start_time": "2023-01-21T16:42:31.929Z"
   },
   {
    "duration": 4462,
    "start_time": "2023-01-21T16:42:32.077Z"
   },
   {
    "duration": 12,
    "start_time": "2023-01-21T16:42:36.541Z"
   },
   {
    "duration": 3,
    "start_time": "2023-01-21T16:42:41.313Z"
   },
   {
    "duration": 5331,
    "start_time": "2023-01-21T16:42:41.444Z"
   },
   {
    "duration": 70,
    "start_time": "2023-01-21T16:42:46.777Z"
   },
   {
    "duration": 3,
    "start_time": "2023-01-21T16:42:51.931Z"
   },
   {
    "duration": 11634,
    "start_time": "2023-01-21T16:42:52.735Z"
   },
   {
    "duration": 67,
    "start_time": "2023-01-21T16:43:04.372Z"
   },
   {
    "duration": 4,
    "start_time": "2023-01-21T16:43:19.777Z"
   },
   {
    "duration": 5037,
    "start_time": "2023-01-21T16:43:19.935Z"
   },
   {
    "duration": 65,
    "start_time": "2023-01-21T16:43:24.974Z"
   },
   {
    "duration": 3,
    "start_time": "2023-01-21T16:43:32.551Z"
   },
   {
    "duration": 6579,
    "start_time": "2023-01-21T16:43:32.685Z"
   },
   {
    "duration": 12,
    "start_time": "2023-01-21T16:43:39.266Z"
   },
   {
    "duration": 3,
    "start_time": "2023-01-21T16:43:44.664Z"
   },
   {
    "duration": 4064,
    "start_time": "2023-01-21T16:43:44.808Z"
   },
   {
    "duration": 65,
    "start_time": "2023-01-21T16:43:48.874Z"
   },
   {
    "duration": 3,
    "start_time": "2023-01-21T16:43:53.036Z"
   },
   {
    "duration": 3792,
    "start_time": "2023-01-21T16:43:53.179Z"
   },
   {
    "duration": 75,
    "start_time": "2023-01-21T16:43:56.973Z"
   },
   {
    "duration": 3,
    "start_time": "2023-01-21T16:44:12.098Z"
   },
   {
    "duration": 12056,
    "start_time": "2023-01-21T16:44:12.214Z"
   },
   {
    "duration": 66,
    "start_time": "2023-01-21T16:44:24.273Z"
   },
   {
    "duration": 3,
    "start_time": "2023-01-21T16:44:29.043Z"
   },
   {
    "duration": 4261,
    "start_time": "2023-01-21T16:44:29.194Z"
   },
   {
    "duration": 13,
    "start_time": "2023-01-21T16:44:33.456Z"
   },
   {
    "duration": 3,
    "start_time": "2023-01-21T16:44:39.140Z"
   },
   {
    "duration": 5093,
    "start_time": "2023-01-21T16:44:39.284Z"
   },
   {
    "duration": 13,
    "start_time": "2023-01-21T16:44:44.437Z"
   },
   {
    "duration": 3,
    "start_time": "2023-01-21T16:44:50.763Z"
   },
   {
    "duration": 4954,
    "start_time": "2023-01-21T16:44:50.917Z"
   },
   {
    "duration": 12,
    "start_time": "2023-01-21T16:44:55.873Z"
   },
   {
    "duration": 3,
    "start_time": "2023-01-21T16:44:58.705Z"
   },
   {
    "duration": 4297,
    "start_time": "2023-01-21T16:44:58.855Z"
   },
   {
    "duration": 13,
    "start_time": "2023-01-21T16:45:03.154Z"
   },
   {
    "duration": 3,
    "start_time": "2023-01-21T16:45:09.240Z"
   },
   {
    "duration": 3601,
    "start_time": "2023-01-21T16:45:09.366Z"
   },
   {
    "duration": 11,
    "start_time": "2023-01-21T16:45:12.969Z"
   },
   {
    "duration": 79,
    "start_time": "2023-01-21T16:49:21.964Z"
   },
   {
    "duration": 3,
    "start_time": "2023-01-21T16:49:36.903Z"
   },
   {
    "duration": 134154,
    "start_time": "2023-01-21T16:50:02.307Z"
   },
   {
    "duration": 26,
    "start_time": "2023-01-21T16:54:18.041Z"
   },
   {
    "duration": 4,
    "start_time": "2023-01-21T16:54:46.151Z"
   },
   {
    "duration": 8,
    "start_time": "2023-01-21T16:56:52.877Z"
   },
   {
    "duration": 152519,
    "start_time": "2023-01-21T16:56:53.945Z"
   },
   {
    "duration": 5,
    "start_time": "2023-01-21T16:59:26.466Z"
   },
   {
    "duration": 3182,
    "start_time": "2023-01-21T16:59:26.472Z"
   },
   {
    "duration": 4,
    "start_time": "2023-01-21T16:59:29.656Z"
   },
   {
    "duration": 43,
    "start_time": "2023-01-21T16:59:29.662Z"
   },
   {
    "duration": 5,
    "start_time": "2023-01-21T17:01:14.045Z"
   },
   {
    "duration": 23,
    "start_time": "2023-01-21T17:01:14.840Z"
   },
   {
    "duration": 3,
    "start_time": "2023-01-21T17:04:43.251Z"
   },
   {
    "duration": 371372,
    "start_time": "2023-01-21T17:04:43.592Z"
   },
   {
    "duration": 10,
    "start_time": "2023-01-21T17:10:54.966Z"
   },
   {
    "duration": 5,
    "start_time": "2023-01-21T17:10:54.978Z"
   },
   {
    "duration": 3,
    "start_time": "2023-01-21T17:11:58.404Z"
   },
   {
    "duration": 17195,
    "start_time": "2023-01-21T17:11:58.705Z"
   },
   {
    "duration": 9,
    "start_time": "2023-01-21T17:12:15.902Z"
   },
   {
    "duration": 6,
    "start_time": "2023-01-21T17:12:15.913Z"
   },
   {
    "duration": 3,
    "start_time": "2023-01-21T17:12:34.888Z"
   },
   {
    "duration": 8920,
    "start_time": "2023-01-21T17:12:35.080Z"
   },
   {
    "duration": 8,
    "start_time": "2023-01-21T17:12:44.002Z"
   },
   {
    "duration": 4,
    "start_time": "2023-01-21T17:12:44.011Z"
   },
   {
    "duration": 4,
    "start_time": "2023-01-21T17:12:55.180Z"
   },
   {
    "duration": 18323,
    "start_time": "2023-01-21T17:12:55.324Z"
   },
   {
    "duration": 7,
    "start_time": "2023-01-21T17:13:13.649Z"
   },
   {
    "duration": 13,
    "start_time": "2023-01-21T17:13:13.657Z"
   },
   {
    "duration": 6,
    "start_time": "2023-01-21T17:14:54.327Z"
   },
   {
    "duration": 174021,
    "start_time": "2023-01-21T17:14:55.095Z"
   },
   {
    "duration": 5,
    "start_time": "2023-01-21T17:17:49.118Z"
   },
   {
    "duration": 44040,
    "start_time": "2023-01-21T17:17:49.124Z"
   },
   {
    "duration": 3,
    "start_time": "2023-01-21T17:18:33.167Z"
   },
   {
    "duration": 75,
    "start_time": "2023-01-21T17:18:33.172Z"
   },
   {
    "duration": 1704,
    "start_time": "2023-01-21T17:18:34.836Z"
   },
   {
    "duration": 5,
    "start_time": "2023-01-21T17:18:36.542Z"
   },
   {
    "duration": 15,
    "start_time": "2023-01-21T17:18:36.549Z"
   },
   {
    "duration": 44018,
    "start_time": "2023-01-21T17:18:53.623Z"
   },
   {
    "duration": 4,
    "start_time": "2023-01-21T17:19:37.643Z"
   },
   {
    "duration": 22,
    "start_time": "2023-01-21T17:19:37.649Z"
   },
   {
    "duration": 2534,
    "start_time": "2023-01-21T17:19:50.657Z"
   },
   {
    "duration": 4,
    "start_time": "2023-01-21T17:19:53.193Z"
   },
   {
    "duration": 30,
    "start_time": "2023-01-21T17:19:53.199Z"
   },
   {
    "duration": 3,
    "start_time": "2023-01-21T17:24:35.685Z"
   },
   {
    "duration": 542,
    "start_time": "2023-01-21T17:24:36.415Z"
   },
   {
    "duration": 9,
    "start_time": "2023-01-21T17:24:37.974Z"
   },
   {
    "duration": 4,
    "start_time": "2023-01-21T17:24:43.924Z"
   },
   {
    "duration": 510,
    "start_time": "2023-01-21T17:24:44.619Z"
   },
   {
    "duration": 7,
    "start_time": "2023-01-21T17:24:45.132Z"
   },
   {
    "duration": 4,
    "start_time": "2023-01-21T17:24:53.571Z"
   },
   {
    "duration": 535,
    "start_time": "2023-01-21T17:24:53.578Z"
   },
   {
    "duration": 7,
    "start_time": "2023-01-21T17:24:54.115Z"
   },
   {
    "duration": 9,
    "start_time": "2023-01-21T17:24:59.381Z"
   },
   {
    "duration": 548,
    "start_time": "2023-01-21T17:24:59.538Z"
   },
   {
    "duration": 10,
    "start_time": "2023-01-21T17:26:02.216Z"
   },
   {
    "duration": 3,
    "start_time": "2023-01-21T17:26:17.339Z"
   },
   {
    "duration": 3198,
    "start_time": "2023-01-21T17:26:17.478Z"
   },
   {
    "duration": 8,
    "start_time": "2023-01-21T17:26:20.678Z"
   },
   {
    "duration": 4,
    "start_time": "2023-01-21T17:28:07.376Z"
   },
   {
    "duration": 16494,
    "start_time": "2023-01-21T17:28:07.982Z"
   },
   {
    "duration": 7,
    "start_time": "2023-01-21T17:28:24.478Z"
   },
   {
    "duration": 4,
    "start_time": "2023-01-21T17:28:35.034Z"
   },
   {
    "duration": 6,
    "start_time": "2023-01-21T17:29:29.842Z"
   },
   {
    "duration": 100900,
    "start_time": "2023-01-21T17:29:30.116Z"
   },
   {
    "duration": 5,
    "start_time": "2023-01-21T17:31:11.018Z"
   },
   {
    "duration": 973,
    "start_time": "2023-01-21T17:31:11.024Z"
   },
   {
    "duration": 4,
    "start_time": "2023-01-21T17:31:11.998Z"
   },
   {
    "duration": 39,
    "start_time": "2023-01-21T17:31:12.003Z"
   },
   {
    "duration": 4,
    "start_time": "2023-01-21T17:33:35.068Z"
   },
   {
    "duration": 17517,
    "start_time": "2023-01-21T17:33:35.211Z"
   },
   {
    "duration": 9,
    "start_time": "2023-01-21T17:33:52.730Z"
   },
   {
    "duration": 4,
    "start_time": "2023-01-21T17:34:33.018Z"
   },
   {
    "duration": 67731,
    "start_time": "2023-01-21T17:34:33.153Z"
   },
   {
    "duration": 10,
    "start_time": "2023-01-21T17:35:40.886Z"
   },
   {
    "duration": 11,
    "start_time": "2023-01-21T17:35:40.897Z"
   },
   {
    "duration": 77,
    "start_time": "2023-01-21T17:36:07.549Z"
   },
   {
    "duration": 7,
    "start_time": "2023-01-21T17:37:16.150Z"
   },
   {
    "duration": 18588,
    "start_time": "2023-01-21T17:37:16.159Z"
   },
   {
    "duration": 8,
    "start_time": "2023-01-21T17:37:34.749Z"
   },
   {
    "duration": 5,
    "start_time": "2023-01-21T17:37:34.759Z"
   },
   {
    "duration": 3,
    "start_time": "2023-01-21T17:37:57.339Z"
   },
   {
    "duration": 14834,
    "start_time": "2023-01-21T17:37:57.545Z"
   },
   {
    "duration": 10,
    "start_time": "2023-01-21T17:38:12.381Z"
   },
   {
    "duration": 3,
    "start_time": "2023-01-21T17:38:36.272Z"
   },
   {
    "duration": 14609,
    "start_time": "2023-01-21T17:38:36.432Z"
   },
   {
    "duration": 8,
    "start_time": "2023-01-21T17:38:51.043Z"
   },
   {
    "duration": 15,
    "start_time": "2023-01-21T17:38:51.052Z"
   },
   {
    "duration": 4,
    "start_time": "2023-01-21T17:38:56.259Z"
   },
   {
    "duration": 14497,
    "start_time": "2023-01-21T17:38:56.410Z"
   },
   {
    "duration": 8,
    "start_time": "2023-01-21T17:39:10.909Z"
   },
   {
    "duration": 6,
    "start_time": "2023-01-21T17:39:10.919Z"
   },
   {
    "duration": 6,
    "start_time": "2023-01-21T17:39:31.230Z"
   },
   {
    "duration": 89456,
    "start_time": "2023-01-21T17:39:31.377Z"
   },
   {
    "duration": 5,
    "start_time": "2023-01-21T17:41:00.835Z"
   },
   {
    "duration": 1352,
    "start_time": "2023-01-21T17:41:00.842Z"
   },
   {
    "duration": 4,
    "start_time": "2023-01-21T17:41:02.196Z"
   },
   {
    "duration": 37,
    "start_time": "2023-01-21T17:41:02.201Z"
   },
   {
    "duration": 767,
    "start_time": "2023-01-21T17:45:33.483Z"
   },
   {
    "duration": 4,
    "start_time": "2023-01-21T17:45:34.252Z"
   },
   {
    "duration": 52,
    "start_time": "2023-01-21T17:45:34.258Z"
   },
   {
    "duration": 1470,
    "start_time": "2023-01-21T17:45:40.429Z"
   },
   {
    "duration": 4,
    "start_time": "2023-01-21T17:45:41.900Z"
   },
   {
    "duration": 22,
    "start_time": "2023-01-21T17:45:41.906Z"
   },
   {
    "duration": 981,
    "start_time": "2023-01-21T17:45:47.121Z"
   },
   {
    "duration": 5,
    "start_time": "2023-01-21T17:45:48.105Z"
   },
   {
    "duration": 46,
    "start_time": "2023-01-21T17:45:48.112Z"
   },
   {
    "duration": 1531,
    "start_time": "2023-01-21T17:51:30.019Z"
   },
   {
    "duration": 105,
    "start_time": "2023-01-21T17:51:31.552Z"
   },
   {
    "duration": 19,
    "start_time": "2023-01-21T17:51:31.659Z"
   },
   {
    "duration": 28,
    "start_time": "2023-01-21T17:51:31.680Z"
   },
   {
    "duration": 34,
    "start_time": "2023-01-21T17:51:31.710Z"
   },
   {
    "duration": 27,
    "start_time": "2023-01-21T17:51:31.746Z"
   },
   {
    "duration": 39,
    "start_time": "2023-01-21T17:51:31.775Z"
   },
   {
    "duration": 41,
    "start_time": "2023-01-21T17:51:31.816Z"
   },
   {
    "duration": 31,
    "start_time": "2023-01-21T17:51:31.858Z"
   },
   {
    "duration": 91,
    "start_time": "2023-01-21T17:51:31.892Z"
   },
   {
    "duration": 79,
    "start_time": "2023-01-21T17:51:31.985Z"
   },
   {
    "duration": 113,
    "start_time": "2023-01-21T17:51:32.066Z"
   },
   {
    "duration": 14,
    "start_time": "2023-01-21T17:51:32.180Z"
   },
   {
    "duration": 20,
    "start_time": "2023-01-21T17:51:32.196Z"
   },
   {
    "duration": 30,
    "start_time": "2023-01-21T17:51:32.217Z"
   },
   {
    "duration": 43,
    "start_time": "2023-01-21T17:51:32.249Z"
   },
   {
    "duration": 9,
    "start_time": "2023-01-21T17:51:32.294Z"
   },
   {
    "duration": 28,
    "start_time": "2023-01-21T17:51:32.305Z"
   },
   {
    "duration": 23,
    "start_time": "2023-01-21T17:51:32.335Z"
   },
   {
    "duration": 26,
    "start_time": "2023-01-21T17:51:32.360Z"
   },
   {
    "duration": 2186,
    "start_time": "2023-01-21T17:51:32.387Z"
   },
   {
    "duration": 103,
    "start_time": "2023-01-21T17:51:34.574Z"
   },
   {
    "duration": 6,
    "start_time": "2023-01-21T17:51:34.679Z"
   },
   {
    "duration": 48,
    "start_time": "2023-01-21T17:51:34.686Z"
   },
   {
    "duration": 7,
    "start_time": "2023-01-21T17:51:34.735Z"
   },
   {
    "duration": 10,
    "start_time": "2023-01-21T17:51:34.744Z"
   },
   {
    "duration": 38,
    "start_time": "2023-01-21T17:51:34.755Z"
   },
   {
    "duration": 21,
    "start_time": "2023-01-21T17:51:34.796Z"
   },
   {
    "duration": 12,
    "start_time": "2023-01-21T17:51:34.819Z"
   },
   {
    "duration": 3084,
    "start_time": "2023-01-21T17:51:34.833Z"
   },
   {
    "duration": 9,
    "start_time": "2023-01-21T17:51:37.919Z"
   },
   {
    "duration": 7,
    "start_time": "2023-01-21T17:51:37.930Z"
   },
   {
    "duration": 14461,
    "start_time": "2023-01-21T17:51:37.939Z"
   },
   {
    "duration": 8,
    "start_time": "2023-01-21T17:51:52.402Z"
   },
   {
    "duration": 16,
    "start_time": "2023-01-21T17:51:52.412Z"
   },
   {
    "duration": 23,
    "start_time": "2023-01-21T17:51:52.430Z"
   },
   {
    "duration": 403,
    "start_time": "2023-01-21T17:51:52.455Z"
   },
   {
    "duration": 51,
    "start_time": "2023-01-21T17:51:52.860Z"
   },
   {
    "duration": 3,
    "start_time": "2023-01-21T17:51:52.913Z"
   },
   {
    "duration": 59289,
    "start_time": "2023-01-21T17:51:52.917Z"
   },
   {
    "duration": 139,
    "start_time": "2023-01-21T17:52:52.208Z"
   },
   {
    "duration": 4,
    "start_time": "2023-01-21T17:52:52.349Z"
   },
   {
    "duration": 23,
    "start_time": "2023-01-21T17:52:52.354Z"
   },
   {
    "duration": 15,
    "start_time": "2023-01-21T17:52:52.379Z"
   },
   {
    "duration": 3675,
    "start_time": "2023-01-21T17:52:52.396Z"
   },
   {
    "duration": 71,
    "start_time": "2023-01-21T17:52:56.073Z"
   },
   {
    "duration": 4,
    "start_time": "2023-01-21T17:52:56.146Z"
   },
   {
    "duration": 135809,
    "start_time": "2023-01-21T17:52:56.151Z"
   },
   {
    "duration": 80,
    "start_time": "2023-01-21T17:55:11.961Z"
   },
   {
    "duration": 4,
    "start_time": "2023-01-21T17:55:12.044Z"
   },
   {
    "duration": 8,
    "start_time": "2023-01-21T17:55:12.050Z"
   },
   {
    "duration": 84751,
    "start_time": "2023-01-21T17:55:12.059Z"
   },
   {
    "duration": 5,
    "start_time": "2023-01-21T17:56:36.811Z"
   },
   {
    "duration": 958,
    "start_time": "2023-01-21T17:56:36.817Z"
   },
   {
    "duration": 4,
    "start_time": "2023-01-21T17:56:37.777Z"
   },
   {
    "duration": 22,
    "start_time": "2023-01-21T17:56:37.783Z"
   },
   {
    "duration": 4,
    "start_time": "2023-01-21T18:37:26.555Z"
   },
   {
    "duration": 55637,
    "start_time": "2023-01-21T18:37:26.892Z"
   },
   {
    "duration": 10,
    "start_time": "2023-01-21T18:38:22.532Z"
   },
   {
    "duration": 3,
    "start_time": "2023-01-21T18:38:41.145Z"
   },
   {
    "duration": 4,
    "start_time": "2023-01-21T18:38:52.891Z"
   },
   {
    "duration": 11340,
    "start_time": "2023-01-21T18:38:53.286Z"
   },
   {
    "duration": 8,
    "start_time": "2023-01-21T18:39:04.628Z"
   },
   {
    "duration": 4,
    "start_time": "2023-01-21T18:39:04.637Z"
   },
   {
    "duration": 4,
    "start_time": "2023-01-21T18:40:26.584Z"
   },
   {
    "duration": 3,
    "start_time": "2023-01-21T18:40:26.942Z"
   },
   {
    "duration": 67325,
    "start_time": "2023-01-21T18:40:27.657Z"
   },
   {
    "duration": 65,
    "start_time": "2023-01-21T18:41:34.985Z"
   },
   {
    "duration": 3,
    "start_time": "2023-01-21T18:41:51.344Z"
   },
   {
    "duration": 76011,
    "start_time": "2023-01-21T18:41:51.668Z"
   },
   {
    "duration": 66,
    "start_time": "2023-01-21T18:43:07.681Z"
   },
   {
    "duration": 3,
    "start_time": "2023-01-21T18:43:17.992Z"
   },
   {
    "duration": 62418,
    "start_time": "2023-01-21T18:43:18.571Z"
   },
   {
    "duration": 60,
    "start_time": "2023-01-21T18:44:20.992Z"
   },
   {
    "duration": 3,
    "start_time": "2023-01-21T18:44:29.261Z"
   },
   {
    "duration": 91890,
    "start_time": "2023-01-21T18:44:29.682Z"
   },
   {
    "duration": 69,
    "start_time": "2023-01-21T18:46:01.575Z"
   },
   {
    "duration": 4,
    "start_time": "2023-01-21T18:46:01.646Z"
   },
   {
    "duration": 1348425,
    "start_time": "2023-01-21T18:46:01.653Z"
   },
   {
    "duration": 65,
    "start_time": "2023-01-21T19:08:30.079Z"
   },
   {
    "duration": 932,
    "start_time": "2023-01-21T19:08:30.146Z"
   },
   {
    "duration": 6,
    "start_time": "2023-01-21T19:12:02.720Z"
   },
   {
    "duration": 90775,
    "start_time": "2023-01-21T19:12:04.149Z"
   },
   {
    "duration": 4,
    "start_time": "2023-01-21T19:13:34.927Z"
   },
   {
    "duration": 1200,
    "start_time": "2023-01-21T19:13:34.933Z"
   },
   {
    "duration": 8,
    "start_time": "2023-01-21T19:13:36.135Z"
   },
   {
    "duration": 47,
    "start_time": "2023-01-21T19:13:36.145Z"
   },
   {
    "duration": 210,
    "start_time": "2023-01-21T19:13:36.195Z"
   },
   {
    "duration": 7,
    "start_time": "2023-01-21T19:15:22.136Z"
   },
   {
    "duration": 9,
    "start_time": "2023-01-21T19:16:25.289Z"
   },
   {
    "duration": 3,
    "start_time": "2023-01-21T19:16:27.165Z"
   },
   {
    "duration": 132,
    "start_time": "2023-01-21T19:16:27.417Z"
   },
   {
    "duration": 166,
    "start_time": "2023-01-21T19:16:46.274Z"
   },
   {
    "duration": 5,
    "start_time": "2023-01-21T19:17:40.034Z"
   },
   {
    "duration": 177,
    "start_time": "2023-01-21T19:17:40.182Z"
   },
   {
    "duration": 4,
    "start_time": "2023-01-21T19:18:03.551Z"
   },
   {
    "duration": 183,
    "start_time": "2023-01-21T19:18:03.930Z"
   },
   {
    "duration": 4,
    "start_time": "2023-01-21T19:19:08.500Z"
   },
   {
    "duration": 153,
    "start_time": "2023-01-21T19:19:09.182Z"
   },
   {
    "duration": 5,
    "start_time": "2023-01-21T19:19:17.431Z"
   },
   {
    "duration": 174,
    "start_time": "2023-01-21T19:19:17.936Z"
   },
   {
    "duration": 4,
    "start_time": "2023-01-21T19:19:35.069Z"
   },
   {
    "duration": 169,
    "start_time": "2023-01-21T19:19:35.666Z"
   },
   {
    "duration": 169,
    "start_time": "2023-01-21T19:28:24.919Z"
   },
   {
    "duration": 5,
    "start_time": "2023-01-21T19:30:38.983Z"
   },
   {
    "duration": 9,
    "start_time": "2023-01-21T19:30:47.539Z"
   },
   {
    "duration": 11,
    "start_time": "2023-01-21T19:30:54.425Z"
   },
   {
    "duration": 13,
    "start_time": "2023-01-21T19:31:04.708Z"
   },
   {
    "duration": 358,
    "start_time": "2023-01-21T19:31:22.227Z"
   },
   {
    "duration": 174,
    "start_time": "2023-01-21T19:32:07.575Z"
   },
   {
    "duration": 4,
    "start_time": "2023-01-21T19:32:39.372Z"
   },
   {
    "duration": 4,
    "start_time": "2023-01-21T19:32:44.136Z"
   },
   {
    "duration": 108,
    "start_time": "2023-01-21T19:32:44.299Z"
   },
   {
    "duration": 17,
    "start_time": "2023-01-21T19:32:44.408Z"
   },
   {
    "duration": 14,
    "start_time": "2023-01-21T19:32:44.463Z"
   },
   {
    "duration": 14,
    "start_time": "2023-01-21T19:32:44.551Z"
   },
   {
    "duration": 10,
    "start_time": "2023-01-21T19:32:44.638Z"
   },
   {
    "duration": 12,
    "start_time": "2023-01-21T19:32:44.717Z"
   },
   {
    "duration": 9,
    "start_time": "2023-01-21T19:32:44.797Z"
   },
   {
    "duration": 9,
    "start_time": "2023-01-21T19:32:44.968Z"
   },
   {
    "duration": 71,
    "start_time": "2023-01-21T19:32:45.050Z"
   },
   {
    "duration": 74,
    "start_time": "2023-01-21T19:32:45.134Z"
   },
   {
    "duration": 134,
    "start_time": "2023-01-21T19:32:45.304Z"
   },
   {
    "duration": 14,
    "start_time": "2023-01-21T19:32:45.440Z"
   },
   {
    "duration": 3,
    "start_time": "2023-01-21T19:32:45.553Z"
   },
   {
    "duration": 9,
    "start_time": "2023-01-21T19:32:45.720Z"
   },
   {
    "duration": 28,
    "start_time": "2023-01-21T19:32:45.925Z"
   },
   {
    "duration": 4,
    "start_time": "2023-01-21T19:32:46.272Z"
   },
   {
    "duration": 5,
    "start_time": "2023-01-21T19:32:47.214Z"
   },
   {
    "duration": 4,
    "start_time": "2023-01-21T19:32:47.524Z"
   },
   {
    "duration": 15,
    "start_time": "2023-01-21T19:32:48.193Z"
   },
   {
    "duration": 2387,
    "start_time": "2023-01-21T19:32:48.509Z"
   },
   {
    "duration": 260,
    "start_time": "2023-01-21T19:32:50.899Z"
   },
   {
    "duration": 11,
    "start_time": "2023-01-21T19:32:51.161Z"
   },
   {
    "duration": 186,
    "start_time": "2023-01-21T19:32:51.174Z"
   },
   {
    "duration": 3,
    "start_time": "2023-01-21T19:32:51.362Z"
   },
   {
    "duration": 10,
    "start_time": "2023-01-21T19:32:51.367Z"
   },
   {
    "duration": 39,
    "start_time": "2023-01-21T19:32:51.378Z"
   },
   {
    "duration": 24,
    "start_time": "2023-01-21T19:32:51.418Z"
   },
   {
    "duration": 5,
    "start_time": "2023-01-21T19:32:51.444Z"
   },
   {
    "duration": 12,
    "start_time": "2023-01-21T19:32:51.452Z"
   },
   {
    "duration": 20,
    "start_time": "2023-01-21T19:32:51.466Z"
   },
   {
    "duration": 20,
    "start_time": "2023-01-21T19:32:51.488Z"
   },
   {
    "duration": 3254,
    "start_time": "2023-01-21T19:32:51.511Z"
   },
   {
    "duration": 10,
    "start_time": "2023-01-21T19:32:54.767Z"
   },
   {
    "duration": 3,
    "start_time": "2023-01-21T19:32:57.886Z"
   },
   {
    "duration": 11664,
    "start_time": "2023-01-21T19:32:58.083Z"
   },
   {
    "duration": 8,
    "start_time": "2023-01-21T19:33:09.749Z"
   },
   {
    "duration": 5,
    "start_time": "2023-01-21T19:36:29.332Z"
   },
   {
    "duration": 6,
    "start_time": "2023-01-21T19:36:29.875Z"
   },
   {
    "duration": 27,
    "start_time": "2023-01-21T19:36:30.545Z"
   },
   {
    "duration": 8,
    "start_time": "2023-01-21T19:36:30.704Z"
   },
   {
    "duration": 6,
    "start_time": "2023-01-21T19:36:30.796Z"
   },
   {
    "duration": 8,
    "start_time": "2023-01-21T19:36:30.873Z"
   },
   {
    "duration": 5,
    "start_time": "2023-01-21T19:36:31.044Z"
   },
   {
    "duration": 3,
    "start_time": "2023-01-21T19:36:31.295Z"
   },
   {
    "duration": 3014,
    "start_time": "2023-01-21T19:36:31.383Z"
   },
   {
    "duration": 10,
    "start_time": "2023-01-21T19:36:34.399Z"
   },
   {
    "duration": 12,
    "start_time": "2023-01-21T19:36:34.411Z"
   },
   {
    "duration": 11051,
    "start_time": "2023-01-21T19:36:34.425Z"
   },
   {
    "duration": 8,
    "start_time": "2023-01-21T19:36:45.478Z"
   },
   {
    "duration": 19,
    "start_time": "2023-01-21T19:36:45.487Z"
   },
   {
    "duration": 185,
    "start_time": "2023-01-21T19:38:25.227Z"
   },
   {
    "duration": 177,
    "start_time": "2023-01-21T19:38:49.007Z"
   },
   {
    "duration": 5,
    "start_time": "2023-01-21T19:39:20.261Z"
   },
   {
    "duration": 106,
    "start_time": "2023-01-21T19:39:20.444Z"
   },
   {
    "duration": 17,
    "start_time": "2023-01-21T19:39:20.552Z"
   },
   {
    "duration": 16,
    "start_time": "2023-01-21T19:39:20.596Z"
   },
   {
    "duration": 14,
    "start_time": "2023-01-21T19:39:20.679Z"
   },
   {
    "duration": 10,
    "start_time": "2023-01-21T19:39:20.763Z"
   },
   {
    "duration": 15,
    "start_time": "2023-01-21T19:39:20.846Z"
   },
   {
    "duration": 7,
    "start_time": "2023-01-21T19:39:20.928Z"
   },
   {
    "duration": 7,
    "start_time": "2023-01-21T19:39:21.097Z"
   },
   {
    "duration": 62,
    "start_time": "2023-01-21T19:39:21.184Z"
   },
   {
    "duration": 70,
    "start_time": "2023-01-21T19:39:21.268Z"
   },
   {
    "duration": 99,
    "start_time": "2023-01-21T19:39:21.451Z"
   },
   {
    "duration": 14,
    "start_time": "2023-01-21T19:39:21.552Z"
   },
   {
    "duration": 3,
    "start_time": "2023-01-21T19:39:21.678Z"
   },
   {
    "duration": 7,
    "start_time": "2023-01-21T19:39:21.850Z"
   },
   {
    "duration": 20,
    "start_time": "2023-01-21T19:39:21.936Z"
   },
   {
    "duration": 5,
    "start_time": "2023-01-21T19:39:22.434Z"
   },
   {
    "duration": 5,
    "start_time": "2023-01-21T19:39:23.276Z"
   },
   {
    "duration": 5,
    "start_time": "2023-01-21T19:39:23.438Z"
   },
   {
    "duration": 13,
    "start_time": "2023-01-21T19:39:23.690Z"
   },
   {
    "duration": 2151,
    "start_time": "2023-01-21T19:39:24.972Z"
   },
   {
    "duration": 93,
    "start_time": "2023-01-21T19:39:27.125Z"
   },
   {
    "duration": 24,
    "start_time": "2023-01-21T19:39:27.219Z"
   },
   {
    "duration": 192,
    "start_time": "2023-01-21T19:39:27.245Z"
   },
   {
    "duration": 4,
    "start_time": "2023-01-21T19:39:27.439Z"
   },
   {
    "duration": 18,
    "start_time": "2023-01-21T19:39:27.444Z"
   },
   {
    "duration": 32,
    "start_time": "2023-01-21T19:39:29.980Z"
   },
   {
    "duration": 7,
    "start_time": "2023-01-21T19:39:30.138Z"
   },
   {
    "duration": 6,
    "start_time": "2023-01-21T19:39:30.220Z"
   },
   {
    "duration": 7,
    "start_time": "2023-01-21T19:39:30.306Z"
   },
   {
    "duration": 4,
    "start_time": "2023-01-21T19:39:31.965Z"
   },
   {
    "duration": 3,
    "start_time": "2023-01-21T19:39:33.594Z"
   },
   {
    "duration": 3215,
    "start_time": "2023-01-21T19:39:34.071Z"
   },
   {
    "duration": 10,
    "start_time": "2023-01-21T19:39:37.288Z"
   },
   {
    "duration": 8,
    "start_time": "2023-01-21T19:39:37.300Z"
   },
   {
    "duration": 11385,
    "start_time": "2023-01-21T19:39:37.310Z"
   },
   {
    "duration": 8,
    "start_time": "2023-01-21T19:39:48.697Z"
   },
   {
    "duration": 5,
    "start_time": "2023-01-21T19:39:48.707Z"
   },
   {
    "duration": 18,
    "start_time": "2023-01-21T19:39:48.715Z"
   },
   {
    "duration": 409,
    "start_time": "2023-01-21T19:39:48.734Z"
   },
   {
    "duration": 56,
    "start_time": "2023-01-21T19:39:49.145Z"
   },
   {
    "duration": 4,
    "start_time": "2023-01-21T19:39:49.202Z"
   },
   {
    "duration": 64443,
    "start_time": "2023-01-21T19:39:49.207Z"
   },
   {
    "duration": 225,
    "start_time": "2023-01-21T19:40:53.652Z"
   },
   {
    "duration": 4,
    "start_time": "2023-01-21T19:40:53.878Z"
   },
   {
    "duration": 4,
    "start_time": "2023-01-21T19:41:10.453Z"
   },
   {
    "duration": 3,
    "start_time": "2023-01-21T19:41:10.719Z"
   },
   {
    "duration": 100709,
    "start_time": "2023-01-21T19:41:11.062Z"
   },
   {
    "duration": 71,
    "start_time": "2023-01-21T19:42:51.773Z"
   },
   {
    "duration": 3,
    "start_time": "2023-01-21T19:50:50.056Z"
   },
   {
    "duration": 590449,
    "start_time": "2023-01-21T19:50:50.236Z"
   },
   {
    "duration": 67,
    "start_time": "2023-01-21T20:00:40.687Z"
   },
   {
    "duration": 4,
    "start_time": "2023-01-21T20:00:40.756Z"
   },
   {
    "duration": 75,
    "start_time": "2023-01-21T20:00:40.763Z"
   },
   {
    "duration": 131305,
    "start_time": "2023-01-21T20:00:40.840Z"
   },
   {
    "duration": 9,
    "start_time": "2023-01-21T20:02:52.148Z"
   },
   {
    "duration": 1214,
    "start_time": "2023-01-21T20:02:52.159Z"
   },
   {
    "duration": 8,
    "start_time": "2023-01-21T20:02:53.377Z"
   },
   {
    "duration": 32,
    "start_time": "2023-01-21T20:02:53.387Z"
   },
   {
    "duration": 963,
    "start_time": "2023-01-21T20:04:24.785Z"
   },
   {
    "duration": 8,
    "start_time": "2023-01-21T20:04:28.426Z"
   },
   {
    "duration": 1431,
    "start_time": "2023-01-21T20:05:19.559Z"
   },
   {
    "duration": 9,
    "start_time": "2023-01-21T20:05:22.156Z"
   },
   {
    "duration": 991,
    "start_time": "2023-01-21T20:05:25.573Z"
   },
   {
    "duration": 6,
    "start_time": "2023-01-21T20:05:26.573Z"
   },
   {
    "duration": 11,
    "start_time": "2023-01-21T20:05:26.756Z"
   },
   {
    "duration": 988,
    "start_time": "2023-01-21T20:05:31.729Z"
   },
   {
    "duration": 4,
    "start_time": "2023-01-21T20:05:32.719Z"
   },
   {
    "duration": 39,
    "start_time": "2023-01-21T20:05:32.726Z"
   },
   {
    "duration": 1057,
    "start_time": "2023-01-21T20:05:42.066Z"
   },
   {
    "duration": 4,
    "start_time": "2023-01-21T20:05:43.125Z"
   },
   {
    "duration": 30,
    "start_time": "2023-01-21T20:05:43.130Z"
   },
   {
    "duration": 5,
    "start_time": "2023-01-21T20:07:57.584Z"
   },
   {
    "duration": 98,
    "start_time": "2023-01-21T20:07:57.750Z"
   },
   {
    "duration": 15,
    "start_time": "2023-01-21T20:07:57.850Z"
   },
   {
    "duration": 15,
    "start_time": "2023-01-21T20:07:58.272Z"
   },
   {
    "duration": 16,
    "start_time": "2023-01-21T20:07:58.767Z"
   },
   {
    "duration": 10,
    "start_time": "2023-01-21T20:07:58.855Z"
   },
   {
    "duration": 16,
    "start_time": "2023-01-21T20:07:58.931Z"
   },
   {
    "duration": 6,
    "start_time": "2023-01-21T20:07:59.015Z"
   },
   {
    "duration": 9,
    "start_time": "2023-01-21T20:08:01.061Z"
   },
   {
    "duration": 60,
    "start_time": "2023-01-21T20:08:02.300Z"
   },
   {
    "duration": 93,
    "start_time": "2023-01-21T20:08:02.706Z"
   },
   {
    "duration": 95,
    "start_time": "2023-01-21T20:08:05.893Z"
   },
   {
    "duration": 15,
    "start_time": "2023-01-21T20:08:06.758Z"
   },
   {
    "duration": 4,
    "start_time": "2023-01-21T20:08:08.199Z"
   },
   {
    "duration": 7,
    "start_time": "2023-01-21T20:08:10.421Z"
   },
   {
    "duration": 23,
    "start_time": "2023-01-21T20:08:10.619Z"
   },
   {
    "duration": 4,
    "start_time": "2023-01-21T20:08:11.601Z"
   },
   {
    "duration": 4,
    "start_time": "2023-01-21T20:08:14.136Z"
   },
   {
    "duration": 5,
    "start_time": "2023-01-21T20:08:15.398Z"
   },
   {
    "duration": 14,
    "start_time": "2023-01-21T20:08:18.566Z"
   },
   {
    "duration": 2249,
    "start_time": "2023-01-21T20:08:19.904Z"
   },
   {
    "duration": 6,
    "start_time": "2023-01-21T20:08:30.390Z"
   },
   {
    "duration": 43,
    "start_time": "2023-01-21T20:08:32.699Z"
   },
   {
    "duration": 10,
    "start_time": "2023-01-21T20:08:33.283Z"
   },
   {
    "duration": 6,
    "start_time": "2023-01-21T20:08:33.365Z"
   },
   {
    "duration": 7,
    "start_time": "2023-01-21T20:08:33.442Z"
   },
   {
    "duration": 5,
    "start_time": "2023-01-21T20:08:33.611Z"
   },
   {
    "duration": 3,
    "start_time": "2023-01-21T20:08:33.863Z"
   },
   {
    "duration": 3093,
    "start_time": "2023-01-21T20:08:33.956Z"
   },
   {
    "duration": 11,
    "start_time": "2023-01-21T20:08:37.051Z"
   },
   {
    "duration": 4,
    "start_time": "2023-01-21T20:08:37.064Z"
   },
   {
    "duration": 11415,
    "start_time": "2023-01-21T20:08:37.070Z"
   },
   {
    "duration": 8,
    "start_time": "2023-01-21T20:08:48.487Z"
   },
   {
    "duration": 14,
    "start_time": "2023-01-21T20:08:48.497Z"
   },
   {
    "duration": 7,
    "start_time": "2023-01-21T20:08:48.512Z"
   },
   {
    "duration": 369,
    "start_time": "2023-01-21T20:08:48.521Z"
   },
   {
    "duration": 59,
    "start_time": "2023-01-21T20:08:48.892Z"
   },
   {
    "duration": 3,
    "start_time": "2023-01-21T20:08:48.953Z"
   },
   {
    "duration": 58920,
    "start_time": "2023-01-21T20:08:48.958Z"
   },
   {
    "duration": 134,
    "start_time": "2023-01-21T20:09:47.880Z"
   },
   {
    "duration": 4,
    "start_time": "2023-01-21T20:09:48.016Z"
   },
   {
    "duration": 5,
    "start_time": "2023-01-21T20:09:48.037Z"
   },
   {
    "duration": 9,
    "start_time": "2023-01-21T20:09:48.044Z"
   },
   {
    "duration": 4129,
    "start_time": "2023-01-21T20:09:48.056Z"
   },
   {
    "duration": 58,
    "start_time": "2023-01-21T20:09:52.186Z"
   },
   {
    "duration": 165,
    "start_time": "2023-01-21T20:09:52.245Z"
   },
   {
    "duration": 5,
    "start_time": "2023-01-21T20:09:52.412Z"
   },
   {
    "duration": 42,
    "start_time": "2023-01-21T20:09:52.419Z"
   },
   {
    "duration": 86607,
    "start_time": "2023-01-21T20:09:52.464Z"
   },
   {
    "duration": 4,
    "start_time": "2023-01-21T20:11:19.073Z"
   },
   {
    "duration": 968,
    "start_time": "2023-01-21T20:11:19.079Z"
   },
   {
    "duration": 4,
    "start_time": "2023-01-21T20:11:20.049Z"
   },
   {
    "duration": 47,
    "start_time": "2023-01-21T20:11:20.055Z"
   },
   {
    "duration": 1419,
    "start_time": "2023-01-21T20:11:49.283Z"
   },
   {
    "duration": 4,
    "start_time": "2023-01-21T20:11:52.013Z"
   },
   {
    "duration": 9,
    "start_time": "2023-01-21T20:11:53.315Z"
   },
   {
    "duration": 961,
    "start_time": "2023-01-21T20:11:58.272Z"
   },
   {
    "duration": 4,
    "start_time": "2023-01-21T20:11:59.235Z"
   },
   {
    "duration": 16,
    "start_time": "2023-01-21T20:11:59.240Z"
   },
   {
    "duration": 12,
    "start_time": "2023-01-21T20:12:46.663Z"
   },
   {
    "duration": 161,
    "start_time": "2023-01-21T20:12:47.046Z"
   },
   {
    "duration": 3,
    "start_time": "2023-01-21T20:12:47.702Z"
   },
   {
    "duration": 7,
    "start_time": "2023-01-21T20:12:50.766Z"
   },
   {
    "duration": 30,
    "start_time": "2023-01-21T20:12:51.431Z"
   },
   {
    "duration": 9,
    "start_time": "2023-01-21T20:12:51.897Z"
   },
   {
    "duration": 6,
    "start_time": "2023-01-21T20:12:52.150Z"
   },
   {
    "duration": 7,
    "start_time": "2023-01-21T20:12:52.664Z"
   },
   {
    "duration": 946,
    "start_time": "2023-01-21T20:13:02.097Z"
   },
   {
    "duration": 8,
    "start_time": "2023-01-21T20:13:03.825Z"
   },
   {
    "duration": 8,
    "start_time": "2023-01-21T20:13:04.265Z"
   },
   {
    "duration": 854,
    "start_time": "2023-01-21T20:14:55.560Z"
   },
   {
    "duration": 4,
    "start_time": "2023-01-21T20:14:56.416Z"
   },
   {
    "duration": 29,
    "start_time": "2023-01-21T20:14:56.421Z"
   },
   {
    "duration": 947,
    "start_time": "2023-01-21T20:15:12.492Z"
   },
   {
    "duration": 3,
    "start_time": "2023-01-21T20:15:13.442Z"
   },
   {
    "duration": 19,
    "start_time": "2023-01-21T20:15:13.447Z"
   },
   {
    "duration": 14,
    "start_time": "2023-01-21T20:16:41.238Z"
   },
   {
    "duration": 6,
    "start_time": "2023-01-21T20:16:52.973Z"
   },
   {
    "duration": 105,
    "start_time": "2023-01-21T20:16:53.222Z"
   },
   {
    "duration": 16,
    "start_time": "2023-01-21T20:16:53.459Z"
   },
   {
    "duration": 14,
    "start_time": "2023-01-21T20:16:53.682Z"
   },
   {
    "duration": 14,
    "start_time": "2023-01-21T20:16:53.935Z"
   },
   {
    "duration": 10,
    "start_time": "2023-01-21T20:16:54.159Z"
   },
   {
    "duration": 12,
    "start_time": "2023-01-21T20:16:54.617Z"
   },
   {
    "duration": 7,
    "start_time": "2023-01-21T20:16:54.863Z"
   },
   {
    "duration": 6,
    "start_time": "2023-01-21T20:16:55.758Z"
   },
   {
    "duration": 56,
    "start_time": "2023-01-21T20:16:56.067Z"
   },
   {
    "duration": 73,
    "start_time": "2023-01-21T20:16:56.449Z"
   },
   {
    "duration": 25,
    "start_time": "2023-01-21T20:16:56.826Z"
   },
   {
    "duration": 12,
    "start_time": "2023-01-21T20:17:47.622Z"
   },
   {
    "duration": 4,
    "start_time": "2023-01-21T20:19:31.599Z"
   },
   {
    "duration": 13,
    "start_time": "2023-01-21T20:19:32.301Z"
   },
   {
    "duration": 4,
    "start_time": "2023-01-21T20:19:55.610Z"
   },
   {
    "duration": 101,
    "start_time": "2023-01-21T20:19:56.194Z"
   },
   {
    "duration": 14,
    "start_time": "2023-01-21T20:19:56.297Z"
   },
   {
    "duration": 13,
    "start_time": "2023-01-21T20:19:56.352Z"
   },
   {
    "duration": 12,
    "start_time": "2023-01-21T20:19:56.444Z"
   },
   {
    "duration": 10,
    "start_time": "2023-01-21T20:19:56.525Z"
   },
   {
    "duration": 11,
    "start_time": "2023-01-21T20:19:56.603Z"
   },
   {
    "duration": 8,
    "start_time": "2023-01-21T20:19:56.691Z"
   },
   {
    "duration": 7,
    "start_time": "2023-01-21T20:19:57.104Z"
   },
   {
    "duration": 66,
    "start_time": "2023-01-21T20:19:57.301Z"
   },
   {
    "duration": 65,
    "start_time": "2023-01-21T20:19:57.547Z"
   },
   {
    "duration": 5,
    "start_time": "2023-01-21T20:19:57.758Z"
   },
   {
    "duration": 31,
    "start_time": "2023-01-21T20:20:03.261Z"
   },
   {
    "duration": 15,
    "start_time": "2023-01-21T20:20:25.631Z"
   },
   {
    "duration": 13,
    "start_time": "2023-01-21T20:21:13.188Z"
   },
   {
    "duration": 6,
    "start_time": "2023-01-21T20:25:28.501Z"
   },
   {
    "duration": 228,
    "start_time": "2023-01-21T20:25:50.640Z"
   },
   {
    "duration": 201,
    "start_time": "2023-01-21T20:26:06.625Z"
   },
   {
    "duration": 251,
    "start_time": "2023-01-21T20:26:24.910Z"
   },
   {
    "duration": 225,
    "start_time": "2023-01-21T20:26:28.419Z"
   },
   {
    "duration": 90,
    "start_time": "2023-01-21T20:26:37.163Z"
   },
   {
    "duration": 67,
    "start_time": "2023-01-21T20:26:48.453Z"
   },
   {
    "duration": 5,
    "start_time": "2023-01-21T20:27:20.661Z"
   },
   {
    "duration": 71,
    "start_time": "2023-01-21T20:27:34.667Z"
   },
   {
    "duration": 67,
    "start_time": "2023-01-21T20:28:10.738Z"
   },
   {
    "duration": 84,
    "start_time": "2023-01-21T20:28:44.714Z"
   },
   {
    "duration": 67,
    "start_time": "2023-01-21T20:28:53.567Z"
   },
   {
    "duration": 4,
    "start_time": "2023-01-21T20:33:12.891Z"
   },
   {
    "duration": 103,
    "start_time": "2023-01-21T20:33:13.055Z"
   },
   {
    "duration": 16,
    "start_time": "2023-01-21T20:33:13.161Z"
   },
   {
    "duration": 14,
    "start_time": "2023-01-21T20:33:13.225Z"
   },
   {
    "duration": 14,
    "start_time": "2023-01-21T20:33:13.302Z"
   },
   {
    "duration": 10,
    "start_time": "2023-01-21T20:33:13.385Z"
   },
   {
    "duration": 12,
    "start_time": "2023-01-21T20:33:13.470Z"
   },
   {
    "duration": 7,
    "start_time": "2023-01-21T20:33:13.551Z"
   },
   {
    "duration": 6,
    "start_time": "2023-01-21T20:33:13.723Z"
   },
   {
    "duration": 60,
    "start_time": "2023-01-21T20:33:13.808Z"
   },
   {
    "duration": 79,
    "start_time": "2023-01-21T20:33:14.405Z"
   },
   {
    "duration": 6,
    "start_time": "2023-01-21T20:33:14.910Z"
   },
   {
    "duration": 76,
    "start_time": "2023-01-21T20:33:14.985Z"
   },
   {
    "duration": 89,
    "start_time": "2023-01-21T20:33:15.157Z"
   },
   {
    "duration": 15,
    "start_time": "2023-01-21T20:33:15.854Z"
   },
   {
    "duration": 3,
    "start_time": "2023-01-21T20:33:16.436Z"
   },
   {
    "duration": 7,
    "start_time": "2023-01-21T20:33:16.598Z"
   },
   {
    "duration": 23,
    "start_time": "2023-01-21T20:33:17.088Z"
   },
   {
    "duration": 5,
    "start_time": "2023-01-21T20:33:17.678Z"
   },
   {
    "duration": 5,
    "start_time": "2023-01-21T20:33:18.971Z"
   },
   {
    "duration": 5,
    "start_time": "2023-01-21T20:33:19.133Z"
   },
   {
    "duration": 15,
    "start_time": "2023-01-21T20:33:20.120Z"
   },
   {
    "duration": 2281,
    "start_time": "2023-01-21T20:33:20.286Z"
   },
   {
    "duration": 123,
    "start_time": "2023-01-21T20:33:22.569Z"
   },
   {
    "duration": 13,
    "start_time": "2023-01-21T20:33:22.694Z"
   },
   {
    "duration": 200,
    "start_time": "2023-01-21T20:33:22.709Z"
   },
   {
    "duration": 4,
    "start_time": "2023-01-21T20:33:22.911Z"
   },
   {
    "duration": 15,
    "start_time": "2023-01-21T20:33:22.917Z"
   },
   {
    "duration": 33,
    "start_time": "2023-01-21T20:33:23.251Z"
   },
   {
    "duration": 10,
    "start_time": "2023-01-21T20:33:23.417Z"
   },
   {
    "duration": 7,
    "start_time": "2023-01-21T20:33:23.784Z"
   },
   {
    "duration": 9,
    "start_time": "2023-01-21T20:33:24.081Z"
   },
   {
    "duration": 5,
    "start_time": "2023-01-21T20:33:24.603Z"
   },
   {
    "duration": 3,
    "start_time": "2023-01-21T20:33:25.518Z"
   },
   {
    "duration": 3922,
    "start_time": "2023-01-21T20:33:25.750Z"
   },
   {
    "duration": 11,
    "start_time": "2023-01-21T20:33:29.675Z"
   },
   {
    "duration": 11,
    "start_time": "2023-01-21T20:33:29.688Z"
   },
   {
    "duration": 12916,
    "start_time": "2023-01-21T20:33:29.702Z"
   },
   {
    "duration": 9,
    "start_time": "2023-01-21T20:33:42.620Z"
   },
   {
    "duration": 15,
    "start_time": "2023-01-21T20:33:42.631Z"
   },
   {
    "duration": 3,
    "start_time": "2023-01-21T20:35:34.570Z"
   },
   {
    "duration": 19297,
    "start_time": "2023-01-21T20:35:34.921Z"
   },
   {
    "duration": 8,
    "start_time": "2023-01-21T20:35:54.220Z"
   },
   {
    "duration": 6,
    "start_time": "2023-01-21T20:35:54.229Z"
   },
   {
    "duration": 7,
    "start_time": "2023-01-21T20:35:54.237Z"
   },
   {
    "duration": 402,
    "start_time": "2023-01-21T20:35:54.245Z"
   },
   {
    "duration": 51,
    "start_time": "2023-01-21T20:35:54.649Z"
   },
   {
    "duration": 4,
    "start_time": "2023-01-21T20:35:54.702Z"
   },
   {
    "duration": 65704,
    "start_time": "2023-01-21T20:35:54.709Z"
   },
   {
    "duration": 147,
    "start_time": "2023-01-21T20:37:00.415Z"
   },
   {
    "duration": 5,
    "start_time": "2023-01-21T20:37:00.565Z"
   },
   {
    "duration": 43,
    "start_time": "2023-01-21T20:37:00.571Z"
   },
   {
    "duration": 45,
    "start_time": "2023-01-21T20:37:00.616Z"
   },
   {
    "duration": 86909,
    "start_time": "2023-01-21T20:37:00.663Z"
   },
   {
    "duration": 69,
    "start_time": "2023-01-21T20:38:27.574Z"
   },
   {
    "duration": 5,
    "start_time": "2023-01-21T20:38:27.645Z"
   },
   {
    "duration": 5,
    "start_time": "2023-01-21T20:41:55.637Z"
   },
   {
    "duration": 101,
    "start_time": "2023-01-21T20:41:55.804Z"
   },
   {
    "duration": 17,
    "start_time": "2023-01-21T20:41:55.907Z"
   },
   {
    "duration": 13,
    "start_time": "2023-01-21T20:41:55.973Z"
   },
   {
    "duration": 12,
    "start_time": "2023-01-21T20:41:56.052Z"
   },
   {
    "duration": 9,
    "start_time": "2023-01-21T20:41:56.135Z"
   },
   {
    "duration": 13,
    "start_time": "2023-01-21T20:41:56.217Z"
   },
   {
    "duration": 6,
    "start_time": "2023-01-21T20:41:56.302Z"
   },
   {
    "duration": 8,
    "start_time": "2023-01-21T20:41:56.471Z"
   },
   {
    "duration": 55,
    "start_time": "2023-01-21T20:41:56.552Z"
   },
   {
    "duration": 73,
    "start_time": "2023-01-21T20:41:56.641Z"
   },
   {
    "duration": 5,
    "start_time": "2023-01-21T20:41:56.719Z"
   },
   {
    "duration": 76,
    "start_time": "2023-01-21T20:41:56.808Z"
   },
   {
    "duration": 93,
    "start_time": "2023-01-21T20:41:56.983Z"
   },
   {
    "duration": 15,
    "start_time": "2023-01-21T20:41:57.078Z"
   },
   {
    "duration": 3,
    "start_time": "2023-01-21T20:41:57.222Z"
   },
   {
    "duration": 7,
    "start_time": "2023-01-21T20:41:57.395Z"
   },
   {
    "duration": 25,
    "start_time": "2023-01-21T20:41:57.478Z"
   },
   {
    "duration": 4,
    "start_time": "2023-01-21T20:41:57.643Z"
   },
   {
    "duration": 8,
    "start_time": "2023-01-21T20:41:58.066Z"
   },
   {
    "duration": 5,
    "start_time": "2023-01-21T20:41:58.230Z"
   },
   {
    "duration": 13,
    "start_time": "2023-01-21T20:41:58.487Z"
   },
   {
    "duration": 2267,
    "start_time": "2023-01-21T20:41:58.650Z"
   },
   {
    "duration": 97,
    "start_time": "2023-01-21T20:42:00.920Z"
   },
   {
    "duration": 23,
    "start_time": "2023-01-21T20:42:01.018Z"
   },
   {
    "duration": 192,
    "start_time": "2023-01-21T20:42:01.044Z"
   },
   {
    "duration": 3,
    "start_time": "2023-01-21T20:42:01.238Z"
   },
   {
    "duration": 217,
    "start_time": "2023-01-21T20:42:01.243Z"
   },
   {
    "duration": 60,
    "start_time": "2023-01-21T20:42:01.462Z"
   },
   {
    "duration": 16,
    "start_time": "2023-01-21T20:42:01.524Z"
   },
   {
    "duration": 36,
    "start_time": "2023-01-21T20:42:01.542Z"
   },
   {
    "duration": 47,
    "start_time": "2023-01-21T20:42:01.581Z"
   },
   {
    "duration": 43,
    "start_time": "2023-01-21T20:42:01.630Z"
   },
   {
    "duration": 36,
    "start_time": "2023-01-21T20:42:01.675Z"
   },
   {
    "duration": 3491,
    "start_time": "2023-01-21T20:42:01.712Z"
   },
   {
    "duration": 11,
    "start_time": "2023-01-21T20:42:05.206Z"
   },
   {
    "duration": 30,
    "start_time": "2023-01-21T20:42:05.218Z"
   },
   {
    "duration": 21007,
    "start_time": "2023-01-21T20:42:05.251Z"
   },
   {
    "duration": 11,
    "start_time": "2023-01-21T20:42:26.260Z"
   },
   {
    "duration": 12,
    "start_time": "2023-01-21T20:42:26.273Z"
   },
   {
    "duration": 19,
    "start_time": "2023-01-21T20:42:26.287Z"
   },
   {
    "duration": 484,
    "start_time": "2023-01-21T20:42:26.308Z"
   },
   {
    "duration": 60,
    "start_time": "2023-01-21T20:42:26.793Z"
   },
   {
    "duration": 3,
    "start_time": "2023-01-21T20:42:26.855Z"
   },
   {
    "duration": 66095,
    "start_time": "2023-01-21T20:42:26.859Z"
   },
   {
    "duration": 148,
    "start_time": "2023-01-21T20:43:32.956Z"
   },
   {
    "duration": 4,
    "start_time": "2023-01-21T20:43:33.106Z"
   },
   {
    "duration": 17,
    "start_time": "2023-01-21T20:43:33.112Z"
   },
   {
    "duration": 6,
    "start_time": "2023-01-21T20:43:33.137Z"
   },
   {
    "duration": 100305,
    "start_time": "2023-01-21T20:43:33.145Z"
   },
   {
    "duration": 20,
    "start_time": "2023-01-21T20:45:13.451Z"
   },
   {
    "duration": 216,
    "start_time": "2023-01-21T20:45:13.472Z"
   },
   {
    "duration": 4,
    "start_time": "2023-01-21T20:45:13.690Z"
   },
   {
    "duration": 981,
    "start_time": "2023-01-21T20:45:13.696Z"
   },
   {
    "duration": 4,
    "start_time": "2023-01-21T20:45:14.679Z"
   },
   {
    "duration": 23,
    "start_time": "2023-01-21T20:45:14.685Z"
   },
   {
    "duration": 8,
    "start_time": "2023-01-21T20:45:14.709Z"
   },
   {
    "duration": 1529,
    "start_time": "2023-01-21T20:45:41.050Z"
   },
   {
    "duration": 4,
    "start_time": "2023-01-21T20:45:42.582Z"
   },
   {
    "duration": 34,
    "start_time": "2023-01-21T20:45:42.588Z"
   },
   {
    "duration": 1569,
    "start_time": "2023-01-21T20:46:14.552Z"
   },
   {
    "duration": 112,
    "start_time": "2023-01-21T20:46:16.123Z"
   },
   {
    "duration": 20,
    "start_time": "2023-01-21T20:46:16.237Z"
   },
   {
    "duration": 14,
    "start_time": "2023-01-21T20:46:16.259Z"
   },
   {
    "duration": 45,
    "start_time": "2023-01-21T20:46:16.275Z"
   },
   {
    "duration": 11,
    "start_time": "2023-01-21T20:46:16.322Z"
   },
   {
    "duration": 17,
    "start_time": "2023-01-21T20:46:16.335Z"
   },
   {
    "duration": 13,
    "start_time": "2023-01-21T20:46:16.354Z"
   },
   {
    "duration": 11,
    "start_time": "2023-01-21T20:46:16.369Z"
   },
   {
    "duration": 63,
    "start_time": "2023-01-21T20:46:16.384Z"
   },
   {
    "duration": 76,
    "start_time": "2023-01-21T20:46:16.448Z"
   },
   {
    "duration": 16,
    "start_time": "2023-01-21T20:46:16.526Z"
   },
   {
    "duration": 114,
    "start_time": "2023-01-21T20:46:16.544Z"
   },
   {
    "duration": 120,
    "start_time": "2023-01-21T20:46:16.660Z"
   },
   {
    "duration": 16,
    "start_time": "2023-01-21T20:46:16.782Z"
   },
   {
    "duration": 6,
    "start_time": "2023-01-21T20:46:16.800Z"
   },
   {
    "duration": 36,
    "start_time": "2023-01-21T20:46:16.808Z"
   },
   {
    "duration": 30,
    "start_time": "2023-01-21T20:46:16.846Z"
   },
   {
    "duration": 5,
    "start_time": "2023-01-21T20:46:16.878Z"
   },
   {
    "duration": 12,
    "start_time": "2023-01-21T20:46:16.885Z"
   },
   {
    "duration": 9,
    "start_time": "2023-01-21T20:46:16.899Z"
   },
   {
    "duration": 29,
    "start_time": "2023-01-21T20:46:16.910Z"
   },
   {
    "duration": 2259,
    "start_time": "2023-01-21T20:46:16.941Z"
   },
   {
    "duration": 121,
    "start_time": "2023-01-21T20:46:19.202Z"
   },
   {
    "duration": 20,
    "start_time": "2023-01-21T20:46:19.325Z"
   },
   {
    "duration": 210,
    "start_time": "2023-01-21T20:46:19.347Z"
   },
   {
    "duration": 4,
    "start_time": "2023-01-21T20:46:19.559Z"
   },
   {
    "duration": 23,
    "start_time": "2023-01-21T20:46:19.568Z"
   },
   {
    "duration": 52,
    "start_time": "2023-01-21T20:46:19.593Z"
   },
   {
    "duration": 9,
    "start_time": "2023-01-21T20:46:19.648Z"
   },
   {
    "duration": 29,
    "start_time": "2023-01-21T20:46:19.659Z"
   },
   {
    "duration": 22,
    "start_time": "2023-01-21T20:46:19.690Z"
   },
   {
    "duration": 20,
    "start_time": "2023-01-21T20:46:19.714Z"
   },
   {
    "duration": 18,
    "start_time": "2023-01-21T20:46:19.736Z"
   },
   {
    "duration": 3996,
    "start_time": "2023-01-21T20:46:19.756Z"
   },
   {
    "duration": 11,
    "start_time": "2023-01-21T20:46:23.753Z"
   },
   {
    "duration": 5,
    "start_time": "2023-01-21T20:46:23.766Z"
   },
   {
    "duration": 20147,
    "start_time": "2023-01-21T20:46:23.773Z"
   },
   {
    "duration": 8,
    "start_time": "2023-01-21T20:46:43.922Z"
   },
   {
    "duration": 7,
    "start_time": "2023-01-21T20:46:43.931Z"
   },
   {
    "duration": 18,
    "start_time": "2023-01-21T20:46:43.939Z"
   },
   {
    "duration": 438,
    "start_time": "2023-01-21T20:46:43.959Z"
   },
   {
    "duration": 57,
    "start_time": "2023-01-21T20:46:44.399Z"
   },
   {
    "duration": 5,
    "start_time": "2023-01-21T20:46:44.458Z"
   },
   {
    "duration": 65051,
    "start_time": "2023-01-21T20:46:44.464Z"
   },
   {
    "duration": 144,
    "start_time": "2023-01-21T20:47:49.517Z"
   },
   {
    "duration": 4,
    "start_time": "2023-01-21T20:47:49.663Z"
   },
   {
    "duration": 14,
    "start_time": "2023-01-21T20:47:49.668Z"
   },
   {
    "duration": 6,
    "start_time": "2023-01-21T20:47:49.683Z"
   },
   {
    "duration": 102388,
    "start_time": "2023-01-21T20:47:49.691Z"
   },
   {
    "duration": 70,
    "start_time": "2023-01-21T20:49:32.080Z"
   },
   {
    "duration": 204,
    "start_time": "2023-01-21T20:49:32.153Z"
   },
   {
    "duration": 5,
    "start_time": "2023-01-21T20:49:32.359Z"
   },
   {
    "duration": 1814,
    "start_time": "2023-01-21T20:49:32.365Z"
   },
   {
    "duration": 136,
    "start_time": "2023-01-21T20:49:34.181Z"
   },
   {
    "duration": 0,
    "start_time": "2023-01-21T20:49:34.319Z"
   },
   {
    "duration": 11,
    "start_time": "2023-01-21T20:50:21.467Z"
   },
   {
    "duration": 64,
    "start_time": "2023-01-22T08:27:07.889Z"
   },
   {
    "duration": 55,
    "start_time": "2023-01-22T08:27:13.723Z"
   },
   {
    "duration": 58,
    "start_time": "2023-01-22T08:29:28.100Z"
   },
   {
    "duration": 74,
    "start_time": "2023-01-22T11:52:53.912Z"
   },
   {
    "duration": 69,
    "start_time": "2023-01-22T11:53:18.888Z"
   },
   {
    "duration": 82,
    "start_time": "2023-01-22T11:53:21.004Z"
   },
   {
    "duration": 65,
    "start_time": "2023-01-22T11:53:45.453Z"
   },
   {
    "duration": 69,
    "start_time": "2023-01-22T11:55:23.219Z"
   },
   {
    "duration": 92,
    "start_time": "2023-01-22T11:55:47.461Z"
   },
   {
    "duration": 69,
    "start_time": "2023-01-22T11:57:48.324Z"
   },
   {
    "duration": 2065,
    "start_time": "2023-01-22T19:29:21.277Z"
   },
   {
    "duration": 287,
    "start_time": "2023-01-22T19:29:23.347Z"
   },
   {
    "duration": 26,
    "start_time": "2023-01-22T19:29:23.636Z"
   },
   {
    "duration": 18,
    "start_time": "2023-01-22T19:29:23.664Z"
   },
   {
    "duration": 18,
    "start_time": "2023-01-22T19:29:23.685Z"
   },
   {
    "duration": 14,
    "start_time": "2023-01-22T19:29:23.705Z"
   },
   {
    "duration": 41,
    "start_time": "2023-01-22T19:29:23.721Z"
   },
   {
    "duration": 8,
    "start_time": "2023-01-22T19:29:23.763Z"
   },
   {
    "duration": 101,
    "start_time": "2023-01-22T19:29:23.773Z"
   },
   {
    "duration": 58,
    "start_time": "2023-01-22T19:29:23.876Z"
   },
   {
    "duration": 107,
    "start_time": "2023-01-22T19:29:23.936Z"
   },
   {
    "duration": 4,
    "start_time": "2023-01-22T19:29:24.054Z"
   },
   {
    "duration": 115,
    "start_time": "2023-01-22T19:29:24.060Z"
   },
   {
    "duration": 177,
    "start_time": "2023-01-22T19:29:24.179Z"
   },
   {
    "duration": 23,
    "start_time": "2023-01-22T19:29:24.358Z"
   },
   {
    "duration": 5,
    "start_time": "2023-01-22T19:29:24.383Z"
   },
   {
    "duration": 18,
    "start_time": "2023-01-22T19:29:24.390Z"
   },
   {
    "duration": 51,
    "start_time": "2023-01-22T19:29:24.410Z"
   },
   {
    "duration": 5,
    "start_time": "2023-01-22T19:29:24.463Z"
   },
   {
    "duration": 19,
    "start_time": "2023-01-22T19:29:24.470Z"
   },
   {
    "duration": 13,
    "start_time": "2023-01-22T19:29:24.491Z"
   },
   {
    "duration": 29,
    "start_time": "2023-01-22T19:29:24.507Z"
   },
   {
    "duration": 2252,
    "start_time": "2023-01-22T19:29:24.539Z"
   },
   {
    "duration": 114,
    "start_time": "2023-01-22T19:29:26.793Z"
   },
   {
    "duration": 11,
    "start_time": "2023-01-22T19:29:26.909Z"
   },
   {
    "duration": 193,
    "start_time": "2023-01-22T19:29:26.922Z"
   },
   {
    "duration": 4,
    "start_time": "2023-01-22T19:29:27.118Z"
   },
   {
    "duration": 13,
    "start_time": "2023-01-22T19:29:27.124Z"
   },
   {
    "duration": 63,
    "start_time": "2023-01-22T19:29:27.139Z"
   },
   {
    "duration": 3,
    "start_time": "2023-01-22T19:29:27.204Z"
   },
   {
    "duration": 12,
    "start_time": "2023-01-22T19:29:27.209Z"
   },
   {
    "duration": 32,
    "start_time": "2023-01-22T19:29:27.223Z"
   },
   {
    "duration": 8,
    "start_time": "2023-01-22T19:29:27.257Z"
   },
   {
    "duration": 10,
    "start_time": "2023-01-22T19:29:27.266Z"
   },
   {
    "duration": 10,
    "start_time": "2023-01-22T19:29:27.278Z"
   },
   {
    "duration": 4442,
    "start_time": "2023-01-22T19:29:27.291Z"
   },
   {
    "duration": 18,
    "start_time": "2023-01-22T19:29:31.735Z"
   },
   {
    "duration": 38,
    "start_time": "2023-01-22T19:29:31.755Z"
   },
   {
    "duration": 11993,
    "start_time": "2023-01-22T19:29:31.795Z"
   },
   {
    "duration": 13,
    "start_time": "2023-01-22T19:29:43.790Z"
   },
   {
    "duration": 0,
    "start_time": "2023-01-22T19:29:43.805Z"
   },
   {
    "duration": 0,
    "start_time": "2023-01-22T19:29:43.808Z"
   },
   {
    "duration": 0,
    "start_time": "2023-01-22T19:29:43.809Z"
   },
   {
    "duration": 0,
    "start_time": "2023-01-22T19:29:43.810Z"
   },
   {
    "duration": 0,
    "start_time": "2023-01-22T19:29:43.812Z"
   },
   {
    "duration": 0,
    "start_time": "2023-01-22T19:29:43.813Z"
   },
   {
    "duration": 0,
    "start_time": "2023-01-22T19:29:43.814Z"
   },
   {
    "duration": 0,
    "start_time": "2023-01-22T19:29:43.815Z"
   },
   {
    "duration": 1,
    "start_time": "2023-01-22T19:29:43.816Z"
   },
   {
    "duration": 0,
    "start_time": "2023-01-22T19:29:43.818Z"
   },
   {
    "duration": 0,
    "start_time": "2023-01-22T19:29:43.819Z"
   },
   {
    "duration": 0,
    "start_time": "2023-01-22T19:29:43.820Z"
   },
   {
    "duration": 0,
    "start_time": "2023-01-22T19:29:43.822Z"
   },
   {
    "duration": 0,
    "start_time": "2023-01-22T19:29:43.823Z"
   },
   {
    "duration": 0,
    "start_time": "2023-01-22T19:29:43.824Z"
   },
   {
    "duration": 0,
    "start_time": "2023-01-22T19:29:43.825Z"
   },
   {
    "duration": 0,
    "start_time": "2023-01-22T19:29:43.827Z"
   },
   {
    "duration": 4,
    "start_time": "2023-01-22T19:33:53.453Z"
   },
   {
    "duration": 11699,
    "start_time": "2023-01-22T19:33:54.190Z"
   },
   {
    "duration": 10,
    "start_time": "2023-01-22T19:34:05.891Z"
   },
   {
    "duration": 0,
    "start_time": "2023-01-22T19:34:05.903Z"
   },
   {
    "duration": 0,
    "start_time": "2023-01-22T19:34:05.905Z"
   },
   {
    "duration": 0,
    "start_time": "2023-01-22T19:34:05.906Z"
   },
   {
    "duration": 0,
    "start_time": "2023-01-22T19:34:05.908Z"
   },
   {
    "duration": 0,
    "start_time": "2023-01-22T19:34:05.909Z"
   },
   {
    "duration": 0,
    "start_time": "2023-01-22T19:34:05.910Z"
   },
   {
    "duration": 0,
    "start_time": "2023-01-22T19:34:05.912Z"
   },
   {
    "duration": 0,
    "start_time": "2023-01-22T19:34:05.913Z"
   },
   {
    "duration": 0,
    "start_time": "2023-01-22T19:34:05.914Z"
   },
   {
    "duration": 0,
    "start_time": "2023-01-22T19:34:05.915Z"
   },
   {
    "duration": 0,
    "start_time": "2023-01-22T19:34:05.917Z"
   },
   {
    "duration": 0,
    "start_time": "2023-01-22T19:34:05.918Z"
   },
   {
    "duration": 0,
    "start_time": "2023-01-22T19:34:05.919Z"
   },
   {
    "duration": 0,
    "start_time": "2023-01-22T19:34:05.920Z"
   },
   {
    "duration": 0,
    "start_time": "2023-01-22T19:34:05.922Z"
   },
   {
    "duration": 0,
    "start_time": "2023-01-22T19:34:05.923Z"
   },
   {
    "duration": 15,
    "start_time": "2023-01-22T19:34:06.044Z"
   },
   {
    "duration": 3,
    "start_time": "2023-01-22T19:34:25.911Z"
   },
   {
    "duration": 984964,
    "start_time": "2023-01-22T19:34:26.053Z"
   },
   {
    "duration": 9,
    "start_time": "2023-01-22T19:50:51.019Z"
   },
   {
    "duration": 4,
    "start_time": "2023-01-22T19:50:51.030Z"
   },
   {
    "duration": 16,
    "start_time": "2023-01-22T19:50:51.036Z"
   },
   {
    "duration": 451,
    "start_time": "2023-01-22T19:50:51.054Z"
   },
   {
    "duration": 71,
    "start_time": "2023-01-22T19:50:51.507Z"
   },
   {
    "duration": 4,
    "start_time": "2023-01-22T19:50:51.580Z"
   },
   {
    "duration": 86,
    "start_time": "2023-01-22T19:50:51.587Z"
   },
   {
    "duration": 8,
    "start_time": "2023-01-22T19:50:51.675Z"
   },
   {
    "duration": 0,
    "start_time": "2023-01-22T19:50:51.685Z"
   },
   {
    "duration": 0,
    "start_time": "2023-01-22T19:50:51.686Z"
   },
   {
    "duration": 0,
    "start_time": "2023-01-22T19:50:51.687Z"
   },
   {
    "duration": 0,
    "start_time": "2023-01-22T19:50:51.689Z"
   },
   {
    "duration": 0,
    "start_time": "2023-01-22T19:50:51.690Z"
   },
   {
    "duration": 0,
    "start_time": "2023-01-22T19:50:51.691Z"
   },
   {
    "duration": 0,
    "start_time": "2023-01-22T19:50:51.692Z"
   },
   {
    "duration": 0,
    "start_time": "2023-01-22T19:50:51.693Z"
   },
   {
    "duration": 0,
    "start_time": "2023-01-22T19:50:51.694Z"
   },
   {
    "duration": 0,
    "start_time": "2023-01-22T19:50:51.695Z"
   },
   {
    "duration": 4,
    "start_time": "2023-01-22T20:05:08.815Z"
   },
   {
    "duration": 607493,
    "start_time": "2023-01-22T20:05:09.088Z"
   },
   {
    "duration": 9,
    "start_time": "2023-01-22T20:15:16.582Z"
   },
   {
    "duration": 6,
    "start_time": "2023-01-22T20:15:16.592Z"
   },
   {
    "duration": 6,
    "start_time": "2023-01-22T20:15:16.599Z"
   },
   {
    "duration": 383,
    "start_time": "2023-01-22T20:15:16.606Z"
   },
   {
    "duration": 54,
    "start_time": "2023-01-22T20:15:16.991Z"
   },
   {
    "duration": 3,
    "start_time": "2023-01-22T20:15:17.054Z"
   },
   {
    "duration": 60202,
    "start_time": "2023-01-22T20:15:17.058Z"
   },
   {
    "duration": 141,
    "start_time": "2023-01-22T20:16:17.262Z"
   },
   {
    "duration": 3,
    "start_time": "2023-01-22T20:16:17.406Z"
   },
   {
    "duration": 9,
    "start_time": "2023-01-22T20:16:17.411Z"
   },
   {
    "duration": 5,
    "start_time": "2023-01-22T20:16:17.421Z"
   },
   {
    "duration": 4253,
    "start_time": "2023-01-22T20:16:17.427Z"
   },
   {
    "duration": 17,
    "start_time": "2023-01-22T20:16:21.682Z"
   },
   {
    "duration": 55,
    "start_time": "2023-01-22T20:16:21.700Z"
   },
   {
    "duration": 18,
    "start_time": "2023-01-22T20:16:21.756Z"
   },
   {
    "duration": 0,
    "start_time": "2023-01-22T20:16:21.776Z"
   },
   {
    "duration": 0,
    "start_time": "2023-01-22T20:16:21.777Z"
   },
   {
    "duration": 1,
    "start_time": "2023-01-22T20:16:21.778Z"
   },
   {
    "duration": 4,
    "start_time": "2023-01-22T20:20:01.737Z"
   },
   {
    "duration": 10,
    "start_time": "2023-01-22T20:20:01.893Z"
   },
   {
    "duration": 102460,
    "start_time": "2023-01-22T20:20:25.967Z"
   },
   {
    "duration": 10,
    "start_time": "2023-01-22T20:22:08.429Z"
   },
   {
    "duration": 77,
    "start_time": "2023-01-22T20:22:13.964Z"
   },
   {
    "duration": 4,
    "start_time": "2023-01-22T21:56:17.095Z"
   },
   {
    "duration": 768969,
    "start_time": "2023-01-22T21:56:17.100Z"
   },
   {
    "duration": 12,
    "start_time": "2023-01-22T22:09:06.071Z"
   },
   {
    "duration": 3,
    "start_time": "2023-01-22T22:09:06.085Z"
   },
   {
    "duration": 1686,
    "start_time": "2023-01-22T22:09:06.090Z"
   },
   {
    "duration": 8,
    "start_time": "2023-01-22T22:09:07.777Z"
   },
   {
    "duration": 1573,
    "start_time": "2023-01-23T20:10:31.274Z"
   },
   {
    "duration": 4,
    "start_time": "2023-01-23T20:10:46.503Z"
   },
   {
    "duration": 4,
    "start_time": "2023-01-23T20:12:47.459Z"
   },
   {
    "duration": 409,
    "start_time": "2023-01-23T20:12:47.601Z"
   },
   {
    "duration": 19,
    "start_time": "2023-01-23T20:12:48.012Z"
   },
   {
    "duration": 18,
    "start_time": "2023-01-23T20:12:48.032Z"
   },
   {
    "duration": 16,
    "start_time": "2023-01-23T20:12:48.052Z"
   },
   {
    "duration": 31,
    "start_time": "2023-01-23T20:12:48.070Z"
   },
   {
    "duration": 30,
    "start_time": "2023-01-23T20:12:48.103Z"
   },
   {
    "duration": 17,
    "start_time": "2023-01-23T20:12:48.135Z"
   },
   {
    "duration": 6,
    "start_time": "2023-01-23T20:12:48.275Z"
   },
   {
    "duration": 55,
    "start_time": "2023-01-23T20:12:48.355Z"
   },
   {
    "duration": 69,
    "start_time": "2023-01-23T20:12:48.863Z"
   },
   {
    "duration": 5,
    "start_time": "2023-01-23T20:12:49.030Z"
   },
   {
    "duration": 65,
    "start_time": "2023-01-23T20:12:49.188Z"
   },
   {
    "duration": 77,
    "start_time": "2023-01-23T20:12:49.495Z"
   },
   {
    "duration": 13,
    "start_time": "2023-01-23T20:12:49.677Z"
   },
   {
    "duration": 2,
    "start_time": "2023-01-23T20:12:50.113Z"
   },
   {
    "duration": 5,
    "start_time": "2023-01-23T20:12:50.697Z"
   },
   {
    "duration": 22,
    "start_time": "2023-01-23T20:12:50.773Z"
   },
   {
    "duration": 3,
    "start_time": "2023-01-23T20:12:50.944Z"
   },
   {
    "duration": 5,
    "start_time": "2023-01-23T20:12:51.446Z"
   },
   {
    "duration": 6,
    "start_time": "2023-01-23T20:12:51.614Z"
   },
   {
    "duration": 11,
    "start_time": "2023-01-23T20:12:52.500Z"
   },
   {
    "duration": 1965,
    "start_time": "2023-01-23T20:12:52.659Z"
   },
   {
    "duration": 87,
    "start_time": "2023-01-23T20:12:54.625Z"
   },
   {
    "duration": 11,
    "start_time": "2023-01-23T20:12:54.713Z"
   },
   {
    "duration": 162,
    "start_time": "2023-01-23T20:12:54.725Z"
   },
   {
    "duration": 3,
    "start_time": "2023-01-23T20:12:55.117Z"
   },
   {
    "duration": 4,
    "start_time": "2023-01-23T20:12:55.297Z"
   },
   {
    "duration": 28,
    "start_time": "2023-01-23T20:12:56.173Z"
   },
   {
    "duration": 2,
    "start_time": "2023-01-23T20:12:58.327Z"
   },
   {
    "duration": 8,
    "start_time": "2023-01-23T20:12:59.796Z"
   },
   {
    "duration": 6,
    "start_time": "2023-01-23T20:13:27.102Z"
   },
   {
    "duration": 6,
    "start_time": "2023-01-23T20:13:27.330Z"
   },
   {
    "duration": 4,
    "start_time": "2023-01-23T20:13:29.529Z"
   },
   {
    "duration": 2,
    "start_time": "2023-01-23T20:13:30.744Z"
   },
   {
    "duration": 3355,
    "start_time": "2023-01-23T20:13:30.944Z"
   },
   {
    "duration": 9,
    "start_time": "2023-01-23T20:13:34.300Z"
   },
   {
    "duration": 3,
    "start_time": "2023-01-23T20:13:35.800Z"
   },
   {
    "duration": 4,
    "start_time": "2023-01-23T20:13:41.183Z"
   },
   {
    "duration": 366,
    "start_time": "2023-01-23T20:13:41.676Z"
   },
   {
    "duration": 51,
    "start_time": "2023-01-23T20:13:42.044Z"
   },
   {
    "duration": 3,
    "start_time": "2023-01-23T20:13:42.097Z"
   },
   {
    "duration": 56681,
    "start_time": "2023-01-23T20:13:42.102Z"
   },
   {
    "duration": 134,
    "start_time": "2023-01-23T20:14:38.786Z"
   },
   {
    "duration": 4,
    "start_time": "2023-01-23T20:14:38.922Z"
   },
   {
    "duration": 11,
    "start_time": "2023-01-23T20:14:38.928Z"
   },
   {
    "duration": 5,
    "start_time": "2023-01-23T20:14:38.940Z"
   },
   {
    "duration": 8377,
    "start_time": "2023-01-23T20:14:38.946Z"
   },
   {
    "duration": 69,
    "start_time": "2023-01-23T20:14:47.324Z"
   },
   {
    "duration": 4,
    "start_time": "2023-01-23T20:14:47.395Z"
   },
   {
    "duration": 3266,
    "start_time": "2023-01-23T20:14:47.401Z"
   },
   {
    "duration": 9,
    "start_time": "2023-01-23T20:14:50.669Z"
   },
   {
    "duration": 112,
    "start_time": "2023-01-23T20:14:50.680Z"
   },
   {
    "duration": 138,
    "start_time": "2023-01-23T20:15:05.787Z"
   },
   {
    "duration": 11,
    "start_time": "2023-01-23T20:18:37.072Z"
   },
   {
    "duration": 4,
    "start_time": "2023-01-23T20:18:47.973Z"
   },
   {
    "duration": 4,
    "start_time": "2023-01-23T20:21:15.118Z"
   },
   {
    "duration": 87,
    "start_time": "2023-01-23T20:21:15.375Z"
   },
   {
    "duration": 18,
    "start_time": "2023-01-23T20:21:15.465Z"
   },
   {
    "duration": 39,
    "start_time": "2023-01-23T20:21:15.486Z"
   },
   {
    "duration": 31,
    "start_time": "2023-01-23T20:21:15.527Z"
   },
   {
    "duration": 12,
    "start_time": "2023-01-23T20:21:15.611Z"
   },
   {
    "duration": 10,
    "start_time": "2023-01-23T20:21:15.693Z"
   },
   {
    "duration": 6,
    "start_time": "2023-01-23T20:21:15.775Z"
   },
   {
    "duration": 5,
    "start_time": "2023-01-23T20:21:15.946Z"
   },
   {
    "duration": 55,
    "start_time": "2023-01-23T20:21:16.032Z"
   },
   {
    "duration": 62,
    "start_time": "2023-01-23T20:21:16.116Z"
   },
   {
    "duration": 4,
    "start_time": "2023-01-23T20:21:16.205Z"
   },
   {
    "duration": 66,
    "start_time": "2023-01-23T20:21:16.287Z"
   },
   {
    "duration": 73,
    "start_time": "2023-01-23T20:21:17.501Z"
   },
   {
    "duration": 12,
    "start_time": "2023-01-23T20:21:17.585Z"
   },
   {
    "duration": 3,
    "start_time": "2023-01-23T20:21:17.751Z"
   },
   {
    "duration": 6,
    "start_time": "2023-01-23T20:21:17.912Z"
   },
   {
    "duration": 20,
    "start_time": "2023-01-23T20:21:18.001Z"
   },
   {
    "duration": 1405,
    "start_time": "2023-01-23T20:21:28.792Z"
   },
   {
    "duration": 87,
    "start_time": "2023-01-23T20:21:30.199Z"
   },
   {
    "duration": 18,
    "start_time": "2023-01-23T20:21:30.287Z"
   },
   {
    "duration": 17,
    "start_time": "2023-01-23T20:21:30.307Z"
   },
   {
    "duration": 44,
    "start_time": "2023-01-23T20:21:30.326Z"
   },
   {
    "duration": 86,
    "start_time": "2023-01-23T20:21:30.372Z"
   },
   {
    "duration": 39,
    "start_time": "2023-01-23T20:21:30.459Z"
   },
   {
    "duration": 30,
    "start_time": "2023-01-23T20:21:30.500Z"
   },
   {
    "duration": 49,
    "start_time": "2023-01-23T20:21:30.532Z"
   },
   {
    "duration": 88,
    "start_time": "2023-01-23T20:21:30.584Z"
   },
   {
    "duration": 66,
    "start_time": "2023-01-23T20:21:30.673Z"
   },
   {
    "duration": 4,
    "start_time": "2023-01-23T20:21:30.741Z"
   },
   {
    "duration": 110,
    "start_time": "2023-01-23T20:21:30.746Z"
   },
   {
    "duration": 87,
    "start_time": "2023-01-23T20:21:30.858Z"
   },
   {
    "duration": 13,
    "start_time": "2023-01-23T20:21:30.947Z"
   },
   {
    "duration": 37,
    "start_time": "2023-01-23T20:21:30.962Z"
   },
   {
    "duration": 6,
    "start_time": "2023-01-23T20:21:31.103Z"
   },
   {
    "duration": 31,
    "start_time": "2023-01-23T20:21:31.187Z"
   },
   {
    "duration": 4,
    "start_time": "2023-01-23T20:21:31.353Z"
   },
   {
    "duration": 5,
    "start_time": "2023-01-23T20:21:32.887Z"
   },
   {
    "duration": 5,
    "start_time": "2023-01-23T20:21:33.292Z"
   },
   {
    "duration": 11,
    "start_time": "2023-01-23T20:21:34.920Z"
   },
   {
    "duration": 2093,
    "start_time": "2023-01-23T20:21:35.080Z"
   },
   {
    "duration": 96,
    "start_time": "2023-01-23T20:21:37.175Z"
   },
   {
    "duration": 17,
    "start_time": "2023-01-23T20:21:37.273Z"
   },
   {
    "duration": 179,
    "start_time": "2023-01-23T20:21:37.292Z"
   },
   {
    "duration": 3,
    "start_time": "2023-01-23T20:21:37.473Z"
   },
   {
    "duration": 11,
    "start_time": "2023-01-23T20:21:37.477Z"
   },
   {
    "duration": 27,
    "start_time": "2023-01-23T20:21:40.569Z"
   },
   {
    "duration": 3,
    "start_time": "2023-01-23T20:21:40.813Z"
   },
   {
    "duration": 8,
    "start_time": "2023-01-23T20:21:45.717Z"
   },
   {
    "duration": 5,
    "start_time": "2023-01-23T20:21:48.608Z"
   },
   {
    "duration": 3,
    "start_time": "2023-01-23T20:21:51.338Z"
   },
   {
    "duration": 3742,
    "start_time": "2023-01-23T20:21:51.644Z"
   },
   {
    "duration": 9871,
    "start_time": "2023-01-23T20:21:55.388Z"
   },
   {
    "duration": 3,
    "start_time": "2023-01-23T20:22:05.260Z"
   },
   {
    "duration": 3,
    "start_time": "2023-01-23T20:22:07.423Z"
   },
   {
    "duration": 494,
    "start_time": "2023-01-23T20:22:07.904Z"
   },
   {
    "duration": 1162,
    "start_time": "2023-01-23T20:22:08.400Z"
   },
   {
    "duration": 3,
    "start_time": "2023-01-23T20:22:09.564Z"
   },
   {
    "duration": 72911,
    "start_time": "2023-01-23T20:22:09.569Z"
   },
   {
    "duration": 5826,
    "start_time": "2023-01-23T20:23:22.485Z"
   },
   {
    "duration": 3,
    "start_time": "2023-01-23T20:23:28.313Z"
   },
   {
    "duration": 1383,
    "start_time": "2023-01-23T20:23:33.336Z"
   },
   {
    "duration": 87,
    "start_time": "2023-01-23T20:23:34.721Z"
   },
   {
    "duration": 20,
    "start_time": "2023-01-23T20:23:34.809Z"
   },
   {
    "duration": 11,
    "start_time": "2023-01-23T20:23:34.831Z"
   },
   {
    "duration": 13,
    "start_time": "2023-01-23T20:23:34.844Z"
   },
   {
    "duration": 16,
    "start_time": "2023-01-23T20:23:34.858Z"
   },
   {
    "duration": 18,
    "start_time": "2023-01-23T20:23:34.875Z"
   },
   {
    "duration": 17,
    "start_time": "2023-01-23T20:23:34.894Z"
   },
   {
    "duration": 9,
    "start_time": "2023-01-23T20:23:34.912Z"
   },
   {
    "duration": 57,
    "start_time": "2023-01-23T20:23:34.923Z"
   },
   {
    "duration": 63,
    "start_time": "2023-01-23T20:23:34.981Z"
   },
   {
    "duration": 5,
    "start_time": "2023-01-23T20:23:35.045Z"
   },
   {
    "duration": 81,
    "start_time": "2023-01-23T20:23:35.051Z"
   },
   {
    "duration": 104,
    "start_time": "2023-01-23T20:23:35.134Z"
   },
   {
    "duration": 13,
    "start_time": "2023-01-23T20:23:35.239Z"
   },
   {
    "duration": 2,
    "start_time": "2023-01-23T20:23:35.254Z"
   },
   {
    "duration": 15,
    "start_time": "2023-01-23T20:23:35.257Z"
   },
   {
    "duration": 27,
    "start_time": "2023-01-23T20:23:35.274Z"
   },
   {
    "duration": 11,
    "start_time": "2023-01-23T20:23:35.303Z"
   },
   {
    "duration": 14,
    "start_time": "2023-01-23T20:23:35.315Z"
   },
   {
    "duration": 13,
    "start_time": "2023-01-23T20:23:35.331Z"
   },
   {
    "duration": 32,
    "start_time": "2023-01-23T20:23:35.345Z"
   },
   {
    "duration": 1923,
    "start_time": "2023-01-23T20:23:35.379Z"
   },
   {
    "duration": 84,
    "start_time": "2023-01-23T20:23:37.303Z"
   },
   {
    "duration": 9,
    "start_time": "2023-01-23T20:23:37.389Z"
   },
   {
    "duration": 164,
    "start_time": "2023-01-23T20:23:37.400Z"
   },
   {
    "duration": 4,
    "start_time": "2023-01-23T20:23:37.565Z"
   },
   {
    "duration": 15,
    "start_time": "2023-01-23T20:23:37.572Z"
   },
   {
    "duration": 37,
    "start_time": "2023-01-23T20:23:37.589Z"
   },
   {
    "duration": 2,
    "start_time": "2023-01-23T20:23:37.628Z"
   },
   {
    "duration": 11,
    "start_time": "2023-01-23T20:23:37.631Z"
   },
   {
    "duration": 9,
    "start_time": "2023-01-23T20:23:37.643Z"
   },
   {
    "duration": 6,
    "start_time": "2023-01-23T20:23:37.653Z"
   },
   {
    "duration": 3673,
    "start_time": "2023-01-23T20:23:37.660Z"
   },
   {
    "duration": 9782,
    "start_time": "2023-01-23T20:23:41.335Z"
   },
   {
    "duration": 3,
    "start_time": "2023-01-23T20:23:51.119Z"
   },
   {
    "duration": 9,
    "start_time": "2023-01-23T20:23:51.124Z"
   },
   {
    "duration": 10,
    "start_time": "2023-01-23T20:23:51.134Z"
   },
   {
    "duration": 16,
    "start_time": "2023-01-23T20:23:51.146Z"
   },
   {
    "duration": 9,
    "start_time": "2023-01-23T20:23:51.164Z"
   },
   {
    "duration": 506,
    "start_time": "2023-01-23T20:23:51.175Z"
   },
   {
    "duration": 1157,
    "start_time": "2023-01-23T20:23:51.683Z"
   },
   {
    "duration": 3,
    "start_time": "2023-01-23T20:23:52.841Z"
   },
   {
    "duration": 73312,
    "start_time": "2023-01-23T20:23:52.846Z"
   },
   {
    "duration": 5661,
    "start_time": "2023-01-23T20:25:06.160Z"
   },
   {
    "duration": 4,
    "start_time": "2023-01-23T20:25:11.822Z"
   },
   {
    "duration": 16,
    "start_time": "2023-01-23T20:25:11.827Z"
   },
   {
    "duration": 11,
    "start_time": "2023-01-23T20:25:11.845Z"
   },
   {
    "duration": 4766,
    "start_time": "2023-01-23T20:25:11.857Z"
   },
   {
    "duration": 12098,
    "start_time": "2023-01-23T20:25:16.624Z"
   },
   {
    "duration": 62,
    "start_time": "2023-01-23T20:25:28.724Z"
   },
   {
    "duration": 14,
    "start_time": "2023-01-23T20:25:28.788Z"
   },
   {
    "duration": 27,
    "start_time": "2023-01-23T20:25:28.804Z"
   },
   {
    "duration": 21,
    "start_time": "2023-01-23T20:25:28.833Z"
   },
   {
    "duration": 3429,
    "start_time": "2023-01-23T20:25:28.856Z"
   },
   {
    "duration": 104,
    "start_time": "2023-01-23T20:25:32.286Z"
   },
   {
    "duration": 0,
    "start_time": "2023-01-23T20:25:32.391Z"
   },
   {
    "duration": 1407,
    "start_time": "2023-01-23T20:26:14.819Z"
   },
   {
    "duration": 158,
    "start_time": "2023-01-23T20:26:16.228Z"
   },
   {
    "duration": 17,
    "start_time": "2023-01-23T20:26:16.387Z"
   },
   {
    "duration": 12,
    "start_time": "2023-01-23T20:26:16.406Z"
   },
   {
    "duration": 14,
    "start_time": "2023-01-23T20:26:16.419Z"
   },
   {
    "duration": 11,
    "start_time": "2023-01-23T20:26:16.435Z"
   },
   {
    "duration": 15,
    "start_time": "2023-01-23T20:26:16.447Z"
   },
   {
    "duration": 25,
    "start_time": "2023-01-23T20:26:16.463Z"
   },
   {
    "duration": 8,
    "start_time": "2023-01-23T20:26:16.489Z"
   },
   {
    "duration": 55,
    "start_time": "2023-01-23T20:26:16.499Z"
   },
   {
    "duration": 71,
    "start_time": "2023-01-23T20:26:16.555Z"
   },
   {
    "duration": 4,
    "start_time": "2023-01-23T20:26:16.627Z"
   },
   {
    "duration": 77,
    "start_time": "2023-01-23T20:26:16.632Z"
   },
   {
    "duration": 92,
    "start_time": "2023-01-23T20:26:16.710Z"
   },
   {
    "duration": 13,
    "start_time": "2023-01-23T20:26:16.804Z"
   },
   {
    "duration": 3,
    "start_time": "2023-01-23T20:26:16.818Z"
   },
   {
    "duration": 9,
    "start_time": "2023-01-23T20:26:16.822Z"
   },
   {
    "duration": 20,
    "start_time": "2023-01-23T20:26:16.832Z"
   },
   {
    "duration": 3,
    "start_time": "2023-01-23T20:26:16.853Z"
   },
   {
    "duration": 30,
    "start_time": "2023-01-23T20:26:16.857Z"
   },
   {
    "duration": 9,
    "start_time": "2023-01-23T20:26:16.888Z"
   },
   {
    "duration": 12,
    "start_time": "2023-01-23T20:26:16.898Z"
   },
   {
    "duration": 1872,
    "start_time": "2023-01-23T20:26:16.911Z"
   },
   {
    "duration": 77,
    "start_time": "2023-01-23T20:26:18.784Z"
   },
   {
    "duration": 24,
    "start_time": "2023-01-23T20:26:18.863Z"
   },
   {
    "duration": 159,
    "start_time": "2023-01-23T20:26:18.889Z"
   },
   {
    "duration": 3,
    "start_time": "2023-01-23T20:26:19.050Z"
   },
   {
    "duration": 9,
    "start_time": "2023-01-23T20:26:19.056Z"
   },
   {
    "duration": 41,
    "start_time": "2023-01-23T20:26:19.066Z"
   },
   {
    "duration": 2,
    "start_time": "2023-01-23T20:26:19.109Z"
   },
   {
    "duration": 8,
    "start_time": "2023-01-23T20:26:19.113Z"
   },
   {
    "duration": 3,
    "start_time": "2023-01-23T20:26:19.123Z"
   },
   {
    "duration": 5,
    "start_time": "2023-01-23T20:26:19.128Z"
   },
   {
    "duration": 3499,
    "start_time": "2023-01-23T20:26:19.134Z"
   },
   {
    "duration": 9195,
    "start_time": "2023-01-23T20:26:22.634Z"
   },
   {
    "duration": 3,
    "start_time": "2023-01-23T20:26:31.830Z"
   },
   {
    "duration": 8,
    "start_time": "2023-01-23T20:26:31.834Z"
   },
   {
    "duration": 11,
    "start_time": "2023-01-23T20:26:31.843Z"
   },
   {
    "duration": 18,
    "start_time": "2023-01-23T20:26:31.855Z"
   },
   {
    "duration": 7,
    "start_time": "2023-01-23T20:26:31.875Z"
   },
   {
    "duration": 497,
    "start_time": "2023-01-23T20:26:31.883Z"
   },
   {
    "duration": 1169,
    "start_time": "2023-01-23T20:26:32.382Z"
   },
   {
    "duration": 3,
    "start_time": "2023-01-23T20:26:33.553Z"
   },
   {
    "duration": 72558,
    "start_time": "2023-01-23T20:26:33.558Z"
   },
   {
    "duration": 5746,
    "start_time": "2023-01-23T20:27:46.118Z"
   },
   {
    "duration": 4,
    "start_time": "2023-01-23T20:27:51.865Z"
   },
   {
    "duration": 18,
    "start_time": "2023-01-23T20:27:51.870Z"
   },
   {
    "duration": 3,
    "start_time": "2023-01-23T20:27:51.889Z"
   },
   {
    "duration": 5926,
    "start_time": "2023-01-23T20:27:51.893Z"
   },
   {
    "duration": 12801,
    "start_time": "2023-01-23T20:27:57.821Z"
   },
   {
    "duration": 3,
    "start_time": "2023-01-23T20:28:10.623Z"
   },
   {
    "duration": 59,
    "start_time": "2023-01-23T20:28:10.628Z"
   },
   {
    "duration": 4,
    "start_time": "2023-01-23T20:28:10.688Z"
   },
   {
    "duration": 11,
    "start_time": "2023-01-23T20:28:10.693Z"
   },
   {
    "duration": 3364,
    "start_time": "2023-01-23T20:28:10.705Z"
   },
   {
    "duration": 9,
    "start_time": "2023-01-23T20:28:14.071Z"
   },
   {
    "duration": 92,
    "start_time": "2023-01-23T20:28:14.081Z"
   },
   {
    "duration": 9280,
    "start_time": "2023-01-23T20:28:14.176Z"
   },
   {
    "duration": 5697,
    "start_time": "2023-01-23T20:28:23.457Z"
   },
   {
    "duration": 101,
    "start_time": "2023-01-24T05:24:49.282Z"
   },
   {
    "duration": 77,
    "start_time": "2023-01-24T05:26:08.807Z"
   },
   {
    "duration": 92,
    "start_time": "2023-01-24T05:26:34.134Z"
   },
   {
    "duration": 98,
    "start_time": "2023-01-24T05:28:00.982Z"
   },
   {
    "duration": 106,
    "start_time": "2023-01-24T05:28:35.177Z"
   },
   {
    "duration": 1576,
    "start_time": "2023-01-24T17:39:38.879Z"
   },
   {
    "duration": 268,
    "start_time": "2023-01-24T17:39:40.457Z"
   },
   {
    "duration": 16,
    "start_time": "2023-01-24T17:39:40.727Z"
   },
   {
    "duration": 10,
    "start_time": "2023-01-24T17:39:40.745Z"
   },
   {
    "duration": 19,
    "start_time": "2023-01-24T17:39:40.756Z"
   },
   {
    "duration": 9,
    "start_time": "2023-01-24T17:39:40.776Z"
   },
   {
    "duration": 11,
    "start_time": "2023-01-24T17:39:40.787Z"
   },
   {
    "duration": 10,
    "start_time": "2023-01-24T17:39:40.799Z"
   },
   {
    "duration": 5,
    "start_time": "2023-01-24T17:39:40.811Z"
   },
   {
    "duration": 50,
    "start_time": "2023-01-24T17:39:40.818Z"
   },
   {
    "duration": 74,
    "start_time": "2023-01-24T17:39:40.870Z"
   },
   {
    "duration": 3,
    "start_time": "2023-01-24T17:39:40.946Z"
   },
   {
    "duration": 86,
    "start_time": "2023-01-24T17:39:40.951Z"
   },
   {
    "duration": 97,
    "start_time": "2023-01-24T17:39:41.038Z"
   },
   {
    "duration": 13,
    "start_time": "2023-01-24T17:39:41.137Z"
   },
   {
    "duration": 2,
    "start_time": "2023-01-24T17:39:41.151Z"
   },
   {
    "duration": 8,
    "start_time": "2023-01-24T17:39:41.154Z"
   },
   {
    "duration": 20,
    "start_time": "2023-01-24T17:39:41.163Z"
   },
   {
    "duration": 3,
    "start_time": "2023-01-24T17:39:41.185Z"
   },
   {
    "duration": 4,
    "start_time": "2023-01-24T17:39:43.291Z"
   },
   {
    "duration": 4,
    "start_time": "2023-01-24T17:39:43.453Z"
   },
   {
    "duration": 10,
    "start_time": "2023-01-24T17:39:43.699Z"
   },
   {
    "duration": 1803,
    "start_time": "2023-01-24T17:39:43.873Z"
   },
   {
    "duration": 88,
    "start_time": "2023-01-24T17:39:45.678Z"
   },
   {
    "duration": 10,
    "start_time": "2023-01-24T17:39:45.767Z"
   },
   {
    "duration": 154,
    "start_time": "2023-01-24T17:39:45.779Z"
   },
   {
    "duration": 4,
    "start_time": "2023-01-24T17:39:45.934Z"
   },
   {
    "duration": 6,
    "start_time": "2023-01-24T17:39:45.939Z"
   },
   {
    "duration": 35,
    "start_time": "2023-01-24T17:39:45.946Z"
   },
   {
    "duration": 3,
    "start_time": "2023-01-24T17:39:45.982Z"
   },
   {
    "duration": 24,
    "start_time": "2023-01-24T17:39:45.986Z"
   },
   {
    "duration": 6,
    "start_time": "2023-01-24T17:39:47.954Z"
   },
   {
    "duration": 3,
    "start_time": "2023-01-24T17:39:49.681Z"
   },
   {
    "duration": 3657,
    "start_time": "2023-01-24T17:39:49.924Z"
   },
   {
    "duration": 10178,
    "start_time": "2023-01-24T17:39:53.582Z"
   },
   {
    "duration": 3,
    "start_time": "2023-01-24T17:40:15.607Z"
   },
   {
    "duration": 1383,
    "start_time": "2023-01-24T17:41:57.488Z"
   },
   {
    "duration": 90,
    "start_time": "2023-01-24T17:41:58.874Z"
   },
   {
    "duration": 16,
    "start_time": "2023-01-24T17:41:58.965Z"
   },
   {
    "duration": 12,
    "start_time": "2023-01-24T17:41:58.983Z"
   },
   {
    "duration": 13,
    "start_time": "2023-01-24T17:41:58.996Z"
   },
   {
    "duration": 9,
    "start_time": "2023-01-24T17:41:59.010Z"
   },
   {
    "duration": 14,
    "start_time": "2023-01-24T17:41:59.020Z"
   },
   {
    "duration": 5,
    "start_time": "2023-01-24T17:41:59.035Z"
   },
   {
    "duration": 15,
    "start_time": "2023-01-24T17:41:59.041Z"
   },
   {
    "duration": 55,
    "start_time": "2023-01-24T17:41:59.058Z"
   },
   {
    "duration": 61,
    "start_time": "2023-01-24T17:41:59.114Z"
   },
   {
    "duration": 4,
    "start_time": "2023-01-24T17:41:59.176Z"
   },
   {
    "duration": 90,
    "start_time": "2023-01-24T17:41:59.181Z"
   },
   {
    "duration": 89,
    "start_time": "2023-01-24T17:41:59.273Z"
   },
   {
    "duration": 13,
    "start_time": "2023-01-24T17:41:59.363Z"
   },
   {
    "duration": 2,
    "start_time": "2023-01-24T17:41:59.377Z"
   },
   {
    "duration": 29,
    "start_time": "2023-01-24T17:41:59.381Z"
   },
   {
    "duration": 23,
    "start_time": "2023-01-24T17:41:59.411Z"
   },
   {
    "duration": 3,
    "start_time": "2023-01-24T17:41:59.436Z"
   },
   {
    "duration": 10,
    "start_time": "2023-01-24T17:41:59.440Z"
   },
   {
    "duration": 6,
    "start_time": "2023-01-24T17:41:59.451Z"
   },
   {
    "duration": 16,
    "start_time": "2023-01-24T17:41:59.458Z"
   },
   {
    "duration": 1747,
    "start_time": "2023-01-24T17:41:59.476Z"
   },
   {
    "duration": 91,
    "start_time": "2023-01-24T17:42:01.225Z"
   },
   {
    "duration": 9,
    "start_time": "2023-01-24T17:42:01.318Z"
   },
   {
    "duration": 158,
    "start_time": "2023-01-24T17:42:01.329Z"
   },
   {
    "duration": 3,
    "start_time": "2023-01-24T17:42:01.488Z"
   },
   {
    "duration": 53,
    "start_time": "2023-01-24T17:42:01.495Z"
   },
   {
    "duration": 58,
    "start_time": "2023-01-24T17:42:01.550Z"
   },
   {
    "duration": 29,
    "start_time": "2023-01-24T17:42:01.610Z"
   },
   {
    "duration": 50,
    "start_time": "2023-01-24T17:42:01.640Z"
   },
   {
    "duration": 70,
    "start_time": "2023-01-24T17:42:01.692Z"
   },
   {
    "duration": 42,
    "start_time": "2023-01-24T17:42:01.764Z"
   },
   {
    "duration": 3531,
    "start_time": "2023-01-24T17:42:01.808Z"
   },
   {
    "duration": 9157,
    "start_time": "2023-01-24T17:42:05.341Z"
   },
   {
    "duration": 3,
    "start_time": "2023-01-24T17:42:14.500Z"
   },
   {
    "duration": 605625,
    "start_time": "2023-01-24T17:42:14.505Z"
   },
   {
    "duration": 9323,
    "start_time": "2023-01-24T17:52:20.131Z"
   },
   {
    "duration": 3,
    "start_time": "2023-01-24T17:52:29.455Z"
   },
   {
    "duration": 9126,
    "start_time": "2023-01-24T17:52:29.459Z"
   },
   {
    "duration": 2,
    "start_time": "2023-01-24T17:52:38.587Z"
   },
   {
    "duration": 573,
    "start_time": "2023-01-24T17:52:38.590Z"
   },
   {
    "duration": 1307,
    "start_time": "2023-01-24T17:52:39.165Z"
   },
   {
    "duration": 3,
    "start_time": "2023-01-24T17:52:40.473Z"
   },
   {
    "duration": 81448,
    "start_time": "2023-01-24T17:52:40.477Z"
   },
   {
    "duration": 6374,
    "start_time": "2023-01-24T17:54:01.927Z"
   },
   {
    "duration": 7,
    "start_time": "2023-01-24T17:54:08.303Z"
   },
   {
    "duration": 4,
    "start_time": "2023-01-24T17:54:08.311Z"
   },
   {
    "duration": 3,
    "start_time": "2023-01-24T17:54:08.316Z"
   },
   {
    "duration": 5010,
    "start_time": "2023-01-24T17:54:08.321Z"
   },
   {
    "duration": 22679,
    "start_time": "2023-01-24T17:54:13.332Z"
   },
   {
    "duration": 3,
    "start_time": "2023-01-24T17:54:36.012Z"
   },
   {
    "duration": 10,
    "start_time": "2023-01-24T17:54:36.017Z"
   },
   {
    "duration": 137,
    "start_time": "2023-01-24T17:54:36.028Z"
   },
   {
    "duration": 0,
    "start_time": "2023-01-24T17:54:36.166Z"
   },
   {
    "duration": 0,
    "start_time": "2023-01-24T17:54:36.167Z"
   },
   {
    "duration": 0,
    "start_time": "2023-01-24T17:54:36.168Z"
   },
   {
    "duration": 0,
    "start_time": "2023-01-24T17:54:36.169Z"
   },
   {
    "duration": 0,
    "start_time": "2023-01-24T17:54:36.170Z"
   },
   {
    "duration": 1357480,
    "start_time": "2023-01-24T17:54:45.879Z"
   },
   {
    "duration": 46656,
    "start_time": "2023-01-24T18:17:23.361Z"
   },
   {
    "duration": 3,
    "start_time": "2023-01-24T18:18:10.019Z"
   },
   {
    "duration": 12122,
    "start_time": "2023-01-24T18:18:10.110Z"
   },
   {
    "duration": 3465,
    "start_time": "2023-01-24T18:18:22.233Z"
   },
   {
    "duration": 8,
    "start_time": "2023-01-24T18:18:25.700Z"
   },
   {
    "duration": 583,
    "start_time": "2023-01-24T18:18:25.709Z"
   },
   {
    "duration": 4,
    "start_time": "2023-01-24T18:18:26.293Z"
   },
   {
    "duration": 43936,
    "start_time": "2023-01-24T18:19:38.677Z"
   },
   {
    "duration": 585,
    "start_time": "2023-01-24T18:20:22.614Z"
   },
   {
    "duration": 103,
    "start_time": "2023-01-24T18:21:05.014Z"
   },
   {
    "duration": 99,
    "start_time": "2023-01-24T18:21:13.459Z"
   },
   {
    "duration": 8,
    "start_time": "2023-01-24T18:21:26.732Z"
   },
   {
    "duration": 8,
    "start_time": "2023-01-24T18:21:55.285Z"
   },
   {
    "duration": 8,
    "start_time": "2023-01-24T18:21:57.523Z"
   },
   {
    "duration": 4,
    "start_time": "2023-01-24T18:22:06.949Z"
   },
   {
    "duration": 218,
    "start_time": "2023-01-24T18:23:05.353Z"
   },
   {
    "duration": 222,
    "start_time": "2023-01-24T18:23:17.336Z"
   },
   {
    "duration": 1437,
    "start_time": "2023-01-24T18:23:42.250Z"
   },
   {
    "duration": 88,
    "start_time": "2023-01-24T18:23:43.689Z"
   },
   {
    "duration": 16,
    "start_time": "2023-01-24T18:23:43.779Z"
   },
   {
    "duration": 36,
    "start_time": "2023-01-24T18:23:43.797Z"
   },
   {
    "duration": 32,
    "start_time": "2023-01-24T18:23:43.834Z"
   },
   {
    "duration": 17,
    "start_time": "2023-01-24T18:23:43.867Z"
   },
   {
    "duration": 28,
    "start_time": "2023-01-24T18:23:43.885Z"
   },
   {
    "duration": 20,
    "start_time": "2023-01-24T18:23:43.915Z"
   },
   {
    "duration": 33,
    "start_time": "2023-01-24T18:23:43.936Z"
   },
   {
    "duration": 103,
    "start_time": "2023-01-24T18:23:43.972Z"
   },
   {
    "duration": 61,
    "start_time": "2023-01-24T18:23:44.076Z"
   },
   {
    "duration": 4,
    "start_time": "2023-01-24T18:23:44.139Z"
   },
   {
    "duration": 84,
    "start_time": "2023-01-24T18:23:44.144Z"
   },
   {
    "duration": 97,
    "start_time": "2023-01-24T18:23:44.229Z"
   },
   {
    "duration": 14,
    "start_time": "2023-01-24T18:23:44.327Z"
   },
   {
    "duration": 2,
    "start_time": "2023-01-24T18:23:44.343Z"
   },
   {
    "duration": 6,
    "start_time": "2023-01-24T18:23:44.347Z"
   },
   {
    "duration": 22,
    "start_time": "2023-01-24T18:23:44.354Z"
   },
   {
    "duration": 4,
    "start_time": "2023-01-24T18:23:44.377Z"
   },
   {
    "duration": 5,
    "start_time": "2023-01-24T18:23:44.409Z"
   },
   {
    "duration": 14,
    "start_time": "2023-01-24T18:23:44.415Z"
   },
   {
    "duration": 12,
    "start_time": "2023-01-24T18:23:44.431Z"
   },
   {
    "duration": 1762,
    "start_time": "2023-01-24T18:23:44.444Z"
   },
   {
    "duration": 78,
    "start_time": "2023-01-24T18:23:46.207Z"
   },
   {
    "duration": 24,
    "start_time": "2023-01-24T18:23:46.286Z"
   },
   {
    "duration": 146,
    "start_time": "2023-01-24T18:23:46.311Z"
   },
   {
    "duration": 4,
    "start_time": "2023-01-24T18:23:46.458Z"
   },
   {
    "duration": 5,
    "start_time": "2023-01-24T18:23:46.466Z"
   },
   {
    "duration": 45,
    "start_time": "2023-01-24T18:23:46.473Z"
   },
   {
    "duration": 2,
    "start_time": "2023-01-24T18:23:46.520Z"
   },
   {
    "duration": 11,
    "start_time": "2023-01-24T18:23:46.524Z"
   },
   {
    "duration": 3,
    "start_time": "2023-01-24T18:23:46.536Z"
   },
   {
    "duration": 4,
    "start_time": "2023-01-24T18:23:46.541Z"
   },
   {
    "duration": 3457,
    "start_time": "2023-01-24T18:23:46.547Z"
   },
   {
    "duration": 9060,
    "start_time": "2023-01-24T18:23:50.006Z"
   },
   {
    "duration": 3,
    "start_time": "2023-01-24T18:23:59.067Z"
   },
   {
    "duration": 21,
    "start_time": "2023-01-24T18:23:59.071Z"
   },
   {
    "duration": 17,
    "start_time": "2023-01-24T18:23:59.093Z"
   },
   {
    "duration": 16,
    "start_time": "2023-01-24T18:23:59.111Z"
   },
   {
    "duration": 68,
    "start_time": "2023-01-24T18:23:59.128Z"
   },
   {
    "duration": 0,
    "start_time": "2023-01-24T18:23:59.197Z"
   },
   {
    "duration": 0,
    "start_time": "2023-01-24T18:23:59.198Z"
   },
   {
    "duration": 0,
    "start_time": "2023-01-24T18:23:59.199Z"
   },
   {
    "duration": 0,
    "start_time": "2023-01-24T18:23:59.199Z"
   },
   {
    "duration": 0,
    "start_time": "2023-01-24T18:23:59.200Z"
   },
   {
    "duration": 0,
    "start_time": "2023-01-24T18:23:59.201Z"
   },
   {
    "duration": 0,
    "start_time": "2023-01-24T18:23:59.202Z"
   },
   {
    "duration": 0,
    "start_time": "2023-01-24T18:23:59.202Z"
   },
   {
    "duration": 0,
    "start_time": "2023-01-24T18:23:59.203Z"
   },
   {
    "duration": 0,
    "start_time": "2023-01-24T18:23:59.204Z"
   },
   {
    "duration": 0,
    "start_time": "2023-01-24T18:23:59.205Z"
   },
   {
    "duration": 0,
    "start_time": "2023-01-24T18:23:59.206Z"
   },
   {
    "duration": 0,
    "start_time": "2023-01-24T18:23:59.207Z"
   },
   {
    "duration": 0,
    "start_time": "2023-01-24T18:23:59.207Z"
   },
   {
    "duration": 0,
    "start_time": "2023-01-24T18:23:59.208Z"
   },
   {
    "duration": 0,
    "start_time": "2023-01-24T18:23:59.209Z"
   },
   {
    "duration": 0,
    "start_time": "2023-01-24T18:23:59.210Z"
   },
   {
    "duration": 0,
    "start_time": "2023-01-24T18:23:59.211Z"
   },
   {
    "duration": 0,
    "start_time": "2023-01-24T18:23:59.212Z"
   },
   {
    "duration": 0,
    "start_time": "2023-01-24T18:23:59.212Z"
   },
   {
    "duration": 1434,
    "start_time": "2023-01-24T18:24:35.272Z"
   },
   {
    "duration": 89,
    "start_time": "2023-01-24T18:24:36.709Z"
   },
   {
    "duration": 19,
    "start_time": "2023-01-24T18:24:36.799Z"
   },
   {
    "duration": 11,
    "start_time": "2023-01-24T18:24:36.820Z"
   },
   {
    "duration": 18,
    "start_time": "2023-01-24T18:24:36.832Z"
   },
   {
    "duration": 8,
    "start_time": "2023-01-24T18:24:36.851Z"
   },
   {
    "duration": 13,
    "start_time": "2023-01-24T18:24:36.861Z"
   },
   {
    "duration": 5,
    "start_time": "2023-01-24T18:24:36.876Z"
   },
   {
    "duration": 27,
    "start_time": "2023-01-24T18:24:36.883Z"
   },
   {
    "duration": 50,
    "start_time": "2023-01-24T18:24:36.912Z"
   },
   {
    "duration": 74,
    "start_time": "2023-01-24T18:24:36.963Z"
   },
   {
    "duration": 3,
    "start_time": "2023-01-24T18:24:37.039Z"
   },
   {
    "duration": 86,
    "start_time": "2023-01-24T18:24:37.044Z"
   },
   {
    "duration": 92,
    "start_time": "2023-01-24T18:24:37.132Z"
   },
   {
    "duration": 14,
    "start_time": "2023-01-24T18:24:37.225Z"
   },
   {
    "duration": 3,
    "start_time": "2023-01-24T18:24:37.240Z"
   },
   {
    "duration": 6,
    "start_time": "2023-01-24T18:24:37.245Z"
   },
   {
    "duration": 20,
    "start_time": "2023-01-24T18:24:37.252Z"
   },
   {
    "duration": 8,
    "start_time": "2023-01-24T18:24:37.274Z"
   },
   {
    "duration": 6,
    "start_time": "2023-01-24T18:24:37.310Z"
   },
   {
    "duration": 6,
    "start_time": "2023-01-24T18:24:37.317Z"
   },
   {
    "duration": 12,
    "start_time": "2023-01-24T18:24:37.324Z"
   },
   {
    "duration": 1781,
    "start_time": "2023-01-24T18:24:37.337Z"
   },
   {
    "duration": 75,
    "start_time": "2023-01-24T18:24:39.120Z"
   },
   {
    "duration": 20,
    "start_time": "2023-01-24T18:24:39.197Z"
   },
   {
    "duration": 145,
    "start_time": "2023-01-24T18:24:39.218Z"
   },
   {
    "duration": 3,
    "start_time": "2023-01-24T18:24:39.364Z"
   },
   {
    "duration": 5,
    "start_time": "2023-01-24T18:24:39.370Z"
   },
   {
    "duration": 42,
    "start_time": "2023-01-24T18:24:39.377Z"
   },
   {
    "duration": 2,
    "start_time": "2023-01-24T18:24:39.420Z"
   },
   {
    "duration": 20,
    "start_time": "2023-01-24T18:24:39.424Z"
   },
   {
    "duration": 18,
    "start_time": "2023-01-24T18:24:39.446Z"
   },
   {
    "duration": 15,
    "start_time": "2023-01-24T18:24:39.465Z"
   },
   {
    "duration": 3608,
    "start_time": "2023-01-24T18:24:39.482Z"
   },
   {
    "duration": 9457,
    "start_time": "2023-01-24T18:24:43.091Z"
   },
   {
    "duration": 4,
    "start_time": "2023-01-24T18:24:52.551Z"
   },
   {
    "duration": 15,
    "start_time": "2023-01-24T18:24:52.557Z"
   },
   {
    "duration": 7,
    "start_time": "2023-01-24T18:24:52.573Z"
   },
   {
    "duration": 17,
    "start_time": "2023-01-24T18:24:52.581Z"
   },
   {
    "duration": 9382,
    "start_time": "2023-01-24T18:24:52.600Z"
   },
   {
    "duration": 2,
    "start_time": "2023-01-24T18:25:01.984Z"
   },
   {
    "duration": 614,
    "start_time": "2023-01-24T18:25:01.987Z"
   },
   {
    "duration": 1330,
    "start_time": "2023-01-24T18:25:02.602Z"
   },
   {
    "duration": 3,
    "start_time": "2023-01-24T18:25:03.933Z"
   },
   {
    "duration": 82110,
    "start_time": "2023-01-24T18:25:03.938Z"
   },
   {
    "duration": 6394,
    "start_time": "2023-01-24T18:26:26.050Z"
   },
   {
    "duration": 4,
    "start_time": "2023-01-24T18:26:32.446Z"
   },
   {
    "duration": 7,
    "start_time": "2023-01-24T18:26:32.452Z"
   },
   {
    "duration": 21,
    "start_time": "2023-01-24T18:26:32.460Z"
   },
   {
    "duration": 5058,
    "start_time": "2023-01-24T18:26:32.483Z"
   },
   {
    "duration": 12481,
    "start_time": "2023-01-24T18:26:37.542Z"
   },
   {
    "duration": 3,
    "start_time": "2023-01-24T18:26:50.024Z"
   },
   {
    "duration": 13,
    "start_time": "2023-01-24T18:26:50.028Z"
   },
   {
    "duration": 5,
    "start_time": "2023-01-24T18:26:50.043Z"
   },
   {
    "duration": 61,
    "start_time": "2023-01-24T18:26:50.049Z"
   },
   {
    "duration": 309705,
    "start_time": "2023-01-24T18:26:50.112Z"
   },
   {
    "duration": 3389,
    "start_time": "2023-01-24T18:31:59.818Z"
   },
   {
    "duration": 8,
    "start_time": "2023-01-24T18:32:03.208Z"
   },
   {
    "duration": 233,
    "start_time": "2023-01-24T18:32:03.218Z"
   },
   {
    "duration": 111,
    "start_time": "2023-01-24T18:32:03.453Z"
   },
   {
    "duration": 3363,
    "start_time": "2023-01-25T07:28:18.479Z"
   },
   {
    "duration": 476,
    "start_time": "2023-01-25T07:28:21.845Z"
   },
   {
    "duration": 28,
    "start_time": "2023-01-25T07:28:22.323Z"
   },
   {
    "duration": 22,
    "start_time": "2023-01-25T07:28:22.354Z"
   },
   {
    "duration": 25,
    "start_time": "2023-01-25T07:28:22.378Z"
   },
   {
    "duration": 37,
    "start_time": "2023-01-25T07:28:22.405Z"
   },
   {
    "duration": 14,
    "start_time": "2023-01-25T07:28:22.444Z"
   },
   {
    "duration": 6,
    "start_time": "2023-01-25T07:28:22.459Z"
   },
   {
    "duration": 17,
    "start_time": "2023-01-25T07:28:22.467Z"
   },
   {
    "duration": 67,
    "start_time": "2023-01-25T07:28:22.486Z"
   },
   {
    "duration": 91,
    "start_time": "2023-01-25T07:28:22.555Z"
   },
   {
    "duration": 5,
    "start_time": "2023-01-25T07:28:22.648Z"
   },
   {
    "duration": 107,
    "start_time": "2023-01-25T07:28:22.655Z"
   },
   {
    "duration": 123,
    "start_time": "2023-01-25T07:28:22.764Z"
   },
   {
    "duration": 28,
    "start_time": "2023-01-25T07:28:22.894Z"
   },
   {
    "duration": 37,
    "start_time": "2023-01-25T07:28:22.924Z"
   },
   {
    "duration": 27,
    "start_time": "2023-01-25T07:28:22.963Z"
   },
   {
    "duration": 71,
    "start_time": "2023-01-25T07:28:22.992Z"
   },
   {
    "duration": 13,
    "start_time": "2023-01-25T07:28:23.065Z"
   },
   {
    "duration": 63,
    "start_time": "2023-01-25T07:28:23.080Z"
   },
   {
    "duration": 18,
    "start_time": "2023-01-25T07:28:23.145Z"
   },
   {
    "duration": 76,
    "start_time": "2023-01-25T07:28:23.165Z"
   },
   {
    "duration": 2219,
    "start_time": "2023-01-25T07:28:23.243Z"
   },
   {
    "duration": 106,
    "start_time": "2023-01-25T07:28:25.464Z"
   },
   {
    "duration": 12,
    "start_time": "2023-01-25T07:28:25.571Z"
   },
   {
    "duration": 182,
    "start_time": "2023-01-25T07:28:25.593Z"
   },
   {
    "duration": 4,
    "start_time": "2023-01-25T07:28:25.776Z"
   },
   {
    "duration": 26,
    "start_time": "2023-01-25T07:28:25.793Z"
   },
   {
    "duration": 39,
    "start_time": "2023-01-25T07:28:25.821Z"
   },
   {
    "duration": 3,
    "start_time": "2023-01-25T07:28:25.862Z"
   },
   {
    "duration": 12,
    "start_time": "2023-01-25T07:28:25.866Z"
   },
   {
    "duration": 30,
    "start_time": "2023-01-25T07:28:25.880Z"
   },
   {
    "duration": 32,
    "start_time": "2023-01-25T07:28:25.917Z"
   },
   {
    "duration": 4705,
    "start_time": "2023-01-25T07:28:25.951Z"
   },
   {
    "duration": 12561,
    "start_time": "2023-01-25T07:28:30.657Z"
   },
   {
    "duration": 4,
    "start_time": "2023-01-25T07:28:43.220Z"
   },
   {
    "duration": 9,
    "start_time": "2023-01-25T07:28:43.228Z"
   },
   {
    "duration": 8,
    "start_time": "2023-01-25T07:28:43.239Z"
   },
   {
    "duration": 13,
    "start_time": "2023-01-25T07:28:43.248Z"
   },
   {
    "duration": 13948,
    "start_time": "2023-01-25T07:28:43.262Z"
   },
   {
    "duration": 9,
    "start_time": "2023-01-25T07:28:57.217Z"
   },
   {
    "duration": 1125,
    "start_time": "2023-01-25T07:28:57.228Z"
   },
   {
    "duration": 2897,
    "start_time": "2023-01-25T07:28:58.355Z"
   },
   {
    "duration": 6,
    "start_time": "2023-01-25T07:29:01.253Z"
   },
   {
    "duration": 153674,
    "start_time": "2023-01-25T07:29:01.260Z"
   },
   {
    "duration": 12112,
    "start_time": "2023-01-25T07:31:34.936Z"
   },
   {
    "duration": 5,
    "start_time": "2023-01-25T07:31:47.049Z"
   },
   {
    "duration": 7,
    "start_time": "2023-01-25T07:31:47.055Z"
   },
   {
    "duration": 32,
    "start_time": "2023-01-25T07:31:47.063Z"
   },
   {
    "duration": 131542,
    "start_time": "2023-01-25T07:31:47.097Z"
   },
   {
    "duration": 390958,
    "start_time": "2023-01-25T07:33:58.641Z"
   },
   {
    "duration": 4,
    "start_time": "2023-01-25T07:40:29.604Z"
   },
   {
    "duration": 28,
    "start_time": "2023-01-25T07:40:29.611Z"
   },
   {
    "duration": 66,
    "start_time": "2023-01-25T07:40:29.641Z"
   },
   {
    "duration": 39,
    "start_time": "2023-01-25T07:40:29.709Z"
   },
   {
    "duration": 823874,
    "start_time": "2023-01-25T07:40:29.750Z"
   },
   {
    "duration": 5782,
    "start_time": "2023-01-25T07:54:13.625Z"
   },
   {
    "duration": 19,
    "start_time": "2023-01-25T07:54:19.413Z"
   },
   {
    "duration": 407,
    "start_time": "2023-01-25T07:54:19.437Z"
   },
   {
    "duration": 203,
    "start_time": "2023-01-25T07:54:19.850Z"
   },
   {
    "duration": 83,
    "start_time": "2023-01-25T10:18:50.655Z"
   },
   {
    "duration": 85,
    "start_time": "2023-01-25T10:19:24.967Z"
   },
   {
    "duration": 72,
    "start_time": "2023-01-25T10:19:52.371Z"
   },
   {
    "duration": 76,
    "start_time": "2023-01-25T10:20:21.817Z"
   },
   {
    "duration": 202,
    "start_time": "2023-01-27T05:21:34.468Z"
   }
  ],
  "kernelspec": {
   "display_name": "Python 3 (ipykernel)",
   "language": "python",
   "name": "python3"
  },
  "language_info": {
   "codemirror_mode": {
    "name": "ipython",
    "version": 3
   },
   "file_extension": ".py",
   "mimetype": "text/x-python",
   "name": "python",
   "nbconvert_exporter": "python",
   "pygments_lexer": "ipython3",
   "version": "3.9.12"
  },
  "toc": {
   "base_numbering": 1,
   "nav_menu": {},
   "number_sections": true,
   "sideBar": true,
   "skip_h1_title": true,
   "title_cell": "Table of Contents",
   "title_sidebar": "Contents",
   "toc_cell": false,
   "toc_position": {},
   "toc_section_display": true,
   "toc_window_display": false
  }
 },
 "nbformat": 4,
 "nbformat_minor": 5
}
