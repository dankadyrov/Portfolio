{
 "cells": [
  {
   "cell_type": "markdown",
   "metadata": {},
   "source": [
    "# Определение стоимости автомобилей"
   ]
  },
  {
   "cell_type": "markdown",
   "metadata": {},
   "source": [
    "Сервис по продаже автомобилей с пробегом «Не бит, не крашен» разрабатывает приложение для привлечения новых клиентов. В нём можно быстро узнать рыночную стоимость своего автомобиля. В вашем распоряжении исторические данные: технические характеристики, комплектации и цены автомобилей. Вам нужно построить модель для определения стоимости. \n",
    "\n",
    "Заказчику важны:\n",
    "\n",
    "- качество предсказания;\n",
    "- скорость предсказания;\n",
    "- время обучения."
   ]
  },
  {
   "cell_type": "markdown",
   "metadata": {},
   "source": [
    "## Подготовка данных"
   ]
  },
  {
   "cell_type": "code",
   "execution_count": 1,
   "metadata": {},
   "outputs": [
    {
     "name": "stdout",
     "output_type": "stream",
     "text": [
      "Requirement already satisfied: simple_colors in /opt/conda/lib/python3.9/site-packages (0.1.5)\r\n"
     ]
    }
   ],
   "source": [
    "!pip install simple_colors"
   ]
  },
  {
   "cell_type": "code",
   "execution_count": 2,
   "metadata": {},
   "outputs": [
    {
     "name": "stdout",
     "output_type": "stream",
     "text": [
      "Requirement already satisfied: lightgbm in /opt/conda/lib/python3.9/site-packages (3.3.1)\n",
      "Requirement already satisfied: numpy in /opt/conda/lib/python3.9/site-packages (from lightgbm) (1.21.1)\n",
      "Requirement already satisfied: scipy in /opt/conda/lib/python3.9/site-packages (from lightgbm) (1.9.1)\n",
      "Requirement already satisfied: scikit-learn!=0.22.0 in /opt/conda/lib/python3.9/site-packages (from lightgbm) (0.24.1)\n",
      "Requirement already satisfied: wheel in /opt/conda/lib/python3.9/site-packages (from lightgbm) (0.36.2)\n",
      "Requirement already satisfied: joblib>=0.11 in /opt/conda/lib/python3.9/site-packages (from scikit-learn!=0.22.0->lightgbm) (1.1.0)\n",
      "Requirement already satisfied: threadpoolctl>=2.0.0 in /opt/conda/lib/python3.9/site-packages (from scikit-learn!=0.22.0->lightgbm) (3.1.0)\n"
     ]
    }
   ],
   "source": [
    "!pip install lightgbm"
   ]
  },
  {
   "cell_type": "code",
   "execution_count": 3,
   "metadata": {},
   "outputs": [],
   "source": [
    "import pandas as pd\n",
    "from tqdm import tqdm_notebook\n",
    "import matplotlib.pyplot as plt\n",
    "from simple_colors import *\n",
    "\n",
    "from sklearn.preprocessing import OrdinalEncoder\n",
    "from sklearn.model_selection import train_test_split\n",
    "from catboost import CatBoostRegressor\n",
    "from lightgbm import LGBMRegressor\n",
    "from sklearn.linear_model import LinearRegression\n",
    "from sklearn.tree import DecisionTreeClassifier\n",
    "from sklearn.model_selection import GridSearchCV\n",
    "from sklearn.metrics import mean_squared_error, r2_score"
   ]
  },
  {
   "cell_type": "code",
   "execution_count": 4,
   "metadata": {},
   "outputs": [
    {
     "data": {
      "text/html": [
       "<div>\n",
       "<style scoped>\n",
       "    .dataframe tbody tr th:only-of-type {\n",
       "        vertical-align: middle;\n",
       "    }\n",
       "\n",
       "    .dataframe tbody tr th {\n",
       "        vertical-align: top;\n",
       "    }\n",
       "\n",
       "    .dataframe thead th {\n",
       "        text-align: right;\n",
       "    }\n",
       "</style>\n",
       "<table border=\"1\" class=\"dataframe\">\n",
       "  <thead>\n",
       "    <tr style=\"text-align: right;\">\n",
       "      <th></th>\n",
       "      <th>DateCrawled</th>\n",
       "      <th>Price</th>\n",
       "      <th>VehicleType</th>\n",
       "      <th>RegistrationYear</th>\n",
       "      <th>Gearbox</th>\n",
       "      <th>Power</th>\n",
       "      <th>Model</th>\n",
       "      <th>Kilometer</th>\n",
       "      <th>RegistrationMonth</th>\n",
       "      <th>FuelType</th>\n",
       "      <th>Brand</th>\n",
       "      <th>NotRepaired</th>\n",
       "      <th>DateCreated</th>\n",
       "      <th>NumberOfPictures</th>\n",
       "      <th>PostalCode</th>\n",
       "      <th>LastSeen</th>\n",
       "    </tr>\n",
       "  </thead>\n",
       "  <tbody>\n",
       "    <tr>\n",
       "      <th>0</th>\n",
       "      <td>2016-03-24 11:52:17</td>\n",
       "      <td>480</td>\n",
       "      <td>NaN</td>\n",
       "      <td>1993</td>\n",
       "      <td>manual</td>\n",
       "      <td>0</td>\n",
       "      <td>golf</td>\n",
       "      <td>150000</td>\n",
       "      <td>0</td>\n",
       "      <td>petrol</td>\n",
       "      <td>volkswagen</td>\n",
       "      <td>NaN</td>\n",
       "      <td>2016-03-24 00:00:00</td>\n",
       "      <td>0</td>\n",
       "      <td>70435</td>\n",
       "      <td>2016-04-07 03:16:57</td>\n",
       "    </tr>\n",
       "    <tr>\n",
       "      <th>1</th>\n",
       "      <td>2016-03-24 10:58:45</td>\n",
       "      <td>18300</td>\n",
       "      <td>coupe</td>\n",
       "      <td>2011</td>\n",
       "      <td>manual</td>\n",
       "      <td>190</td>\n",
       "      <td>NaN</td>\n",
       "      <td>125000</td>\n",
       "      <td>5</td>\n",
       "      <td>gasoline</td>\n",
       "      <td>audi</td>\n",
       "      <td>yes</td>\n",
       "      <td>2016-03-24 00:00:00</td>\n",
       "      <td>0</td>\n",
       "      <td>66954</td>\n",
       "      <td>2016-04-07 01:46:50</td>\n",
       "    </tr>\n",
       "    <tr>\n",
       "      <th>2</th>\n",
       "      <td>2016-03-14 12:52:21</td>\n",
       "      <td>9800</td>\n",
       "      <td>suv</td>\n",
       "      <td>2004</td>\n",
       "      <td>auto</td>\n",
       "      <td>163</td>\n",
       "      <td>grand</td>\n",
       "      <td>125000</td>\n",
       "      <td>8</td>\n",
       "      <td>gasoline</td>\n",
       "      <td>jeep</td>\n",
       "      <td>NaN</td>\n",
       "      <td>2016-03-14 00:00:00</td>\n",
       "      <td>0</td>\n",
       "      <td>90480</td>\n",
       "      <td>2016-04-05 12:47:46</td>\n",
       "    </tr>\n",
       "    <tr>\n",
       "      <th>3</th>\n",
       "      <td>2016-03-17 16:54:04</td>\n",
       "      <td>1500</td>\n",
       "      <td>small</td>\n",
       "      <td>2001</td>\n",
       "      <td>manual</td>\n",
       "      <td>75</td>\n",
       "      <td>golf</td>\n",
       "      <td>150000</td>\n",
       "      <td>6</td>\n",
       "      <td>petrol</td>\n",
       "      <td>volkswagen</td>\n",
       "      <td>no</td>\n",
       "      <td>2016-03-17 00:00:00</td>\n",
       "      <td>0</td>\n",
       "      <td>91074</td>\n",
       "      <td>2016-03-17 17:40:17</td>\n",
       "    </tr>\n",
       "    <tr>\n",
       "      <th>4</th>\n",
       "      <td>2016-03-31 17:25:20</td>\n",
       "      <td>3600</td>\n",
       "      <td>small</td>\n",
       "      <td>2008</td>\n",
       "      <td>manual</td>\n",
       "      <td>69</td>\n",
       "      <td>fabia</td>\n",
       "      <td>90000</td>\n",
       "      <td>7</td>\n",
       "      <td>gasoline</td>\n",
       "      <td>skoda</td>\n",
       "      <td>no</td>\n",
       "      <td>2016-03-31 00:00:00</td>\n",
       "      <td>0</td>\n",
       "      <td>60437</td>\n",
       "      <td>2016-04-06 10:17:21</td>\n",
       "    </tr>\n",
       "  </tbody>\n",
       "</table>\n",
       "</div>"
      ],
      "text/plain": [
       "           DateCrawled  Price VehicleType  RegistrationYear Gearbox  Power  \\\n",
       "0  2016-03-24 11:52:17    480         NaN              1993  manual      0   \n",
       "1  2016-03-24 10:58:45  18300       coupe              2011  manual    190   \n",
       "2  2016-03-14 12:52:21   9800         suv              2004    auto    163   \n",
       "3  2016-03-17 16:54:04   1500       small              2001  manual     75   \n",
       "4  2016-03-31 17:25:20   3600       small              2008  manual     69   \n",
       "\n",
       "   Model  Kilometer  RegistrationMonth  FuelType       Brand NotRepaired  \\\n",
       "0   golf     150000                  0    petrol  volkswagen         NaN   \n",
       "1    NaN     125000                  5  gasoline        audi         yes   \n",
       "2  grand     125000                  8  gasoline        jeep         NaN   \n",
       "3   golf     150000                  6    petrol  volkswagen          no   \n",
       "4  fabia      90000                  7  gasoline       skoda          no   \n",
       "\n",
       "           DateCreated  NumberOfPictures  PostalCode             LastSeen  \n",
       "0  2016-03-24 00:00:00                 0       70435  2016-04-07 03:16:57  \n",
       "1  2016-03-24 00:00:00                 0       66954  2016-04-07 01:46:50  \n",
       "2  2016-03-14 00:00:00                 0       90480  2016-04-05 12:47:46  \n",
       "3  2016-03-17 00:00:00                 0       91074  2016-03-17 17:40:17  \n",
       "4  2016-03-31 00:00:00                 0       60437  2016-04-06 10:17:21  "
      ]
     },
     "execution_count": 4,
     "metadata": {},
     "output_type": "execute_result"
    }
   ],
   "source": [
    "data = pd.read_csv('/datasets/autos.csv')\n",
    "data.head()"
   ]
  },
  {
   "cell_type": "code",
   "execution_count": 5,
   "metadata": {},
   "outputs": [
    {
     "name": "stdout",
     "output_type": "stream",
     "text": [
      "<class 'pandas.core.frame.DataFrame'>\n",
      "RangeIndex: 354369 entries, 0 to 354368\n",
      "Data columns (total 16 columns):\n",
      " #   Column             Non-Null Count   Dtype \n",
      "---  ------             --------------   ----- \n",
      " 0   DateCrawled        354369 non-null  object\n",
      " 1   Price              354369 non-null  int64 \n",
      " 2   VehicleType        316879 non-null  object\n",
      " 3   RegistrationYear   354369 non-null  int64 \n",
      " 4   Gearbox            334536 non-null  object\n",
      " 5   Power              354369 non-null  int64 \n",
      " 6   Model              334664 non-null  object\n",
      " 7   Kilometer          354369 non-null  int64 \n",
      " 8   RegistrationMonth  354369 non-null  int64 \n",
      " 9   FuelType           321474 non-null  object\n",
      " 10  Brand              354369 non-null  object\n",
      " 11  NotRepaired        283215 non-null  object\n",
      " 12  DateCreated        354369 non-null  object\n",
      " 13  NumberOfPictures   354369 non-null  int64 \n",
      " 14  PostalCode         354369 non-null  int64 \n",
      " 15  LastSeen           354369 non-null  object\n",
      "dtypes: int64(7), object(9)\n",
      "memory usage: 43.3+ MB\n"
     ]
    }
   ],
   "source": [
    "data.info()"
   ]
  },
  {
   "cell_type": "code",
   "execution_count": 6,
   "metadata": {},
   "outputs": [
    {
     "data": {
      "text/plain": [
       "False"
      ]
     },
     "execution_count": 6,
     "metadata": {},
     "output_type": "execute_result"
    }
   ],
   "source": [
    "data['RegistrationYear'].dtype == 'object'"
   ]
  },
  {
   "cell_type": "code",
   "execution_count": 7,
   "metadata": {},
   "outputs": [
    {
     "name": "stderr",
     "output_type": "stream",
     "text": [
      "/tmp/ipykernel_101/2395323322.py:1: TqdmDeprecationWarning: This function will be removed in tqdm==5.0.0\n",
      "Please use `tqdm.notebook.tqdm` instead of `tqdm.tqdm_notebook`\n",
      "  for col in tqdm_notebook(data.columns):\n"
     ]
    },
    {
     "data": {
      "application/vnd.jupyter.widget-view+json": {
       "model_id": "7e6841c5892a4deaa45d1b691b0081b6",
       "version_major": 2,
       "version_minor": 0
      },
      "text/plain": [
       "  0%|          | 0/16 [00:00<?, ?it/s]"
      ]
     },
     "metadata": {},
     "output_type": "display_data"
    },
    {
     "data": {
      "image/png": "[encoded data removed]",
      "text/plain": [
       "<Figure size 432x288 with 1 Axes>"
      ]
     },
     "metadata": {
      "needs_background": "light"
     },
     "output_type": "display_data"
    },
    {
     "data": {
      "image/png": "[encoded data removed]",
      "text/plain": [
       "<Figure size 432x288 with 1 Axes>"
      ]
     },
     "metadata": {
      "needs_background": "light"
     },
     "output_type": "display_data"
    },
    {
     "data": {
      "image/png": "[encoded data removed]",
      "text/plain": [
       "<Figure size 432x288 with 1 Axes>"
      ]
     },
     "metadata": {
      "needs_background": "light"
     },
     "output_type": "display_data"
    },
    {
     "data": {
      "image/png": "[encoded data removed]",
      "text/plain": [
       "<Figure size 432x288 with 1 Axes>"
      ]
     },
     "metadata": {
      "needs_background": "light"
     },
     "output_type": "display_data"
    },
    {
     "data": {
      "image/png": "[encoded data removed]",
      "text/plain": [
       "<Figure size 432x288 with 1 Axes>"
      ]
     },
     "metadata": {
      "needs_background": "light"
     },
     "output_type": "display_data"
    },
    {
     "data": {
      "image/png": "[encoded data removed]",
      "text/plain": [
       "<Figure size 432x288 with 1 Axes>"
      ]
     },
     "metadata": {
      "needs_background": "light"
     },
     "output_type": "display_data"
    },
    {
     "data": {
      "image/png": "[encoded data removed]",
      "text/plain": [
       "<Figure size 432x288 with 1 Axes>"
      ]
     },
     "metadata": {
      "needs_background": "light"
     },
     "output_type": "display_data"
    }
   ],
   "source": [
    "for col in tqdm_notebook(data.columns):\n",
    "    if data[col].dtype != 'object':\n",
    "        data[col].hist(bins=50)\n",
    "        plt.title(col)\n",
    "        plt.show()"
   ]
  },
  {
   "cell_type": "markdown",
   "metadata": {},
   "source": [
    "Некоторые данные имеют явные выбросы, с которыми стоит бороться"
   ]
  },
  {
   "cell_type": "code",
   "execution_count": 8,
   "metadata": {},
   "outputs": [
    {
     "data": {
      "text/plain": [
       "array([0])"
      ]
     },
     "execution_count": 8,
     "metadata": {},
     "output_type": "execute_result"
    }
   ],
   "source": [
    "data['NumberOfPictures'].unique()"
   ]
  },
  {
   "cell_type": "code",
   "execution_count": 9,
   "metadata": {},
   "outputs": [],
   "source": [
    "data.loc[~(data['RegistrationYear'].isin(list(range(1990, 2023)))), 'RegistrationYear'] = 2010\n",
    "data.loc[~(data['Power'].isin(list(range(50, 1000)))), 'Power'] = 180\n",
    "data.drop(['NumberOfPictures'], axis=1, inplace=True)"
   ]
  },
  {
   "cell_type": "markdown",
   "metadata": {},
   "source": [
    "Признак \"была ли машина в ремонте\" может говорить о многом, поэтому лучше выбросим пропуски"
   ]
  },
  {
   "cell_type": "code",
   "execution_count": 10,
   "metadata": {},
   "outputs": [],
   "source": [
    "data = data.loc[~(data['NotRepaired'].isna()), :]"
   ]
  },
  {
   "cell_type": "code",
   "execution_count": 11,
   "metadata": {},
   "outputs": [
    {
     "name": "stderr",
     "output_type": "stream",
     "text": [
      "/tmp/ipykernel_101/2542299117.py:1: TqdmDeprecationWarning: This function will be removed in tqdm==5.0.0\n",
      "Please use `tqdm.notebook.tqdm` instead of `tqdm.tqdm_notebook`\n",
      "  for col in tqdm_notebook(data.columns):\n"
     ]
    },
    {
     "data": {
      "application/vnd.jupyter.widget-view+json": {
       "model_id": "5645d38735a54ed3b5d72222c2542507",
       "version_major": 2,
       "version_minor": 0
      },
      "text/plain": [
       "  0%|          | 0/15 [00:00<?, ?it/s]"
      ]
     },
     "metadata": {},
     "output_type": "display_data"
    },
    {
     "name": "stdout",
     "output_type": "stream",
     "text": [
      "\u001b[1;31mDateCrawled\u001b[0m\n",
      "2016-03-24 14:49:47    6\n",
      "2016-03-29 22:50:49    5\n",
      "2016-03-22 14:50:05    5\n",
      "2016-03-09 13:50:56    5\n",
      "2016-03-08 15:50:29    5\n",
      "                      ..\n",
      "2016-03-09 17:49:50    1\n",
      "2016-03-30 14:48:54    1\n",
      "2016-03-31 18:52:31    1\n",
      "2016-03-28 20:53:25    1\n",
      "2016-03-14 22:37:02    1\n",
      "Name: DateCrawled, Length: 228781, dtype: int64 \n",
      "\n",
      "\u001b[1;31mVehicleType\u001b[0m\n",
      "sedan          77617\n",
      "small          64891\n",
      "wagon          54967\n",
      "bus            25197\n",
      "convertible    17526\n",
      "coupe          13393\n",
      "suv            10569\n",
      "other           2136\n",
      "Name: VehicleType, dtype: int64 \n",
      "\n",
      "\u001b[1;31mGearbox\u001b[0m\n",
      "manual    219847\n",
      "auto       56323\n",
      "Name: Gearbox, dtype: int64 \n",
      "\n",
      "\u001b[1;31mModel\u001b[0m\n",
      "golf                  22972\n",
      "other                 20163\n",
      "3er                   16141\n",
      "polo                  10023\n",
      "corsa                  9528\n",
      "                      ...  \n",
      "kalina                    6\n",
      "samara                    5\n",
      "serie_3                   3\n",
      "rangerover                3\n",
      "range_rover_evoque        2\n",
      "Name: Model, Length: 249, dtype: int64 \n",
      "\n",
      "\u001b[1;31mFuelType\u001b[0m\n",
      "petrol      177599\n",
      "gasoline     84043\n",
      "lpg           4345\n",
      "cng            509\n",
      "hybrid         214\n",
      "other          113\n",
      "electric        78\n",
      "Name: FuelType, dtype: int64 \n",
      "\n",
      "\u001b[1;31mBrand\u001b[0m\n",
      "volkswagen        60047\n",
      "opel              30926\n",
      "bmw               30328\n",
      "mercedes_benz     26466\n",
      "audi              24041\n",
      "ford              19793\n",
      "renault           13764\n",
      "peugeot            9010\n",
      "fiat               7387\n",
      "seat               5642\n",
      "skoda              4787\n",
      "mazda              4535\n",
      "smart              4389\n",
      "citroen            4154\n",
      "nissan             4005\n",
      "toyota             3976\n",
      "hyundai            3075\n",
      "mini               2874\n",
      "volvo              2710\n",
      "mitsubishi         2356\n",
      "honda              2252\n",
      "kia                2108\n",
      "sonstige_autos     2051\n",
      "suzuki             1916\n",
      "alfa_romeo         1915\n",
      "chevrolet          1443\n",
      "chrysler           1153\n",
      "dacia               797\n",
      "daihatsu            614\n",
      "porsche             608\n",
      "subaru              607\n",
      "jeep                549\n",
      "saab                459\n",
      "land_rover          458\n",
      "daewoo              420\n",
      "jaguar              418\n",
      "lancia              364\n",
      "rover               351\n",
      "trabant             301\n",
      "lada                166\n",
      "Name: Brand, dtype: int64 \n",
      "\n",
      "\u001b[1;31mNotRepaired\u001b[0m\n",
      "no     247161\n",
      "yes     36054\n",
      "Name: NotRepaired, dtype: int64 \n",
      "\n",
      "\u001b[1;31mDateCreated\u001b[0m\n",
      "2016-04-03 00:00:00    11023\n",
      "2016-04-04 00:00:00    10816\n",
      "2016-03-12 00:00:00    10386\n",
      "2016-03-20 00:00:00    10248\n",
      "2016-03-21 00:00:00    10108\n",
      "                       ...  \n",
      "2015-11-12 00:00:00        1\n",
      "2016-01-18 00:00:00        1\n",
      "2015-12-17 00:00:00        1\n",
      "2016-01-24 00:00:00        1\n",
      "2015-11-08 00:00:00        1\n",
      "Name: DateCreated, Length: 107, dtype: int64 \n",
      "\n",
      "\u001b[1;31mLastSeen\u001b[0m\n",
      "2016-04-06 12:15:45    15\n",
      "2016-04-07 00:45:17    15\n",
      "2016-04-07 13:17:48    15\n",
      "2016-04-06 13:46:17    15\n",
      "2016-04-07 14:57:54    15\n",
      "                       ..\n",
      "2016-03-12 21:19:56     1\n",
      "2016-03-08 12:17:51     1\n",
      "2016-04-02 17:42:37     1\n",
      "2016-03-16 17:16:12     1\n",
      "2016-03-27 19:45:38     1\n",
      "Name: LastSeen, Length: 149196, dtype: int64 \n",
      "\n"
     ]
    }
   ],
   "source": [
    "for col in tqdm_notebook(data.columns):\n",
    "    if data[col].dtype == 'object':\n",
    "        print(red(col, 'bold'))\n",
    "        print(data[col].value_counts().sort_values(ascending=False), '\\n')"
   ]
  },
  {
   "cell_type": "markdown",
   "metadata": {},
   "source": [
    "Заметим, что пропуски только в категориальных данных, поэтому просто заполним пропуски самыми частыми значениями"
   ]
  },
  {
   "cell_type": "code",
   "execution_count": 12,
   "metadata": {},
   "outputs": [
    {
     "name": "stderr",
     "output_type": "stream",
     "text": [
      "/tmp/ipykernel_101/3617188587.py:1: TqdmDeprecationWarning: This function will be removed in tqdm==5.0.0\n",
      "Please use `tqdm.notebook.tqdm` instead of `tqdm.tqdm_notebook`\n",
      "  for col in tqdm_notebook(data.columns):\n"
     ]
    },
    {
     "data": {
      "application/vnd.jupyter.widget-view+json": {
       "model_id": "d4cd5f5de38b4896bf4b4f19b4e96395",
       "version_major": 2,
       "version_minor": 0
      },
      "text/plain": [
       "  0%|          | 0/15 [00:00<?, ?it/s]"
      ]
     },
     "metadata": {},
     "output_type": "display_data"
    }
   ],
   "source": [
    "for col in tqdm_notebook(data.columns):\n",
    "    if data[col].isna().sum() != 0:\n",
    "        fill_value = data[col].value_counts().sort_values(ascending=False)[0]\n",
    "        data[col] = data[col].fillna(fill_value)"
   ]
  },
  {
   "cell_type": "code",
   "execution_count": 13,
   "metadata": {
    "scrolled": true
   },
   "outputs": [
    {
     "name": "stdout",
     "output_type": "stream",
     "text": [
      "<class 'pandas.core.frame.DataFrame'>\n",
      "Int64Index: 283215 entries, 1 to 354367\n",
      "Data columns (total 15 columns):\n",
      " #   Column             Non-Null Count   Dtype \n",
      "---  ------             --------------   ----- \n",
      " 0   DateCrawled        283215 non-null  object\n",
      " 1   Price              283215 non-null  int64 \n",
      " 2   VehicleType        283215 non-null  object\n",
      " 3   RegistrationYear   283215 non-null  int64 \n",
      " 4   Gearbox            283215 non-null  object\n",
      " 5   Power              283215 non-null  int64 \n",
      " 6   Model              283215 non-null  object\n",
      " 7   Kilometer          283215 non-null  int64 \n",
      " 8   RegistrationMonth  283215 non-null  int64 \n",
      " 9   FuelType           283215 non-null  object\n",
      " 10  Brand              283215 non-null  object\n",
      " 11  NotRepaired        283215 non-null  object\n",
      " 12  DateCreated        283215 non-null  object\n",
      " 13  PostalCode         283215 non-null  int64 \n",
      " 14  LastSeen           283215 non-null  object\n",
      "dtypes: int64(6), object(9)\n",
      "memory usage: 34.6+ MB\n"
     ]
    }
   ],
   "source": [
    "data.info()"
   ]
  },
  {
   "cell_type": "code",
   "execution_count": 14,
   "metadata": {},
   "outputs": [
    {
     "name": "stderr",
     "output_type": "stream",
     "text": [
      "/tmp/ipykernel_101/2395323322.py:1: TqdmDeprecationWarning: This function will be removed in tqdm==5.0.0\n",
      "Please use `tqdm.notebook.tqdm` instead of `tqdm.tqdm_notebook`\n",
      "  for col in tqdm_notebook(data.columns):\n"
     ]
    },
    {
     "data": {
      "application/vnd.jupyter.widget-view+json": {
       "model_id": "093c4a9d0c11415283d246915ffcefff",
       "version_major": 2,
       "version_minor": 0
      },
      "text/plain": [
       "  0%|          | 0/15 [00:00<?, ?it/s]"
      ]
     },
     "metadata": {},
     "output_type": "display_data"
    },
    {
     "data": {
      "image/png": "[encoded data removed]",
      "text/plain": [
       "<Figure size 432x288 with 1 Axes>"
      ]
     },
     "metadata": {
      "needs_background": "light"
     },
     "output_type": "display_data"
    },
    {
     "data": {
      "image/png": "[encoded data removed]",
      "text/plain": [
       "<Figure size 432x288 with 1 Axes>"
      ]
     },
     "metadata": {
      "needs_background": "light"
     },
     "output_type": "display_data"
    },
    {
     "data": {
      "image/png": "[encoded data removed]",
      "text/plain": [
       "<Figure size 432x288 with 1 Axes>"
      ]
     },
     "metadata": {
      "needs_background": "light"
     },
     "output_type": "display_data"
    },
    {
     "data": {
      "image/png": "[encoded data removed]",
      "text/plain": [
       "<Figure size 432x288 with 1 Axes>"
      ]
     },
     "metadata": {
      "needs_background": "light"
     },
     "output_type": "display_data"
    },
    {
     "data": {
      "image/png": "[encoded data removed]",
      "text/plain": [
       "<Figure size 432x288 with 1 Axes>"
      ]
     },
     "metadata": {
      "needs_background": "light"
     },
     "output_type": "display_data"
    },
    {
     "data": {
      "image/png": "[encoded data removed]",
      "text/plain": [
       "<Figure size 432x288 with 1 Axes>"
      ]
     },
     "metadata": {
      "needs_background": "light"
     },
     "output_type": "display_data"
    }
   ],
   "source": [
    "for col in tqdm_notebook(data.columns):\n",
    "    if data[col].dtype != 'object':\n",
    "        data[col].hist(bins=50)\n",
    "        plt.title(col)\n",
    "        plt.show()"
   ]
  },
  {
   "cell_type": "code",
   "execution_count": 15,
   "metadata": {},
   "outputs": [],
   "source": [
    "data['LastSeen'] = pd.to_datetime(data['LastSeen'])\n",
    "data['DateCrawled'] = pd.to_datetime(data['DateCrawled'])\n",
    "data['DateCreated'] = pd.to_datetime(data['DateCreated'])"
   ]
  },
  {
   "cell_type": "code",
   "execution_count": 16,
   "metadata": {},
   "outputs": [
    {
     "data": {
      "text/plain": [
       "2016    283215\n",
       "Name: LastSeen, dtype: int64"
      ]
     },
     "execution_count": 16,
     "metadata": {},
     "output_type": "execute_result"
    }
   ],
   "source": [
    "data['LastSeen'].dt.year.value_counts()"
   ]
  },
  {
   "cell_type": "code",
   "execution_count": 17,
   "metadata": {},
   "outputs": [
    {
     "data": {
      "text/plain": [
       "2016    283215\n",
       "Name: DateCrawled, dtype: int64"
      ]
     },
     "execution_count": 17,
     "metadata": {},
     "output_type": "execute_result"
    }
   ],
   "source": [
    "data['DateCrawled'].dt.year.value_counts()"
   ]
  },
  {
   "cell_type": "code",
   "execution_count": 18,
   "metadata": {},
   "outputs": [
    {
     "data": {
      "text/plain": [
       "2016    283193\n",
       "2015        22\n",
       "Name: DateCreated, dtype: int64"
      ]
     },
     "execution_count": 18,
     "metadata": {},
     "output_type": "execute_result"
    }
   ],
   "source": [
    "data['DateCreated'].dt.year.value_counts()"
   ]
  },
  {
   "cell_type": "markdown",
   "metadata": {},
   "source": [
    "Бессмысленные признаки, так как имеют нулевую дисперсию. Просто дропнем их"
   ]
  },
  {
   "cell_type": "code",
   "execution_count": 19,
   "metadata": {},
   "outputs": [
    {
     "data": {
      "text/html": [
       "<div>\n",
       "<style scoped>\n",
       "    .dataframe tbody tr th:only-of-type {\n",
       "        vertical-align: middle;\n",
       "    }\n",
       "\n",
       "    .dataframe tbody tr th {\n",
       "        vertical-align: top;\n",
       "    }\n",
       "\n",
       "    .dataframe thead th {\n",
       "        text-align: right;\n",
       "    }\n",
       "</style>\n",
       "<table border=\"1\" class=\"dataframe\">\n",
       "  <thead>\n",
       "    <tr style=\"text-align: right;\">\n",
       "      <th></th>\n",
       "      <th>Price</th>\n",
       "      <th>VehicleType</th>\n",
       "      <th>RegistrationYear</th>\n",
       "      <th>Gearbox</th>\n",
       "      <th>Power</th>\n",
       "      <th>Model</th>\n",
       "      <th>Kilometer</th>\n",
       "      <th>RegistrationMonth</th>\n",
       "      <th>FuelType</th>\n",
       "      <th>Brand</th>\n",
       "      <th>NotRepaired</th>\n",
       "      <th>PostalCode</th>\n",
       "    </tr>\n",
       "  </thead>\n",
       "  <tbody>\n",
       "    <tr>\n",
       "      <th>1</th>\n",
       "      <td>18300</td>\n",
       "      <td>coupe</td>\n",
       "      <td>2011</td>\n",
       "      <td>manual</td>\n",
       "      <td>190</td>\n",
       "      <td>22972</td>\n",
       "      <td>125000</td>\n",
       "      <td>5</td>\n",
       "      <td>gasoline</td>\n",
       "      <td>audi</td>\n",
       "      <td>yes</td>\n",
       "      <td>66954</td>\n",
       "    </tr>\n",
       "    <tr>\n",
       "      <th>3</th>\n",
       "      <td>1500</td>\n",
       "      <td>small</td>\n",
       "      <td>2001</td>\n",
       "      <td>manual</td>\n",
       "      <td>75</td>\n",
       "      <td>golf</td>\n",
       "      <td>150000</td>\n",
       "      <td>6</td>\n",
       "      <td>petrol</td>\n",
       "      <td>volkswagen</td>\n",
       "      <td>no</td>\n",
       "      <td>91074</td>\n",
       "    </tr>\n",
       "    <tr>\n",
       "      <th>4</th>\n",
       "      <td>3600</td>\n",
       "      <td>small</td>\n",
       "      <td>2008</td>\n",
       "      <td>manual</td>\n",
       "      <td>69</td>\n",
       "      <td>fabia</td>\n",
       "      <td>90000</td>\n",
       "      <td>7</td>\n",
       "      <td>gasoline</td>\n",
       "      <td>skoda</td>\n",
       "      <td>no</td>\n",
       "      <td>60437</td>\n",
       "    </tr>\n",
       "    <tr>\n",
       "      <th>5</th>\n",
       "      <td>650</td>\n",
       "      <td>sedan</td>\n",
       "      <td>1995</td>\n",
       "      <td>manual</td>\n",
       "      <td>102</td>\n",
       "      <td>3er</td>\n",
       "      <td>150000</td>\n",
       "      <td>10</td>\n",
       "      <td>petrol</td>\n",
       "      <td>bmw</td>\n",
       "      <td>yes</td>\n",
       "      <td>33775</td>\n",
       "    </tr>\n",
       "    <tr>\n",
       "      <th>6</th>\n",
       "      <td>2200</td>\n",
       "      <td>convertible</td>\n",
       "      <td>2004</td>\n",
       "      <td>manual</td>\n",
       "      <td>109</td>\n",
       "      <td>2_reihe</td>\n",
       "      <td>150000</td>\n",
       "      <td>8</td>\n",
       "      <td>petrol</td>\n",
       "      <td>peugeot</td>\n",
       "      <td>no</td>\n",
       "      <td>67112</td>\n",
       "    </tr>\n",
       "  </tbody>\n",
       "</table>\n",
       "</div>"
      ],
      "text/plain": [
       "   Price  VehicleType  RegistrationYear Gearbox  Power    Model  Kilometer  \\\n",
       "1  18300        coupe              2011  manual    190    22972     125000   \n",
       "3   1500        small              2001  manual     75     golf     150000   \n",
       "4   3600        small              2008  manual     69    fabia      90000   \n",
       "5    650        sedan              1995  manual    102      3er     150000   \n",
       "6   2200  convertible              2004  manual    109  2_reihe     150000   \n",
       "\n",
       "   RegistrationMonth  FuelType       Brand NotRepaired  PostalCode  \n",
       "1                  5  gasoline        audi         yes       66954  \n",
       "3                  6    petrol  volkswagen          no       91074  \n",
       "4                  7  gasoline       skoda          no       60437  \n",
       "5                 10    petrol         bmw         yes       33775  \n",
       "6                  8    petrol     peugeot          no       67112  "
      ]
     },
     "execution_count": 19,
     "metadata": {},
     "output_type": "execute_result"
    }
   ],
   "source": [
    "data = data.drop(['DateCreated', 'DateCrawled', 'LastSeen'], axis=1)\n",
    "data.head()"
   ]
  },
  {
   "cell_type": "code",
   "execution_count": 20,
   "metadata": {},
   "outputs": [
    {
     "name": "stderr",
     "output_type": "stream",
     "text": [
      "/tmp/ipykernel_101/267362933.py:1: TqdmDeprecationWarning: This function will be removed in tqdm==5.0.0\n",
      "Please use `tqdm.notebook.tqdm` instead of `tqdm.tqdm_notebook`\n",
      "  for col in tqdm_notebook(data.columns):\n"
     ]
    },
    {
     "data": {
      "application/vnd.jupyter.widget-view+json": {
       "model_id": "c980037c82c54588b95a02bd860ce31e",
       "version_major": 2,
       "version_minor": 0
      },
      "text/plain": [
       "  0%|          | 0/12 [00:00<?, ?it/s]"
      ]
     },
     "metadata": {},
     "output_type": "display_data"
    }
   ],
   "source": [
    "for col in tqdm_notebook(data.columns):\n",
    "    if data[col].dtype == 'object':\n",
    "        data[col] = data[col].astype('category')"
   ]
  },
  {
   "cell_type": "markdown",
   "metadata": {},
   "source": [
    "## Обучение моделей"
   ]
  },
  {
   "cell_type": "code",
   "execution_count": 21,
   "metadata": {},
   "outputs": [],
   "source": [
    "X = data.drop('Price', axis=1)\n",
    "y = data['Price']\n",
    "X_train, X_valid, y_train, y_valid = train_test_split(X, y, test_size=0.4)\n",
    "X_valid, X_test, y_valid, y_test = train_test_split(X_valid, y_valid, test_size=0.5)"
   ]
  },
  {
   "cell_type": "code",
   "execution_count": 22,
   "metadata": {},
   "outputs": [],
   "source": [
    "cat_features = ['VehicleType', 'Gearbox', 'Model', 'FuelType', 'Brand', 'NotRepaired']"
   ]
  },
  {
   "cell_type": "code",
   "execution_count": 23,
   "metadata": {},
   "outputs": [
    {
     "name": "stdout",
     "output_type": "stream",
     "text": [
      "CPU times: user 1min 23s, sys: 518 ms, total: 1min 23s\n",
      "Wall time: 1min 24s\n"
     ]
    },
    {
     "data": {
      "text/plain": [
       "<catboost.core.CatBoostRegressor at 0x7faa5397fbb0>"
      ]
     },
     "execution_count": 23,
     "metadata": {},
     "output_type": "execute_result"
    }
   ],
   "source": [
    "%%time\n",
    "cat1 = CatBoostRegressor(verbose=False, iterations=500, learning_rate=0.1)\n",
    "cat1.fit(X_train, y_train, cat_features=cat_features)"
   ]
  },
  {
   "cell_type": "code",
   "execution_count": 24,
   "metadata": {},
   "outputs": [
    {
     "data": {
      "text/plain": [
       "1796.4304332416812"
      ]
     },
     "execution_count": 24,
     "metadata": {},
     "output_type": "execute_result"
    }
   ],
   "source": [
    "cat1_pred = cat1.predict(X_valid)\n",
    "mean_squared_error(y_valid, cat1_pred) ** 0.5"
   ]
  },
  {
   "cell_type": "code",
   "execution_count": 25,
   "metadata": {},
   "outputs": [
    {
     "name": "stdout",
     "output_type": "stream",
     "text": [
      "CPU times: user 2min 48s, sys: 647 ms, total: 2min 49s\n",
      "Wall time: 2min 50s\n"
     ]
    },
    {
     "data": {
      "text/plain": [
       "<catboost.core.CatBoostRegressor at 0x7faa53b51190>"
      ]
     },
     "execution_count": 25,
     "metadata": {},
     "output_type": "execute_result"
    }
   ],
   "source": [
    "%%time\n",
    "cat2 = CatBoostRegressor(verbose=False, iterations=1000, learning_rate=0.05)\n",
    "cat2.fit(X_train, y_train, cat_features=cat_features)"
   ]
  },
  {
   "cell_type": "code",
   "execution_count": 26,
   "metadata": {},
   "outputs": [
    {
     "data": {
      "text/plain": [
       "1795.4075614752126"
      ]
     },
     "execution_count": 26,
     "metadata": {},
     "output_type": "execute_result"
    }
   ],
   "source": [
    "cat2_pred = cat2.predict(X_valid)\n",
    "mean_squared_error(y_valid, cat2_pred) ** 0.5"
   ]
  },
  {
   "cell_type": "code",
   "execution_count": 27,
   "metadata": {},
   "outputs": [
    {
     "name": "stdout",
     "output_type": "stream",
     "text": [
      "<class 'pandas.core.frame.DataFrame'>\n",
      "Int64Index: 169929 entries, 242139 to 195111\n",
      "Data columns (total 11 columns):\n",
      " #   Column             Non-Null Count   Dtype   \n",
      "---  ------             --------------   -----   \n",
      " 0   VehicleType        169929 non-null  category\n",
      " 1   RegistrationYear   169929 non-null  int64   \n",
      " 2   Gearbox            169929 non-null  category\n",
      " 3   Power              169929 non-null  int64   \n",
      " 4   Model              169929 non-null  category\n",
      " 5   Kilometer          169929 non-null  int64   \n",
      " 6   RegistrationMonth  169929 non-null  int64   \n",
      " 7   FuelType           169929 non-null  category\n",
      " 8   Brand              169929 non-null  category\n",
      " 9   NotRepaired        169929 non-null  category\n",
      " 10  PostalCode         169929 non-null  int64   \n",
      "dtypes: category(6), int64(5)\n",
      "memory usage: 8.9 MB\n"
     ]
    }
   ],
   "source": [
    "X_train.info()"
   ]
  },
  {
   "cell_type": "code",
   "execution_count": 28,
   "metadata": {},
   "outputs": [
    {
     "name": "stdout",
     "output_type": "stream",
     "text": [
      "CPU times: user 3min 46s, sys: 2.05 s, total: 3min 48s\n",
      "Wall time: 3min 48s\n"
     ]
    },
    {
     "data": {
      "text/plain": [
       "LGBMRegressor(device_type='cpu', learning_rate=0.05)"
      ]
     },
     "execution_count": 28,
     "metadata": {},
     "output_type": "execute_result"
    }
   ],
   "source": [
    "%%time\n",
    "lgb1 = LGBMRegressor(learning_rate=0.05, device_type='cpu')\n",
    "lgb1.fit(X_train, y_train, feature_name='auto', categorical_feature = 'auto')"
   ]
  },
  {
   "cell_type": "code",
   "execution_count": 29,
   "metadata": {},
   "outputs": [
    {
     "data": {
      "text/plain": [
       "1853.9447448595001"
      ]
     },
     "execution_count": 29,
     "metadata": {},
     "output_type": "execute_result"
    }
   ],
   "source": [
    "lgb1_pred = lgb1.predict(X_valid)\n",
    "mean_squared_error(y_valid, lgb1_pred) ** 0.5"
   ]
  },
  {
   "cell_type": "code",
   "execution_count": 23,
   "metadata": {},
   "outputs": [
    {
     "name": "stdout",
     "output_type": "stream",
     "text": [
      "CPU times: user 1min 53s, sys: 260 ms, total: 1min 53s\n",
      "Wall time: 1min 53s\n"
     ]
    },
    {
     "data": {
      "text/plain": [
       "LGBMRegressor(device_type='cpu', learning_rate=0.2)"
      ]
     },
     "execution_count": 23,
     "metadata": {},
     "output_type": "execute_result"
    }
   ],
   "source": [
    "%%time\n",
    "lgb2 = LGBMRegressor(learning_rate=0.2, device_type='cpu')\n",
    "lgb2.fit(X_train, y_train, feature_name='auto', categorical_feature = 'auto')"
   ]
  },
  {
   "cell_type": "code",
   "execution_count": 24,
   "metadata": {},
   "outputs": [
    {
     "data": {
      "text/plain": [
       "1743.8584991166006"
      ]
     },
     "execution_count": 24,
     "metadata": {},
     "output_type": "execute_result"
    }
   ],
   "source": [
    "lgb2_pred = lgb2.predict(X_valid)\n",
    "mean_squared_error(y_valid, lgb2_pred) ** 0.5"
   ]
  },
  {
   "cell_type": "code",
   "execution_count": 25,
   "metadata": {},
   "outputs": [],
   "source": [
    "X_train_linear = X_train.copy()\n",
    "X_valid_linear = X_valid.copy()\n",
    "X_test_linear = X_test.copy()\n",
    "encoder = OrdinalEncoder()\n",
    "encoder.fit(pd.concat([X_train[cat_features], X_valid[cat_features]]).astype('str'))\n",
    "X_train_linear[cat_features] = encoder.transform(X_train[cat_features].astype('str'))\n",
    "X_valid_linear[cat_features] = encoder.transform(X_valid[cat_features].astype('str'))\n",
    "X_test_linear[cat_features] = encoder.transform(X_test[cat_features].astype('str'))"
   ]
  },
  {
   "cell_type": "code",
   "execution_count": 26,
   "metadata": {},
   "outputs": [
    {
     "name": "stdout",
     "output_type": "stream",
     "text": [
      "CPU times: user 56.3 ms, sys: 16 ms, total: 72.4 ms\n",
      "Wall time: 50.3 ms\n"
     ]
    },
    {
     "data": {
      "text/plain": [
       "LinearRegression(normalize=True)"
      ]
     },
     "execution_count": 26,
     "metadata": {},
     "output_type": "execute_result"
    }
   ],
   "source": [
    "%%time\n",
    "lin_reg1 = LinearRegression(normalize=True)\n",
    "lin_reg1.fit(X_train_linear, y_train)"
   ]
  },
  {
   "cell_type": "code",
   "execution_count": 27,
   "metadata": {},
   "outputs": [
    {
     "data": {
      "text/plain": [
       "3211.2760803416572"
      ]
     },
     "execution_count": 27,
     "metadata": {},
     "output_type": "execute_result"
    }
   ],
   "source": [
    "lin_reg1_pred = lin_reg1.predict(X_valid_linear)\n",
    "mean_squared_error(y_valid, lin_reg1_pred) ** 0.5"
   ]
  },
  {
   "cell_type": "code",
   "execution_count": 28,
   "metadata": {},
   "outputs": [
    {
     "name": "stderr",
     "output_type": "stream",
     "text": [
      "/opt/conda/lib/python3.9/site-packages/sklearn/model_selection/_split.py:666: UserWarning: The least populated class in y has only 1 members, which is less than n_splits=3.\n",
      "  warnings.warn((\"The least populated class in y has only %d\"\n"
     ]
    },
    {
     "name": "stdout",
     "output_type": "stream",
     "text": [
      "CPU times: user 2min 33s, sys: 7.47 s, total: 2min 41s\n",
      "Wall time: 2min 41s\n"
     ]
    },
    {
     "data": {
      "text/plain": [
       "GridSearchCV(cv=3, estimator=DecisionTreeClassifier(),\n",
       "             param_grid={'max_depth': range(10, 16, 2),\n",
       "                         'min_samples_split': range(3, 11, 3)})"
      ]
     },
     "execution_count": 28,
     "metadata": {},
     "output_type": "execute_result"
    }
   ],
   "source": [
    "%%time\n",
    "params = {'max_depth': range(10, 16, 2), 'min_samples_split': range(3, 11, 3)}\n",
    "grid = GridSearchCV(DecisionTreeClassifier(), params, cv=3)\n",
    "grid.fit(X_train_linear, y_train)"
   ]
  },
  {
   "cell_type": "code",
   "execution_count": 29,
   "metadata": {},
   "outputs": [
    {
     "data": {
      "text/plain": [
       "2573.243457836163"
      ]
     },
     "execution_count": 29,
     "metadata": {},
     "output_type": "execute_result"
    }
   ],
   "source": [
    "tree = grid.best_estimator_\n",
    "tree_pred = tree.predict(X_valid_linear)\n",
    "mean_squared_error(y_valid, tree_pred) ** 0.5"
   ]
  },
  {
   "cell_type": "markdown",
   "metadata": {},
   "source": [
    "## Анализ моделей"
   ]
  },
  {
   "cell_type": "markdown",
   "metadata": {},
   "source": [
    "LightGBM оказалась лучшей на валидационной выборке и по скорости и по каечтву. Поэтому на тестовой выборке проверять юуду именно эту модель, и оставлю ее. На более сложных моделях прошло переобучение. Самой быстрой моделью оказалось линейная регрессия, но ее качества недостаточно для данной задачи. Поэтому LightGBM является в данном случае лучшим решением"
   ]
  },
  {
   "cell_type": "code",
   "execution_count": 30,
   "metadata": {},
   "outputs": [
    {
     "data": {
      "text/plain": [
       "1759.123810324804"
      ]
     },
     "execution_count": 30,
     "metadata": {},
     "output_type": "execute_result"
    }
   ],
   "source": [
    "lgb2_pred_test = lgb2.predict(X_test)\n",
    "mean_squared_error(y_test, lgb2_pred_test) ** 0.5"
   ]
  },
  {
   "cell_type": "markdown",
   "metadata": {},
   "source": [
    "## Чек-лист проверки"
   ]
  },
  {
   "cell_type": "markdown",
   "metadata": {},
   "source": [
    "Поставьте 'x' в выполненных пунктах. Далее нажмите Shift+Enter."
   ]
  },
  {
   "cell_type": "markdown",
   "metadata": {},
   "source": [
    "- [x]  Jupyter Notebook открыт\n",
    "- [x]  Весь код выполняется без ошибок\n",
    "- [x]  Ячейки с кодом расположены в порядке исполнения\n",
    "- [x]  Выполнена загрузка и подготовка данных\n",
    "- [x]  Выполнено обучение моделей\n",
    "- [x]  Есть анализ скорости работы и качества моделей"
   ]
  },
  {
   "cell_type": "code",
   "execution_count": null,
   "metadata": {},
   "outputs": [],
   "source": []
  }
 ],
 "metadata": {
  "ExecuteTimeLog": [
   {
    "duration": 353,
    "start_time": "2022-10-19T17:37:39.737Z"
   },
   {
    "duration": 2878,
    "start_time": "2022-10-19T17:37:55.147Z"
   },
   {
    "duration": 1016,
    "start_time": "2022-10-19T17:38:39.945Z"
   },
   {
    "duration": 12914,
    "start_time": "2022-10-19T17:39:09.058Z"
   },
   {
    "duration": 604,
    "start_time": "2022-10-19T17:39:27.265Z"
   },
   {
    "duration": 131,
    "start_time": "2022-10-19T17:39:40.909Z"
   },
   {
    "duration": 472,
    "start_time": "2022-10-19T18:38:50.462Z"
   },
   {
    "duration": 821,
    "start_time": "2022-10-19T18:38:50.937Z"
   },
   {
    "duration": 152,
    "start_time": "2022-10-19T18:38:51.760Z"
   },
   {
    "duration": 390,
    "start_time": "2022-10-19T18:39:56.419Z"
   },
   {
    "duration": 914,
    "start_time": "2022-10-19T18:39:56.811Z"
   },
   {
    "duration": 138,
    "start_time": "2022-10-19T18:39:57.727Z"
   },
   {
    "duration": 11866,
    "start_time": "2022-10-19T18:39:57.868Z"
   },
   {
    "duration": 3,
    "start_time": "2022-10-19T18:40:26.593Z"
   },
   {
    "duration": 724,
    "start_time": "2022-10-19T18:41:18.165Z"
   },
   {
    "duration": 964,
    "start_time": "2022-10-19T18:41:18.891Z"
   },
   {
    "duration": 144,
    "start_time": "2022-10-19T18:41:19.857Z"
   },
   {
    "duration": 813,
    "start_time": "2022-10-19T18:46:30.397Z"
   },
   {
    "duration": 3323,
    "start_time": "2022-10-19T18:46:31.213Z"
   },
   {
    "duration": 151,
    "start_time": "2022-10-19T18:46:34.538Z"
   },
   {
    "duration": 789,
    "start_time": "2022-10-19T18:49:39.814Z"
   },
   {
    "duration": 959,
    "start_time": "2022-10-19T18:49:40.605Z"
   },
   {
    "duration": 243,
    "start_time": "2022-10-19T18:49:41.566Z"
   },
   {
    "duration": 49,
    "start_time": "2022-10-19T18:49:41.812Z"
   },
   {
    "duration": 5,
    "start_time": "2022-10-19T18:49:51.281Z"
   },
   {
    "duration": 5,
    "start_time": "2022-10-19T18:49:56.939Z"
   },
   {
    "duration": 69,
    "start_time": "2022-10-19T18:50:36.620Z"
   },
   {
    "duration": 1656,
    "start_time": "2022-10-19T18:50:40.428Z"
   },
   {
    "duration": 6,
    "start_time": "2022-10-19T18:57:48.990Z"
   },
   {
    "duration": 8,
    "start_time": "2022-10-19T18:58:17.053Z"
   },
   {
    "duration": 48,
    "start_time": "2022-10-19T18:59:59.721Z"
   },
   {
    "duration": 75,
    "start_time": "2022-10-19T19:00:44.864Z"
   },
   {
    "duration": 847,
    "start_time": "2022-10-19T19:00:48.607Z"
   },
   {
    "duration": 796,
    "start_time": "2022-10-19T19:01:05.420Z"
   },
   {
    "duration": 733,
    "start_time": "2022-10-19T19:01:35.749Z"
   },
   {
    "duration": 89,
    "start_time": "2022-10-19T19:04:36.336Z"
   },
   {
    "duration": 3075,
    "start_time": "2022-10-19T19:04:45.792Z"
   },
   {
    "duration": 5,
    "start_time": "2022-10-19T19:04:49.916Z"
   },
   {
    "duration": 911,
    "start_time": "2022-10-19T19:05:43.417Z"
   },
   {
    "duration": 921,
    "start_time": "2022-10-19T19:05:51.339Z"
   },
   {
    "duration": 795,
    "start_time": "2022-10-19T19:09:34.889Z"
   },
   {
    "duration": 897,
    "start_time": "2022-10-19T19:09:40.759Z"
   },
   {
    "duration": 32,
    "start_time": "2022-10-19T19:10:10.364Z"
   },
   {
    "duration": 469,
    "start_time": "2022-10-19T19:10:16.733Z"
   },
   {
    "duration": 134,
    "start_time": "2022-10-19T19:10:23.622Z"
   },
   {
    "duration": 1248,
    "start_time": "2022-10-19T19:11:57.906Z"
   },
   {
    "duration": 3,
    "start_time": "2022-10-19T19:18:38.612Z"
   },
   {
    "duration": 860,
    "start_time": "2022-10-19T19:18:38.767Z"
   },
   {
    "duration": 136,
    "start_time": "2022-10-19T19:18:39.629Z"
   },
   {
    "duration": 4,
    "start_time": "2022-10-19T19:18:39.767Z"
   },
   {
    "duration": 1765,
    "start_time": "2022-10-19T19:18:39.789Z"
   },
   {
    "duration": 7,
    "start_time": "2022-10-19T19:18:41.559Z"
   },
   {
    "duration": 71,
    "start_time": "2022-10-19T19:18:41.568Z"
   },
   {
    "duration": 98,
    "start_time": "2022-10-19T19:18:41.642Z"
   },
   {
    "duration": 859,
    "start_time": "2022-10-19T19:18:41.743Z"
   },
   {
    "duration": 329,
    "start_time": "2022-10-19T19:18:42.604Z"
   },
   {
    "duration": 118,
    "start_time": "2022-10-19T19:18:42.935Z"
   },
   {
    "duration": 1327,
    "start_time": "2022-10-19T19:18:43.055Z"
   },
   {
    "duration": 245,
    "start_time": "2022-10-19T19:19:01.270Z"
   },
   {
    "duration": 546,
    "start_time": "2022-10-19T19:20:47.299Z"
   },
   {
    "duration": 1304,
    "start_time": "2022-10-19T19:21:48.993Z"
   },
   {
    "duration": 195,
    "start_time": "2022-10-19T19:22:13.659Z"
   },
   {
    "duration": 10,
    "start_time": "2022-10-19T19:23:30.688Z"
   },
   {
    "duration": 2649,
    "start_time": "2022-10-19T19:23:34.141Z"
   },
   {
    "duration": 28,
    "start_time": "2022-10-19T19:25:21.286Z"
   },
   {
    "duration": 123,
    "start_time": "2022-10-19T19:26:29.381Z"
   },
   {
    "duration": 131,
    "start_time": "2022-10-19T19:27:08.755Z"
   },
   {
    "duration": 150,
    "start_time": "2022-10-19T19:36:55.675Z"
   },
   {
    "duration": 152,
    "start_time": "2022-10-19T19:37:02.952Z"
   },
   {
    "duration": 152,
    "start_time": "2022-10-19T19:37:05.987Z"
   },
   {
    "duration": 30,
    "start_time": "2022-10-19T19:37:21.590Z"
   },
   {
    "duration": 29,
    "start_time": "2022-10-19T19:37:30.435Z"
   },
   {
    "duration": 41,
    "start_time": "2022-10-19T19:37:40.590Z"
   },
   {
    "duration": 36,
    "start_time": "2022-10-19T19:38:52.682Z"
   },
   {
    "duration": 2144,
    "start_time": "2022-10-19T19:39:12.402Z"
   },
   {
    "duration": 1372,
    "start_time": "2022-10-19T19:39:14.548Z"
   },
   {
    "duration": 884,
    "start_time": "2022-10-19T19:39:15.923Z"
   },
   {
    "duration": 131,
    "start_time": "2022-10-19T19:39:16.809Z"
   },
   {
    "duration": 4,
    "start_time": "2022-10-19T19:39:16.942Z"
   },
   {
    "duration": 1620,
    "start_time": "2022-10-19T19:39:16.948Z"
   },
   {
    "duration": 6,
    "start_time": "2022-10-19T19:39:18.570Z"
   },
   {
    "duration": 54,
    "start_time": "2022-10-19T19:39:18.589Z"
   },
   {
    "duration": 86,
    "start_time": "2022-10-19T19:39:18.645Z"
   },
   {
    "duration": 751,
    "start_time": "2022-10-19T19:39:18.733Z"
   },
   {
    "duration": 324,
    "start_time": "2022-10-19T19:39:19.490Z"
   },
   {
    "duration": 121,
    "start_time": "2022-10-19T19:39:19.817Z"
   },
   {
    "duration": 1195,
    "start_time": "2022-10-19T19:39:19.940Z"
   },
   {
    "duration": 202,
    "start_time": "2022-10-19T19:39:21.138Z"
   },
   {
    "duration": 30,
    "start_time": "2022-10-19T19:39:21.342Z"
   },
   {
    "duration": 43,
    "start_time": "2022-10-19T19:39:21.374Z"
   },
   {
    "duration": 29,
    "start_time": "2022-10-19T19:39:21.419Z"
   },
   {
    "duration": 51,
    "start_time": "2022-10-19T19:39:21.449Z"
   },
   {
    "duration": 113,
    "start_time": "2022-10-19T19:39:21.502Z"
   },
   {
    "duration": 2766,
    "start_time": "2022-10-19T19:39:21.616Z"
   },
   {
    "duration": 3,
    "start_time": "2022-10-19T19:40:13.096Z"
   },
   {
    "duration": 79241,
    "start_time": "2022-10-19T19:40:24.388Z"
   },
   {
    "duration": 9,
    "start_time": "2022-10-19T19:41:43.631Z"
   },
   {
    "duration": 0,
    "start_time": "2022-10-19T19:41:43.642Z"
   },
   {
    "duration": 267,
    "start_time": "2022-10-19T19:41:49.864Z"
   },
   {
    "duration": 9,
    "start_time": "2022-10-19T19:41:55.696Z"
   },
   {
    "duration": 4,
    "start_time": "2022-10-19T19:42:01.986Z"
   },
   {
    "duration": 221,
    "start_time": "2022-10-19T19:42:04.462Z"
   },
   {
    "duration": 4229,
    "start_time": "2022-10-19T19:42:41.597Z"
   },
   {
    "duration": 154817,
    "start_time": "2022-10-19T19:42:50.207Z"
   },
   {
    "duration": 353,
    "start_time": "2022-10-19T19:45:25.026Z"
   },
   {
    "duration": 2255,
    "start_time": "2022-10-19T19:45:25.381Z"
   },
   {
    "duration": 55,
    "start_time": "2022-10-19T19:45:27.638Z"
   },
   {
    "duration": 69,
    "start_time": "2022-10-19T19:46:38.694Z"
   },
   {
    "duration": 637,
    "start_time": "2022-10-19T19:47:42.155Z"
   },
   {
    "duration": 71,
    "start_time": "2022-10-19T19:47:48.539Z"
   },
   {
    "duration": 24,
    "start_time": "2022-10-19T19:48:58.115Z"
   },
   {
    "duration": 4,
    "start_time": "2022-10-19T19:49:11.595Z"
   },
   {
    "duration": 5,
    "start_time": "2022-10-19T19:49:23.569Z"
   },
   {
    "duration": 4,
    "start_time": "2022-10-19T19:49:40.458Z"
   },
   {
    "duration": 119,
    "start_time": "2022-10-19T19:54:29.124Z"
   },
   {
    "duration": 48,
    "start_time": "2022-10-19T19:55:35.915Z"
   },
   {
    "duration": 79,
    "start_time": "2022-10-19T19:55:41.184Z"
   },
   {
    "duration": 96,
    "start_time": "2022-10-19T19:55:52.087Z"
   },
   {
    "duration": 80,
    "start_time": "2022-10-19T19:55:57.875Z"
   },
   {
    "duration": 91,
    "start_time": "2022-10-19T19:56:03.224Z"
   },
   {
    "duration": 41,
    "start_time": "2022-10-19T19:56:14.057Z"
   },
   {
    "duration": 43,
    "start_time": "2022-10-19T19:57:59.692Z"
   },
   {
    "duration": 74,
    "start_time": "2022-10-19T19:59:34.496Z"
   },
   {
    "duration": 95,
    "start_time": "2022-10-19T20:00:16.960Z"
   },
   {
    "duration": 109,
    "start_time": "2022-10-19T20:00:51.586Z"
   },
   {
    "duration": 277,
    "start_time": "2022-10-19T20:03:59.459Z"
   },
   {
    "duration": 91,
    "start_time": "2022-10-19T20:04:02.836Z"
   },
   {
    "duration": 59,
    "start_time": "2022-10-19T20:06:12.766Z"
   },
   {
    "duration": 2104,
    "start_time": "2022-10-19T20:06:30.889Z"
   },
   {
    "duration": 0,
    "start_time": "2022-10-19T20:06:32.996Z"
   },
   {
    "duration": 5,
    "start_time": "2022-10-19T20:07:26.211Z"
   },
   {
    "duration": 1175,
    "start_time": "2022-10-19T20:07:26.395Z"
   },
   {
    "duration": 144,
    "start_time": "2022-10-19T20:07:27.572Z"
   },
   {
    "duration": 27,
    "start_time": "2022-10-19T20:07:27.718Z"
   },
   {
    "duration": 1742,
    "start_time": "2022-10-19T20:07:27.748Z"
   },
   {
    "duration": 7,
    "start_time": "2022-10-19T20:07:29.491Z"
   },
   {
    "duration": 55,
    "start_time": "2022-10-19T20:07:29.501Z"
   },
   {
    "duration": 108,
    "start_time": "2022-10-19T20:07:29.559Z"
   },
   {
    "duration": 1049,
    "start_time": "2022-10-19T20:07:29.670Z"
   },
   {
    "duration": 390,
    "start_time": "2022-10-19T20:07:30.721Z"
   },
   {
    "duration": 137,
    "start_time": "2022-10-19T20:07:31.169Z"
   },
   {
    "duration": 1670,
    "start_time": "2022-10-19T20:07:31.833Z"
   },
   {
    "duration": 184,
    "start_time": "2022-10-19T20:07:33.505Z"
   },
   {
    "duration": 31,
    "start_time": "2022-10-19T20:07:33.691Z"
   },
   {
    "duration": 29,
    "start_time": "2022-10-19T20:07:33.725Z"
   },
   {
    "duration": 31,
    "start_time": "2022-10-19T20:07:33.798Z"
   },
   {
    "duration": 31,
    "start_time": "2022-10-19T20:07:34.965Z"
   },
   {
    "duration": 100,
    "start_time": "2022-10-19T20:07:36.837Z"
   },
   {
    "duration": 3,
    "start_time": "2022-10-19T20:07:38.176Z"
   },
   {
    "duration": 230,
    "start_time": "2022-10-19T20:07:45.645Z"
   },
   {
    "duration": 23,
    "start_time": "2022-10-19T20:07:48.283Z"
   },
   {
    "duration": 427730,
    "start_time": "2022-10-19T20:07:53.871Z"
   },
   {
    "duration": 574,
    "start_time": "2022-10-19T20:20:50.240Z"
   },
   {
    "duration": 479,
    "start_time": "2022-10-19T20:21:39.408Z"
   },
   {
    "duration": 342482,
    "start_time": "2022-10-19T20:22:08.316Z"
   },
   {
    "duration": 620,
    "start_time": "2022-10-19T20:27:50.802Z"
   },
   {
    "duration": 837,
    "start_time": "2022-10-20T06:38:25.140Z"
   },
   {
    "duration": 0,
    "start_time": "2022-10-20T06:38:25.978Z"
   },
   {
    "duration": 0,
    "start_time": "2022-10-20T06:38:25.980Z"
   },
   {
    "duration": 0,
    "start_time": "2022-10-20T06:38:25.981Z"
   },
   {
    "duration": 0,
    "start_time": "2022-10-20T06:38:25.982Z"
   },
   {
    "duration": 7,
    "start_time": "2022-10-20T06:38:26.301Z"
   },
   {
    "duration": 8,
    "start_time": "2022-10-20T06:38:26.631Z"
   },
   {
    "duration": 2808,
    "start_time": "2022-10-20T06:38:34.879Z"
   },
   {
    "duration": 2101,
    "start_time": "2022-10-20T06:38:37.689Z"
   },
   {
    "duration": 793,
    "start_time": "2022-10-20T06:38:39.793Z"
   },
   {
    "duration": 1011,
    "start_time": "2022-10-20T06:38:40.588Z"
   },
   {
    "duration": 133,
    "start_time": "2022-10-20T06:38:41.601Z"
   },
   {
    "duration": 4,
    "start_time": "2022-10-20T06:38:41.736Z"
   },
   {
    "duration": 1431,
    "start_time": "2022-10-20T06:38:41.743Z"
   },
   {
    "duration": 5,
    "start_time": "2022-10-20T06:38:43.176Z"
   },
   {
    "duration": 56,
    "start_time": "2022-10-20T06:38:43.824Z"
   },
   {
    "duration": 59,
    "start_time": "2022-10-20T06:38:45.342Z"
   },
   {
    "duration": 518,
    "start_time": "2022-10-20T06:38:47.235Z"
   },
   {
    "duration": 247,
    "start_time": "2022-10-20T06:38:50.248Z"
   },
   {
    "duration": 109,
    "start_time": "2022-10-20T06:38:52.820Z"
   },
   {
    "duration": 1059,
    "start_time": "2022-10-20T06:38:55.700Z"
   },
   {
    "duration": 196,
    "start_time": "2022-10-20T06:38:56.760Z"
   },
   {
    "duration": 20,
    "start_time": "2022-10-20T06:38:58.233Z"
   },
   {
    "duration": 18,
    "start_time": "2022-10-20T06:38:59.090Z"
   },
   {
    "duration": 17,
    "start_time": "2022-10-20T06:39:00.077Z"
   },
   {
    "duration": 34,
    "start_time": "2022-10-20T06:39:01.141Z"
   },
   {
    "duration": 55,
    "start_time": "2022-10-20T06:39:01.926Z"
   },
   {
    "duration": 145,
    "start_time": "2022-10-20T06:39:23.206Z"
   },
   {
    "duration": 128,
    "start_time": "2022-10-20T06:39:24.674Z"
   },
   {
    "duration": 3,
    "start_time": "2022-10-20T06:39:25.236Z"
   },
   {
    "duration": 82591,
    "start_time": "2022-10-20T06:39:25.698Z"
   },
   {
    "duration": 192,
    "start_time": "2022-10-20T06:40:48.291Z"
   },
   {
    "duration": 164312,
    "start_time": "2022-10-20T06:40:54.662Z"
   },
   {
    "duration": 334,
    "start_time": "2022-10-20T06:43:38.976Z"
   },
   {
    "duration": 9,
    "start_time": "2022-10-20T06:45:13.133Z"
   },
   {
    "duration": 62,
    "start_time": "2022-10-20T06:45:19.832Z"
   },
   {
    "duration": 10,
    "start_time": "2022-10-20T06:46:19.343Z"
   },
   {
    "duration": 9,
    "start_time": "2022-10-20T06:46:25.341Z"
   },
   {
    "duration": 4,
    "start_time": "2022-10-20T06:46:27.133Z"
   },
   {
    "duration": 30,
    "start_time": "2022-10-20T06:50:02.381Z"
   },
   {
    "duration": 2133,
    "start_time": "2022-10-20T07:57:19.134Z"
   },
   {
    "duration": 2161,
    "start_time": "2022-10-20T07:57:21.270Z"
   },
   {
    "duration": 1423,
    "start_time": "2022-10-20T07:57:23.434Z"
   },
   {
    "duration": 787,
    "start_time": "2022-10-20T07:57:24.860Z"
   },
   {
    "duration": 133,
    "start_time": "2022-10-20T07:57:25.649Z"
   },
   {
    "duration": 4,
    "start_time": "2022-10-20T07:57:25.784Z"
   },
   {
    "duration": 1505,
    "start_time": "2022-10-20T07:57:25.790Z"
   },
   {
    "duration": 15,
    "start_time": "2022-10-20T07:57:27.296Z"
   },
   {
    "duration": 66,
    "start_time": "2022-10-20T07:57:27.313Z"
   },
   {
    "duration": 64,
    "start_time": "2022-10-20T07:57:27.381Z"
   },
   {
    "duration": 601,
    "start_time": "2022-10-20T07:57:27.448Z"
   },
   {
    "duration": 316,
    "start_time": "2022-10-20T07:57:28.051Z"
   },
   {
    "duration": 103,
    "start_time": "2022-10-20T07:57:28.369Z"
   },
   {
    "duration": 1199,
    "start_time": "2022-10-20T07:57:28.474Z"
   },
   {
    "duration": 216,
    "start_time": "2022-10-20T07:57:29.674Z"
   },
   {
    "duration": 24,
    "start_time": "2022-10-20T07:57:29.892Z"
   },
   {
    "duration": 322,
    "start_time": "2022-10-20T07:57:30.044Z"
   },
   {
    "duration": 74,
    "start_time": "2022-10-20T07:57:30.367Z"
   },
   {
    "duration": 16,
    "start_time": "2022-10-20T07:57:30.444Z"
   },
   {
    "duration": 2309,
    "start_time": "2022-10-20T07:57:39.340Z"
   },
   {
    "duration": 2230,
    "start_time": "2022-10-20T07:57:41.651Z"
   },
   {
    "duration": 1441,
    "start_time": "2022-10-20T07:57:43.884Z"
   },
   {
    "duration": 771,
    "start_time": "2022-10-20T07:57:45.327Z"
   },
   {
    "duration": 138,
    "start_time": "2022-10-20T07:57:46.099Z"
   },
   {
    "duration": 4,
    "start_time": "2022-10-20T07:57:46.239Z"
   },
   {
    "duration": 1416,
    "start_time": "2022-10-20T07:57:46.244Z"
   },
   {
    "duration": 8,
    "start_time": "2022-10-20T07:57:47.662Z"
   },
   {
    "duration": 62,
    "start_time": "2022-10-20T07:57:47.672Z"
   },
   {
    "duration": 60,
    "start_time": "2022-10-20T07:57:47.736Z"
   },
   {
    "duration": 595,
    "start_time": "2022-10-20T07:57:47.797Z"
   },
   {
    "duration": 306,
    "start_time": "2022-10-20T07:57:48.394Z"
   },
   {
    "duration": 111,
    "start_time": "2022-10-20T07:57:48.709Z"
   },
   {
    "duration": 1225,
    "start_time": "2022-10-20T07:57:48.822Z"
   },
   {
    "duration": 211,
    "start_time": "2022-10-20T07:57:50.048Z"
   },
   {
    "duration": 20,
    "start_time": "2022-10-20T07:57:50.260Z"
   },
   {
    "duration": 31,
    "start_time": "2022-10-20T07:57:50.282Z"
   },
   {
    "duration": 19,
    "start_time": "2022-10-20T07:57:50.315Z"
   },
   {
    "duration": 33,
    "start_time": "2022-10-20T07:57:50.335Z"
   },
   {
    "duration": 292,
    "start_time": "2022-10-20T07:57:50.370Z"
   },
   {
    "duration": 61,
    "start_time": "2022-10-20T07:57:50.664Z"
   },
   {
    "duration": 3,
    "start_time": "2022-10-20T07:57:50.727Z"
   },
   {
    "duration": 85603,
    "start_time": "2022-10-20T07:57:50.731Z"
   },
   {
    "duration": 258,
    "start_time": "2022-10-20T07:59:16.338Z"
   },
   {
    "duration": 127,
    "start_time": "2022-10-20T07:59:16.598Z"
   },
   {
    "duration": 63,
    "start_time": "2022-10-20T07:59:18.622Z"
   },
   {
    "duration": 4,
    "start_time": "2022-10-20T07:59:48.321Z"
   },
   {
    "duration": 20,
    "start_time": "2022-10-20T08:00:06.749Z"
   },
   {
    "duration": 15,
    "start_time": "2022-10-20T08:00:17.275Z"
   },
   {
    "duration": 59,
    "start_time": "2022-10-20T08:01:05.331Z"
   },
   {
    "duration": 52,
    "start_time": "2022-10-20T08:02:41.700Z"
   },
   {
    "duration": 39,
    "start_time": "2022-10-20T08:03:23.683Z"
   },
   {
    "duration": 34,
    "start_time": "2022-10-20T08:03:27.679Z"
   },
   {
    "duration": 25,
    "start_time": "2022-10-20T08:03:37.191Z"
   },
   {
    "duration": 4,
    "start_time": "2022-10-20T08:03:42.021Z"
   },
   {
    "duration": 7,
    "start_time": "2022-10-20T08:04:07.102Z"
   },
   {
    "duration": 28,
    "start_time": "2022-10-20T08:04:32.856Z"
   },
   {
    "duration": 28,
    "start_time": "2022-10-20T08:04:48.501Z"
   },
   {
    "duration": 7,
    "start_time": "2022-10-20T08:04:57.464Z"
   },
   {
    "duration": 10,
    "start_time": "2022-10-20T08:05:05.183Z"
   },
   {
    "duration": 15,
    "start_time": "2022-10-20T08:05:37.688Z"
   },
   {
    "duration": 51,
    "start_time": "2022-10-20T08:05:48.905Z"
   },
   {
    "duration": 7,
    "start_time": "2022-10-20T08:05:55.094Z"
   },
   {
    "duration": 7,
    "start_time": "2022-10-20T08:06:15.089Z"
   },
   {
    "duration": 12,
    "start_time": "2022-10-20T08:07:21.691Z"
   },
   {
    "duration": 4,
    "start_time": "2022-10-20T08:07:44.396Z"
   },
   {
    "duration": 4,
    "start_time": "2022-10-20T08:07:54.969Z"
   },
   {
    "duration": 10,
    "start_time": "2022-10-20T08:08:19.122Z"
   },
   {
    "duration": 9,
    "start_time": "2022-10-20T08:08:26.603Z"
   },
   {
    "duration": 6,
    "start_time": "2022-10-20T08:08:41.653Z"
   },
   {
    "duration": 359,
    "start_time": "2022-10-20T08:09:57.130Z"
   },
   {
    "duration": 56,
    "start_time": "2022-10-20T08:10:10.460Z"
   },
   {
    "duration": 81,
    "start_time": "2022-10-20T08:11:03.231Z"
   },
   {
    "duration": 44,
    "start_time": "2022-10-20T08:11:23.321Z"
   },
   {
    "duration": 8,
    "start_time": "2022-10-20T08:11:24.668Z"
   },
   {
    "duration": 11,
    "start_time": "2022-10-20T08:14:03.237Z"
   },
   {
    "duration": 4,
    "start_time": "2022-10-20T08:14:10.082Z"
   },
   {
    "duration": 2197,
    "start_time": "2022-10-20T08:36:21.230Z"
   },
   {
    "duration": 2108,
    "start_time": "2022-10-20T08:36:23.430Z"
   },
   {
    "duration": 1378,
    "start_time": "2022-10-20T08:36:25.540Z"
   },
   {
    "duration": 793,
    "start_time": "2022-10-20T08:36:26.920Z"
   },
   {
    "duration": 133,
    "start_time": "2022-10-20T08:36:27.714Z"
   },
   {
    "duration": 4,
    "start_time": "2022-10-20T08:36:27.849Z"
   },
   {
    "duration": 1398,
    "start_time": "2022-10-20T08:36:27.855Z"
   },
   {
    "duration": 6,
    "start_time": "2022-10-20T08:36:29.254Z"
   },
   {
    "duration": 66,
    "start_time": "2022-10-20T08:36:29.262Z"
   },
   {
    "duration": 61,
    "start_time": "2022-10-20T08:36:29.330Z"
   },
   {
    "duration": 577,
    "start_time": "2022-10-20T08:36:29.393Z"
   },
   {
    "duration": 292,
    "start_time": "2022-10-20T08:36:29.972Z"
   },
   {
    "duration": 118,
    "start_time": "2022-10-20T08:36:30.265Z"
   },
   {
    "duration": 1148,
    "start_time": "2022-10-20T08:36:30.388Z"
   },
   {
    "duration": 205,
    "start_time": "2022-10-20T08:36:31.538Z"
   },
   {
    "duration": 20,
    "start_time": "2022-10-20T08:36:31.745Z"
   },
   {
    "duration": 18,
    "start_time": "2022-10-20T08:36:31.767Z"
   },
   {
    "duration": 36,
    "start_time": "2022-10-20T08:36:31.787Z"
   },
   {
    "duration": 36,
    "start_time": "2022-10-20T08:36:31.825Z"
   },
   {
    "duration": 274,
    "start_time": "2022-10-20T08:36:31.863Z"
   },
   {
    "duration": 44,
    "start_time": "2022-10-20T08:36:32.138Z"
   },
   {
    "duration": 3,
    "start_time": "2022-10-20T08:36:32.184Z"
   },
   {
    "duration": 84636,
    "start_time": "2022-10-20T08:36:32.210Z"
   },
   {
    "duration": 221,
    "start_time": "2022-10-20T08:37:56.848Z"
   },
   {
    "duration": 165330,
    "start_time": "2022-10-20T08:37:57.071Z"
   },
   {
    "duration": 332,
    "start_time": "2022-10-20T08:40:42.403Z"
   },
   {
    "duration": 25,
    "start_time": "2022-10-20T08:40:42.737Z"
   },
   {
    "duration": 246343,
    "start_time": "2022-10-20T08:40:42.767Z"
   },
   {
    "duration": 707,
    "start_time": "2022-10-20T08:44:49.112Z"
   },
   {
    "duration": 41096,
    "start_time": "2022-10-20T08:44:49.821Z"
   },
   {
    "duration": 596,
    "start_time": "2022-10-20T08:45:30.918Z"
   },
   {
    "duration": 403,
    "start_time": "2022-10-20T08:45:31.518Z"
   },
   {
    "duration": 87,
    "start_time": "2022-10-20T08:45:31.923Z"
   },
   {
    "duration": 102,
    "start_time": "2022-10-20T08:45:32.012Z"
   },
   {
    "duration": 135,
    "start_time": "2022-10-20T10:28:10.665Z"
   },
   {
    "duration": 40,
    "start_time": "2022-10-20T10:28:36.854Z"
   },
   {
    "duration": 2174,
    "start_time": "2022-10-20T10:29:01.148Z"
   },
   {
    "duration": 2183,
    "start_time": "2022-10-20T10:29:03.324Z"
   },
   {
    "duration": 1362,
    "start_time": "2022-10-20T10:29:05.515Z"
   },
   {
    "duration": 806,
    "start_time": "2022-10-20T10:29:06.879Z"
   },
   {
    "duration": 134,
    "start_time": "2022-10-20T10:29:07.686Z"
   },
   {
    "duration": 10,
    "start_time": "2022-10-20T10:29:07.821Z"
   },
   {
    "duration": 1405,
    "start_time": "2022-10-20T10:29:07.832Z"
   },
   {
    "duration": 5,
    "start_time": "2022-10-20T10:29:09.239Z"
   },
   {
    "duration": 74,
    "start_time": "2022-10-20T10:29:09.246Z"
   },
   {
    "duration": 63,
    "start_time": "2022-10-20T10:29:09.323Z"
   },
   {
    "duration": 584,
    "start_time": "2022-10-20T10:29:09.388Z"
   },
   {
    "duration": 301,
    "start_time": "2022-10-20T10:29:09.974Z"
   },
   {
    "duration": 108,
    "start_time": "2022-10-20T10:29:10.276Z"
   },
   {
    "duration": 1141,
    "start_time": "2022-10-20T10:29:10.386Z"
   },
   {
    "duration": 227,
    "start_time": "2022-10-20T10:29:11.528Z"
   },
   {
    "duration": 20,
    "start_time": "2022-10-20T10:29:11.757Z"
   },
   {
    "duration": 46,
    "start_time": "2022-10-20T10:29:11.779Z"
   },
   {
    "duration": 17,
    "start_time": "2022-10-20T10:29:11.827Z"
   },
   {
    "duration": 39,
    "start_time": "2022-10-20T10:29:11.846Z"
   },
   {
    "duration": 273,
    "start_time": "2022-10-20T10:29:11.887Z"
   },
   {
    "duration": 66,
    "start_time": "2022-10-20T10:29:12.162Z"
   },
   {
    "duration": 3,
    "start_time": "2022-10-20T10:29:12.229Z"
   },
   {
    "duration": 90497,
    "start_time": "2022-10-20T10:29:12.234Z"
   },
   {
    "duration": 292,
    "start_time": "2022-10-20T10:30:42.734Z"
   },
   {
    "duration": 178162,
    "start_time": "2022-10-20T10:30:43.027Z"
   },
   {
    "duration": 341,
    "start_time": "2022-10-20T10:33:41.190Z"
   },
   {
    "duration": 17,
    "start_time": "2022-10-20T10:33:41.533Z"
   },
   {
    "duration": 352162,
    "start_time": "2022-10-20T10:33:41.553Z"
   },
   {
    "duration": 702,
    "start_time": "2022-10-20T10:39:33.717Z"
   },
   {
    "duration": 208802,
    "start_time": "2022-10-20T10:39:34.421Z"
   },
   {
    "duration": 583,
    "start_time": "2022-10-20T10:43:03.225Z"
   },
   {
    "duration": 376,
    "start_time": "2022-10-20T10:43:03.813Z"
   },
   {
    "duration": 65,
    "start_time": "2022-10-20T10:43:04.192Z"
   },
   {
    "duration": 68,
    "start_time": "2022-10-20T10:43:04.259Z"
   },
   {
    "duration": 689,
    "start_time": "2022-10-20T10:43:04.331Z"
   },
   {
    "duration": 2931,
    "start_time": "2022-10-22T09:43:25.503Z"
   },
   {
    "duration": 2005,
    "start_time": "2022-10-22T09:43:28.436Z"
   },
   {
    "duration": 1654,
    "start_time": "2022-10-22T09:43:30.444Z"
   },
   {
    "duration": 2794,
    "start_time": "2022-10-22T09:43:32.101Z"
   },
   {
    "duration": 109,
    "start_time": "2022-10-22T09:43:34.897Z"
   },
   {
    "duration": 5,
    "start_time": "2022-10-22T09:43:35.008Z"
   },
   {
    "duration": 1579,
    "start_time": "2022-10-22T09:43:35.015Z"
   },
   {
    "duration": 6,
    "start_time": "2022-10-22T09:43:36.596Z"
   },
   {
    "duration": 56,
    "start_time": "2022-10-22T09:43:36.604Z"
   },
   {
    "duration": 92,
    "start_time": "2022-10-22T09:43:36.663Z"
   },
   {
    "duration": 714,
    "start_time": "2022-10-22T09:43:36.758Z"
   },
   {
    "duration": 275,
    "start_time": "2022-10-22T09:43:37.473Z"
   },
   {
    "duration": 115,
    "start_time": "2022-10-22T09:43:37.750Z"
   },
   {
    "duration": 1292,
    "start_time": "2022-10-22T09:43:37.867Z"
   },
   {
    "duration": 198,
    "start_time": "2022-10-22T09:43:39.160Z"
   },
   {
    "duration": 36,
    "start_time": "2022-10-22T09:43:39.360Z"
   },
   {
    "duration": 29,
    "start_time": "2022-10-22T09:43:39.398Z"
   },
   {
    "duration": 28,
    "start_time": "2022-10-22T09:43:39.429Z"
   },
   {
    "duration": 56,
    "start_time": "2022-10-22T09:43:39.459Z"
   },
   {
    "duration": 277,
    "start_time": "2022-10-22T09:43:39.517Z"
   },
   {
    "duration": 54,
    "start_time": "2022-10-22T09:43:39.796Z"
   },
   {
    "duration": 3,
    "start_time": "2022-10-22T09:43:39.852Z"
   },
   {
    "duration": 77301,
    "start_time": "2022-10-22T09:43:39.857Z"
   },
   {
    "duration": 214,
    "start_time": "2022-10-22T09:44:57.160Z"
   },
   {
    "duration": 150023,
    "start_time": "2022-10-22T09:44:57.376Z"
   },
   {
    "duration": 339,
    "start_time": "2022-10-22T09:47:27.401Z"
   },
   {
    "duration": 19,
    "start_time": "2022-10-22T09:47:27.743Z"
   },
   {
    "duration": 39832,
    "start_time": "2022-10-22T09:47:27.766Z"
   },
   {
    "duration": 609,
    "start_time": "2022-10-22T09:48:07.599Z"
   },
   {
    "duration": 4094,
    "start_time": "2022-10-22T09:48:08.211Z"
   },
   {
    "duration": 590,
    "start_time": "2022-10-22T09:48:12.307Z"
   },
   {
    "duration": 317,
    "start_time": "2022-10-22T09:48:12.899Z"
   },
   {
    "duration": 87,
    "start_time": "2022-10-22T09:48:13.218Z"
   },
   {
    "duration": 94,
    "start_time": "2022-10-22T09:48:13.306Z"
   },
   {
    "duration": 612,
    "start_time": "2022-10-22T09:48:13.402Z"
   },
   {
    "duration": 65,
    "start_time": "2022-10-22T09:48:14.016Z"
   },
   {
    "duration": 796,
    "start_time": "2022-10-23T11:03:18.469Z"
   },
   {
    "duration": 2741,
    "start_time": "2022-10-23T11:03:23.223Z"
   },
   {
    "duration": 1918,
    "start_time": "2022-10-23T11:03:25.967Z"
   },
   {
    "duration": 787,
    "start_time": "2022-10-23T11:03:27.886Z"
   },
   {
    "duration": 2902,
    "start_time": "2022-10-23T11:03:42.858Z"
   },
   {
    "duration": 103,
    "start_time": "2022-10-23T11:03:45.762Z"
   },
   {
    "duration": 4,
    "start_time": "2022-10-23T11:03:45.867Z"
   },
   {
    "duration": 1418,
    "start_time": "2022-10-23T11:03:45.873Z"
   },
   {
    "duration": 13,
    "start_time": "2022-10-23T11:03:47.293Z"
   },
   {
    "duration": 47,
    "start_time": "2022-10-23T11:03:47.307Z"
   },
   {
    "duration": 3,
    "start_time": "2022-10-23T18:23:44.887Z"
   },
   {
    "duration": 738,
    "start_time": "2022-10-23T18:23:48.357Z"
   },
   {
    "duration": 114,
    "start_time": "2022-10-23T18:23:49.097Z"
   },
   {
    "duration": 4,
    "start_time": "2022-10-23T18:23:49.212Z"
   },
   {
    "duration": 1361,
    "start_time": "2022-10-23T18:23:49.218Z"
   },
   {
    "duration": 6,
    "start_time": "2022-10-23T18:23:50.581Z"
   },
   {
    "duration": 54,
    "start_time": "2022-10-23T18:23:50.588Z"
   },
   {
    "duration": 66,
    "start_time": "2022-10-23T18:23:50.644Z"
   },
   {
    "duration": 594,
    "start_time": "2022-10-23T18:23:50.712Z"
   },
   {
    "duration": 237,
    "start_time": "2022-10-23T18:23:51.308Z"
   },
   {
    "duration": 86,
    "start_time": "2022-10-23T18:23:51.546Z"
   },
   {
    "duration": 1090,
    "start_time": "2022-10-23T18:23:51.634Z"
   },
   {
    "duration": 160,
    "start_time": "2022-10-23T18:23:52.726Z"
   },
   {
    "duration": 37,
    "start_time": "2022-10-23T18:23:52.888Z"
   },
   {
    "duration": 30,
    "start_time": "2022-10-23T18:23:52.927Z"
   },
   {
    "duration": 47,
    "start_time": "2022-10-23T18:23:52.959Z"
   },
   {
    "duration": 25,
    "start_time": "2022-10-23T18:23:53.008Z"
   },
   {
    "duration": 153,
    "start_time": "2022-10-23T18:23:53.035Z"
   },
   {
    "duration": 63,
    "start_time": "2022-10-23T18:23:53.190Z"
   },
   {
    "duration": 2,
    "start_time": "2022-10-23T18:23:53.255Z"
   },
   {
    "duration": 66700,
    "start_time": "2022-10-23T18:23:53.259Z"
   },
   {
    "duration": 193,
    "start_time": "2022-10-23T18:24:59.961Z"
   },
   {
    "duration": 131849,
    "start_time": "2022-10-23T18:25:00.155Z"
   },
   {
    "duration": 296,
    "start_time": "2022-10-23T18:27:12.006Z"
   },
   {
    "duration": 15,
    "start_time": "2022-10-23T18:27:12.305Z"
   },
   {
    "duration": 4695,
    "start_time": "2022-10-23T18:27:12.322Z"
   },
   {
    "duration": 603,
    "start_time": "2022-10-23T18:27:17.019Z"
   },
   {
    "duration": 3688,
    "start_time": "2022-10-23T18:27:17.624Z"
   },
   {
    "duration": 492,
    "start_time": "2022-10-23T18:27:21.314Z"
   },
   {
    "duration": 109,
    "start_time": "2022-10-23T18:27:21.808Z"
   },
   {
    "duration": 0,
    "start_time": "2022-10-23T18:27:21.919Z"
   },
   {
    "duration": 0,
    "start_time": "2022-10-23T18:27:21.920Z"
   },
   {
    "duration": 20,
    "start_time": "2022-10-23T18:27:40.390Z"
   },
   {
    "duration": 17,
    "start_time": "2022-10-23T18:29:06.332Z"
   },
   {
    "duration": 51,
    "start_time": "2022-10-23T18:30:03.395Z"
   },
   {
    "duration": 38,
    "start_time": "2022-10-23T18:30:51.001Z"
   },
   {
    "duration": 15,
    "start_time": "2022-10-23T18:32:18.676Z"
   },
   {
    "duration": 22,
    "start_time": "2022-10-23T18:32:26.617Z"
   },
   {
    "duration": 17,
    "start_time": "2022-10-23T18:32:40.183Z"
   },
   {
    "duration": 148,
    "start_time": "2022-10-23T18:33:00.870Z"
   },
   {
    "duration": 222,
    "start_time": "2022-10-23T18:33:41.718Z"
   },
   {
    "duration": 809,
    "start_time": "2022-10-23T18:33:58.493Z"
   },
   {
    "duration": 13,
    "start_time": "2022-10-23T18:34:55.719Z"
   },
   {
    "duration": 25,
    "start_time": "2022-10-23T18:35:01.683Z"
   },
   {
    "duration": 1119,
    "start_time": "2022-10-23T18:35:15.292Z"
   },
   {
    "duration": 51,
    "start_time": "2022-10-23T18:35:29.161Z"
   },
   {
    "duration": 13,
    "start_time": "2022-10-23T18:35:30.731Z"
   },
   {
    "duration": 4,
    "start_time": "2022-10-23T18:35:35.409Z"
   },
   {
    "duration": 300,
    "start_time": "2022-10-23T18:35:42.020Z"
   },
   {
    "duration": 1768,
    "start_time": "2022-10-23T18:41:08.845Z"
   },
   {
    "duration": 1813,
    "start_time": "2022-10-23T18:41:10.615Z"
   },
   {
    "duration": 1300,
    "start_time": "2022-10-23T18:41:12.430Z"
   },
   {
    "duration": 720,
    "start_time": "2022-10-23T18:41:13.732Z"
   },
   {
    "duration": 114,
    "start_time": "2022-10-23T18:41:14.454Z"
   },
   {
    "duration": 4,
    "start_time": "2022-10-23T18:41:14.569Z"
   },
   {
    "duration": 1331,
    "start_time": "2022-10-23T18:41:14.575Z"
   },
   {
    "duration": 7,
    "start_time": "2022-10-23T18:41:15.907Z"
   },
   {
    "duration": 50,
    "start_time": "2022-10-23T18:41:15.916Z"
   },
   {
    "duration": 77,
    "start_time": "2022-10-23T18:41:15.968Z"
   },
   {
    "duration": 553,
    "start_time": "2022-10-23T18:41:16.046Z"
   },
   {
    "duration": 230,
    "start_time": "2022-10-23T18:41:16.604Z"
   },
   {
    "duration": 86,
    "start_time": "2022-10-23T18:41:16.835Z"
   },
   {
    "duration": 1109,
    "start_time": "2022-10-23T18:41:16.922Z"
   },
   {
    "duration": 187,
    "start_time": "2022-10-23T18:41:18.033Z"
   },
   {
    "duration": 28,
    "start_time": "2022-10-23T18:41:18.222Z"
   },
   {
    "duration": 26,
    "start_time": "2022-10-23T18:41:18.251Z"
   },
   {
    "duration": 40,
    "start_time": "2022-10-23T18:41:18.278Z"
   },
   {
    "duration": 34,
    "start_time": "2022-10-23T18:41:18.319Z"
   },
   {
    "duration": 235,
    "start_time": "2022-10-23T18:41:18.355Z"
   },
   {
    "duration": 59,
    "start_time": "2022-10-23T18:41:18.592Z"
   },
   {
    "duration": 3,
    "start_time": "2022-10-23T18:41:18.653Z"
   },
   {
    "duration": 67029,
    "start_time": "2022-10-23T18:41:18.657Z"
   },
   {
    "duration": 186,
    "start_time": "2022-10-23T18:42:25.687Z"
   },
   {
    "duration": 1759,
    "start_time": "2022-10-23T18:42:48.478Z"
   },
   {
    "duration": 1759,
    "start_time": "2022-10-23T18:42:50.239Z"
   },
   {
    "duration": 1351,
    "start_time": "2022-10-23T18:42:52.000Z"
   },
   {
    "duration": 713,
    "start_time": "2022-10-23T18:42:53.353Z"
   },
   {
    "duration": 104,
    "start_time": "2022-10-23T18:42:54.068Z"
   },
   {
    "duration": 4,
    "start_time": "2022-10-23T18:42:54.173Z"
   },
   {
    "duration": 1346,
    "start_time": "2022-10-23T18:42:54.179Z"
   },
   {
    "duration": 5,
    "start_time": "2022-10-23T18:42:55.527Z"
   },
   {
    "duration": 51,
    "start_time": "2022-10-23T18:42:55.533Z"
   },
   {
    "duration": 70,
    "start_time": "2022-10-23T18:42:55.586Z"
   },
   {
    "duration": 575,
    "start_time": "2022-10-23T18:42:55.658Z"
   },
   {
    "duration": 241,
    "start_time": "2022-10-23T18:42:56.235Z"
   },
   {
    "duration": 88,
    "start_time": "2022-10-23T18:42:56.477Z"
   },
   {
    "duration": 1115,
    "start_time": "2022-10-23T18:42:56.566Z"
   },
   {
    "duration": 197,
    "start_time": "2022-10-23T18:42:57.683Z"
   },
   {
    "duration": 35,
    "start_time": "2022-10-23T18:42:57.882Z"
   },
   {
    "duration": 29,
    "start_time": "2022-10-23T18:42:57.919Z"
   },
   {
    "duration": 28,
    "start_time": "2022-10-23T18:42:57.950Z"
   },
   {
    "duration": 55,
    "start_time": "2022-10-23T18:42:57.980Z"
   },
   {
    "duration": 295,
    "start_time": "2022-10-23T18:42:58.037Z"
   },
   {
    "duration": 56,
    "start_time": "2022-10-23T18:42:58.334Z"
   },
   {
    "duration": 15,
    "start_time": "2022-10-23T18:42:58.391Z"
   },
   {
    "duration": 65829,
    "start_time": "2022-10-23T18:42:58.408Z"
   },
   {
    "duration": 183,
    "start_time": "2022-10-23T18:44:04.238Z"
   },
   {
    "duration": 140929,
    "start_time": "2022-10-23T18:44:04.423Z"
   },
   {
    "duration": 314,
    "start_time": "2022-10-23T18:46:25.353Z"
   },
   {
    "duration": 15,
    "start_time": "2022-10-23T18:46:25.669Z"
   },
   {
    "duration": 60537,
    "start_time": "2022-10-23T18:46:25.687Z"
   },
   {
    "duration": 608,
    "start_time": "2022-10-23T18:47:26.226Z"
   },
   {
    "duration": 38781,
    "start_time": "2022-10-23T18:47:26.836Z"
   },
   {
    "duration": 502,
    "start_time": "2022-10-23T18:48:05.621Z"
   },
   {
    "duration": 1224,
    "start_time": "2022-10-23T18:48:06.125Z"
   },
   {
    "duration": 71,
    "start_time": "2022-10-23T18:48:07.351Z"
   },
   {
    "duration": 10,
    "start_time": "2022-10-23T18:48:07.424Z"
   },
   {
    "duration": 631104,
    "start_time": "2022-10-23T18:48:07.605Z"
   },
   {
    "duration": 118,
    "start_time": "2022-10-23T18:58:38.710Z"
   },
   {
    "duration": 0,
    "start_time": "2022-10-23T18:58:38.829Z"
   },
   {
    "duration": 9,
    "start_time": "2022-10-23T19:29:56.318Z"
   },
   {
    "duration": 1995,
    "start_time": "2022-10-23T19:31:43.964Z"
   },
   {
    "duration": 1932,
    "start_time": "2022-10-23T19:31:45.961Z"
   },
   {
    "duration": 1901,
    "start_time": "2022-10-23T19:31:47.895Z"
   },
   {
    "duration": 3360,
    "start_time": "2022-10-23T19:31:49.798Z"
   },
   {
    "duration": 114,
    "start_time": "2022-10-23T19:31:53.159Z"
   },
   {
    "duration": 4,
    "start_time": "2022-10-23T19:31:53.275Z"
   },
   {
    "duration": 1464,
    "start_time": "2022-10-23T19:31:53.280Z"
   },
   {
    "duration": 6,
    "start_time": "2022-10-23T19:31:54.745Z"
   },
   {
    "duration": 62,
    "start_time": "2022-10-23T19:31:54.752Z"
   },
   {
    "duration": 62,
    "start_time": "2022-10-23T19:31:54.818Z"
   },
   {
    "duration": 645,
    "start_time": "2022-10-23T19:31:54.882Z"
   },
   {
    "duration": 265,
    "start_time": "2022-10-23T19:31:55.528Z"
   },
   {
    "duration": 87,
    "start_time": "2022-10-23T19:31:55.806Z"
   },
   {
    "duration": 1128,
    "start_time": "2022-10-23T19:31:55.895Z"
   },
   {
    "duration": 198,
    "start_time": "2022-10-23T19:31:57.025Z"
   },
   {
    "duration": 28,
    "start_time": "2022-10-23T19:31:57.225Z"
   },
   {
    "duration": 26,
    "start_time": "2022-10-23T19:31:57.254Z"
   },
   {
    "duration": 45,
    "start_time": "2022-10-23T19:31:57.281Z"
   },
   {
    "duration": 33,
    "start_time": "2022-10-23T19:31:57.327Z"
   },
   {
    "duration": 280,
    "start_time": "2022-10-23T19:31:57.361Z"
   },
   {
    "duration": 66,
    "start_time": "2022-10-23T19:31:57.643Z"
   },
   {
    "duration": 3,
    "start_time": "2022-10-23T19:31:57.711Z"
   },
   {
    "duration": 72556,
    "start_time": "2022-10-23T19:31:57.716Z"
   },
   {
    "duration": 242,
    "start_time": "2022-10-23T19:33:10.273Z"
   },
   {
    "duration": 146556,
    "start_time": "2022-10-23T19:33:10.517Z"
   },
   {
    "duration": 382,
    "start_time": "2022-10-23T19:35:37.074Z"
   },
   {
    "duration": 23,
    "start_time": "2022-10-23T19:35:37.458Z"
   },
   {
    "duration": 362325,
    "start_time": "2022-10-23T19:35:37.485Z"
   },
   {
    "duration": 620,
    "start_time": "2022-10-23T19:41:39.812Z"
   },
   {
    "duration": 170981,
    "start_time": "2022-10-23T19:41:40.434Z"
   },
   {
    "duration": 502,
    "start_time": "2022-10-23T19:44:31.417Z"
   },
   {
    "duration": 1235,
    "start_time": "2022-10-23T19:44:31.922Z"
   },
   {
    "duration": 64,
    "start_time": "2022-10-23T19:44:33.159Z"
   },
   {
    "duration": 85,
    "start_time": "2022-10-23T19:44:33.225Z"
   },
   {
    "duration": 641675,
    "start_time": "2022-10-23T19:44:33.320Z"
   },
   {
    "duration": 49,
    "start_time": "2022-10-23T19:57:35.426Z"
   },
   {
    "duration": 2009,
    "start_time": "2022-10-23T19:58:02.872Z"
   },
   {
    "duration": 1915,
    "start_time": "2022-10-23T19:58:04.884Z"
   },
   {
    "duration": 1951,
    "start_time": "2022-10-23T19:58:06.801Z"
   },
   {
    "duration": 3310,
    "start_time": "2022-10-23T19:58:08.755Z"
   },
   {
    "duration": 116,
    "start_time": "2022-10-23T19:58:12.066Z"
   },
   {
    "duration": 4,
    "start_time": "2022-10-23T19:58:12.184Z"
   },
   {
    "duration": 1517,
    "start_time": "2022-10-23T19:58:12.189Z"
   },
   {
    "duration": 11,
    "start_time": "2022-10-23T19:58:13.711Z"
   },
   {
    "duration": 68,
    "start_time": "2022-10-23T19:58:13.724Z"
   },
   {
    "duration": 72,
    "start_time": "2022-10-23T19:58:13.795Z"
   },
   {
    "duration": 734,
    "start_time": "2022-10-23T19:58:13.869Z"
   },
   {
    "duration": 331,
    "start_time": "2022-10-23T19:58:14.606Z"
   },
   {
    "duration": 136,
    "start_time": "2022-10-23T19:58:14.939Z"
   },
   {
    "duration": 1273,
    "start_time": "2022-10-23T19:58:15.077Z"
   },
   {
    "duration": 248,
    "start_time": "2022-10-23T19:58:16.352Z"
   },
   {
    "duration": 29,
    "start_time": "2022-10-23T19:58:16.601Z"
   },
   {
    "duration": 30,
    "start_time": "2022-10-23T19:58:16.632Z"
   },
   {
    "duration": 53,
    "start_time": "2022-10-23T19:58:16.664Z"
   },
   {
    "duration": 37,
    "start_time": "2022-10-23T19:58:16.719Z"
   },
   {
    "duration": 314,
    "start_time": "2022-10-23T19:58:16.758Z"
   },
   {
    "duration": 82,
    "start_time": "2022-10-23T19:58:17.074Z"
   },
   {
    "duration": 3,
    "start_time": "2022-10-23T19:58:17.158Z"
   },
   {
    "duration": 72646,
    "start_time": "2022-10-23T19:58:17.163Z"
   },
   {
    "duration": 210,
    "start_time": "2022-10-23T19:59:29.811Z"
   },
   {
    "duration": 142487,
    "start_time": "2022-10-23T19:59:30.023Z"
   },
   {
    "duration": 306,
    "start_time": "2022-10-23T20:01:52.511Z"
   },
   {
    "duration": 15,
    "start_time": "2022-10-23T20:01:52.819Z"
   },
   {
    "duration": 217376,
    "start_time": "2022-10-23T20:01:52.837Z"
   },
   {
    "duration": 601,
    "start_time": "2022-10-23T20:05:30.215Z"
   },
   {
    "duration": 128901,
    "start_time": "2022-10-23T20:05:30.818Z"
   },
   {
    "duration": 509,
    "start_time": "2022-10-23T20:07:39.720Z"
   },
   {
    "duration": 1247,
    "start_time": "2022-10-23T20:07:40.231Z"
   },
   {
    "duration": 63,
    "start_time": "2022-10-23T20:07:41.479Z"
   },
   {
    "duration": 66,
    "start_time": "2022-10-23T20:07:41.543Z"
   },
   {
    "duration": 639570,
    "start_time": "2022-10-23T20:07:41.611Z"
   },
   {
    "duration": 3179,
    "start_time": "2022-10-24T12:55:40.292Z"
   },
   {
    "duration": 2307,
    "start_time": "2022-10-24T12:55:43.473Z"
   },
   {
    "duration": 1626,
    "start_time": "2022-10-24T12:55:45.781Z"
   },
   {
    "duration": 1145,
    "start_time": "2022-10-24T12:55:47.410Z"
   },
   {
    "duration": 123,
    "start_time": "2022-10-24T12:55:48.556Z"
   },
   {
    "duration": 3,
    "start_time": "2022-10-24T12:55:48.681Z"
   },
   {
    "duration": 1459,
    "start_time": "2022-10-24T12:55:48.686Z"
   },
   {
    "duration": 5,
    "start_time": "2022-10-24T12:55:50.147Z"
   },
   {
    "duration": 81,
    "start_time": "2022-10-24T12:55:50.154Z"
   },
   {
    "duration": 58,
    "start_time": "2022-10-24T12:55:50.238Z"
   },
   {
    "duration": 639,
    "start_time": "2022-10-24T12:55:50.298Z"
   },
   {
    "duration": 311,
    "start_time": "2022-10-24T12:55:50.939Z"
   },
   {
    "duration": 109,
    "start_time": "2022-10-24T12:55:51.252Z"
   },
   {
    "duration": 1188,
    "start_time": "2022-10-24T12:55:51.363Z"
   },
   {
    "duration": 240,
    "start_time": "2022-10-24T12:55:52.553Z"
   },
   {
    "duration": 31,
    "start_time": "2022-10-24T12:55:52.795Z"
   },
   {
    "duration": 71,
    "start_time": "2022-10-24T12:55:52.828Z"
   },
   {
    "duration": 52,
    "start_time": "2022-10-24T12:55:52.901Z"
   },
   {
    "duration": 74,
    "start_time": "2022-10-24T12:55:52.955Z"
   },
   {
    "duration": 151,
    "start_time": "2022-10-24T12:55:53.031Z"
   },
   {
    "duration": 57,
    "start_time": "2022-10-24T12:55:53.183Z"
   },
   {
    "duration": 11,
    "start_time": "2022-10-24T12:55:53.242Z"
   },
   {
    "duration": 84578,
    "start_time": "2022-10-24T12:55:53.255Z"
   },
   {
    "duration": 215,
    "start_time": "2022-10-24T12:57:17.835Z"
   },
   {
    "duration": 170329,
    "start_time": "2022-10-24T12:57:18.052Z"
   },
   {
    "duration": 336,
    "start_time": "2022-10-24T13:00:08.382Z"
   },
   {
    "duration": 21,
    "start_time": "2022-10-24T13:00:08.720Z"
   },
   {
    "duration": 228577,
    "start_time": "2022-10-24T13:00:08.743Z"
   },
   {
    "duration": 795,
    "start_time": "2022-10-24T13:03:57.324Z"
   },
   {
    "duration": 148894,
    "start_time": "2022-10-24T13:03:58.121Z"
   },
   {
    "duration": 606,
    "start_time": "2022-10-24T13:06:27.017Z"
   },
   {
    "duration": 1306,
    "start_time": "2022-10-24T13:06:27.628Z"
   },
   {
    "duration": 73,
    "start_time": "2022-10-24T13:06:28.937Z"
   },
   {
    "duration": 19,
    "start_time": "2022-10-24T13:06:29.013Z"
   },
   {
    "duration": 769150,
    "start_time": "2022-10-24T13:06:29.112Z"
   },
   {
    "duration": 2238,
    "start_time": "2022-10-24T13:47:00.624Z"
   },
   {
    "duration": 2222,
    "start_time": "2022-10-24T13:47:02.865Z"
   },
   {
    "duration": 1465,
    "start_time": "2022-10-24T13:47:05.089Z"
   },
   {
    "duration": 1175,
    "start_time": "2022-10-24T13:47:06.556Z"
   },
   {
    "duration": 132,
    "start_time": "2022-10-24T13:47:07.732Z"
   },
   {
    "duration": 44,
    "start_time": "2022-10-24T13:47:07.865Z"
   },
   {
    "duration": 1488,
    "start_time": "2022-10-24T13:47:07.911Z"
   },
   {
    "duration": 10,
    "start_time": "2022-10-24T13:47:09.409Z"
   },
   {
    "duration": 69,
    "start_time": "2022-10-24T13:47:09.426Z"
   },
   {
    "duration": 64,
    "start_time": "2022-10-24T13:47:09.497Z"
   },
   {
    "duration": 578,
    "start_time": "2022-10-24T13:47:09.563Z"
   },
   {
    "duration": 324,
    "start_time": "2022-10-24T13:47:10.142Z"
   },
   {
    "duration": 106,
    "start_time": "2022-10-24T13:47:10.467Z"
   },
   {
    "duration": 1147,
    "start_time": "2022-10-24T13:47:10.575Z"
   },
   {
    "duration": 218,
    "start_time": "2022-10-24T13:47:11.724Z"
   },
   {
    "duration": 19,
    "start_time": "2022-10-24T13:47:11.944Z"
   },
   {
    "duration": 38,
    "start_time": "2022-10-24T13:47:11.965Z"
   },
   {
    "duration": 59,
    "start_time": "2022-10-24T13:47:12.005Z"
   },
   {
    "duration": 81,
    "start_time": "2022-10-24T13:47:12.068Z"
   },
   {
    "duration": 175,
    "start_time": "2022-10-24T13:47:12.699Z"
   },
   {
    "duration": 134,
    "start_time": "2022-10-24T13:47:16.633Z"
   },
   {
    "duration": 3,
    "start_time": "2022-10-24T13:47:18.322Z"
   },
   {
    "duration": 113995,
    "start_time": "2022-10-24T13:47:30.916Z"
   },
   {
    "duration": 604,
    "start_time": "2022-10-24T13:49:24.914Z"
   },
   {
    "duration": 1273,
    "start_time": "2022-10-24T13:49:25.519Z"
   },
   {
    "duration": 55,
    "start_time": "2022-10-24T13:49:26.794Z"
   },
   {
    "duration": 158,
    "start_time": "2022-10-24T13:49:26.852Z"
   },
   {
    "duration": 161257,
    "start_time": "2022-10-24T13:49:27.012Z"
   },
   {
    "duration": 576,
    "start_time": "2022-10-24T13:52:08.270Z"
   },
   {
    "duration": 562,
    "start_time": "2022-10-24T13:52:08.848Z"
   }
  ],
  "kernelspec": {
   "display_name": "Python 3 (ipykernel)",
   "language": "python",
   "name": "python3"
  },
  "language_info": {
   "codemirror_mode": {
    "name": "ipython",
    "version": 3
   },
   "file_extension": ".py",
   "mimetype": "text/x-python",
   "name": "python",
   "nbconvert_exporter": "python",
   "pygments_lexer": "ipython3",
   "version": "3.9.12"
  },
  "toc": {
   "base_numbering": 1,
   "nav_menu": {},
   "number_sections": true,
   "sideBar": true,
   "skip_h1_title": true,
   "title_cell": "Table of Contents",
   "title_sidebar": "Contents",
   "toc_cell": false,
   "toc_position": {},
   "toc_section_display": true,
   "toc_window_display": false
  }
 },
 "nbformat": 4,
 "nbformat_minor": 2
}
